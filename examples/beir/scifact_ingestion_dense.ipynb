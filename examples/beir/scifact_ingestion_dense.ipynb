{
 "cells": [
  {
   "cell_type": "code",
   "execution_count": 1,
   "metadata": {},
   "outputs": [],
   "source": [
    "import json\n",
    "import os\n",
    "from pathlib import Path\n",
    "from typing import Any, Dict, List, Optional\n",
    "\n",
    "import jsonlines\n",
    "import pandas as pd\n",
    "from tqdm import tqdm\n",
    "\n",
    "from config import settings"
   ]
  },
  {
   "cell_type": "code",
   "execution_count": 2,
   "metadata": {},
   "outputs": [],
   "source": [
    "# import sys\n",
    "# import os\n",
    "\n",
    "# parent_dir = os.path.dirname(os.getcwd())\n",
    "# core_src_dir = os.path.join(parent_dir, \"src/psiking\")\n",
    "# sys.path.append(core_src_dir)"
   ]
  },
  {
   "cell_type": "code",
   "execution_count": 3,
   "metadata": {},
   "outputs": [],
   "source": [
    "## Import Core Schemas\n",
    "from psiking.core.base.schema import Document, TextNode"
   ]
  },
  {
   "cell_type": "markdown",
   "metadata": {},
   "source": [
    "# 1. Read data\n",
    "* read BEIR data & convert to Document\n",
    "    * https://huggingface.co/BeIR\n",
    "* test with `scifact` dataset\n",
    "    * 5K passages\n",
    "    * https://huggingface.co/datasets/BeIR/scifact"
   ]
  },
  {
   "cell_type": "code",
   "execution_count": 4,
   "metadata": {},
   "outputs": [],
   "source": [
    "## Implement Custom Readers\n",
    "from psiking.core.reader.base import BaseReader\n",
    "\n",
    "class QuoraDataReader(BaseReader):\n",
    "    def __init__(self):\n",
    "        pass\n",
    "    \n",
    "    def read(\n",
    "        self,\n",
    "        data: dict,\n",
    "        extra_info: Optional[dict] = None,\n",
    "    ) -> Optional[Document]:\n",
    "        \"\"\"Data format\n",
    "        ['_id', 'title', 'text', 'metadata']\n",
    "        \"\"\"\n",
    "        metadata = extra_info or {}\n",
    "        \n",
    "        text = data.get('text', '')\n",
    "        if not text:\n",
    "            return None\n",
    "        node = TextNode(\n",
    "            text=text,\n",
    "            metadata=metadata\n",
    "        )\n",
    "        return Document(\n",
    "            nodes=[node],\n",
    "            metadata={\n",
    "                \"source_id\": data['_id'],\n",
    "                \"title\": data['title'],\n",
    "                **metadata\n",
    "            }\n",
    "        )\n",
    "\n",
    "    def run(\n",
    "        self,\n",
    "        file_path: str | Path,\n",
    "        extra_info: Optional[dict] = None\n",
    "    ) -> List[Document]:\n",
    "        metadata = extra_info or {}\n",
    "        \n",
    "        documents = []\n",
    "        with jsonlines.open(file_path) as reader:\n",
    "            for data in reader:\n",
    "                document = self.read(\n",
    "                    data,\n",
    "                    extra_info={\n",
    "                        **metadata\n",
    "                    }\n",
    "                )\n",
    "                if document:\n",
    "                    documents.append(document)\n",
    "        return documents"
   ]
  },
  {
   "cell_type": "code",
   "execution_count": 5,
   "metadata": {},
   "outputs": [
    {
     "name": "stdout",
     "output_type": "stream",
     "text": [
      "5183\n"
     ]
    }
   ],
   "source": [
    "document_path = os.path.join(settings.data_dir, \"retrieval_dataset/beir/scifact/corpus.jsonl\")\n",
    "\n",
    "reader = QuoraDataReader()\n",
    "documents = reader.run(document_path, extra_info={\"source_file\": \"beir-scifact-corpus\"})\n",
    "print(len(documents))"
   ]
  },
  {
   "cell_type": "code",
   "execution_count": 6,
   "metadata": {},
   "outputs": [
    {
     "data": {
      "text/plain": [
       "[Document(id_='6e109d68-c0db-490b-ae7b-4bfb17b2e254', metadata={'source_id': '4983', 'title': 'Microstructural development of human newborn cerebral white matter assessed in vivo by diffusion tensor magnetic resonance imaging.', 'source_file': 'beir-scifact-corpus'}, nodes=[TextNode(id_='cc617258-b857-41f0-a74e-9723b45b24ad', metadata={'source_file': 'beir-scifact-corpus'}, text_type=<TextType.PLAIN: 'plain'>, label=<TextLabel.PLAIN: 'plain'>, resource=MediaResource(data=None, text='Alterations of the architecture of cerebral white matter in the developing human brain can affect cortical development and result in functional disabilities. A line scan diffusion-weighted magnetic resonance imaging (MRI) sequence with diffusion tensor analysis was applied to measure the apparent diffusion coefficient, to calculate relative anisotropy, and to delineate three-dimensional fiber architecture in cerebral white matter in preterm (n = 17) and full-term infants (n = 7). To assess effects of prematurity on cerebral white matter development, early gestation preterm infants (n = 10) were studied a second time at term. In the central white matter the mean apparent diffusion coefficient at 28 wk was high, 1.8 microm2/ms, and decreased toward term to 1.2 microm2/ms. In the posterior limb of the internal capsule, the mean apparent diffusion coefficients at both times were similar (1.2 versus 1.1 microm2/ms). Relative anisotropy was higher the closer birth was to term with greater absolute values in the internal capsule than in the central white matter. Preterm infants at term showed higher mean diffusion coefficients in the central white matter (1.4 +/- 0.24 versus 1.15 +/- 0.09 microm2/ms, p = 0.016) and lower relative anisotropy in both areas compared with full-term infants (white matter, 10.9 +/- 0.6 versus 22.9 +/- 3.0%, p = 0.001; internal capsule, 24.0 +/- 4.44 versus 33.1 +/- 0.6% p = 0.006). Nonmyelinated fibers in the corpus callosum were visible by diffusion tensor MRI as early as 28 wk; full-term and preterm infants at term showed marked differences in white matter fiber organization. The data indicate that quantitative assessment of water diffusion by diffusion tensor MRI provides insight into microstructural development in cerebral white matter in living infants.', path=None, url=None, mimetype=None))]),\n",
       " Document(id_='7c4471b5-4200-4df4-89f4-8b100a923c8b', metadata={'source_id': '5836', 'title': 'Induction of myelodysplasia by myeloid-derived suppressor cells.', 'source_file': 'beir-scifact-corpus'}, nodes=[TextNode(id_='d6161551-fc03-4b03-828d-fa622dfcde66', metadata={'source_file': 'beir-scifact-corpus'}, text_type=<TextType.PLAIN: 'plain'>, label=<TextLabel.PLAIN: 'plain'>, resource=MediaResource(data=None, text='Myelodysplastic syndromes (MDS) are age-dependent stem cell malignancies that share biological features of activated adaptive immune response and ineffective hematopoiesis. Here we report that myeloid-derived suppressor cells (MDSC), which are classically linked to immunosuppression, inflammation, and cancer, were markedly expanded in the bone marrow of MDS patients and played a pathogenetic role in the development of ineffective hematopoiesis. These clonally distinct MDSC overproduce hematopoietic suppressive cytokines and function as potent apoptotic effectors targeting autologous hematopoietic progenitors. Using multiple transfected cell models, we found that MDSC expansion is driven by the interaction of the proinflammatory molecule S100A9 with CD33. These 2 proteins formed a functional ligand/receptor pair that recruited components to CD33’s immunoreceptor tyrosine-based inhibition motif (ITIM), inducing secretion of the suppressive cytokines IL-10 and TGF-β by immature myeloid cells. S100A9 transgenic mice displayed bone marrow accumulation of MDSC accompanied by development of progressive multilineage cytopenias and cytological dysplasia. Importantly, early forced maturation of MDSC by either all-trans-retinoic acid treatment or active immunoreceptor tyrosine-based activation motif–bearing (ITAM-bearing) adapter protein (DAP12) interruption of CD33 signaling rescued the hematologic phenotype. These findings indicate that primary bone marrow expansion of MDSC driven by the S100A9/CD33 pathway perturbs hematopoiesis and contributes to the development of MDS.', path=None, url=None, mimetype=None))])]"
      ]
     },
     "execution_count": 6,
     "metadata": {},
     "output_type": "execute_result"
    }
   ],
   "source": [
    "documents[:2]"
   ]
  },
  {
   "cell_type": "markdown",
   "metadata": {},
   "source": [
    "# 2. Run Splitter\n",
    "* simple inefficient splitter"
   ]
  },
  {
   "cell_type": "code",
   "execution_count": 7,
   "metadata": {},
   "outputs": [
    {
     "name": "stdout",
     "output_type": "stream",
     "text": [
      "5183\n"
     ]
    }
   ],
   "source": [
    "# 3. Run Splitter\n",
    "from psiking.core.splitter.text.langchain_text_splitters import LangchainRecursiveCharacterTextSplitter\n",
    "\n",
    "splitter = LangchainRecursiveCharacterTextSplitter(\n",
    "    chunk_size = 1024,\n",
    "    chunk_overlap = 128\n",
    ")\n",
    "\n",
    "chunks = []\n",
    "for document in documents:\n",
    "    document_chunks = []\n",
    "    source_id = document.id_\n",
    "    for i, node in enumerate(document.nodes):\n",
    "        # Run Splitter\n",
    "        if isinstance(node, TextNode):\n",
    "            split_nodes = splitter.run(node)\n",
    "        else:\n",
    "            split_nodes = [node]\n",
    "        \n",
    "        # Create New Document\n",
    "        chunk = Document(\n",
    "            nodes=split_nodes,\n",
    "            metadata={\n",
    "                \"source_id\": source_id,\n",
    "                \"source_file\": document.metadata['source_file'],\n",
    "                \"title\": document.metadata['title'],\n",
    "            }\n",
    "        )\n",
    "        document_chunks.append(chunk)\n",
    "    chunks.extend(document_chunks)\n",
    "print(len(chunks))"
   ]
  },
  {
   "cell_type": "markdown",
   "metadata": {},
   "source": [
    "# 4. Formatter"
   ]
  },
  {
   "cell_type": "code",
   "execution_count": 8,
   "metadata": {},
   "outputs": [],
   "source": [
    "# 4. Format (Prepare Embedding Input)\n",
    "from psiking.core.formatter.document.simple import SimpleTextOnlyFormatter\n",
    "\n",
    "# use default templates\n",
    "formatter = SimpleTextOnlyFormatter()\n",
    "formatted_texts = formatter.run(chunks)"
   ]
  },
  {
   "cell_type": "code",
   "execution_count": 9,
   "metadata": {},
   "outputs": [
    {
     "name": "stdout",
     "output_type": "stream",
     "text": [
      "5183\n"
     ]
    }
   ],
   "source": [
    "def select_embedding_input_idxs(texts: str, min_length: int = 20):\n",
    "    return [i for i, x in enumerate(texts) if len(x.strip())>min_length]\n",
    "\n",
    "embedding_input_idxs = select_embedding_input_idxs(\n",
    "    texts=formatted_texts,\n",
    "    min_length=20\n",
    ")\n",
    "print(len(embedding_input_idxs))"
   ]
  },
  {
   "cell_type": "markdown",
   "metadata": {},
   "source": [
    "# 5. Embedder"
   ]
  },
  {
   "cell_type": "code",
   "execution_count": 10,
   "metadata": {},
   "outputs": [
    {
     "name": "stdout",
     "output_type": "stream",
     "text": [
      "baai/bge-m3\n"
     ]
    }
   ],
   "source": [
    "# 5. Embed\n",
    "from openai import OpenAI\n",
    "from psiking.core.embedder.openai.text_embedder import OpenAITextEmbedder\n",
    "\n",
    "print(settings.openai_embedding_model)\n",
    "client = OpenAI(\n",
    "    base_url=settings.openai_embedding_base_url,\n",
    "    api_key=settings.openai_embedding_api_key\n",
    ")\n",
    "\n",
    "embedder = OpenAITextEmbedder(\n",
    "    client = client\n",
    ")"
   ]
  },
  {
   "cell_type": "code",
   "execution_count": 13,
   "metadata": {},
   "outputs": [
    {
     "name": "stderr",
     "output_type": "stream",
     "text": [
      "100%|██████████| 162/162 [00:59<00:00,  2.74it/s]\n"
     ]
    }
   ],
   "source": [
    "embedding_inputs = [formatted_texts[x] for x in embedding_input_idxs]\n",
    "embeddings = embedder.run(\n",
    "    texts=embedding_inputs,\n",
    "    model=settings.openai_embedding_model,\n",
    "    batch_size = 32,\n",
    "    disable_tqdm = False\n",
    ")"
   ]
  },
  {
   "cell_type": "code",
   "execution_count": 14,
   "metadata": {},
   "outputs": [
    {
     "name": "stdout",
     "output_type": "stream",
     "text": [
      "5183 1024\n"
     ]
    }
   ],
   "source": [
    "print(len(embeddings), len(embeddings[0]))"
   ]
  },
  {
   "cell_type": "markdown",
   "metadata": {},
   "source": [
    "# 6. Add to VectorStore\n",
    "* qdrant single vector vectorstore"
   ]
  },
  {
   "cell_type": "code",
   "execution_count": 15,
   "metadata": {},
   "outputs": [],
   "source": [
    "# 6. Add to VectorStore\n",
    "from qdrant_client import QdrantClient\n",
    "from psiking.core.storage.vectorstore.qdrant import QdrantSingleVectorStore\n",
    "\n",
    "# initialize client\n",
    "client = QdrantClient(\":memory:\")\n",
    "collection_name = \"beir-scifact\"\n",
    "\n",
    "vector_store = QdrantSingleVectorStore(\n",
    "    collection_name=collection_name,\n",
    "    client=client\n",
    ")"
   ]
  },
  {
   "cell_type": "code",
   "execution_count": 16,
   "metadata": {},
   "outputs": [],
   "source": [
    "from qdrant_client.http import models\n",
    "\n",
    "embedding_dim = len(embeddings[0])\n",
    "\n",
    "vector_store.create_collection(\n",
    "    on_disk_payload=True,  # store the payload on disk\n",
    "    vectors_config = models.VectorParams(\n",
    "        size=embedding_dim,\n",
    "        distance=models.Distance.COSINE,\n",
    "        on_disk=True,\n",
    "    )\n",
    ")"
   ]
  },
  {
   "cell_type": "code",
   "execution_count": 17,
   "metadata": {},
   "outputs": [],
   "source": [
    "vector_store.add(\n",
    "    documents=[chunks[x] for x in embedding_input_idxs],\n",
    "    embeddings=embeddings,\n",
    "    metadata_keys=[\"source_file\", \"source_id\", \"title\"]\n",
    ")"
   ]
  },
  {
   "cell_type": "code",
   "execution_count": 18,
   "metadata": {},
   "outputs": [
    {
     "name": "stdout",
     "output_type": "stream",
     "text": [
      "{\n",
      "    \"status\": \"green\",\n",
      "    \"optimizer_status\": \"ok\",\n",
      "    \"vectors_count\": null,\n",
      "    \"indexed_vectors_count\": 0,\n",
      "    \"points_count\": 5183,\n",
      "    \"segments_count\": 1,\n",
      "    \"config\": {\n",
      "        \"params\": {\n",
      "            \"vectors\": {\n",
      "                \"size\": 1024,\n",
      "                \"distance\": \"Cosine\",\n",
      "                \"hnsw_config\": null,\n",
      "                \"quantization_config\": null,\n",
      "                \"on_disk\": true,\n",
      "                \"datatype\": null,\n",
      "                \"multivector_config\": null\n",
      "            },\n",
      "            \"shard_number\": null,\n",
      "            \"sharding_method\": null,\n",
      "            \"replication_factor\": null,\n",
      "            \"write_consistency_factor\": null,\n",
      "            \"read_fan_out_factor\": null,\n",
      "            \"on_disk_payload\": null,\n",
      "            \"sparse_vectors\": null\n",
      "        },\n",
      "        \"hnsw_config\": {\n",
      "            \"m\": 16,\n",
      "            \"ef_construct\": 100,\n",
      "            \"full_scan_threshold\": 10000,\n",
      "            \"max_indexing_threads\": 0,\n",
      "            \"on_disk\": null,\n",
      "            \"payload_m\": null\n",
      "        },\n",
      "        \"optimizer_config\": {\n",
      "            \"deleted_threshold\": 0.2,\n",
      "            \"vacuum_min_vector_number\": 1000,\n",
      "            \"default_segment_number\": 0,\n",
      "            \"max_segment_size\": null,\n",
      "            \"memmap_threshold\": null,\n",
      "            \"indexing_threshold\": 20000,\n",
      "            \"flush_interval_sec\": 5,\n",
      "            \"max_optimization_threads\": 1\n",
      "        },\n",
      "        \"wal_config\": {\n",
      "            \"wal_capacity_mb\": 32,\n",
      "            \"wal_segments_ahead\": 0\n",
      "        },\n",
      "        \"quantization_config\": null,\n",
      "        \"strict_mode_config\": null\n",
      "    },\n",
      "    \"payload_schema\": {}\n",
      "}\n"
     ]
    }
   ],
   "source": [
    "# check collection\n",
    "collection_info = vector_store._client.get_collection(\n",
    "    collection_name=vector_store.collection_name\n",
    ")\n",
    "print(collection_info.model_dump_json(indent=4))"
   ]
  },
  {
   "cell_type": "code",
   "execution_count": 19,
   "metadata": {},
   "outputs": [],
   "source": [
    "# check point\n",
    "points = vector_store._client.retrieve(\n",
    "    collection_name=vector_store.collection_name,\n",
    "    ids=[chunks[0].id_],\n",
    "    with_vectors=True\n",
    ")"
   ]
  },
  {
   "cell_type": "code",
   "execution_count": 20,
   "metadata": {},
   "outputs": [
    {
     "name": "stdout",
     "output_type": "stream",
     "text": [
      "1cdfe8db-19df-494b-8c25-7aed9645dbcc\n",
      "{'source_id': '6e109d68-c0db-490b-ae7b-4bfb17b2e254', 'source_file': 'beir-scifact-corpus', 'title': 'Microstructural development of human newborn cerebral white matter assessed in vivo by diffusion tensor magnetic resonance imaging.'}\n",
      "1024\n"
     ]
    }
   ],
   "source": [
    "print(points[0].id)\n",
    "print(points[0].payload)\n",
    "print(len(points[0].vector))"
   ]
  },
  {
   "cell_type": "markdown",
   "metadata": {},
   "source": [
    "# 7. Retrieval"
   ]
  },
  {
   "cell_type": "code",
   "execution_count": 21,
   "metadata": {},
   "outputs": [],
   "source": [
    "import numpy as np\n",
    "from psiking.core.storage.vectorstore.schema import (\n",
    "    MetadataFilters,\n",
    "    FilterOperator,\n",
    "    VectorStoreQuery,\n",
    "    VectorStoreQueryMode,\n",
    "    VectorStoreQueryOptions,\n",
    ")   "
   ]
  },
  {
   "cell_type": "code",
   "execution_count": 22,
   "metadata": {},
   "outputs": [],
   "source": [
    "query_embedding = np.random.randn(1024)\n",
    "\n",
    "vsquery=VectorStoreQuery(\n",
    "    dense_embedding=query_embedding\n",
    ")\n",
    "vsoptions=VectorStoreQueryOptions(\n",
    "    mode=VectorStoreQueryMode.DENSE,\n",
    "    top_k=10\n",
    ")"
   ]
  },
  {
   "cell_type": "code",
   "execution_count": 23,
   "metadata": {},
   "outputs": [],
   "source": [
    "points = vector_store.query(\n",
    "    query=vsquery,\n",
    "    options=vsoptions\n",
    ")"
   ]
  },
  {
   "cell_type": "code",
   "execution_count": 24,
   "metadata": {},
   "outputs": [
    {
     "data": {
      "text/plain": [
       "[ScoredPoint(id='8f64a3bb-498c-4d42-bafc-7340ba3a0e6d', version=0, score=0.11509909600173898, payload={'source_id': '17a624da-f1bd-4ddf-8330-f78ee459082b', 'source_file': 'beir-scifact-corpus', 'title': 'Matrix-embedded osteocytes regulate mobilization of hematopoietic stem/progenitor cells.'}, vector=None, shard_key=None, order_value=None),\n",
       " ScoredPoint(id='846be232-1024-490d-8c77-f6214a892eb9', version=0, score=0.11258887816288517, payload={'source_id': 'ca109d79-7e45-4764-be6c-c4159d5d289f', 'source_file': 'beir-scifact-corpus', 'title': 'Cell and biomolecule delivery for tissue repair and regeneration in the central nervous system.'}, vector=None, shard_key=None, order_value=None),\n",
       " ScoredPoint(id='c21053da-26a8-4d95-968f-f4fc2a821ce2', version=0, score=0.10986213965508985, payload={'source_id': '828e2fb8-c793-4940-ac0a-d8c8b55adb7e', 'source_file': 'beir-scifact-corpus', 'title': 'The N-end rule pathway regulates pathogen responses in plants.'}, vector=None, shard_key=None, order_value=None),\n",
       " ScoredPoint(id='053f3773-e829-4b32-9e75-cfa09701c2a9', version=0, score=0.10838022703706277, payload={'source_id': 'ed385f34-0239-4f91-913c-96689b726aea', 'source_file': 'beir-scifact-corpus', 'title': 'Cannabinoids in Clinical Practice'}, vector=None, shard_key=None, order_value=None),\n",
       " ScoredPoint(id='46770c11-6237-49a1-9a43-13a58b915592', version=0, score=0.10675528538227434, payload={'source_id': '98c11e0a-a48a-4df3-9464-17ed391913c9', 'source_file': 'beir-scifact-corpus', 'title': 'Microenvironmental regulation of biomacromolecular therapies'}, vector=None, shard_key=None, order_value=None),\n",
       " ScoredPoint(id='5aab1dbc-cc0e-4526-8359-5610d80b6a0a', version=0, score=0.10416837711381843, payload={'source_id': 'dcb2d9ac-1a4d-44da-8d13-ff3d40e7432c', 'source_file': 'beir-scifact-corpus', 'title': 'Molecular Basis for Target RNA Recognition and Cleavage by Human RISC'}, vector=None, shard_key=None, order_value=None),\n",
       " ScoredPoint(id='e4d8e07e-b00b-47e8-889d-95c1af5dc4a4', version=0, score=0.10405232262378043, payload={'source_id': '8a19469f-0cc4-45e8-ab04-3a88843c0226', 'source_file': 'beir-scifact-corpus', 'title': 'Intestinal bacteria and the regulation of immune cell homeostasis.'}, vector=None, shard_key=None, order_value=None),\n",
       " ScoredPoint(id='ec7b7fe9-05d9-449a-8b4e-4e195d19575e', version=0, score=0.10272256414666647, payload={'source_id': '775d5dd0-7941-4e6f-b721-067535b29474', 'source_file': 'beir-scifact-corpus', 'title': 'Subcapsular encounter and complement-dependent transport of immune complexes by lymph node B cells'}, vector=None, shard_key=None, order_value=None),\n",
       " ScoredPoint(id='51bbb8a9-7764-4626-acac-8693d7dd7e03', version=0, score=0.10236546360840984, payload={'source_id': 'e21aff6c-cb40-4c22-80b0-754ecf536da2', 'source_file': 'beir-scifact-corpus', 'title': 'The tumor necrosis factor receptor stalk regions define responsiveness to soluble versus membrane-bound ligand.'}, vector=None, shard_key=None, order_value=None),\n",
       " ScoredPoint(id='866c841b-6ecf-454e-8b63-540b9687c4fd', version=0, score=0.10168244498560053, payload={'source_id': '636ff814-e4e8-4600-bf88-0b7cadc5c36b', 'source_file': 'beir-scifact-corpus', 'title': 'A synthetic Escherichia coli predator–prey ecosystem'}, vector=None, shard_key=None, order_value=None)]"
      ]
     },
     "execution_count": 24,
     "metadata": {},
     "output_type": "execute_result"
    }
   ],
   "source": [
    "points"
   ]
  },
  {
   "cell_type": "code",
   "execution_count": null,
   "metadata": {},
   "outputs": [],
   "source": []
  }
 ],
 "metadata": {
  "kernelspec": {
   "display_name": "psiking",
   "language": "python",
   "name": "python3"
  },
  "language_info": {
   "codemirror_mode": {
    "name": "ipython",
    "version": 3
   },
   "file_extension": ".py",
   "mimetype": "text/x-python",
   "name": "python",
   "nbconvert_exporter": "python",
   "pygments_lexer": "ipython3",
   "version": "3.10.14"
  }
 },
 "nbformat": 4,
 "nbformat_minor": 2
}
