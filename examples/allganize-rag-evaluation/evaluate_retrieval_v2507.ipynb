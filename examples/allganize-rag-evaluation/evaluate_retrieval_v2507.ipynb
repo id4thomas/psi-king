{
 "cells": [
  {
   "cell_type": "markdown",
   "id": "8471546f",
   "metadata": {},
   "source": [
    "# allganize-RAG-Evaluation - retrieval performance\n",
    "## Methodology\n",
    "```\n",
    "1. Load DocStore, VectorStore\n",
    "    1-1. Load DocStore\n",
    "    1-2. Load VectorStore\n",
    "2. Initialize Embedder\n",
    "3. Load Evaluation Data\n",
    "    3-1. Load Query & Ground Truth\n",
    "    3-2. Calculate Query Embeddings\n",
    "4. Run Retrieval\n",
    "```\n"
   ]
  },
  {
   "cell_type": "code",
   "execution_count": 117,
   "id": "116a8e65",
   "metadata": {},
   "outputs": [],
   "source": [
    "import json\n",
    "import os\n",
    "\n",
    "from config import settings"
   ]
  },
  {
   "cell_type": "markdown",
   "id": "e8b8f77f",
   "metadata": {},
   "source": [
    "# 1. Load DocStore, VectorStore"
   ]
  },
  {
   "cell_type": "markdown",
   "id": "ee0327c1",
   "metadata": {},
   "source": [
    "## 1-1. Load DocStore"
   ]
  },
  {
   "cell_type": "code",
   "execution_count": 118,
   "id": "7486e3e1",
   "metadata": {},
   "outputs": [],
   "source": [
    "from psiking.core.storage.docstore.in_memory import InMemoryDocumentStore"
   ]
  },
  {
   "cell_type": "code",
   "execution_count": 119,
   "id": "b5aefffb",
   "metadata": {},
   "outputs": [],
   "source": [
    "doc_store = InMemoryDocumentStore()\n",
    "doc_store.load('database/docstore_multimodal_v2507.json')"
   ]
  },
  {
   "cell_type": "markdown",
   "id": "38f24394",
   "metadata": {},
   "source": [
    "## 1-2. Load VectorStore"
   ]
  },
  {
   "cell_type": "code",
   "execution_count": 120,
   "id": "2027e466",
   "metadata": {},
   "outputs": [],
   "source": [
    "from qdrant_client import QdrantClient\n",
    "from psiking.core.storage.vectorstore.qdrant import QdrantSingleVectorStore\n",
    "\n",
    "# initialize client\n",
    "# client = QdrantClient(\":memory:\")\n",
    "client = QdrantClient(host=\"localhost\", port=6333)\n",
    "collection_name = \"allganize-finance-multimodal-v2507\"\n",
    "\n",
    "vector_store = QdrantSingleVectorStore(\n",
    "    collection_name=collection_name,\n",
    "    client=client\n",
    ")"
   ]
  },
  {
   "cell_type": "markdown",
   "id": "083a958b",
   "metadata": {},
   "source": [
    "# 2. Intialize Embedder"
   ]
  },
  {
   "cell_type": "code",
   "execution_count": 121,
   "id": "9a84c35b",
   "metadata": {},
   "outputs": [],
   "source": [
    "import asyncio\n",
    "from tqdm.asyncio import tqdm\n",
    "\n",
    "from psiking.core.embedder.vllm.online_jina_emb_v4 import VLLMOnlineJinaEmbV4Embedder\n",
    "embedder = VLLMOnlineJinaEmbV4Embedder(\n",
    "    base_url=settings.multimodal_embedding_base_url,\n",
    "    model=settings.multimodal_embedding_model\n",
    ")"
   ]
  },
  {
   "cell_type": "markdown",
   "id": "f0513333",
   "metadata": {},
   "source": [
    "# 3. Load Evaluation Data"
   ]
  },
  {
   "cell_type": "markdown",
   "id": "16982bc3",
   "metadata": {},
   "source": [
    "## 3-1. Load Query & Ground Truth"
   ]
  },
  {
   "cell_type": "code",
   "execution_count": 122,
   "id": "f4aa1ce2",
   "metadata": {},
   "outputs": [
    {
     "name": "stdout",
     "output_type": "stream",
     "text": [
      "300\n",
      "60\n"
     ]
    }
   ],
   "source": [
    "import pandas as pd\n",
    "answer_df = pd.read_csv('data/retrieval_ground_truth.tsv', sep='\\t')\n",
    "print(answer_df.shape[0])\n",
    "answer_df = answer_df[answer_df.domain=='finance']\n",
    "print(answer_df.shape[0])"
   ]
  },
  {
   "cell_type": "code",
   "execution_count": 123,
   "id": "dcaf32e1",
   "metadata": {},
   "outputs": [
    {
     "data": {
      "text/html": [
       "<div>\n",
       "<style scoped>\n",
       "    .dataframe tbody tr th:only-of-type {\n",
       "        vertical-align: middle;\n",
       "    }\n",
       "\n",
       "    .dataframe tbody tr th {\n",
       "        vertical-align: top;\n",
       "    }\n",
       "\n",
       "    .dataframe thead th {\n",
       "        text-align: right;\n",
       "    }\n",
       "</style>\n",
       "<table border=\"1\" class=\"dataframe\">\n",
       "  <thead>\n",
       "    <tr style=\"text-align: right;\">\n",
       "      <th></th>\n",
       "      <th>domain</th>\n",
       "      <th>question</th>\n",
       "      <th>target_file_id</th>\n",
       "      <th>target_file_name</th>\n",
       "      <th>target_page_no</th>\n",
       "      <th>context_type</th>\n",
       "      <th>target_answer</th>\n",
       "    </tr>\n",
       "  </thead>\n",
       "  <tbody>\n",
       "    <tr>\n",
       "      <th>0</th>\n",
       "      <td>finance</td>\n",
       "      <td>시중은행, 지방은행, 인터넷은행의 인가 요건 및 절차에 차이가 있는데 그 차이점은 ...</td>\n",
       "      <td>c94f675e-7d81-48bd-88f8-c5ff766190cc</td>\n",
       "      <td>[별첨] 지방은행의 시중은행 전환시 인가방식 및 절차.pdf</td>\n",
       "      <td>4</td>\n",
       "      <td>paragraph</td>\n",
       "      <td>시중은행, 지방은행, 인터넷은행 모두 은행업을 영위하기 위해서는 '은행법' 제8조에...</td>\n",
       "    </tr>\n",
       "    <tr>\n",
       "      <th>1</th>\n",
       "      <td>finance</td>\n",
       "      <td>은행업을 신청하고자 할 때, 은행법상 소유규제에 부합하는 대주주 요건을 충족하려면 ...</td>\n",
       "      <td>c94f675e-7d81-48bd-88f8-c5ff766190cc</td>\n",
       "      <td>[별첨] 지방은행의 시중은행 전환시 인가방식 및 절차.pdf</td>\n",
       "      <td>7</td>\n",
       "      <td>table</td>\n",
       "      <td>은행업을 신청하려면 대주주 요건을 충족해야 합니다. 대주주 요건으로는 부실금융기관 ...</td>\n",
       "    </tr>\n",
       "    <tr>\n",
       "      <th>2</th>\n",
       "      <td>finance</td>\n",
       "      <td>본인가를 받으려는 지방은행이 시중은행 전환시 예비인가를 받을 필요가 있는지 설명하시...</td>\n",
       "      <td>c94f675e-7d81-48bd-88f8-c5ff766190cc</td>\n",
       "      <td>[별첨] 지방은행의 시중은행 전환시 인가방식 및 절차.pdf</td>\n",
       "      <td>8</td>\n",
       "      <td>paragraph</td>\n",
       "      <td>본인가를 받으려는 지방은행이 시중은행 전환을 신청하는 경우, 예비인가를 받을 필요는...</td>\n",
       "    </tr>\n",
       "    <tr>\n",
       "      <th>3</th>\n",
       "      <td>finance</td>\n",
       "      <td>은행법에 의거 예비인가를 신청할 수 있는지와, 그 경우 금융위원회가 검토했어야 하는...</td>\n",
       "      <td>c94f675e-7d81-48bd-88f8-c5ff766190cc</td>\n",
       "      <td>[별첨] 지방은행의 시중은행 전환시 인가방식 및 절차.pdf</td>\n",
       "      <td>10</td>\n",
       "      <td>paragraph</td>\n",
       "      <td>은행법에 의하면 예비인가를 신청할 수 있습니다. 제8조에 따른 인가를 받으려는 자는...</td>\n",
       "    </tr>\n",
       "    <tr>\n",
       "      <th>4</th>\n",
       "      <td>finance</td>\n",
       "      <td>2019년 YTD 기준으로 브라질의 주식 시장 수익률과 베트남의 주식 시장 수익률 ...</td>\n",
       "      <td>7373884a-8255-482d-9e7c-00b919083526</td>\n",
       "      <td>★2019 제1회 증시콘서트 자료집_최종★.pdf</td>\n",
       "      <td>6</td>\n",
       "      <td>image</td>\n",
       "      <td>Refinitiv에서 제공한 자료에 따르면 2019년 YTD 브라질의 주식 시장 수...</td>\n",
       "    </tr>\n",
       "  </tbody>\n",
       "</table>\n",
       "</div>"
      ],
      "text/plain": [
       "    domain                                           question  \\\n",
       "0  finance  시중은행, 지방은행, 인터넷은행의 인가 요건 및 절차에 차이가 있는데 그 차이점은 ...   \n",
       "1  finance  은행업을 신청하고자 할 때, 은행법상 소유규제에 부합하는 대주주 요건을 충족하려면 ...   \n",
       "2  finance  본인가를 받으려는 지방은행이 시중은행 전환시 예비인가를 받을 필요가 있는지 설명하시...   \n",
       "3  finance  은행법에 의거 예비인가를 신청할 수 있는지와, 그 경우 금융위원회가 검토했어야 하는...   \n",
       "4  finance  2019년 YTD 기준으로 브라질의 주식 시장 수익률과 베트남의 주식 시장 수익률 ...   \n",
       "\n",
       "                         target_file_id                   target_file_name  \\\n",
       "0  c94f675e-7d81-48bd-88f8-c5ff766190cc  [별첨] 지방은행의 시중은행 전환시 인가방식 및 절차.pdf   \n",
       "1  c94f675e-7d81-48bd-88f8-c5ff766190cc  [별첨] 지방은행의 시중은행 전환시 인가방식 및 절차.pdf   \n",
       "2  c94f675e-7d81-48bd-88f8-c5ff766190cc  [별첨] 지방은행의 시중은행 전환시 인가방식 및 절차.pdf   \n",
       "3  c94f675e-7d81-48bd-88f8-c5ff766190cc  [별첨] 지방은행의 시중은행 전환시 인가방식 및 절차.pdf   \n",
       "4  7373884a-8255-482d-9e7c-00b919083526        ★2019 제1회 증시콘서트 자료집_최종★.pdf   \n",
       "\n",
       "  target_page_no context_type  \\\n",
       "0              4    paragraph   \n",
       "1              7        table   \n",
       "2              8    paragraph   \n",
       "3             10    paragraph   \n",
       "4              6        image   \n",
       "\n",
       "                                       target_answer  \n",
       "0  시중은행, 지방은행, 인터넷은행 모두 은행업을 영위하기 위해서는 '은행법' 제8조에...  \n",
       "1  은행업을 신청하려면 대주주 요건을 충족해야 합니다. 대주주 요건으로는 부실금융기관 ...  \n",
       "2  본인가를 받으려는 지방은행이 시중은행 전환을 신청하는 경우, 예비인가를 받을 필요는...  \n",
       "3  은행법에 의하면 예비인가를 신청할 수 있습니다. 제8조에 따른 인가를 받으려는 자는...  \n",
       "4  Refinitiv에서 제공한 자료에 따르면 2019년 YTD 브라질의 주식 시장 수...  "
      ]
     },
     "execution_count": 123,
     "metadata": {},
     "output_type": "execute_result"
    }
   ],
   "source": [
    "answer_df.head()"
   ]
  },
  {
   "cell_type": "markdown",
   "id": "987b4b95",
   "metadata": {},
   "source": [
    "## 3-2. Calculate Query Embeddings"
   ]
  },
  {
   "cell_type": "code",
   "execution_count": 124,
   "id": "6b9331c5",
   "metadata": {},
   "outputs": [],
   "source": [
    "import asyncio\n",
    "from typing import List\n",
    "from tqdm.asyncio import tqdm as atqdm\n",
    "\n",
    "import numpy as np\n",
    "from psiking.core.storage.vectorstore.schema import (\n",
    "    MetadataFilters,\n",
    "    FilterOperator,\n",
    "    VectorStoreQuery,\n",
    "    VectorStoreQueryMode,\n",
    "    VectorStoreQueryOptions,\n",
    ")   "
   ]
  },
  {
   "cell_type": "code",
   "execution_count": 125,
   "id": "e4b0ccbd",
   "metadata": {},
   "outputs": [],
   "source": [
    "queries = answer_df.question.values.tolist()"
   ]
  },
  {
   "cell_type": "code",
   "execution_count": 126,
   "id": "59e69f4a",
   "metadata": {},
   "outputs": [],
   "source": [
    "async def calculate_embedding(semaphore, text: str):\n",
    "    messages = [\n",
    "        {\n",
    "            'role': 'user',\n",
    "            'content': [\n",
    "                {'type': 'text', 'text': text},\n",
    "            ]\n",
    "        }\n",
    "    ]\n",
    "    async with semaphore:\n",
    "        try:\n",
    "            embedding = await embedder.arun(\n",
    "                input=messages,\n",
    "                input_format='messages',\n",
    "                pool=True,\n",
    "                normalize=True\n",
    "            )\n",
    "        except Exception as e:\n",
    "            print(\"ERR {}\".format( str(e)))\n",
    "            raise e\n",
    "    return embedding"
   ]
  },
  {
   "cell_type": "code",
   "execution_count": 127,
   "id": "2be98837",
   "metadata": {},
   "outputs": [
    {
     "name": "stderr",
     "output_type": "stream",
     "text": [
      "100%|██████████| 60/60 [00:16<00:00,  3.64it/s]\n"
     ]
    }
   ],
   "source": [
    "semaphore = asyncio.Semaphore(16)\n",
    "tasks = []\n",
    "for query in queries:\n",
    "    task = calculate_embedding(semaphore, query)\n",
    "    tasks.append(task)\n",
    "\n",
    "query_embeddings = await tqdm.gather(*tasks)"
   ]
  },
  {
   "cell_type": "markdown",
   "id": "8907763d",
   "metadata": {},
   "source": [
    "# 4. Run Retrieval"
   ]
  },
  {
   "cell_type": "code",
   "execution_count": 133,
   "id": "625de5f2",
   "metadata": {},
   "outputs": [],
   "source": [
    "def retrieve(\n",
    "    query_embedding: np.ndarray,\n",
    "    k: int = 10\n",
    ")->List[str]:\n",
    "    \"\"\"Retrieves point(chunk's) documentids\"\"\"\n",
    "    vsquery=VectorStoreQuery(\n",
    "        dense_embedding=query_embedding\n",
    "    )\n",
    "    vsoptions=VectorStoreQueryOptions(\n",
    "        mode=VectorStoreQueryMode.DENSE,\n",
    "        top_k=k\n",
    "    )\n",
    "    \n",
    "    chunks = vector_store.query(\n",
    "        query=vsquery,\n",
    "        options=vsoptions\n",
    "    )\n",
    "    chunk_ids = [x.id for x in chunks]\n",
    "    return chunk_ids"
   ]
  },
  {
   "cell_type": "code",
   "execution_count": 134,
   "id": "e50e91e1",
   "metadata": {},
   "outputs": [],
   "source": [
    "k = 30\n",
    "retrieved_chunkids = [\n",
    "    retrieve(x, k=k) for x in query_embeddings\n",
    "]"
   ]
  },
  {
   "cell_type": "markdown",
   "id": "69f590c6",
   "metadata": {},
   "source": [
    "# 5. Evaluate"
   ]
  },
  {
   "cell_type": "markdown",
   "id": "38e754d6",
   "metadata": {},
   "source": [
    "## 5-1. Source 'File' Level Evaluation\n",
    "* Chunk is considered relevant if it is from the ground truth target file"
   ]
  },
  {
   "cell_type": "code",
   "execution_count": 135,
   "id": "99123f1f",
   "metadata": {},
   "outputs": [],
   "source": [
    "answer_fileids = [\n",
    "    answer_df.iloc[x]['target_file_id']\n",
    "    for x in range(len(queries))\n",
    "]"
   ]
  },
  {
   "cell_type": "code",
   "execution_count": 136,
   "id": "9c6b43a3",
   "metadata": {},
   "outputs": [],
   "source": [
    "retrieved_fileids = [\n",
    "    [\n",
    "        doc_store.get(x)[0].metadata['source_id']\n",
    "        for x in chunkids\n",
    "    ]\n",
    "    for chunkids in retrieved_chunkids\n",
    "]"
   ]
  },
  {
   "cell_type": "markdown",
   "id": "58b5fa32",
   "metadata": {},
   "source": [
    "### 5-1-1. mean Average Precision"
   ]
  },
  {
   "cell_type": "code",
   "execution_count": 143,
   "id": "5f7bfb71",
   "metadata": {},
   "outputs": [
    {
     "name": "stdout",
     "output_type": "stream",
     "text": [
      "mAP@5: 0.7758\n",
      "mAP@10: 0.7376\n",
      "mAP@15: 0.6966\n"
     ]
    }
   ],
   "source": [
    "def calculate_filelevel_ap(\n",
    "    retrieved_ids: List[str],\n",
    "    answer_id: str,\n",
    "    at_k: int = 5\n",
    ") -> float:\n",
    "    precisions = []\n",
    "    relevant_count = 0\n",
    "    for i in range(at_k):\n",
    "        if retrieved_ids[i]==answer_id:\n",
    "            relevant_count+=1\n",
    "        precisions.append(\n",
    "            relevant_count/(i+1)\n",
    "        )\n",
    "    return sum(precisions)/len(precisions)\n",
    "        \n",
    "for at_k in [5,10,15]:\n",
    "    aps = [\n",
    "        calculate_filelevel_ap(retrieved, answer, at_k=at_k)\n",
    "        for retrieved, answer in zip(retrieved_fileids, answer_fileids, strict=True)\n",
    "    ]\n",
    "    print(\"mAP@{}: {:.4f}\".format(at_k, sum(aps)/len(aps)))"
   ]
  },
  {
   "cell_type": "markdown",
   "id": "f8f39b71",
   "metadata": {},
   "source": [
    "### 5-1-2. mean Reciprocal Rank"
   ]
  },
  {
   "cell_type": "code",
   "execution_count": 144,
   "id": "f6357fcb",
   "metadata": {},
   "outputs": [
    {
     "name": "stdout",
     "output_type": "stream",
     "text": [
      "mRR@5: 0.8678\n",
      "mRR@10: 0.8678\n",
      "mRR@15: 0.8678\n"
     ]
    }
   ],
   "source": [
    "def calculate_filelevel_rr(\n",
    "    retrieved_ids: List[str],\n",
    "    answer_id: str,\n",
    "    at_k: int = 5\n",
    ") -> float:\n",
    "    rr = 0.0\n",
    "    for i in range(at_k):\n",
    "        if retrieved_ids[i]==answer_id:\n",
    "            return 1/(i+1)\n",
    "    return rr\n",
    "\n",
    "at_k = 5\n",
    "for at_k in [5,10,15]:\n",
    "    rrs = [\n",
    "        calculate_filelevel_rr(retrieved, answer, at_k=at_k)\n",
    "        for retrieved, answer in zip(retrieved_fileids, answer_fileids, strict=True)\n",
    "    ]\n",
    "\n",
    "    print(\"mRR@{}: {:.4f}\".format(at_k, sum(rrs)/len(rrs)))"
   ]
  },
  {
   "cell_type": "markdown",
   "id": "589a9804",
   "metadata": {},
   "source": [
    "## 5-2. Source 'File+Page' Level Evaluation\n",
    "* Chunk is considered relevant if it is from the ground truth file+page combination"
   ]
  },
  {
   "cell_type": "code",
   "execution_count": 165,
   "id": "171b0bd0",
   "metadata": {},
   "outputs": [],
   "source": [
    "answers = [\n",
    "    (answer_df.iloc[x]['target_file_id'], int(answer_df.iloc[x]['target_page_no']))\n",
    "    for x in range(len(queries))\n",
    "]"
   ]
  },
  {
   "cell_type": "code",
   "execution_count": 166,
   "id": "c67c783b",
   "metadata": {},
   "outputs": [
    {
     "data": {
      "text/plain": [
       "('c94f675e-7d81-48bd-88f8-c5ff766190cc', 4)"
      ]
     },
     "execution_count": 166,
     "metadata": {},
     "output_type": "execute_result"
    }
   ],
   "source": [
    "answers[0]"
   ]
  },
  {
   "cell_type": "code",
   "execution_count": 161,
   "id": "b98b1053",
   "metadata": {},
   "outputs": [
    {
     "data": {
      "text/plain": [
       "{'reader': 'DoclingPDFReader',\n",
       " 'source_id': '980889bb-16cd-447f-b5eb-1384b84903cc',\n",
       " 'domain': 'finance',\n",
       " 'prov': '[{\"page_no\": 30, \"bbox\": {\"l\": 68.143, \"t\": 126.11800732421875, \"r\": 223.938, \"b\": 102.7500073242187, \"coord_origin\": \"BOTTOMLEFT\"}, \"charspan\": [0, 79]}]'}"
      ]
     },
     "execution_count": 161,
     "metadata": {},
     "output_type": "execute_result"
    }
   ],
   "source": [
    "x = retrieved_chunkids[11][0]\n",
    "doc_store.get(x)[0].metadata"
   ]
  },
  {
   "cell_type": "code",
   "execution_count": 149,
   "id": "fdfb2530",
   "metadata": {},
   "outputs": [],
   "source": [
    "retrieved_metadata = [\n",
    "    [\n",
    "        doc_store.get(x)[0].metadata\n",
    "        for x in chunkids\n",
    "    ]\n",
    "    for chunkids in retrieved_chunkids\n",
    "]"
   ]
  },
  {
   "cell_type": "markdown",
   "id": "b7786ff2",
   "metadata": {},
   "source": [
    "### 5-2-1. mean Average Precision"
   ]
  },
  {
   "cell_type": "code",
   "execution_count": null,
   "id": "06be9a71",
   "metadata": {},
   "outputs": [
    {
     "name": "stdout",
     "output_type": "stream",
     "text": [
      "mAP@5: 0.2231\n",
      "mAP@10: 0.1685\n",
      "mAP@15: 0.1387\n"
     ]
    }
   ],
   "source": [
    "def determine_relevancy(metadata, answer):\n",
    "    answer_fileid = answer[0]\n",
    "    answer_pageno = answer[1]\n",
    "    \n",
    "    retrieved_fileid = metadata['source_id']\n",
    "    if answer_fileid!=retrieved_fileid:\n",
    "        return 0\n",
    "    \n",
    "    if metadata['reader']=='DoclingPDFReader':\n",
    "        prov = json.loads(metadata['prov'])\n",
    "        page_nos = [\n",
    "            x['page_no'] for x in prov\n",
    "        ]\n",
    "    else:\n",
    "        prov = metadata['prov']\n",
    "        page_nos = [\n",
    "            prov['page']\n",
    "        ]\n",
    "    \n",
    "    if answer_pageno in page_nos:\n",
    "        return 1\n",
    "    return 0\n",
    "\n",
    "def calculatel_ap(\n",
    "    retrieved_metadatas: List[dict],\n",
    "    answer: tuple,\n",
    "    at_k: int = 5\n",
    ") -> float:\n",
    "    precisions = []\n",
    "    relevant_count = 0\n",
    "    for i in range(at_k):\n",
    "        metadata = retrieved_metadatas[i]\n",
    "        if determine_relevancy(metadata, answer):\n",
    "            relevant_count+=1\n",
    "        precisions.append(\n",
    "            relevant_count/(i+1)\n",
    "        )\n",
    "    return sum(precisions)/len(precisions)\n",
    "        \n",
    "for at_k in [5,10,15]:\n",
    "    aps = [\n",
    "        calculatel_ap(retrieved, answer, at_k=at_k)\n",
    "        for retrieved, answer in zip(retrieved_metadata, answers, strict=True)\n",
    "    ]\n",
    "    print(\"mAP@{}: {:.4f}\".format(at_k, sum(aps)/len(aps)))"
   ]
  },
  {
   "cell_type": "markdown",
   "id": "d82d0f18",
   "metadata": {},
   "source": [
    "### 5-2-2. mean Reciprocal Rank"
   ]
  },
  {
   "cell_type": "code",
   "execution_count": 170,
   "id": "47aed564",
   "metadata": {},
   "outputs": [
    {
     "name": "stdout",
     "output_type": "stream",
     "text": [
      "mRR@5: 0.4381\n",
      "mRR@10: 0.4477\n",
      "mRR@15: 0.4517\n"
     ]
    }
   ],
   "source": [
    "def determine_relevancy(metadata, answer):\n",
    "    answer_fileid = answer[0]\n",
    "    answer_pageno = answer[1]\n",
    "    \n",
    "    retrieved_fileid = metadata['source_id']\n",
    "    if answer_fileid!=retrieved_fileid:\n",
    "        return 0\n",
    "    \n",
    "    if metadata['reader']=='DoclingPDFReader':\n",
    "        prov = json.loads(metadata['prov'])\n",
    "        page_nos = [\n",
    "            x['page_no'] for x in prov\n",
    "        ]\n",
    "    else:\n",
    "        prov = metadata['prov']\n",
    "        page_nos = [\n",
    "            prov['page']\n",
    "        ]\n",
    "    \n",
    "    if answer_pageno in page_nos:\n",
    "        return 1\n",
    "    return 0\n",
    "\n",
    "def calculate_rr(\n",
    "    retrieved_metadatas: List[dict],\n",
    "    answer: tuple,\n",
    "    at_k: int = 5\n",
    ") -> float:\n",
    "    for i in range(at_k):\n",
    "        metadata = retrieved_metadatas[i]\n",
    "        if determine_relevancy(metadata, answer):\n",
    "            return 1/(i+1)\n",
    "    return 0.0\n",
    "        \n",
    "for at_k in [5,10,15]:\n",
    "    rrs = [\n",
    "        calculate_rr(retrieved, answer, at_k=at_k)\n",
    "        for retrieved, answer in zip(retrieved_metadata, answers, strict=True)\n",
    "    ]\n",
    "    print(\"mRR@{}: {:.4f}\".format(at_k, sum(rrs)/len(rrs)))"
   ]
  }
 ],
 "metadata": {
  "kernelspec": {
   "display_name": "psiking",
   "language": "python",
   "name": "python3"
  },
  "language_info": {
   "codemirror_mode": {
    "name": "ipython",
    "version": 3
   },
   "file_extension": ".py",
   "mimetype": "text/x-python",
   "name": "python",
   "nbconvert_exporter": "python",
   "pygments_lexer": "ipython3",
   "version": "3.10.14"
  }
 },
 "nbformat": 4,
 "nbformat_minor": 5
}
