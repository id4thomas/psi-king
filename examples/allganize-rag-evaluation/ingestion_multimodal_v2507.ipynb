{
 "cells": [
  {
   "cell_type": "markdown",
   "metadata": {},
   "source": [
    "# allganize-RAG-Evaluation data + multimodal search\n",
    "## Methodology\n",
    "```\n",
    "1. Load DoclingPDFReader\n",
    "    1-1. Initialize Docling Converter\n",
    "    1-2. Initialize PSIKing Reader\n",
    "2. Load PDF File Data\n",
    "3. Ingest Data\n",
    "    3-1. (Reader) PDF File -> PSIKing Document\n",
    "    3-2. (Splitter) Chunk Documents\n",
    "4. Embed\n",
    "5. Insert into DocumentStore, VectorStore\n",
    "    5-1. Insert to DocStore\n",
    "    5-2. Insert to VectorStore\n",
    "6. Query\n",
    "```\n",
    "\n",
    "## Settings\n",
    "* model: `baai/bge-visualized` (bge-m3 weight)\n",
    "* data: real-life pdf files from `allganize-RAG-Evaluation-Dataset-KO`\n",
    "    * https://huggingface.co/datasets/allganize/RAG-Evaluation-Dataset-KO\n",
    "    * use 10 'finance' domain files"
   ]
  },
  {
   "cell_type": "code",
   "execution_count": 1,
   "metadata": {},
   "outputs": [],
   "source": [
    "\n",
    "import json\n",
    "import os\n",
    "\n",
    "from pathlib import Path\n",
    "import time\n",
    "from typing import Any, Dict, List, Optional\n",
    "\n",
    "import pandas as pd\n",
    "from pydantic import BaseModel\n",
    "from tqdm import tqdm\n",
    "\n",
    "from config import settings\n",
    "# Artifacts should contain model weights downloaded using `docling-tools models download`\n",
    "# Typically set to `~/.cache/docling/models`\n",
    "os.environ[\"DOCLING_ARTIFACTS_PATH\"] = settings.docling_artifacts_path"
   ]
  },
  {
   "cell_type": "code",
   "execution_count": 2,
   "metadata": {},
   "outputs": [],
   "source": [
    "## Import Core Schemas\n",
    "from psiking.core.base.schema import Document, TextNode, ImageNode, TableNode"
   ]
  },
  {
   "cell_type": "markdown",
   "metadata": {},
   "source": [
    "# 1. Load DoclingPDFReader"
   ]
  },
  {
   "cell_type": "markdown",
   "metadata": {},
   "source": [
    "## 1-1. Initialize Docling Converter"
   ]
  },
  {
   "cell_type": "code",
   "execution_count": 3,
   "metadata": {},
   "outputs": [],
   "source": [
    "from docling_core.types.doc import PictureItem\n",
    "\n",
    "from docling.datamodel.base_models import InputFormat\n",
    "\n",
    "from docling.datamodel.pipeline_options import (\n",
    "    AcceleratorDevice,\n",
    "    VlmPipelineOptions,\n",
    "    PdfPipelineOptions,\n",
    "    PictureDescriptionApiOptions,\n",
    "    ResponseFormat,\n",
    "    TableStructureOptions,\n",
    "    TableFormerMode\n",
    ")\n",
    "from docling.document_converter import DocumentConverter, PdfFormatOption\n",
    "from docling.pipeline.vlm_pipeline import VlmPipeline\n",
    "from docling.datamodel.pipeline_options_vlm_model import (\n",
    "    ApiVlmOptions,\n",
    "    InferenceFramework,\n",
    "    InlineVlmOptions,\n",
    "    ResponseFormat,\n",
    "    TransformersModelType\n",
    ")"
   ]
  },
  {
   "cell_type": "code",
   "execution_count": 4,
   "metadata": {},
   "outputs": [],
   "source": [
    "pipeline_options = PdfPipelineOptions()\n",
    "\n",
    "# If force_backend_text = True, text from backend will be used instead of generated text\n",
    "pipeline_options.force_backend_text = False\n",
    "pipeline_options.generate_picture_images = True\n",
    "\n",
    "pipeline_options.images_scale = 1.5\n",
    "pipeline_options.generate_page_images = True\n",
    "pipeline_options.generate_picture_images = True\n",
    "pipeline_options.do_ocr = False\n",
    "\n",
    "# TableStructure\n",
    "pipeline_options.do_table_structure = True\n",
    "pipeline_options.table_structure_options = TableStructureOptions(mode=TableFormerMode.ACCURATE)\n",
    "\n",
    "pipeline_options.accelerator_options.device = AcceleratorDevice.MPS"
   ]
  },
  {
   "cell_type": "code",
   "execution_count": 5,
   "metadata": {},
   "outputs": [
    {
     "name": "stdout",
     "output_type": "stream",
     "text": [
      "vision\n"
     ]
    }
   ],
   "source": [
    "# Picture Annotation (picture_description_options) using VLM\n",
    "# https://docling-project.github.io/docling/examples/pictures_description_api/\n",
    "\n",
    "# \"Describe the image in three sentences. Be consise and accurate.\",\n",
    "DESCRIPTION_INSTRUCTION = '''주어진 이미지에대해 2가지 정보를 반환합니다.\n",
    "* description: 최대 2문장 정도로 이미지에 대한 간결한 설명\n",
    "* text: 이미지 내에서 인식된 모든 텍스트\n",
    "다음 JSON 형식으로 반환하세요 {\"description\": str, \"text\": str}'''\n",
    "\n",
    "class ImageDescription(BaseModel):\n",
    "    description: str\n",
    "    text: str\n",
    "\n",
    "def vllm_local_options(\n",
    "    base_url: str,\n",
    "    api_key: str,\n",
    "    model: str\n",
    "):\n",
    "    options = PictureDescriptionApiOptions(\n",
    "        url=f\"{base_url}/v1/chat/completions\",\n",
    "        headers = {\n",
    "            'Authorization': f'Bearer {api_key}'\n",
    "        },\n",
    "        params=dict(\n",
    "            model=model,\n",
    "            seed=42,\n",
    "            max_completion_tokens=8192,\n",
    "            temperature=0.9,\n",
    "            extra_body={\"guided_json\": ImageDescription.model_json_schema()}\n",
    "        ),\n",
    "        prompt=DESCRIPTION_INSTRUCTION,\n",
    "        timeout=180,\n",
    "    )\n",
    "    return options\n",
    "\n",
    "pipeline_options.do_picture_description = True\n",
    "pipeline_options.enable_remote_services = True\n",
    "\n",
    "print(settings.vlm_model)\n",
    "pipeline_options.picture_description_options=vllm_local_options(\n",
    "    base_url=settings.vlm_base_url,\n",
    "    api_key=settings.vlm_api_key,\n",
    "    model=settings.vlm_model\n",
    ")"
   ]
  },
  {
   "cell_type": "code",
   "execution_count": 8,
   "metadata": {},
   "outputs": [],
   "source": [
    "converter = DocumentConverter(\n",
    "    allowed_formats = [\n",
    "        InputFormat.PDF,\n",
    "    ],\n",
    "    format_options={\n",
    "        InputFormat.PDF: PdfFormatOption(\n",
    "            pipeline_options=pipeline_options,\n",
    "        ),\n",
    "    }\n",
    ")"
   ]
  },
  {
   "cell_type": "markdown",
   "metadata": {},
   "source": [
    "## 1-2. Initialize PSIKing Reader"
   ]
  },
  {
   "cell_type": "code",
   "execution_count": 9,
   "metadata": {},
   "outputs": [],
   "source": [
    "from psiking.core.reader.pdf.docling_reader import DoclingPDFReader\n",
    "\n",
    "# initalize reader\n",
    "reader = DoclingPDFReader(converter=converter)"
   ]
  },
  {
   "cell_type": "markdown",
   "metadata": {},
   "source": [
    "# 2. Load PDF File Data\n",
    "* 10 pdf files, convert to image with pdf2image"
   ]
  },
  {
   "cell_type": "code",
   "execution_count": 10,
   "metadata": {},
   "outputs": [
    {
     "name": "stdout",
     "output_type": "stream",
     "text": [
      "num files: 10\n"
     ]
    },
    {
     "data": {
      "text/plain": [
       "['★2019 제1회 증시콘서트 자료집_최종★.pdf',\n",
       " '240409(보도자료) 금융위 핀테크 투자 생태계 활성화 나선다.pdf',\n",
       " '2024년 3월_3. 향후 통화신용정책 방향.pdf',\n",
       " '133178946057443204_WP22-05.pdf',\n",
       " '240130(보도자료) 지방은행의 시중은행 전환시 인가방식 및 절차.pdf',\n",
       " '130292099630937500_KIFVIP2013-10.pdf',\n",
       " '2024년 3월_2. 통화신용정책 운영.pdf',\n",
       " '[별첨] 지방은행의 시중은행 전환시 인가방식 및 절차.pdf',\n",
       " '240320(보도자료) 금융권의 상생금융 추진현황.pdf',\n",
       " '한-호주 퇴직연금 포럼_책자(최종).pdf']"
      ]
     },
     "execution_count": 10,
     "metadata": {},
     "output_type": "execute_result"
    }
   ],
   "source": [
    "# PDF File directory\n",
    "pdf_dir = os.path.join(settings.data_dir, \"retrieval_dataset/allganize-RAG-Evaluation-Dataset-KO/finance\")\n",
    "pdf_fnames =[x for x in os.listdir(pdf_dir) if x.endswith(\".pdf\")]\n",
    "print(\"num files:\", len(pdf_fnames))\n",
    "pdf_fnames[:10]"
   ]
  },
  {
   "cell_type": "markdown",
   "metadata": {},
   "source": [
    "# 3. Ingest Data"
   ]
  },
  {
   "cell_type": "markdown",
   "metadata": {},
   "source": [
    "## 3-1. (Reader) PDF File -> PSIKing Document"
   ]
  },
  {
   "cell_type": "code",
   "execution_count": 11,
   "metadata": {},
   "outputs": [
    {
     "name": "stderr",
     "output_type": "stream",
     "text": [
      "3it [05:56, 118.77s/it]"
     ]
    },
    {
     "name": "stdout",
     "output_type": "stream",
     "text": [
      "<class 'psiking.core.base.schema.TextNode'>\n",
      "<class 'psiking.core.base.schema.TextNode'>\n",
      "<class 'psiking.core.base.schema.TableNode'>\n"
     ]
    },
    {
     "name": "stderr",
     "output_type": "stream",
     "text": [
      "\n"
     ]
    }
   ],
   "source": [
    "# Convert pages to image\n",
    "documents = []\n",
    "failed_fnames = []\n",
    "for doc_i, fname in tqdm(enumerate(pdf_fnames[:3])):\n",
    "    file_path = os.path.join(pdf_dir, fname)\n",
    "    try:\n",
    "        document = reader.run(\n",
    "            file_path,\n",
    "            extra_info = {\n",
    "                \"source_id\": f\"allganize-RAG-Evaluation-Dataset-KO/finance/{doc_i}\", # arbitrary id\n",
    "                \"domain\": \"finance\",\n",
    "                \"source_file\": fname\n",
    "            }\n",
    "        )\n",
    "    except Exception as e:\n",
    "        print(\"[READER] failed {} - {}\".format(fname, str(e)))\n",
    "        failed_fnames.append(fname)\n",
    "        continue\n",
    "    document.nodes = document.nodes\n",
    "    documents.append(document)\n",
    "    \n",
    "for node in document.nodes[:3]:\n",
    "    print(type(node))"
   ]
  },
  {
   "cell_type": "code",
   "execution_count": 12,
   "metadata": {},
   "outputs": [
    {
     "name": "stdout",
     "output_type": "stream",
     "text": [
      "3\n"
     ]
    }
   ],
   "source": [
    "print(len(documents))"
   ]
  },
  {
   "cell_type": "code",
   "execution_count": 13,
   "metadata": {},
   "outputs": [
    {
     "data": {
      "text/plain": [
       "{'source_id': 'allganize-RAG-Evaluation-Dataset-KO/finance/2',\n",
       " 'domain': 'finance',\n",
       " 'source_file': '2024년 3월_3. 향후 통화신용정책 방향.pdf'}"
      ]
     },
     "execution_count": 13,
     "metadata": {},
     "output_type": "execute_result"
    }
   ],
   "source": [
    "document.metadata"
   ]
  },
  {
   "cell_type": "code",
   "execution_count": null,
   "metadata": {},
   "outputs": [],
   "source": [
    "# image = document.nodes[0].image\n",
    "\n",
    "# # Crop to half\n",
    "# width, height = image.size\n",
    "# left_half = image.crop((0, 0, width, height//2))\n",
    "# left_half"
   ]
  },
  {
   "cell_type": "markdown",
   "metadata": {},
   "source": [
    "## 3-2. (Splitter) Chunk Documents\n",
    "1. merge text nodes with `TextNodeMerger`\n",
    "2. split texts into chunks with `LangchainRecursiveCharacterTextSplitter`"
   ]
  },
  {
   "cell_type": "code",
   "execution_count": 14,
   "metadata": {},
   "outputs": [],
   "source": [
    "from psiking.core.processor.document.text_merger import TextNodeMerger\n",
    "# Split Documents page-level\n",
    "merger = TextNodeMerger()\n",
    "\n",
    "merged_documents = []\n",
    "for document in documents:\n",
    "    merged_document = merger.run(document)\n",
    "    merged_documents.append(merged_document)"
   ]
  },
  {
   "cell_type": "code",
   "execution_count": 15,
   "metadata": {},
   "outputs": [
    {
     "data": {
      "text/plain": [
       "TextNode(id_='829f5a8e-470d-4591-9d12-bd0a7fc60151', metadata={'page_no': 1}, text_type=<TextType.PLAIN: 'plain'>, label=<TextLabel.PLAIN: 'plain'>, resource=MediaResource(data=None, text='증권사 리서치센터장, 자산운용사 대표와 함께하는 제1회 증시 콘서트\\n2019 하반기 증시 대전망\\n|\\xa0일\\xa0시\\xa0| 2019.\\xa07.\\xa02\\xa0(화)\\xa014:30\\n|\\xa0장\\xa0소\\xa0| 금융투자협회\\xa03층\\xa0불스홀', path=None, url=None, mimetype=None))"
      ]
     },
     "execution_count": 15,
     "metadata": {},
     "output_type": "execute_result"
    }
   ],
   "source": [
    "# merged_documents[0]\n",
    "merged_documents[0].nodes[0]"
   ]
  },
  {
   "cell_type": "code",
   "execution_count": 16,
   "metadata": {},
   "outputs": [
    {
     "name": "stdout",
     "output_type": "stream",
     "text": [
      "423\n"
     ]
    }
   ],
   "source": [
    "# 3. Run Splitter\n",
    "from psiking.core.splitter.text.langchain_text_splitters import LangchainRecursiveCharacterTextSplitter\n",
    "\n",
    "splitter = LangchainRecursiveCharacterTextSplitter(\n",
    "    chunk_size = 1024,\n",
    "    chunk_overlap = 128\n",
    ")\n",
    "\n",
    "chunks = []\n",
    "for document in merged_documents:\n",
    "    document_chunks = []\n",
    "    source_id = document.id_\n",
    "    for i, node in enumerate(document.nodes):\n",
    "        # Run Splitter\n",
    "        if isinstance(node, TextNode):\n",
    "            try:\n",
    "                split_nodes = splitter.run(node)\n",
    "            except Exception as e:\n",
    "                print(i, node)\n",
    "                print(str(e))\n",
    "                raise e\n",
    "        else:\n",
    "            split_nodes = [node]\n",
    "        \n",
    "        # Create New Document\n",
    "        for split_node in split_nodes:\n",
    "            # Each Document contains single node\n",
    "            chunk = Document(\n",
    "                nodes=[split_node],\n",
    "                metadata={\n",
    "                    \"source_id\": source_id,\n",
    "                    \"domain\": document.metadata[\"domain\"],\n",
    "                    \"source_file\": document.metadata['source_file'],\n",
    "                }\n",
    "            )\n",
    "            document_chunks.append(chunk)\n",
    "    chunks.extend(document_chunks)\n",
    "print(len(chunks))"
   ]
  },
  {
   "cell_type": "markdown",
   "metadata": {},
   "source": [
    "# 4. Embed"
   ]
  },
  {
   "cell_type": "code",
   "execution_count": 17,
   "metadata": {},
   "outputs": [
    {
     "name": "stderr",
     "output_type": "stream",
     "text": [
      "/opt/miniconda3/envs/psiking/lib/python3.10/site-packages/timm/models/layers/__init__.py:48: FutureWarning: Importing from timm.models.layers is deprecated, please import via timm.layers\n",
      "  warnings.warn(f\"Importing from {__name__} is deprecated, please import via timm.layers\", FutureWarning)\n"
     ]
    },
    {
     "name": "stdout",
     "output_type": "stream",
     "text": [
      "Loaded Model\n"
     ]
    }
   ],
   "source": [
    "## Load Model\n",
    "import torch\n",
    "from visual_bge.modeling import Visualized_BGE\n",
    "\n",
    "# Load Colpali engine\n",
    "bge_m3_model_dir = os.path.join(\n",
    "    settings.model_weight_dir, \"embedding/bge-m3\"\n",
    ")\n",
    "visualized_model_dir = os.path.join(\n",
    "    settings.model_weight_dir, \"embedding/baai-bge-visualized/Visualized_m3.pth\"\n",
    ")\n",
    "\n",
    "model = Visualized_BGE(\n",
    "    model_name_bge = bge_m3_model_dir,\n",
    "    model_weight= visualized_model_dir\n",
    ")\n",
    "model.eval()\n",
    "print(\"Loaded Model\")"
   ]
  },
  {
   "cell_type": "code",
   "execution_count": 18,
   "metadata": {},
   "outputs": [],
   "source": [
    "from psiking.core.embedder.flagembedding import (\n",
    "    VisualizedBGEInput, \n",
    "    LocalVisualizedBGEEmbedder\n",
    ")\n",
    "embedder = LocalVisualizedBGEEmbedder(\n",
    "    model=model\n",
    ")"
   ]
  },
  {
   "cell_type": "code",
   "execution_count": 19,
   "metadata": {},
   "outputs": [
    {
     "data": {
      "text/plain": [
       "torch.float32"
      ]
     },
     "execution_count": 19,
     "metadata": {},
     "output_type": "execute_result"
    }
   ],
   "source": [
    "model.dtype"
   ]
  },
  {
   "cell_type": "code",
   "execution_count": 20,
   "metadata": {},
   "outputs": [],
   "source": [
    "def prepare_embedding_input(chunk: Document):\n",
    "    # Single \n",
    "    node = chunk.nodes[0]\n",
    "    if isinstance(node, TextNode):\n",
    "        return VisualizedBGEInput(\n",
    "            text=node.text\n",
    "        )\n",
    "    elif isinstance(node, ImageNode) or isinstance(node, TableNode):\n",
    "        return VisualizedBGEInput(\n",
    "            text=\"{} {}\".format(\n",
    "                node.caption, node.text\n",
    "            ),\n",
    "            image=node.image\n",
    "        )\n",
    "        \n",
    "inputs = [prepare_embedding_input(x) for x in chunks]"
   ]
  },
  {
   "cell_type": "code",
   "execution_count": 21,
   "metadata": {},
   "outputs": [
    {
     "name": "stderr",
     "output_type": "stream",
     "text": [
      "100%|██████████| 35/35 [08:40<00:00, 14.87s/it]\n",
      "100%|██████████| 71/71 [02:20<00:00,  1.98s/it]\n"
     ]
    }
   ],
   "source": [
    "embeddings = embedder.run(inputs, batch_size = 4, disable_tqdm=False)"
   ]
  },
  {
   "cell_type": "code",
   "execution_count": 22,
   "metadata": {},
   "outputs": [
    {
     "name": "stdout",
     "output_type": "stream",
     "text": [
      "423\n",
      "1024\n"
     ]
    }
   ],
   "source": [
    "# (num_chunks, seq_len, embedding_dim)\n",
    "print(len(embeddings))\n",
    "print(len(embeddings[0]))"
   ]
  },
  {
   "cell_type": "markdown",
   "metadata": {},
   "source": [
    "# 5. Insert into DocumentStore, VectorStore\n",
    "* intialize qdrant in-memory"
   ]
  },
  {
   "cell_type": "markdown",
   "metadata": {},
   "source": [
    "## 5-1. Insert to DocStore"
   ]
  },
  {
   "cell_type": "code",
   "execution_count": 33,
   "metadata": {},
   "outputs": [],
   "source": [
    "from psiking.core.storage.docstore.in_memory import InMemoryDocumentStore"
   ]
  },
  {
   "cell_type": "code",
   "execution_count": 34,
   "metadata": {},
   "outputs": [],
   "source": [
    "doc_store = InMemoryDocumentStore()"
   ]
  },
  {
   "cell_type": "code",
   "execution_count": 35,
   "metadata": {},
   "outputs": [],
   "source": [
    "doc_store.add(chunks)"
   ]
  },
  {
   "cell_type": "code",
   "execution_count": 37,
   "metadata": {},
   "outputs": [
    {
     "data": {
      "text/plain": [
       "423"
      ]
     },
     "execution_count": 37,
     "metadata": {},
     "output_type": "execute_result"
    }
   ],
   "source": [
    "doc_store.count()"
   ]
  },
  {
   "cell_type": "markdown",
   "metadata": {},
   "source": [
    "## 5-2. Insert to VectorStore"
   ]
  },
  {
   "cell_type": "code",
   "execution_count": 23,
   "metadata": {},
   "outputs": [],
   "source": [
    "from qdrant_client import QdrantClient\n",
    "from psiking.core.storage.vectorstore.qdrant import QdrantSingleVectorStore\n",
    "\n",
    "# initialize client\n",
    "client = QdrantClient(\":memory:\")\n",
    "collection_name = \"allganize-finance\"\n",
    "\n",
    "vector_store = QdrantSingleVectorStore(\n",
    "    collection_name=collection_name,\n",
    "    client=client\n",
    ")"
   ]
  },
  {
   "cell_type": "code",
   "execution_count": 24,
   "metadata": {},
   "outputs": [],
   "source": [
    "from qdrant_client.http import models\n",
    "\n",
    "embedding_dim = 1024\n",
    "\n",
    "vector_store.create_collection(\n",
    "    on_disk_payload=True,  # store the payload on disk\n",
    "    vectors_config = models.VectorParams(\n",
    "        size=embedding_dim,\n",
    "        distance=models.Distance.COSINE,\n",
    "        on_disk=True,\n",
    "    )\n",
    ")"
   ]
  },
  {
   "cell_type": "code",
   "execution_count": 25,
   "metadata": {},
   "outputs": [],
   "source": [
    "vector_store.add(\n",
    "    documents=chunks,\n",
    "    embeddings=embeddings,\n",
    "    metadata_keys=[\"source_file\", \"source_id\", \"title\"]\n",
    ")"
   ]
  },
  {
   "cell_type": "code",
   "execution_count": 26,
   "metadata": {},
   "outputs": [
    {
     "data": {
      "text/plain": [
       "'a49c0bdf-d7eb-410f-af4f-aad252df6cbf'"
      ]
     },
     "execution_count": 26,
     "metadata": {},
     "output_type": "execute_result"
    }
   ],
   "source": [
    "chunks[0].id_"
   ]
  },
  {
   "cell_type": "code",
   "execution_count": 27,
   "metadata": {},
   "outputs": [],
   "source": [
    "points = vector_store._client.retrieve(\n",
    "    collection_name=vector_store.collection_name,\n",
    "    ids=[chunks[0].id_],\n",
    "    with_vectors=True\n",
    ")"
   ]
  },
  {
   "cell_type": "code",
   "execution_count": 28,
   "metadata": {},
   "outputs": [
    {
     "name": "stdout",
     "output_type": "stream",
     "text": [
      "a49c0bdf-d7eb-410f-af4f-aad252df6cbf\n",
      "{'source_id': '18bc9c4a-4792-4091-ac48-5047e79726ff', 'source_file': '★2019 제1회 증시콘서트 자료집_최종★.pdf'}\n",
      "1024\n"
     ]
    }
   ],
   "source": [
    "print(points[0].id)\n",
    "print(points[0].payload)\n",
    "print(len(points[0].vector))"
   ]
  },
  {
   "cell_type": "markdown",
   "metadata": {},
   "source": [
    "# 6. Query"
   ]
  },
  {
   "cell_type": "code",
   "execution_count": 29,
   "metadata": {},
   "outputs": [],
   "source": [
    "import numpy as np\n",
    "from psiking.core.storage.vectorstore.schema import (\n",
    "    MetadataFilters,\n",
    "    FilterOperator,\n",
    "    VectorStoreQuery,\n",
    "    VectorStoreQueryMode,\n",
    "    VectorStoreQueryOptions,\n",
    ")   "
   ]
  },
  {
   "cell_type": "code",
   "execution_count": 30,
   "metadata": {},
   "outputs": [],
   "source": [
    "# Use random query embedding\n",
    "query_embedding = np.random.randn(1024)\n",
    "\n",
    "vsquery=VectorStoreQuery(\n",
    "    dense_embedding=query_embedding\n",
    ")\n",
    "vsoptions=VectorStoreQueryOptions(\n",
    "    mode=VectorStoreQueryMode.DENSE,\n",
    "    top_k=10\n",
    ")"
   ]
  },
  {
   "cell_type": "code",
   "execution_count": 31,
   "metadata": {},
   "outputs": [],
   "source": [
    "points = vector_store.query(\n",
    "    query=vsquery,\n",
    "    options=vsoptions\n",
    ")"
   ]
  },
  {
   "cell_type": "code",
   "execution_count": 32,
   "metadata": {},
   "outputs": [
    {
     "data": {
      "text/plain": [
       "[ScoredPoint(id='e4522d3e-6605-40ef-87a9-e1760d08e885', version=0, score=0.09474180884550573, payload={'source_id': '18bc9c4a-4792-4091-ac48-5047e79726ff', 'source_file': '★2019 제1회 증시콘서트 자료집_최종★.pdf'}, vector=None, shard_key=None, order_value=None),\n",
       " ScoredPoint(id='86a1ff29-a085-4f0a-89d0-c5181dd34de3', version=0, score=0.0899249373343662, payload={'source_id': '9ae50d69-3fe2-4c46-a4f0-88f18e0a8ab6', 'source_file': '2024년 3월_3. 향후 통화신용정책 방향.pdf'}, vector=None, shard_key=None, order_value=None),\n",
       " ScoredPoint(id='54d21af3-3978-4e8e-8fa3-7b8875e155f1', version=0, score=0.089485415345183, payload={'source_id': '18bc9c4a-4792-4091-ac48-5047e79726ff', 'source_file': '★2019 제1회 증시콘서트 자료집_최종★.pdf'}, vector=None, shard_key=None, order_value=None),\n",
       " ScoredPoint(id='24a315a9-769f-4e7f-a3ce-3eee30a83d85', version=0, score=0.08839935042054466, payload={'source_id': '18bc9c4a-4792-4091-ac48-5047e79726ff', 'source_file': '★2019 제1회 증시콘서트 자료집_최종★.pdf'}, vector=None, shard_key=None, order_value=None),\n",
       " ScoredPoint(id='a6eae062-ac3f-49e2-9455-4ee577ba4e5f', version=0, score=0.08745810462569542, payload={'source_id': '18bc9c4a-4792-4091-ac48-5047e79726ff', 'source_file': '★2019 제1회 증시콘서트 자료집_최종★.pdf'}, vector=None, shard_key=None, order_value=None),\n",
       " ScoredPoint(id='c94c134e-051c-4132-a59e-687832768cfd', version=0, score=0.08726619658919589, payload={'source_id': '9ae50d69-3fe2-4c46-a4f0-88f18e0a8ab6', 'source_file': '2024년 3월_3. 향후 통화신용정책 방향.pdf'}, vector=None, shard_key=None, order_value=None),\n",
       " ScoredPoint(id='82e1f94a-ae59-4417-a8f9-72f12a619b8f', version=0, score=0.0854616330245161, payload={'source_id': '9ae50d69-3fe2-4c46-a4f0-88f18e0a8ab6', 'source_file': '2024년 3월_3. 향후 통화신용정책 방향.pdf'}, vector=None, shard_key=None, order_value=None),\n",
       " ScoredPoint(id='56280960-2a88-40ef-bace-f253b5c3ecff', version=0, score=0.08441830921120494, payload={'source_id': '18bc9c4a-4792-4091-ac48-5047e79726ff', 'source_file': '★2019 제1회 증시콘서트 자료집_최종★.pdf'}, vector=None, shard_key=None, order_value=None),\n",
       " ScoredPoint(id='37a0db0c-2d8f-4c86-a48f-6d2754860384', version=0, score=0.08322070915177154, payload={'source_id': '18bc9c4a-4792-4091-ac48-5047e79726ff', 'source_file': '★2019 제1회 증시콘서트 자료집_최종★.pdf'}, vector=None, shard_key=None, order_value=None),\n",
       " ScoredPoint(id='a7c9267a-542c-4455-be2e-500f3c47969e', version=0, score=0.08247821724318014, payload={'source_id': '9ae50d69-3fe2-4c46-a4f0-88f18e0a8ab6', 'source_file': '2024년 3월_3. 향후 통화신용정책 방향.pdf'}, vector=None, shard_key=None, order_value=None)]"
      ]
     },
     "execution_count": 32,
     "metadata": {},
     "output_type": "execute_result"
    }
   ],
   "source": [
    "points"
   ]
  },
  {
   "cell_type": "code",
   "execution_count": 41,
   "metadata": {},
   "outputs": [],
   "source": [
    "# Get Retrieved Result from docstore\n",
    "retrieved_doc_id = points[0].id\n",
    "\n",
    "retrieved_doc = doc_store.get(retrieved_doc_id)[0]"
   ]
  },
  {
   "cell_type": "code",
   "execution_count": 44,
   "metadata": {},
   "outputs": [
    {
     "name": "stdout",
     "output_type": "stream",
     "text": [
      "1\n"
     ]
    }
   ],
   "source": [
    "nodes = retrieved_doc.nodes\n",
    "print(len(nodes))"
   ]
  },
  {
   "cell_type": "code",
   "execution_count": 46,
   "metadata": {},
   "outputs": [
    {
     "data": {
      "image/jpeg": "[encoded data removed]",
      "image/png": "[encoded data removed]",
      "text/plain": [
       "<PIL.PngImagePlugin.PngImageFile image mode=RGB size=299x310>"
      ]
     },
     "execution_count": 46,
     "metadata": {},
     "output_type": "execute_result"
    }
   ],
   "source": [
    "nodes[0].image"
   ]
  }
 ],
 "metadata": {
  "kernelspec": {
   "display_name": "psiking",
   "language": "python",
   "name": "python3"
  },
  "language_info": {
   "codemirror_mode": {
    "name": "ipython",
    "version": 3
   },
   "file_extension": ".py",
   "mimetype": "text/x-python",
   "name": "python",
   "nbconvert_exporter": "python",
   "pygments_lexer": "ipython3",
   "version": "3.10.14"
  }
 },
 "nbformat": 4,
 "nbformat_minor": 2
}
