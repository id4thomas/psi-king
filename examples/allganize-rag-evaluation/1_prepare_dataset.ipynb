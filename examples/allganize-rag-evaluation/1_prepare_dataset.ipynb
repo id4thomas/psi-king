{
 "cells": [
  {
   "cell_type": "markdown",
   "id": "79dbbf4a",
   "metadata": {},
   "source": [
    "# Prepare Dataset\n",
    "* apply unique uuid to files (due to issues with fname)"
   ]
  },
  {
   "cell_type": "code",
   "execution_count": 12,
   "id": "17c28d51",
   "metadata": {},
   "outputs": [],
   "source": [
    "import os\n",
    "import uuid\n",
    "\n",
    "import pandas as pd\n",
    "\n",
    "from config import settings"
   ]
  },
  {
   "cell_type": "code",
   "execution_count": 13,
   "id": "483b694a",
   "metadata": {},
   "outputs": [],
   "source": [
    "dataset_dir = os.path.join(settings.data_dir, \"retrieval_dataset/allganize-RAG-Evaluation-Dataset-KO\")"
   ]
  },
  {
   "cell_type": "code",
   "execution_count": 14,
   "id": "6fe0c180",
   "metadata": {},
   "outputs": [
    {
     "name": "stdout",
     "output_type": "stream",
     "text": [
      "(64, 4) Index(['domain', 'file_name', 'pages', 'url'], dtype='object')\n"
     ]
    }
   ],
   "source": [
    "metadata_df = pd.read_csv(os.path.join(dataset_dir, 'documents.csv'))\n",
    "print(metadata_df.shape, metadata_df.columns)"
   ]
  },
  {
   "cell_type": "code",
   "execution_count": 15,
   "id": "77127dee",
   "metadata": {},
   "outputs": [
    {
     "name": "stdout",
     "output_type": "stream",
     "text": [
      "(300, 52) Index(['domain', 'question', 'target_answer', 'target_file_name',\n",
      "       'target_page_no', 'context_type', 'alli_gpt-4-turbo_answer',\n",
      "       'alli_gpt-4-turbo_ox', 'alli_gpt-4_answer', 'alli_gpt-4_ox',\n",
      "       'alli_claude3-opus_answer', 'alli_claude3-opus_ox',\n",
      "       'alli_Llama-3-Ko-8B-Finance-Evol_answer',\n",
      "       'alli_Llama-3-Ko-8B-Finance-Evol_ox',\n",
      "       'alli_Llama-3-Alpha-Ko-8B-Instruct_answer',\n",
      "       'alli_Llama-3-Alpha-Ko-8B-Instruct_ox',\n",
      "       'alli_KONI-Llama3-8B-Instruct-20240729_answer',\n",
      "       'alli_KONI-Llama3-8B-Instruct-20240729_ox',\n",
      "       'alli_claude-3.5-sonnet_answer', 'alli_claude-3.5-sonnet_ox',\n",
      "       'alli_gpt-4o_answer', 'alli_gpt-4o_ox', 'alli_gpt-4o-mini_answer',\n",
      "       'alli_gpt-4o-mini_ox', 'alli_alpha-ko-202411-32B_answer',\n",
      "       'alli_alpha-ko-202411-32B_ox', 'langchain_gpt-4-turbo_answer',\n",
      "       'langchain_gpt-4-turbo_ox', 'langchain_gpt-3.5-turbo_answer',\n",
      "       'langchain_gpt-3.5-turbo_ox', 'openai_assistant_gpt-4-turbo_answer',\n",
      "       'openai_assistant_gpt-4-turbo_ox', 'openai_assistant_gpt-4_answer',\n",
      "       'openai_assistant_gpt-4_ox', 'cohere_command-r_answer',\n",
      "       'cohere_command-r_ox', 'cohere_command-r-plus_answer',\n",
      "       'cohere_command-r-plus_ox', 'anything_llm_gpt-4-turbo_answer',\n",
      "       'anything_llm_gpt-4-turbo_ox', 'anything_llm_gpt-3.5-turbo_answer',\n",
      "       'anything_llm_gpt-3.5-turbo_ox', 'anything_llm_claude3-opus_answer',\n",
      "       'anything_llm_claude3-opus_ox', 'upstage_gpt-3.5-turbo_answer',\n",
      "       'upstage_gpt-3.5-turbo_ox', 'upstage_gpt-4-turbo_answer',\n",
      "       'upstage_gpt-4-turbo_ox', 'upstage_gpt-4_answer', 'upstage_gpt-4_ox',\n",
      "       'upstage_solar_answer', 'upstage_solar_ox'],\n",
      "      dtype='object')\n"
     ]
    }
   ],
   "source": [
    "answer_df = pd.read_csv(os.path.join(dataset_dir, 'rag_evaluation_result.csv'))\n",
    "print(answer_df.shape, answer_df.columns)"
   ]
  },
  {
   "cell_type": "markdown",
   "id": "8559597b",
   "metadata": {},
   "source": [
    "# 1. DocumentIDs"
   ]
  },
  {
   "cell_type": "code",
   "execution_count": 16,
   "id": "9816773a",
   "metadata": {},
   "outputs": [
    {
     "data": {
      "text/plain": [
       "UUID('00b51de7-531d-41c2-98ea-ef310e21d970')"
      ]
     },
     "execution_count": 16,
     "metadata": {},
     "output_type": "execute_result"
    }
   ],
   "source": [
    "uuid.uuid4()"
   ]
  },
  {
   "cell_type": "code",
   "execution_count": 17,
   "id": "af5865d9",
   "metadata": {},
   "outputs": [],
   "source": [
    "metadata_df['id'] = [\n",
    "    str(uuid.uuid4()) for _ in range(metadata_df.shape[0])\n",
    "]\n",
    "metadata_df.to_csv('data/metadata.tsv', sep='\\t', index=None)"
   ]
  },
  {
   "cell_type": "code",
   "execution_count": 18,
   "id": "84a430e9",
   "metadata": {},
   "outputs": [
    {
     "data": {
      "text/html": [
       "<div>\n",
       "<style scoped>\n",
       "    .dataframe tbody tr th:only-of-type {\n",
       "        vertical-align: middle;\n",
       "    }\n",
       "\n",
       "    .dataframe tbody tr th {\n",
       "        vertical-align: top;\n",
       "    }\n",
       "\n",
       "    .dataframe thead th {\n",
       "        text-align: right;\n",
       "    }\n",
       "</style>\n",
       "<table border=\"1\" class=\"dataframe\">\n",
       "  <thead>\n",
       "    <tr style=\"text-align: right;\">\n",
       "      <th></th>\n",
       "      <th>domain</th>\n",
       "      <th>file_name</th>\n",
       "      <th>pages</th>\n",
       "      <th>url</th>\n",
       "      <th>id</th>\n",
       "    </tr>\n",
       "  </thead>\n",
       "  <tbody>\n",
       "    <tr>\n",
       "      <th>0</th>\n",
       "      <td>finance</td>\n",
       "      <td>2024년 3월_2. 통화신용정책 운영.pdf</td>\n",
       "      <td>13</td>\n",
       "      <td>https://www.bok.or.kr/portal/bbs/B0000156/view...</td>\n",
       "      <td>980889bb-16cd-447f-b5eb-1384b84903cc</td>\n",
       "    </tr>\n",
       "    <tr>\n",
       "      <th>1</th>\n",
       "      <td>finance</td>\n",
       "      <td>2024년 3월_3. 향후 통화신용정책 방향.pdf</td>\n",
       "      <td>21</td>\n",
       "      <td>https://www.bok.or.kr/portal/bbs/B0000156/view...</td>\n",
       "      <td>5484364a-38de-48b7-a0a6-b009f361bd9e</td>\n",
       "    </tr>\n",
       "    <tr>\n",
       "      <th>2</th>\n",
       "      <td>finance</td>\n",
       "      <td>★2019 제1회 증시콘서트 자료집_최종★.pdf</td>\n",
       "      <td>58</td>\n",
       "      <td>https://www.kofia.or.kr/brd/m_52/view.do?seq=2...</td>\n",
       "      <td>7373884a-8255-482d-9e7c-00b919083526</td>\n",
       "    </tr>\n",
       "    <tr>\n",
       "      <th>3</th>\n",
       "      <td>finance</td>\n",
       "      <td>한-호주 퇴직연금 포럼_책자(최종).pdf</td>\n",
       "      <td>50</td>\n",
       "      <td>https://www.kofia.or.kr/brd/m_52/view.do?seq=2...</td>\n",
       "      <td>03d95093-ed1f-4a66-83dc-5534dfbd87e3</td>\n",
       "    </tr>\n",
       "    <tr>\n",
       "      <th>4</th>\n",
       "      <td>finance</td>\n",
       "      <td>240409(보도자료) 금융위 핀테크 투자 생태계 활성화 나선다.pdf</td>\n",
       "      <td>6</td>\n",
       "      <td>https://www.fsc.go.kr/po010101?srchCtgry=1</td>\n",
       "      <td>99d45724-817a-4c05-85e2-83e0aa8ac8c0</td>\n",
       "    </tr>\n",
       "  </tbody>\n",
       "</table>\n",
       "</div>"
      ],
      "text/plain": [
       "    domain                                file_name  pages  \\\n",
       "0  finance                2024년 3월_2. 통화신용정책 운영.pdf     13   \n",
       "1  finance             2024년 3월_3. 향후 통화신용정책 방향.pdf     21   \n",
       "2  finance              ★2019 제1회 증시콘서트 자료집_최종★.pdf     58   \n",
       "3  finance                  한-호주 퇴직연금 포럼_책자(최종).pdf     50   \n",
       "4  finance  240409(보도자료) 금융위 핀테크 투자 생태계 활성화 나선다.pdf      6   \n",
       "\n",
       "                                                 url  \\\n",
       "0  https://www.bok.or.kr/portal/bbs/B0000156/view...   \n",
       "1  https://www.bok.or.kr/portal/bbs/B0000156/view...   \n",
       "2  https://www.kofia.or.kr/brd/m_52/view.do?seq=2...   \n",
       "3  https://www.kofia.or.kr/brd/m_52/view.do?seq=2...   \n",
       "4         https://www.fsc.go.kr/po010101?srchCtgry=1   \n",
       "\n",
       "                                     id  \n",
       "0  980889bb-16cd-447f-b5eb-1384b84903cc  \n",
       "1  5484364a-38de-48b7-a0a6-b009f361bd9e  \n",
       "2  7373884a-8255-482d-9e7c-00b919083526  \n",
       "3  03d95093-ed1f-4a66-83dc-5534dfbd87e3  \n",
       "4  99d45724-817a-4c05-85e2-83e0aa8ac8c0  "
      ]
     },
     "execution_count": 18,
     "metadata": {},
     "output_type": "execute_result"
    }
   ],
   "source": [
    "metadata_df.head()"
   ]
  },
  {
   "cell_type": "code",
   "execution_count": 19,
   "id": "1f2b2e82",
   "metadata": {},
   "outputs": [],
   "source": [
    "retrieval_answer_df = answer_df[\n",
    "    ['domain', 'question', 'target_answer', 'target_file_name', 'target_page_no', 'context_type']\n",
    "]"
   ]
  },
  {
   "cell_type": "code",
   "execution_count": 20,
   "id": "9816eaa1",
   "metadata": {},
   "outputs": [
    {
     "data": {
      "text/html": [
       "<div>\n",
       "<style scoped>\n",
       "    .dataframe tbody tr th:only-of-type {\n",
       "        vertical-align: middle;\n",
       "    }\n",
       "\n",
       "    .dataframe tbody tr th {\n",
       "        vertical-align: top;\n",
       "    }\n",
       "\n",
       "    .dataframe thead th {\n",
       "        text-align: right;\n",
       "    }\n",
       "</style>\n",
       "<table border=\"1\" class=\"dataframe\">\n",
       "  <thead>\n",
       "    <tr style=\"text-align: right;\">\n",
       "      <th></th>\n",
       "      <th>domain</th>\n",
       "      <th>question</th>\n",
       "      <th>target_answer</th>\n",
       "      <th>target_file_name</th>\n",
       "      <th>target_page_no</th>\n",
       "      <th>context_type</th>\n",
       "    </tr>\n",
       "  </thead>\n",
       "  <tbody>\n",
       "    <tr>\n",
       "      <th>0</th>\n",
       "      <td>finance</td>\n",
       "      <td>시중은행, 지방은행, 인터넷은행의 인가 요건 및 절차에 차이가 있는데 그 차이점은 ...</td>\n",
       "      <td>시중은행, 지방은행, 인터넷은행 모두 은행업을 영위하기 위해서는 '은행법' 제8조에...</td>\n",
       "      <td>[별첨] 지방은행의 시중은행 전환시 인가방식 및 절차.pdf</td>\n",
       "      <td>4</td>\n",
       "      <td>paragraph</td>\n",
       "    </tr>\n",
       "    <tr>\n",
       "      <th>1</th>\n",
       "      <td>finance</td>\n",
       "      <td>은행업을 신청하고자 할 때, 은행법상 소유규제에 부합하는 대주주 요건을 충족하려면 ...</td>\n",
       "      <td>은행업을 신청하려면 대주주 요건을 충족해야 합니다. 대주주 요건으로는 부실금융기관 ...</td>\n",
       "      <td>[별첨] 지방은행의 시중은행 전환시 인가방식 및 절차.pdf</td>\n",
       "      <td>7</td>\n",
       "      <td>table</td>\n",
       "    </tr>\n",
       "    <tr>\n",
       "      <th>2</th>\n",
       "      <td>finance</td>\n",
       "      <td>본인가를 받으려는 지방은행이 시중은행 전환시 예비인가를 받을 필요가 있는지 설명하시...</td>\n",
       "      <td>본인가를 받으려는 지방은행이 시중은행 전환을 신청하는 경우, 예비인가를 받을 필요는...</td>\n",
       "      <td>[별첨] 지방은행의 시중은행 전환시 인가방식 및 절차.pdf</td>\n",
       "      <td>8</td>\n",
       "      <td>paragraph</td>\n",
       "    </tr>\n",
       "    <tr>\n",
       "      <th>3</th>\n",
       "      <td>finance</td>\n",
       "      <td>은행법에 의거 예비인가를 신청할 수 있는지와, 그 경우 금융위원회가 검토했어야 하는...</td>\n",
       "      <td>은행법에 의하면 예비인가를 신청할 수 있습니다. 제8조에 따른 인가를 받으려는 자는...</td>\n",
       "      <td>[별첨] 지방은행의 시중은행 전환시 인가방식 및 절차.pdf</td>\n",
       "      <td>10</td>\n",
       "      <td>paragraph</td>\n",
       "    </tr>\n",
       "    <tr>\n",
       "      <th>4</th>\n",
       "      <td>finance</td>\n",
       "      <td>2019년 YTD 기준으로 브라질의 주식 시장 수익률과 베트남의 주식 시장 수익률 ...</td>\n",
       "      <td>Refinitiv에서 제공한 자료에 따르면 2019년 YTD 브라질의 주식 시장 수...</td>\n",
       "      <td>★2019 제1회 증시콘서트 자료집_최종★.pdf</td>\n",
       "      <td>6</td>\n",
       "      <td>image</td>\n",
       "    </tr>\n",
       "  </tbody>\n",
       "</table>\n",
       "</div>"
      ],
      "text/plain": [
       "    domain                                           question  \\\n",
       "0  finance  시중은행, 지방은행, 인터넷은행의 인가 요건 및 절차에 차이가 있는데 그 차이점은 ...   \n",
       "1  finance  은행업을 신청하고자 할 때, 은행법상 소유규제에 부합하는 대주주 요건을 충족하려면 ...   \n",
       "2  finance  본인가를 받으려는 지방은행이 시중은행 전환시 예비인가를 받을 필요가 있는지 설명하시...   \n",
       "3  finance  은행법에 의거 예비인가를 신청할 수 있는지와, 그 경우 금융위원회가 검토했어야 하는...   \n",
       "4  finance  2019년 YTD 기준으로 브라질의 주식 시장 수익률과 베트남의 주식 시장 수익률 ...   \n",
       "\n",
       "                                       target_answer  \\\n",
       "0  시중은행, 지방은행, 인터넷은행 모두 은행업을 영위하기 위해서는 '은행법' 제8조에...   \n",
       "1  은행업을 신청하려면 대주주 요건을 충족해야 합니다. 대주주 요건으로는 부실금융기관 ...   \n",
       "2  본인가를 받으려는 지방은행이 시중은행 전환을 신청하는 경우, 예비인가를 받을 필요는...   \n",
       "3  은행법에 의하면 예비인가를 신청할 수 있습니다. 제8조에 따른 인가를 받으려는 자는...   \n",
       "4  Refinitiv에서 제공한 자료에 따르면 2019년 YTD 브라질의 주식 시장 수...   \n",
       "\n",
       "                    target_file_name target_page_no context_type  \n",
       "0  [별첨] 지방은행의 시중은행 전환시 인가방식 및 절차.pdf              4    paragraph  \n",
       "1  [별첨] 지방은행의 시중은행 전환시 인가방식 및 절차.pdf              7        table  \n",
       "2  [별첨] 지방은행의 시중은행 전환시 인가방식 및 절차.pdf              8    paragraph  \n",
       "3  [별첨] 지방은행의 시중은행 전환시 인가방식 및 절차.pdf             10    paragraph  \n",
       "4        ★2019 제1회 증시콘서트 자료집_최종★.pdf              6        image  "
      ]
     },
     "execution_count": 20,
     "metadata": {},
     "output_type": "execute_result"
    }
   ],
   "source": [
    "retrieval_answer_df.head()"
   ]
  },
  {
   "cell_type": "code",
   "execution_count": 21,
   "id": "53dfdae4",
   "metadata": {},
   "outputs": [],
   "source": [
    "retrieval_answer_df = retrieval_answer_df.merge(\n",
    "    metadata_df[['id', 'file_name']],\n",
    "    how='left',\n",
    "    left_on='target_file_name',\n",
    "    right_on='file_name'\n",
    ")"
   ]
  },
  {
   "cell_type": "code",
   "execution_count": 22,
   "id": "9917d49a",
   "metadata": {},
   "outputs": [],
   "source": [
    "retrieval_answer_df = retrieval_answer_df.drop(columns=['file_name'])\n",
    "retrieval_answer_df = retrieval_answer_df.rename(\n",
    "    columns={\n",
    "        'id': 'target_file_id'\n",
    "    }\n",
    ")"
   ]
  },
  {
   "cell_type": "code",
   "execution_count": 25,
   "id": "a4210740",
   "metadata": {},
   "outputs": [],
   "source": [
    "retrieval_answer_df = retrieval_answer_df[\n",
    "    ['domain', 'question', 'target_file_id', 'target_file_name', 'target_page_no', 'context_type', 'target_answer']\n",
    "]"
   ]
  },
  {
   "cell_type": "code",
   "execution_count": 26,
   "id": "99108e20",
   "metadata": {},
   "outputs": [
    {
     "data": {
      "text/html": [
       "<div>\n",
       "<style scoped>\n",
       "    .dataframe tbody tr th:only-of-type {\n",
       "        vertical-align: middle;\n",
       "    }\n",
       "\n",
       "    .dataframe tbody tr th {\n",
       "        vertical-align: top;\n",
       "    }\n",
       "\n",
       "    .dataframe thead th {\n",
       "        text-align: right;\n",
       "    }\n",
       "</style>\n",
       "<table border=\"1\" class=\"dataframe\">\n",
       "  <thead>\n",
       "    <tr style=\"text-align: right;\">\n",
       "      <th></th>\n",
       "      <th>domain</th>\n",
       "      <th>question</th>\n",
       "      <th>target_file_id</th>\n",
       "      <th>target_file_name</th>\n",
       "      <th>target_page_no</th>\n",
       "      <th>context_type</th>\n",
       "      <th>target_answer</th>\n",
       "    </tr>\n",
       "  </thead>\n",
       "  <tbody>\n",
       "    <tr>\n",
       "      <th>0</th>\n",
       "      <td>finance</td>\n",
       "      <td>시중은행, 지방은행, 인터넷은행의 인가 요건 및 절차에 차이가 있는데 그 차이점은 ...</td>\n",
       "      <td>c94f675e-7d81-48bd-88f8-c5ff766190cc</td>\n",
       "      <td>[별첨] 지방은행의 시중은행 전환시 인가방식 및 절차.pdf</td>\n",
       "      <td>4</td>\n",
       "      <td>paragraph</td>\n",
       "      <td>시중은행, 지방은행, 인터넷은행 모두 은행업을 영위하기 위해서는 '은행법' 제8조에...</td>\n",
       "    </tr>\n",
       "    <tr>\n",
       "      <th>1</th>\n",
       "      <td>finance</td>\n",
       "      <td>은행업을 신청하고자 할 때, 은행법상 소유규제에 부합하는 대주주 요건을 충족하려면 ...</td>\n",
       "      <td>c94f675e-7d81-48bd-88f8-c5ff766190cc</td>\n",
       "      <td>[별첨] 지방은행의 시중은행 전환시 인가방식 및 절차.pdf</td>\n",
       "      <td>7</td>\n",
       "      <td>table</td>\n",
       "      <td>은행업을 신청하려면 대주주 요건을 충족해야 합니다. 대주주 요건으로는 부실금융기관 ...</td>\n",
       "    </tr>\n",
       "    <tr>\n",
       "      <th>2</th>\n",
       "      <td>finance</td>\n",
       "      <td>본인가를 받으려는 지방은행이 시중은행 전환시 예비인가를 받을 필요가 있는지 설명하시...</td>\n",
       "      <td>c94f675e-7d81-48bd-88f8-c5ff766190cc</td>\n",
       "      <td>[별첨] 지방은행의 시중은행 전환시 인가방식 및 절차.pdf</td>\n",
       "      <td>8</td>\n",
       "      <td>paragraph</td>\n",
       "      <td>본인가를 받으려는 지방은행이 시중은행 전환을 신청하는 경우, 예비인가를 받을 필요는...</td>\n",
       "    </tr>\n",
       "    <tr>\n",
       "      <th>3</th>\n",
       "      <td>finance</td>\n",
       "      <td>은행법에 의거 예비인가를 신청할 수 있는지와, 그 경우 금융위원회가 검토했어야 하는...</td>\n",
       "      <td>c94f675e-7d81-48bd-88f8-c5ff766190cc</td>\n",
       "      <td>[별첨] 지방은행의 시중은행 전환시 인가방식 및 절차.pdf</td>\n",
       "      <td>10</td>\n",
       "      <td>paragraph</td>\n",
       "      <td>은행법에 의하면 예비인가를 신청할 수 있습니다. 제8조에 따른 인가를 받으려는 자는...</td>\n",
       "    </tr>\n",
       "    <tr>\n",
       "      <th>4</th>\n",
       "      <td>finance</td>\n",
       "      <td>2019년 YTD 기준으로 브라질의 주식 시장 수익률과 베트남의 주식 시장 수익률 ...</td>\n",
       "      <td>7373884a-8255-482d-9e7c-00b919083526</td>\n",
       "      <td>★2019 제1회 증시콘서트 자료집_최종★.pdf</td>\n",
       "      <td>6</td>\n",
       "      <td>image</td>\n",
       "      <td>Refinitiv에서 제공한 자료에 따르면 2019년 YTD 브라질의 주식 시장 수...</td>\n",
       "    </tr>\n",
       "  </tbody>\n",
       "</table>\n",
       "</div>"
      ],
      "text/plain": [
       "    domain                                           question  \\\n",
       "0  finance  시중은행, 지방은행, 인터넷은행의 인가 요건 및 절차에 차이가 있는데 그 차이점은 ...   \n",
       "1  finance  은행업을 신청하고자 할 때, 은행법상 소유규제에 부합하는 대주주 요건을 충족하려면 ...   \n",
       "2  finance  본인가를 받으려는 지방은행이 시중은행 전환시 예비인가를 받을 필요가 있는지 설명하시...   \n",
       "3  finance  은행법에 의거 예비인가를 신청할 수 있는지와, 그 경우 금융위원회가 검토했어야 하는...   \n",
       "4  finance  2019년 YTD 기준으로 브라질의 주식 시장 수익률과 베트남의 주식 시장 수익률 ...   \n",
       "\n",
       "                         target_file_id                   target_file_name  \\\n",
       "0  c94f675e-7d81-48bd-88f8-c5ff766190cc  [별첨] 지방은행의 시중은행 전환시 인가방식 및 절차.pdf   \n",
       "1  c94f675e-7d81-48bd-88f8-c5ff766190cc  [별첨] 지방은행의 시중은행 전환시 인가방식 및 절차.pdf   \n",
       "2  c94f675e-7d81-48bd-88f8-c5ff766190cc  [별첨] 지방은행의 시중은행 전환시 인가방식 및 절차.pdf   \n",
       "3  c94f675e-7d81-48bd-88f8-c5ff766190cc  [별첨] 지방은행의 시중은행 전환시 인가방식 및 절차.pdf   \n",
       "4  7373884a-8255-482d-9e7c-00b919083526        ★2019 제1회 증시콘서트 자료집_최종★.pdf   \n",
       "\n",
       "  target_page_no context_type  \\\n",
       "0              4    paragraph   \n",
       "1              7        table   \n",
       "2              8    paragraph   \n",
       "3             10    paragraph   \n",
       "4              6        image   \n",
       "\n",
       "                                       target_answer  \n",
       "0  시중은행, 지방은행, 인터넷은행 모두 은행업을 영위하기 위해서는 '은행법' 제8조에...  \n",
       "1  은행업을 신청하려면 대주주 요건을 충족해야 합니다. 대주주 요건으로는 부실금융기관 ...  \n",
       "2  본인가를 받으려는 지방은행이 시중은행 전환을 신청하는 경우, 예비인가를 받을 필요는...  \n",
       "3  은행법에 의하면 예비인가를 신청할 수 있습니다. 제8조에 따른 인가를 받으려는 자는...  \n",
       "4  Refinitiv에서 제공한 자료에 따르면 2019년 YTD 브라질의 주식 시장 수...  "
      ]
     },
     "execution_count": 26,
     "metadata": {},
     "output_type": "execute_result"
    }
   ],
   "source": [
    "retrieval_answer_df.head()"
   ]
  },
  {
   "cell_type": "code",
   "execution_count": 27,
   "id": "d3902d1a",
   "metadata": {},
   "outputs": [],
   "source": [
    "retrieval_answer_df.to_csv('data/retrieval_ground_truth.tsv', sep='\\t', index=None)"
   ]
  }
 ],
 "metadata": {
  "kernelspec": {
   "display_name": "docling",
   "language": "python",
   "name": "docling"
  },
  "language_info": {
   "codemirror_mode": {
    "name": "ipython",
    "version": 3
   },
   "file_extension": ".py",
   "mimetype": "text/x-python",
   "name": "python",
   "nbconvert_exporter": "python",
   "pygments_lexer": "ipython3",
   "version": "3.10.14"
  }
 },
 "nbformat": 4,
 "nbformat_minor": 5
}
