{
 "cells": [
  {
   "cell_type": "markdown",
   "id": "b29bded5",
   "metadata": {},
   "source": [
    "# Read Document Files (v2507)\n",
    "Read PDF Files into Documents -> Split -> Save to Docstore\n",
    "\n",
    "## Methodology\n",
    "```\n",
    "1. Load Document Readers\n",
    "    1-1. Initialize DoclingPDFReader (PDF Backend)\n",
    "    1-2. Initialize DoclingPDFReader (VLM Doctags Backend) - Disabled for now\n",
    "    1-3. Initialize PDF2ImageReader\n",
    "2. Load PDF File Data\n",
    "3. Ingest Data\n",
    "    3-1. (Reader) PDF File -> PSIKing Document\n",
    "    3-2. (Splitter) Chunk Documents\n",
    "4. Insert into DocumentStore\n",
    "    4-1. Insert\n",
    "    4-2. Save to Disk\n",
    "```"
   ]
  },
  {
   "cell_type": "code",
   "execution_count": 1,
   "id": "a64d03d5",
   "metadata": {},
   "outputs": [],
   "source": [
    "import json\n",
    "import os\n",
    "\n",
    "from pathlib import Path\n",
    "import time\n",
    "from typing import Any, Dict, List, Optional\n",
    "\n",
    "import pandas as pd\n",
    "from pydantic import BaseModel\n",
    "from tqdm import tqdm\n",
    "\n",
    "from config import settings\n",
    "\n",
    "from psiking.core.base.schema import Document, TextNode, ImageNode, TableNode"
   ]
  },
  {
   "cell_type": "markdown",
   "id": "2f1d65d3",
   "metadata": {},
   "source": [
    "# 1. Load PSIKing Document Readers"
   ]
  },
  {
   "cell_type": "markdown",
   "id": "fc207a68",
   "metadata": {},
   "source": [
    "## 1-1. Load DoclingPDFReader (PDF Backend)"
   ]
  },
  {
   "cell_type": "code",
   "execution_count": 2,
   "id": "039dc1ca",
   "metadata": {},
   "outputs": [],
   "source": [
    "from docling_core.types.doc import PictureItem\n",
    "\n",
    "from docling.datamodel.base_models import InputFormat\n",
    "\n",
    "from docling.datamodel.pipeline_options import (\n",
    "    AcceleratorDevice,\n",
    "    VlmPipelineOptions,\n",
    "    PdfPipelineOptions,\n",
    "    PictureDescriptionApiOptions,\n",
    "    ResponseFormat,\n",
    "    TableStructureOptions,\n",
    "    TableFormerMode\n",
    ")\n",
    "from docling.document_converter import DocumentConverter, PdfFormatOption\n",
    "from docling.pipeline.vlm_pipeline import VlmPipeline\n",
    "from docling.datamodel.pipeline_options_vlm_model import (\n",
    "    ApiVlmOptions,\n",
    "    InferenceFramework,\n",
    "    InlineVlmOptions,\n",
    "    ResponseFormat,\n",
    "    TransformersModelType\n",
    ")"
   ]
  },
  {
   "cell_type": "code",
   "execution_count": 3,
   "id": "8eaffaea",
   "metadata": {},
   "outputs": [],
   "source": [
    "pipeline_options = PdfPipelineOptions()\n",
    "\n",
    "# If force_backend_text = True, text from backend will be used instead of generated text\n",
    "pipeline_options.force_backend_text = False\n",
    "pipeline_options.generate_picture_images = True\n",
    "\n",
    "pipeline_options.images_scale = 1.5\n",
    "pipeline_options.generate_page_images = True\n",
    "pipeline_options.generate_picture_images = True\n",
    "pipeline_options.do_ocr = False\n",
    "\n",
    "# TableStructure\n",
    "pipeline_options.do_table_structure = True\n",
    "pipeline_options.table_structure_options = TableStructureOptions(mode=TableFormerMode.ACCURATE)\n",
    "\n",
    "pipeline_options.accelerator_options.device = AcceleratorDevice.MPS"
   ]
  },
  {
   "cell_type": "code",
   "execution_count": 4,
   "id": "0c03c58e",
   "metadata": {},
   "outputs": [
    {
     "name": "stdout",
     "output_type": "stream",
     "text": [
      "gpt-4.1-nano\n"
     ]
    }
   ],
   "source": [
    "from psiking.core.reader.pdf.docling.pipeline_options.picture_description import (\n",
    "    openai_options as docling_openai_picture_description_options\n",
    ") \n",
    "\n",
    "pipeline_options.do_picture_description = True\n",
    "pipeline_options.enable_remote_services = True\n",
    "\n",
    "print(settings.vlm_model)\n",
    "pipeline_options.picture_description_options=docling_openai_picture_description_options(\n",
    "    api_key=settings.vlm_api_key,\n",
    "    model=settings.vlm_model\n",
    ")"
   ]
  },
  {
   "cell_type": "code",
   "execution_count": 5,
   "id": "b73f09bc",
   "metadata": {},
   "outputs": [],
   "source": [
    "docling_pdf_converter = DocumentConverter(\n",
    "    allowed_formats = [\n",
    "        InputFormat.PDF,\n",
    "    ],\n",
    "    format_options={\n",
    "        InputFormat.PDF: PdfFormatOption(\n",
    "            pipeline_options=pipeline_options,\n",
    "        ),\n",
    "    }\n",
    ")"
   ]
  },
  {
   "cell_type": "code",
   "execution_count": 6,
   "id": "890f084d",
   "metadata": {},
   "outputs": [],
   "source": [
    "from psiking.core.reader.pdf.docling import DoclingPDFReader\n",
    "\n",
    "# initalize reader\n",
    "docling_pdf_reader = DoclingPDFReader(converter=docling_pdf_converter)"
   ]
  },
  {
   "cell_type": "markdown",
   "id": "d670db69",
   "metadata": {},
   "source": [
    "## 1-2. Load DoclingPDFReader (VLM Doctags Backend)\n",
    "* Disabled for now due to bad Korean ocr performance"
   ]
  },
  {
   "cell_type": "code",
   "execution_count": 7,
   "id": "1adf456d",
   "metadata": {},
   "outputs": [],
   "source": [
    "# pipeline_options = VlmPipelineOptions()\n",
    "# # If force_backend_text = True, text from backend will be used instead of generated text\n",
    "# pipeline_options.force_backend_text = False\n",
    "# pipeline_options.generate_picture_images = True\n",
    "\n",
    "# pipeline_options.accelerator_options.device = AcceleratorDevice.MPS\n",
    "\n",
    "\n",
    "# # smoldocling-preview\n",
    "# # vlm_conversion_options = InlineVlmOptions(\n",
    "# #     repo_id = \"ds4sd/SmolDocling-256M-preview\",\n",
    "# #     inference_framework=InferenceFramework.TRANSFORMERS,\n",
    "# #     supported_devices=[AcceleratorDevice.MPS],\n",
    "# #     transformers_model_type=TransformersModelType.AUTOMODEL_VISION2SEQ,\n",
    "# #     prompt=\"Convert this page to docling.\",\n",
    "# #     response_format=ResponseFormat.DOCTAGS,\n",
    "# #     load_in_8bit=False,\n",
    "# #     quantized=False\n",
    "# # )\n",
    "\n",
    "# ## Remote (vllm) Version\n",
    "# pipeline_options.enable_remote_services=True\n",
    "# vlm_conversion_options = ApiVlmOptions(\n",
    "#     url='http://localhost:8081/v1/chat/completions',\n",
    "#     prompt=\"Convert this page to docling.\",\n",
    "#     response_format=ResponseFormat.DOCTAGS,\n",
    "#     concurrency=8\n",
    "# )\n",
    "\n",
    "\n",
    "# ## Pick a VLM model. We choose SmolDocling-256M by default\n",
    "# pipeline_options.vlm_options = vlm_conversion_options"
   ]
  },
  {
   "cell_type": "code",
   "execution_count": 8,
   "id": "217054e4",
   "metadata": {},
   "outputs": [],
   "source": [
    "# docling_vlm_converter = DocumentConverter(\n",
    "#     format_options={\n",
    "#         InputFormat.PDF: PdfFormatOption(\n",
    "#             pipeline_cls=VlmPipeline,\n",
    "#             pipeline_options=pipeline_options,\n",
    "#         ),\n",
    "#     }\n",
    "# )"
   ]
  },
  {
   "cell_type": "code",
   "execution_count": 9,
   "id": "a7c36b3f",
   "metadata": {},
   "outputs": [],
   "source": [
    "# # initalize reader\n",
    "# docling_vlm_reader = DoclingPDFReader(converter=docling_vlm_converter)"
   ]
  },
  {
   "cell_type": "markdown",
   "id": "d00719ed",
   "metadata": {},
   "source": [
    "## 1-3. Load PDF2ImageReader"
   ]
  },
  {
   "cell_type": "code",
   "execution_count": 10,
   "id": "3b4b1c6c",
   "metadata": {},
   "outputs": [],
   "source": [
    "from psiking.core.reader.pdf.pdf2image import PDF2ImageReader\n",
    "\n",
    "poppler_path = \"/opt/homebrew/Cellar/poppler/25.07.0/bin\"\n",
    "pdf2img_reader = PDF2ImageReader(poppler_path=poppler_path)"
   ]
  },
  {
   "cell_type": "markdown",
   "id": "efecae8e",
   "metadata": {},
   "source": [
    "# 2. Load PDF File Data"
   ]
  },
  {
   "cell_type": "code",
   "execution_count": 11,
   "id": "8abc11fd",
   "metadata": {},
   "outputs": [
    {
     "name": "stdout",
     "output_type": "stream",
     "text": [
      "num files: 10\n"
     ]
    },
    {
     "data": {
      "text/plain": [
       "['7373884a-8255-482d-9e7c-00b919083526.pdf',\n",
       " '5484364a-38de-48b7-a0a6-b009f361bd9e.pdf',\n",
       " 'b59c836c-ec57-44ba-b4a8-2ae3d58a22e4.pdf',\n",
       " '99d45724-817a-4c05-85e2-83e0aa8ac8c0.pdf',\n",
       " '03d95093-ed1f-4a66-83dc-5534dfbd87e3.pdf',\n",
       " 'c94f675e-7d81-48bd-88f8-c5ff766190cc.pdf',\n",
       " '053248f8-4311-413e-b34b-9a65a4251f4f.pdf',\n",
       " '72b54f4b-7002-48ea-ad20-2c613d8360f6.pdf',\n",
       " 'bbd035d6-51a2-41ba-b913-8357d89b7852.pdf',\n",
       " '980889bb-16cd-447f-b5eb-1384b84903cc.pdf']"
      ]
     },
     "execution_count": 11,
     "metadata": {},
     "output_type": "execute_result"
    }
   ],
   "source": [
    "# PDF File directory\n",
    "# pdf_dir = os.path.join(settings.data_dir, \"retrieval_dataset/allganize-RAG-Evaluation-Dataset-KO/finance\")\n",
    "pdf_dir = 'data/pdf/finance'\n",
    "pdf_fnames =[x for x in os.listdir(pdf_dir) if x.endswith(\".pdf\")]\n",
    "print(\"num files:\", len(pdf_fnames))\n",
    "pdf_fnames[:10]"
   ]
  },
  {
   "cell_type": "code",
   "execution_count": 13,
   "id": "b8def320",
   "metadata": {},
   "outputs": [],
   "source": [
    "# Map to FileIds\n",
    "metadata_df = pd.read_csv('data/metadata.tsv', sep='\\t')\n",
    "\n",
    "pdf_file_ids = [\n",
    "    metadata_df[metadata_df.id==x.replace('.pdf', '')].iloc[0]['id'] for x in pdf_fnames\n",
    "]"
   ]
  },
  {
   "cell_type": "code",
   "execution_count": 14,
   "id": "96648396",
   "metadata": {},
   "outputs": [
    {
     "data": {
      "text/plain": [
       "10"
      ]
     },
     "execution_count": 14,
     "metadata": {},
     "output_type": "execute_result"
    }
   ],
   "source": [
    "len(pdf_file_ids)"
   ]
  },
  {
   "cell_type": "markdown",
   "id": "73869c21",
   "metadata": {},
   "source": [
    "# 3. Ingest Files"
   ]
  },
  {
   "cell_type": "markdown",
   "id": "8dd43ee9",
   "metadata": {},
   "source": [
    "## 3-1. Reader - File->Document"
   ]
  },
  {
   "cell_type": "code",
   "execution_count": 15,
   "id": "49d99591",
   "metadata": {},
   "outputs": [
    {
     "name": "stderr",
     "output_type": "stream",
     "text": [
      " 20%|██        | 2/10 [06:18<21:46, 163.34s/it]Encountered an error during conversion of document 02616dbc4dc47f992b7008e68e4f1d4cb49ccece229e7fad02a38a3470346a63:\n",
      "Traceback (most recent call last):\n",
      "\n",
      "  File \"/opt/miniconda3/envs/psiking/lib/python3.10/site-packages/docling/pipeline/base_pipeline.py\", line 160, in _build_document\n",
      "    for p in pipeline_pages:  # Must exhaust!\n",
      "\n",
      "  File \"/opt/miniconda3/envs/psiking/lib/python3.10/site-packages/docling/pipeline/base_pipeline.py\", line 126, in _apply_on_pages\n",
      "    yield from page_batch\n",
      "\n",
      "  File \"/opt/miniconda3/envs/psiking/lib/python3.10/site-packages/docling/models/page_assemble_model.py\", line 70, in __call__\n",
      "    for page in page_batch:\n",
      "\n",
      "  File \"/opt/miniconda3/envs/psiking/lib/python3.10/site-packages/docling/models/table_structure_model.py\", line 177, in __call__\n",
      "    for page in page_batch:\n",
      "\n",
      "  File \"/opt/miniconda3/envs/psiking/lib/python3.10/site-packages/docling/models/layout_model.py\", line 151, in __call__\n",
      "    for page in page_batch:\n",
      "\n",
      "  File \"/opt/miniconda3/envs/psiking/lib/python3.10/site-packages/docling/models/easyocr_model.py\", line 130, in __call__\n",
      "    yield from page_batch\n",
      "\n",
      "  File \"/opt/miniconda3/envs/psiking/lib/python3.10/site-packages/docling/models/page_preprocessing_model.py\", line 37, in __call__\n",
      "    for page in page_batch:\n",
      "\n",
      "  File \"/opt/miniconda3/envs/psiking/lib/python3.10/site-packages/docling/pipeline/standard_pdf_pipeline.py\", line 177, in initialize_page\n",
      "    page._backend = conv_res.input._backend.load_page(page.page_no)  # type: ignore\n",
      "\n",
      "  File \"/opt/miniconda3/envs/psiking/lib/python3.10/site-packages/docling/backend/docling_parse_v4_backend.py\", line 160, in load_page\n",
      "    seg_page = self.dp_doc.get_page(\n",
      "\n",
      "  File \"/opt/miniconda3/envs/psiking/lib/python3.10/site-packages/docling_parse/pdf_parser.py\", line 124, in get_page\n",
      "    doc_dict = self._parser.parse_pdf_from_key_on_page(\n",
      "\n",
      "RuntimeError: Invalid code point\n",
      "\n"
     ]
    },
    {
     "name": "stdout",
     "output_type": "stream",
     "text": [
      "[DOCLING PDF READER] failed b59c836c-ec57-44ba-b4a8-2ae3d58a22e4.pdf, Falling back to PDF2IMG\n"
     ]
    },
    {
     "name": "stderr",
     "output_type": "stream",
     "text": [
      " 40%|████      | 4/10 [06:41<06:06, 61.11s/it] Encountered an error during conversion of document ce014774ce984417127bff298a0e883db7ad2652e7cb66d49bbbb2423cc4176c:\n",
      "Traceback (most recent call last):\n",
      "\n",
      "  File \"/opt/miniconda3/envs/psiking/lib/python3.10/site-packages/docling/pipeline/base_pipeline.py\", line 160, in _build_document\n",
      "    for p in pipeline_pages:  # Must exhaust!\n",
      "\n",
      "  File \"/opt/miniconda3/envs/psiking/lib/python3.10/site-packages/docling/pipeline/base_pipeline.py\", line 126, in _apply_on_pages\n",
      "    yield from page_batch\n",
      "\n",
      "  File \"/opt/miniconda3/envs/psiking/lib/python3.10/site-packages/docling/models/page_assemble_model.py\", line 70, in __call__\n",
      "    for page in page_batch:\n",
      "\n",
      "  File \"/opt/miniconda3/envs/psiking/lib/python3.10/site-packages/docling/models/table_structure_model.py\", line 177, in __call__\n",
      "    for page in page_batch:\n",
      "\n",
      "  File \"/opt/miniconda3/envs/psiking/lib/python3.10/site-packages/docling/models/layout_model.py\", line 151, in __call__\n",
      "    for page in page_batch:\n",
      "\n",
      "  File \"/opt/miniconda3/envs/psiking/lib/python3.10/site-packages/docling/models/easyocr_model.py\", line 130, in __call__\n",
      "    yield from page_batch\n",
      "\n",
      "  File \"/opt/miniconda3/envs/psiking/lib/python3.10/site-packages/docling/models/page_preprocessing_model.py\", line 37, in __call__\n",
      "    for page in page_batch:\n",
      "\n",
      "  File \"/opt/miniconda3/envs/psiking/lib/python3.10/site-packages/docling/pipeline/standard_pdf_pipeline.py\", line 177, in initialize_page\n",
      "    page._backend = conv_res.input._backend.load_page(page.page_no)  # type: ignore\n",
      "\n",
      "  File \"/opt/miniconda3/envs/psiking/lib/python3.10/site-packages/docling/backend/docling_parse_v4_backend.py\", line 160, in load_page\n",
      "    seg_page = self.dp_doc.get_page(\n",
      "\n",
      "  File \"/opt/miniconda3/envs/psiking/lib/python3.10/site-packages/docling_parse/pdf_parser.py\", line 124, in get_page\n",
      "    doc_dict = self._parser.parse_pdf_from_key_on_page(\n",
      "\n",
      "RuntimeError: Invalid code point\n",
      "\n"
     ]
    },
    {
     "name": "stdout",
     "output_type": "stream",
     "text": [
      "[DOCLING PDF READER] failed 03d95093-ed1f-4a66-83dc-5534dfbd87e3.pdf, Falling back to PDF2IMG\n"
     ]
    },
    {
     "name": "stderr",
     "output_type": "stream",
     "text": [
      "100%|██████████| 10/10 [12:45<00:00, 76.59s/it] \n"
     ]
    }
   ],
   "source": [
    "# Convert pages to image\n",
    "documents = []\n",
    "failed_fnames = []\n",
    "\n",
    "for doc_i in tqdm(range(len(pdf_fnames))):\n",
    "    fname=pdf_fnames[doc_i]\n",
    "    file_path = os.path.join(pdf_dir, fname)\n",
    "    file_id = pdf_file_ids[doc_i]\n",
    "    \n",
    "    # Method 1 - Docling with PDF Backend\n",
    "    try:\n",
    "        document = docling_pdf_reader.run(\n",
    "            file_path, \n",
    "            extra_info = {\n",
    "                \"source_id\": file_id,\n",
    "                \"domain\": \"finance\",\n",
    "                \"method\": \"docling-pdf\"\n",
    "            }\n",
    "        )\n",
    "        documents.append(document)\n",
    "        continue\n",
    "    except Exception as e:\n",
    "        # print(\"[DOCLING READER] failed {} - {}\".format(fname, str(e)))\n",
    "        print(\"[DOCLING PDF READER] failed {}, Falling back to PDF2IMG\".format(fname))\n",
    "        # print(traceback.format_exc())\n",
    "        \n",
    "        \n",
    "    # Method 2 - Docling with VLM (Doctags) Backend (fallback 1)\n",
    "    ## Disabled due to bad Korean support\n",
    "    # try:\n",
    "    #     document = docling_vlm_reader.run(\n",
    "    #         file_path, \n",
    "    #         extra_info = {\n",
    "    #             \"source_id\": file_id,\n",
    "    #             \"domain\": \"finance\",\n",
    "    #             \"method\": \"docling-vlm\"\n",
    "    #         }\n",
    "    #     )\n",
    "    #     documents.append(document)\n",
    "    #     continue\n",
    "    # except Exception as e:\n",
    "    #     # print(\"[DOCLING READER] failed {} - {}\".format(fname, str(e)))\n",
    "    #     print(\"[DOCLING VLM READER] failed {}, Falling back to PDF2IMG\".format(fname))\n",
    "    #     # print(traceback.format_exc())\n",
    "\n",
    "    # Method 3 - PDF2Image (fallbakc2)\n",
    "    try:\n",
    "        document = pdf2img_reader.run(\n",
    "            file_path,\n",
    "            extra_info = {\n",
    "                \"source_id\": file_id,\n",
    "                \"domain\": \"finance\",\n",
    "                \"method\": \"pdf2image\"\n",
    "            }\n",
    "        )\n",
    "        documents.append(document)\n",
    "    except Exception as e:\n",
    "        print(\"[PDF2IMG READER] failed {} - {}\".format(fname, str(e)))\n",
    "        failed_fnames.append(fname)"
   ]
  },
  {
   "cell_type": "code",
   "execution_count": 16,
   "id": "65ca51a1",
   "metadata": {},
   "outputs": [
    {
     "name": "stdout",
     "output_type": "stream",
     "text": [
      "<class 'psiking.core.base.schema.TextNode'>\n",
      "<class 'psiking.core.base.schema.TextNode'>\n",
      "<class 'psiking.core.base.schema.TextNode'>\n"
     ]
    }
   ],
   "source": [
    "for node in document.nodes[:3]:\n",
    "    print(type(node))"
   ]
  },
  {
   "cell_type": "code",
   "execution_count": 17,
   "id": "d20b4b5c",
   "metadata": {},
   "outputs": [
    {
     "data": {
      "text/plain": [
       "{'reader': 'DoclingPDFReader',\n",
       " 'source_id': '980889bb-16cd-447f-b5eb-1384b84903cc',\n",
       " 'domain': 'finance',\n",
       " 'method': 'docling-pdf'}"
      ]
     },
     "execution_count": 17,
     "metadata": {},
     "output_type": "execute_result"
    }
   ],
   "source": [
    "document.metadata"
   ]
  },
  {
   "cell_type": "markdown",
   "id": "d73e86a2",
   "metadata": {},
   "source": [
    "## 3-2. Splitter - Chunk Documents"
   ]
  },
  {
   "cell_type": "code",
   "execution_count": 18,
   "id": "50c838c5",
   "metadata": {},
   "outputs": [],
   "source": [
    "from psiking.core.processor.document.text_merger import TextNodeMerger\n",
    "# Split Documents page-level\n",
    "merger = TextNodeMerger()\n",
    "\n",
    "merged_documents = []\n",
    "for document in documents:\n",
    "    merged_document = merger.run(document)\n",
    "    merged_documents.append(merged_document)"
   ]
  },
  {
   "cell_type": "code",
   "execution_count": 19,
   "id": "5f2bc7e5",
   "metadata": {},
   "outputs": [
    {
     "data": {
      "text/plain": [
       "TextNode(id_='2ea3cca4-167e-42a7-a29c-925ca866676f', metadata={'prov': '[{\"page_no\": 1, \"bbox\": {\"l\": 71.444, \"t\": 702.6370374023437, \"r\": 511.598, \"b\": 645.7080374023437, \"coord_origin\": \"BOTTOMLEFT\"}, \"charspan\": [0, 37]}]'}, text_type=<TextType.PLAIN: 'plain'>, label=<TextLabel.PLAIN: 'plain'>, resource=MediaResource(data=None, text='증권사 리서치센터장, 자산운용사 대표와 함께하는 제1회 증시 콘서트\\n2019 하반기 증시 대전망\\n|\\xa0일\\xa0시\\xa0| 2019.\\xa07.\\xa02\\xa0(화)\\xa014:30\\n|\\xa0장\\xa0소\\xa0| 금융투자협회\\xa03층\\xa0불스홀', path=None, url=None, mimetype=None))"
      ]
     },
     "execution_count": 19,
     "metadata": {},
     "output_type": "execute_result"
    }
   ],
   "source": [
    "# merged_documents[0]\n",
    "merged_documents[0].nodes[0]"
   ]
  },
  {
   "cell_type": "code",
   "execution_count": 20,
   "id": "4953e734",
   "metadata": {},
   "outputs": [],
   "source": [
    "# Run Splitter\n",
    "import copy\n",
    "from psiking.core.splitter.text.langchain_text_splitters import LangchainRecursiveCharacterTextSplitter\n",
    "\n",
    "splitter = LangchainRecursiveCharacterTextSplitter(\n",
    "    chunk_size = 1024,\n",
    "    chunk_overlap = 128\n",
    ")\n",
    "\n",
    "chunks = []\n",
    "for document in merged_documents:\n",
    "    document_chunks = []\n",
    "    document_metadata = document.metadata\n",
    "    \n",
    "    for i, node in enumerate(document.nodes):\n",
    "        # Run Splitter\n",
    "        if isinstance(node, TextNode):\n",
    "            try:\n",
    "                split_nodes = splitter.run(node)\n",
    "            except Exception as e:\n",
    "                print(i, node)\n",
    "                print(str(e))\n",
    "                raise e\n",
    "        else:\n",
    "            split_nodes = [node]\n",
    "            \n",
    "        node_metadata = node.metadata\n",
    "        # Add \n",
    "        chunk_metadata = copy.deepcopy(document_metadata)\n",
    "        chunk_metadata['prov'] = node_metadata['prov']\n",
    "        \n",
    "        # Create New Document\n",
    "        for split_node in split_nodes:\n",
    "            # Each Document contains single node\n",
    "            chunk = Document(\n",
    "                nodes=[split_node],\n",
    "                metadata=chunk_metadata\n",
    "            )\n",
    "            document_chunks.append(chunk)\n",
    "    chunks.extend(document_chunks)"
   ]
  },
  {
   "cell_type": "code",
   "execution_count": 21,
   "id": "ed911d16",
   "metadata": {},
   "outputs": [
    {
     "name": "stdout",
     "output_type": "stream",
     "text": [
      "1032\n"
     ]
    }
   ],
   "source": [
    "print(len(chunks))"
   ]
  },
  {
   "cell_type": "markdown",
   "id": "e3f4798d",
   "metadata": {},
   "source": [
    "# 4. Insert to DocumentStore"
   ]
  },
  {
   "cell_type": "code",
   "execution_count": 22,
   "id": "b4aaa440",
   "metadata": {},
   "outputs": [],
   "source": [
    "from psiking.core.storage.docstore.in_memory import InMemoryDocumentStore"
   ]
  },
  {
   "cell_type": "code",
   "execution_count": 23,
   "id": "979afb3f",
   "metadata": {},
   "outputs": [],
   "source": [
    "doc_store = InMemoryDocumentStore()"
   ]
  },
  {
   "cell_type": "code",
   "execution_count": 24,
   "id": "de2adc35",
   "metadata": {},
   "outputs": [],
   "source": [
    "doc_store.add(chunks)"
   ]
  },
  {
   "cell_type": "code",
   "execution_count": 25,
   "id": "1981a929",
   "metadata": {},
   "outputs": [
    {
     "data": {
      "text/plain": [
       "1032"
      ]
     },
     "execution_count": 25,
     "metadata": {},
     "output_type": "execute_result"
    }
   ],
   "source": [
    "doc_store.count()"
   ]
  },
  {
   "cell_type": "code",
   "execution_count": 26,
   "id": "b62e9969",
   "metadata": {},
   "outputs": [],
   "source": [
    "doc_store.save('storage/docstore_v2507.json')"
   ]
  }
 ],
 "metadata": {
  "kernelspec": {
   "display_name": "psiking",
   "language": "python",
   "name": "python3"
  },
  "language_info": {
   "codemirror_mode": {
    "name": "ipython",
    "version": 3
   },
   "file_extension": ".py",
   "mimetype": "text/x-python",
   "name": "python",
   "nbconvert_exporter": "python",
   "pygments_lexer": "ipython3",
   "version": "3.10.14"
  }
 },
 "nbformat": 4,
 "nbformat_minor": 5
}
