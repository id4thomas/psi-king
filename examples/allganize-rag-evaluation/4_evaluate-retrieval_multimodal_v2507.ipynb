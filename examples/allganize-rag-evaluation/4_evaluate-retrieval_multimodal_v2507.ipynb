{
 "cells": [
  {
   "cell_type": "markdown",
   "id": "8471546f",
   "metadata": {},
   "source": [
    "# allganize-RAG-Evaluation - retrieval performance\n",
    "## Methodology\n",
    "```\n",
    "1. Load DocStore, VectorStore\n",
    "    1-1. Load DocStore\n",
    "    1-2. Load VectorStore\n",
    "2. Initialize Embedder\n",
    "3. Load Evaluation Data\n",
    "    3-1. Load Query & Ground Truth\n",
    "    3-2. Calculate Query Embeddings\n",
    "4. Run Retrieval\n",
    "```\n"
   ]
  },
  {
   "cell_type": "code",
   "execution_count": 1,
   "id": "116a8e65",
   "metadata": {},
   "outputs": [],
   "source": [
    "import json\n",
    "import os\n",
    "\n",
    "from config import settings"
   ]
  },
  {
   "cell_type": "code",
   "execution_count": 2,
   "id": "1af60cb9",
   "metadata": {},
   "outputs": [],
   "source": [
    "INDEXING_MODE=\"multimodal-hybrid\""
   ]
  },
  {
   "cell_type": "markdown",
   "id": "e8b8f77f",
   "metadata": {},
   "source": [
    "# 1. Load DocStore, VectorStore"
   ]
  },
  {
   "cell_type": "markdown",
   "id": "ee0327c1",
   "metadata": {},
   "source": [
    "## 1-1. Load DocStore"
   ]
  },
  {
   "cell_type": "code",
   "execution_count": 3,
   "id": "7486e3e1",
   "metadata": {},
   "outputs": [],
   "source": [
    "from psiking.core.storage.docstore.in_memory import InMemoryDocumentStore"
   ]
  },
  {
   "cell_type": "code",
   "execution_count": 4,
   "id": "b5aefffb",
   "metadata": {},
   "outputs": [],
   "source": [
    "doc_store = InMemoryDocumentStore()\n",
    "doc_store.load('storage/docstore_v2507.json')"
   ]
  },
  {
   "cell_type": "markdown",
   "id": "38f24394",
   "metadata": {},
   "source": [
    "## 1-2. Load VectorStore"
   ]
  },
  {
   "cell_type": "code",
   "execution_count": 5,
   "id": "2027e466",
   "metadata": {},
   "outputs": [],
   "source": [
    "from qdrant_client import QdrantClient\n",
    "from psiking.core.storage.vectorstore.qdrant import QdrantSingleVectorStore\n",
    "\n",
    "# initialize client\n",
    "# client = QdrantClient(\":memory:\")\n",
    "client = QdrantClient(host=\"localhost\", port=6333)\n",
    "collection_name = f\"allganize-finance-{INDEXING_MODE}-v2507\"\n",
    "\n",
    "vector_store = QdrantSingleVectorStore(\n",
    "    collection_name=collection_name,\n",
    "    client=client\n",
    ")"
   ]
  },
  {
   "cell_type": "markdown",
   "id": "083a958b",
   "metadata": {},
   "source": [
    "# 2. Intialize Embedder"
   ]
  },
  {
   "cell_type": "markdown",
   "id": "0b335f3d",
   "metadata": {},
   "source": [
    "## 2-1. Dense Embedder"
   ]
  },
  {
   "cell_type": "code",
   "execution_count": 6,
   "id": "9a84c35b",
   "metadata": {},
   "outputs": [],
   "source": [
    "import asyncio\n",
    "from tqdm.asyncio import tqdm\n",
    "\n",
    "from psiking.core.embedder.vllm.online_jina_emb_v4 import VLLMOnlineJinaEmbV4Embedder\n",
    "\n",
    "dense_embedder = VLLMOnlineJinaEmbV4Embedder(\n",
    "    base_url=settings.multimodal_embedding_base_url,\n",
    "    model=settings.multimodal_embedding_model\n",
    ")"
   ]
  },
  {
   "cell_type": "markdown",
   "id": "9db8431a",
   "metadata": {},
   "source": [
    "## 2-2. Sparse Embedder"
   ]
  },
  {
   "cell_type": "code",
   "execution_count": 7,
   "id": "127d1b90",
   "metadata": {},
   "outputs": [],
   "source": [
    "from fastembed import SparseTextEmbedding\n",
    "from psiking.core.embedder.fastembed.local_sparse import LocalFastEmbedSparseEmbedder\n",
    "\n",
    "sparse_model_dir = os.path.join(\n",
    "    settings.model_weight_dir, \"embedding/fastembed/sparse/all_miniLM_L6_v2_with_attentions\"\n",
    ")\n",
    "os.listdir(sparse_model_dir)\n",
    "\n",
    "sparse_embedding_model = SparseTextEmbedding(\n",
    "    model_name=\"Qdrant/bm42-all-minilm-l6-v2-attentions\",\n",
    "    specific_model_path=sparse_model_dir,\n",
    "    cuda=False,\n",
    "    lazy_load=False\n",
    ")\n",
    "\n",
    "sparse_embedder = LocalFastEmbedSparseEmbedder(\n",
    "    model=sparse_embedding_model\n",
    ")"
   ]
  },
  {
   "cell_type": "markdown",
   "id": "f0513333",
   "metadata": {},
   "source": [
    "# 3. Load Evaluation Data"
   ]
  },
  {
   "cell_type": "markdown",
   "id": "16982bc3",
   "metadata": {},
   "source": [
    "## 3-1. Load Query & Ground Truth"
   ]
  },
  {
   "cell_type": "code",
   "execution_count": 8,
   "id": "f4aa1ce2",
   "metadata": {},
   "outputs": [
    {
     "name": "stdout",
     "output_type": "stream",
     "text": [
      "300\n",
      "60\n"
     ]
    }
   ],
   "source": [
    "import pandas as pd\n",
    "answer_df = pd.read_csv('data/retrieval_ground_truth.tsv', sep='\\t')\n",
    "print(answer_df.shape[0])\n",
    "answer_df = answer_df[answer_df.domain=='finance']\n",
    "print(answer_df.shape[0])"
   ]
  },
  {
   "cell_type": "code",
   "execution_count": 9,
   "id": "dcaf32e1",
   "metadata": {},
   "outputs": [
    {
     "data": {
      "text/html": [
       "<div>\n",
       "<style scoped>\n",
       "    .dataframe tbody tr th:only-of-type {\n",
       "        vertical-align: middle;\n",
       "    }\n",
       "\n",
       "    .dataframe tbody tr th {\n",
       "        vertical-align: top;\n",
       "    }\n",
       "\n",
       "    .dataframe thead th {\n",
       "        text-align: right;\n",
       "    }\n",
       "</style>\n",
       "<table border=\"1\" class=\"dataframe\">\n",
       "  <thead>\n",
       "    <tr style=\"text-align: right;\">\n",
       "      <th></th>\n",
       "      <th>domain</th>\n",
       "      <th>question</th>\n",
       "      <th>target_file_id</th>\n",
       "      <th>target_file_name</th>\n",
       "      <th>target_page_no</th>\n",
       "      <th>context_type</th>\n",
       "      <th>target_answer</th>\n",
       "    </tr>\n",
       "  </thead>\n",
       "  <tbody>\n",
       "    <tr>\n",
       "      <th>0</th>\n",
       "      <td>finance</td>\n",
       "      <td>시중은행, 지방은행, 인터넷은행의 인가 요건 및 절차에 차이가 있는데 그 차이점은 ...</td>\n",
       "      <td>c94f675e-7d81-48bd-88f8-c5ff766190cc</td>\n",
       "      <td>[별첨] 지방은행의 시중은행 전환시 인가방식 및 절차.pdf</td>\n",
       "      <td>4</td>\n",
       "      <td>paragraph</td>\n",
       "      <td>시중은행, 지방은행, 인터넷은행 모두 은행업을 영위하기 위해서는 '은행법' 제8조에...</td>\n",
       "    </tr>\n",
       "    <tr>\n",
       "      <th>1</th>\n",
       "      <td>finance</td>\n",
       "      <td>은행업을 신청하고자 할 때, 은행법상 소유규제에 부합하는 대주주 요건을 충족하려면 ...</td>\n",
       "      <td>c94f675e-7d81-48bd-88f8-c5ff766190cc</td>\n",
       "      <td>[별첨] 지방은행의 시중은행 전환시 인가방식 및 절차.pdf</td>\n",
       "      <td>7</td>\n",
       "      <td>table</td>\n",
       "      <td>은행업을 신청하려면 대주주 요건을 충족해야 합니다. 대주주 요건으로는 부실금융기관 ...</td>\n",
       "    </tr>\n",
       "    <tr>\n",
       "      <th>2</th>\n",
       "      <td>finance</td>\n",
       "      <td>본인가를 받으려는 지방은행이 시중은행 전환시 예비인가를 받을 필요가 있는지 설명하시...</td>\n",
       "      <td>c94f675e-7d81-48bd-88f8-c5ff766190cc</td>\n",
       "      <td>[별첨] 지방은행의 시중은행 전환시 인가방식 및 절차.pdf</td>\n",
       "      <td>8</td>\n",
       "      <td>paragraph</td>\n",
       "      <td>본인가를 받으려는 지방은행이 시중은행 전환을 신청하는 경우, 예비인가를 받을 필요는...</td>\n",
       "    </tr>\n",
       "    <tr>\n",
       "      <th>3</th>\n",
       "      <td>finance</td>\n",
       "      <td>은행법에 의거 예비인가를 신청할 수 있는지와, 그 경우 금융위원회가 검토했어야 하는...</td>\n",
       "      <td>c94f675e-7d81-48bd-88f8-c5ff766190cc</td>\n",
       "      <td>[별첨] 지방은행의 시중은행 전환시 인가방식 및 절차.pdf</td>\n",
       "      <td>10</td>\n",
       "      <td>paragraph</td>\n",
       "      <td>은행법에 의하면 예비인가를 신청할 수 있습니다. 제8조에 따른 인가를 받으려는 자는...</td>\n",
       "    </tr>\n",
       "    <tr>\n",
       "      <th>4</th>\n",
       "      <td>finance</td>\n",
       "      <td>2019년 YTD 기준으로 브라질의 주식 시장 수익률과 베트남의 주식 시장 수익률 ...</td>\n",
       "      <td>7373884a-8255-482d-9e7c-00b919083526</td>\n",
       "      <td>★2019 제1회 증시콘서트 자료집_최종★.pdf</td>\n",
       "      <td>6</td>\n",
       "      <td>image</td>\n",
       "      <td>Refinitiv에서 제공한 자료에 따르면 2019년 YTD 브라질의 주식 시장 수...</td>\n",
       "    </tr>\n",
       "  </tbody>\n",
       "</table>\n",
       "</div>"
      ],
      "text/plain": [
       "    domain                                           question  \\\n",
       "0  finance  시중은행, 지방은행, 인터넷은행의 인가 요건 및 절차에 차이가 있는데 그 차이점은 ...   \n",
       "1  finance  은행업을 신청하고자 할 때, 은행법상 소유규제에 부합하는 대주주 요건을 충족하려면 ...   \n",
       "2  finance  본인가를 받으려는 지방은행이 시중은행 전환시 예비인가를 받을 필요가 있는지 설명하시...   \n",
       "3  finance  은행법에 의거 예비인가를 신청할 수 있는지와, 그 경우 금융위원회가 검토했어야 하는...   \n",
       "4  finance  2019년 YTD 기준으로 브라질의 주식 시장 수익률과 베트남의 주식 시장 수익률 ...   \n",
       "\n",
       "                         target_file_id                   target_file_name  \\\n",
       "0  c94f675e-7d81-48bd-88f8-c5ff766190cc  [별첨] 지방은행의 시중은행 전환시 인가방식 및 절차.pdf   \n",
       "1  c94f675e-7d81-48bd-88f8-c5ff766190cc  [별첨] 지방은행의 시중은행 전환시 인가방식 및 절차.pdf   \n",
       "2  c94f675e-7d81-48bd-88f8-c5ff766190cc  [별첨] 지방은행의 시중은행 전환시 인가방식 및 절차.pdf   \n",
       "3  c94f675e-7d81-48bd-88f8-c5ff766190cc  [별첨] 지방은행의 시중은행 전환시 인가방식 및 절차.pdf   \n",
       "4  7373884a-8255-482d-9e7c-00b919083526        ★2019 제1회 증시콘서트 자료집_최종★.pdf   \n",
       "\n",
       "  target_page_no context_type  \\\n",
       "0              4    paragraph   \n",
       "1              7        table   \n",
       "2              8    paragraph   \n",
       "3             10    paragraph   \n",
       "4              6        image   \n",
       "\n",
       "                                       target_answer  \n",
       "0  시중은행, 지방은행, 인터넷은행 모두 은행업을 영위하기 위해서는 '은행법' 제8조에...  \n",
       "1  은행업을 신청하려면 대주주 요건을 충족해야 합니다. 대주주 요건으로는 부실금융기관 ...  \n",
       "2  본인가를 받으려는 지방은행이 시중은행 전환을 신청하는 경우, 예비인가를 받을 필요는...  \n",
       "3  은행법에 의하면 예비인가를 신청할 수 있습니다. 제8조에 따른 인가를 받으려는 자는...  \n",
       "4  Refinitiv에서 제공한 자료에 따르면 2019년 YTD 브라질의 주식 시장 수...  "
      ]
     },
     "execution_count": 9,
     "metadata": {},
     "output_type": "execute_result"
    }
   ],
   "source": [
    "answer_df.head()"
   ]
  },
  {
   "cell_type": "markdown",
   "id": "987b4b95",
   "metadata": {},
   "source": [
    "## 3-2. Calculate Query Embeddings"
   ]
  },
  {
   "cell_type": "code",
   "execution_count": 10,
   "id": "6b9331c5",
   "metadata": {},
   "outputs": [],
   "source": [
    "import asyncio\n",
    "from typing import List\n",
    "from tqdm.asyncio import tqdm as atqdm\n",
    "\n",
    "import numpy as np\n",
    "from psiking.core.storage.vectorstore.schema import (\n",
    "    MetadataFilters,\n",
    "    FilterOperator,\n",
    "    VectorStoreQuery,\n",
    "    VectorStoreQueryMode,\n",
    "    VectorStoreQueryOptions,\n",
    ")   "
   ]
  },
  {
   "cell_type": "code",
   "execution_count": 11,
   "id": "e4b0ccbd",
   "metadata": {},
   "outputs": [],
   "source": [
    "queries = answer_df.question.values.tolist()"
   ]
  },
  {
   "cell_type": "markdown",
   "id": "af1cc462",
   "metadata": {},
   "source": [
    "### 3-2-1. Calculate Dense Embeddings"
   ]
  },
  {
   "cell_type": "code",
   "execution_count": null,
   "id": "59e69f4a",
   "metadata": {},
   "outputs": [],
   "source": [
    "async def calculate_dense_embedding(semaphore, text: str, mode: str='messages'):\n",
    "    if mode=='messages':\n",
    "        messages = [\n",
    "            {\n",
    "                'role': 'user',\n",
    "                'content': [\n",
    "                    {'type': 'text', 'text': text},\n",
    "                ]\n",
    "            }\n",
    "        ]\n",
    "        async with semaphore:\n",
    "            try:\n",
    "                embedding = await dense_embedder.arun(\n",
    "                    input=messages,\n",
    "                    input_format='messages',\n",
    "                    pool=True,\n",
    "                    normalize=True\n",
    "                )\n",
    "            except Exception as e:\n",
    "                print(\"ERR {}\".format( str(e)))\n",
    "                raise e\n",
    "    else:\n",
    "        async with semaphore:\n",
    "            try:\n",
    "                embedding = await dense_embedder.arun(\n",
    "                    input=text,\n",
    "                    input_format='text',\n",
    "                    mode='query',\n",
    "                    pool=True,\n",
    "                    normalize=True\n",
    "                )\n",
    "            except Exception as e:\n",
    "                print(\"ERR {}\".format( str(e)))\n",
    "                raise e\n",
    "        \n",
    "    return embedding"
   ]
  },
  {
   "cell_type": "code",
   "execution_count": null,
   "id": "2be98837",
   "metadata": {},
   "outputs": [
    {
     "name": "stderr",
     "output_type": "stream",
     "text": [
      "  0%|          | 0/60 [00:00<?, ?it/s]"
     ]
    },
    {
     "name": "stderr",
     "output_type": "stream",
     "text": [
      "100%|██████████| 60/60 [00:14<00:00,  4.28it/s]\n"
     ]
    }
   ],
   "source": [
    "QUERY_EMBEDDING_MODE='text'\n",
    "QUERY_EMBEDDING_MODE='messages'\n",
    "\n",
    "semaphore = asyncio.Semaphore(16)\n",
    "tasks = []\n",
    "for query in queries:\n",
    "    task = calculate_dense_embedding(semaphore, query, mode=QUERY_EMBEDDING_MODE)\n",
    "    tasks.append(task)\n",
    "\n",
    "dense_query_embeddings = await tqdm.gather(*tasks)"
   ]
  },
  {
   "cell_type": "markdown",
   "id": "c716b3ff",
   "metadata": {},
   "source": [
    "### 3-2-2. Calculate Sparse Embeddings"
   ]
  },
  {
   "cell_type": "code",
   "execution_count": 14,
   "id": "0b019c18",
   "metadata": {},
   "outputs": [],
   "source": [
    "sparse_query_embedding_values, sparse_query_embedding_indicies = sparse_embedder.run(\n",
    "    queries,\n",
    "    batch_size=256\n",
    ")"
   ]
  },
  {
   "cell_type": "code",
   "execution_count": 15,
   "id": "7f2685d8",
   "metadata": {},
   "outputs": [
    {
     "data": {
      "text/plain": [
       "([0.3358786137712128,\n",
       "  0.3013605213375253,\n",
       "  0.1513849676123903,\n",
       "  0.19132686389565112,\n",
       "  0.2917136214767342,\n",
       "  0.25055627768987737,\n",
       "  0.12610037760540843,\n",
       "  0.3535769768753488],\n",
       " [1024444394,\n",
       "  1285937098,\n",
       "  693871510,\n",
       "  376689346,\n",
       "  332251539,\n",
       "  1798584096,\n",
       "  1061271926,\n",
       "  1903036828])"
      ]
     },
     "execution_count": 15,
     "metadata": {},
     "output_type": "execute_result"
    }
   ],
   "source": [
    "sparse_query_embedding_values[0], sparse_query_embedding_indicies[0]"
   ]
  },
  {
   "cell_type": "markdown",
   "id": "8907763d",
   "metadata": {},
   "source": [
    "# 4. Prepare Evaluation"
   ]
  },
  {
   "cell_type": "code",
   "execution_count": 16,
   "id": "625de5f2",
   "metadata": {},
   "outputs": [],
   "source": [
    "from typing import Literal\n",
    "## Retrieval Function\n",
    "def retrieve(\n",
    "    mode: Literal['dense', 'sparse', 'hybrid'],\n",
    "    d: np.ndarray,\n",
    "    s_v: List[float],\n",
    "    s_i: List[float],\n",
    "    k: int = 10,\n",
    "    sparse_k: int = 30,\n",
    "    dense_k: int = 30,\n",
    ")->List[str]:\n",
    "    \"\"\"Retrieves point(chunk's) documentids\"\"\"\n",
    "    vsquery=VectorStoreQuery(\n",
    "        dense_embedding=d,\n",
    "        sparse_embedding_values=s_v,\n",
    "        sparse_embedding_indicies=s_i\n",
    "    )\n",
    "    if mode=='hybrid':\n",
    "        vsoptions=VectorStoreQueryOptions(\n",
    "            mode=VectorStoreQueryMode.HYBRID,\n",
    "            top_k=k,\n",
    "            hybrid_fusion_method='rrf',\n",
    "            sparse_top_k=sparse_k,\n",
    "            dense_top_k=dense_k\n",
    "        )\n",
    "    elif mode=='dense':\n",
    "        vsoptions=VectorStoreQueryOptions(\n",
    "            mode=VectorStoreQueryMode.DENSE,\n",
    "            top_k=k,\n",
    "        )\n",
    "    \n",
    "    elif mode=='sparse':\n",
    "        vsoptions=VectorStoreQueryOptions(\n",
    "            mode=VectorStoreQueryMode.SPARSE,\n",
    "            top_k=k,\n",
    "        )\n",
    "    \n",
    "    chunks = vector_store.query(\n",
    "        query=vsquery,\n",
    "        options=vsoptions\n",
    "    )\n",
    "    chunk_ids = [x.id for x in chunks]\n",
    "    return chunk_ids"
   ]
  },
  {
   "cell_type": "code",
   "execution_count": 17,
   "id": "eb7b7b37",
   "metadata": {},
   "outputs": [],
   "source": [
    "## Evaluation Function\n",
    "from utils.eval_utils import (\n",
    "    calculate_filelevel_ap,\n",
    "    calculate_filelevel_rr,\n",
    "    calculate_pagelevel_ap,\n",
    "    calculate_pagelevel_rr\n",
    ")"
   ]
  },
  {
   "cell_type": "markdown",
   "id": "ba757b6a",
   "metadata": {},
   "source": [
    "# 5. Evaluate - Sparse"
   ]
  },
  {
   "cell_type": "code",
   "execution_count": 18,
   "id": "0a924719",
   "metadata": {},
   "outputs": [
    {
     "name": "stdout",
     "output_type": "stream",
     "text": [
      "K 30\n"
     ]
    },
    {
     "name": "stderr",
     "output_type": "stream",
     "text": [
      "100%|██████████| 60/60 [00:00<00:00, 121.56it/s]\n"
     ]
    }
   ],
   "source": [
    "k = 30\n",
    "\n",
    "retrieved_chunkids = []\n",
    "\n",
    "print(\"K {}\".format(k))\n",
    "for query_i in tqdm(range(len(queries))):\n",
    "    d = dense_query_embeddings[query_i]\n",
    "    s_v = sparse_query_embedding_values[query_i]\n",
    "    s_i = sparse_query_embedding_indicies[query_i]\n",
    "    \n",
    "    retrieved_chunkids.append(\n",
    "        retrieve(\n",
    "            'sparse',\n",
    "            d=d,\n",
    "            s_v=s_v,\n",
    "            s_i=s_i,\n",
    "            k=k,\n",
    "        )\n",
    "    )"
   ]
  },
  {
   "cell_type": "markdown",
   "id": "2a14c4e5",
   "metadata": {},
   "source": [
    "## 5-1. File-Level"
   ]
  },
  {
   "cell_type": "code",
   "execution_count": 19,
   "id": "636fd147",
   "metadata": {},
   "outputs": [
    {
     "data": {
      "text/plain": [
       "(60, 13)"
      ]
     },
     "execution_count": 19,
     "metadata": {},
     "output_type": "execute_result"
    }
   ],
   "source": [
    "answer_fileids = [\n",
    "    answer_df.iloc[x]['target_file_id']\n",
    "    for x in range(len(queries))\n",
    "]\n",
    "\n",
    "retrieved_fileids = [\n",
    "    [\n",
    "        doc_store.get(x)[0].metadata['source_id']\n",
    "        for x in chunkids\n",
    "    ]\n",
    "    for chunkids in retrieved_chunkids\n",
    "]\n",
    "len(answer_fileids), len(retrieved_fileids[5])"
   ]
  },
  {
   "cell_type": "code",
   "execution_count": 20,
   "id": "1cedece9",
   "metadata": {},
   "outputs": [],
   "source": [
    "# [len(x) for x in retrieved_fileids]"
   ]
  },
  {
   "cell_type": "code",
   "execution_count": 21,
   "id": "40b2260d",
   "metadata": {},
   "outputs": [
    {
     "name": "stdout",
     "output_type": "stream",
     "text": [
      "mAP@5: 0.3696\n",
      "mAP@10: 0.3293\n"
     ]
    }
   ],
   "source": [
    "# mAP\n",
    "for at_k in [5,10]:\n",
    "    aps = [\n",
    "        calculate_filelevel_ap(retrieved, answer, at_k=at_k)\n",
    "        for retrieved, answer in zip(retrieved_fileids, answer_fileids, strict=True)\n",
    "    ]\n",
    "    print(\"mAP@{}: {:.4f}\".format(at_k, sum(aps)/len(aps)))"
   ]
  },
  {
   "cell_type": "code",
   "execution_count": 22,
   "id": "463b522f",
   "metadata": {},
   "outputs": [
    {
     "name": "stdout",
     "output_type": "stream",
     "text": [
      "mRR@5: 0.4789\n",
      "mRR@10: 0.4840\n",
      "mRR@15: 0.4840\n"
     ]
    }
   ],
   "source": [
    "# mRR\n",
    "at_k = 5\n",
    "for at_k in [5,10,15]:\n",
    "    rrs = [\n",
    "        calculate_filelevel_rr(retrieved, answer, at_k=at_k)\n",
    "        for retrieved, answer in zip(retrieved_fileids, answer_fileids, strict=True)\n",
    "    ]\n",
    "\n",
    "    print(\"mRR@{}: {:.4f}\".format(at_k, sum(rrs)/len(rrs)))"
   ]
  },
  {
   "cell_type": "markdown",
   "id": "3baac53f",
   "metadata": {},
   "source": [
    "## 5-2. Page-Level"
   ]
  },
  {
   "cell_type": "code",
   "execution_count": 23,
   "id": "96aa2462",
   "metadata": {},
   "outputs": [],
   "source": [
    "answers = [\n",
    "    (answer_df.iloc[x]['target_file_id'], int(answer_df.iloc[x]['target_page_no']))\n",
    "    for x in range(len(queries))\n",
    "]\n",
    "\n",
    "retrieved_metadata = [\n",
    "    [\n",
    "        doc_store.get(x)[0].metadata\n",
    "        for x in chunkids\n",
    "    ]\n",
    "    for chunkids in retrieved_chunkids\n",
    "]"
   ]
  },
  {
   "cell_type": "code",
   "execution_count": 24,
   "id": "b5681c4f",
   "metadata": {},
   "outputs": [
    {
     "name": "stdout",
     "output_type": "stream",
     "text": [
      "mAP@5: 0.0301\n",
      "mAP@10: 0.0323\n",
      "mAP@15: 0.0292\n"
     ]
    }
   ],
   "source": [
    "for at_k in [5,10,15]:\n",
    "    aps = [\n",
    "        calculate_pagelevel_ap(retrieved, answer, at_k=at_k)\n",
    "        for retrieved, answer in zip(retrieved_metadata, answers, strict=True)\n",
    "    ]\n",
    "    print(\"mAP@{}: {:.4f}\".format(at_k, sum(aps)/len(aps)))"
   ]
  },
  {
   "cell_type": "code",
   "execution_count": 25,
   "id": "4bced201",
   "metadata": {},
   "outputs": [
    {
     "name": "stdout",
     "output_type": "stream",
     "text": [
      "mRR@5: 0.0628\n",
      "mRR@10: 0.0628\n",
      "mRR@15: 0.0642\n"
     ]
    }
   ],
   "source": [
    "for at_k in [5,10,15]:\n",
    "    rrs = [\n",
    "        calculate_pagelevel_rr(retrieved, answer, at_k=at_k)\n",
    "        for retrieved, answer in zip(retrieved_metadata, answers, strict=True)\n",
    "    ]\n",
    "    print(\"mRR@{}: {:.4f}\".format(at_k, sum(rrs)/len(rrs)))"
   ]
  },
  {
   "cell_type": "markdown",
   "id": "69f590c6",
   "metadata": {},
   "source": [
    "# 6. Evaluate - Dense"
   ]
  },
  {
   "cell_type": "code",
   "execution_count": 26,
   "id": "e50e91e1",
   "metadata": {},
   "outputs": [
    {
     "name": "stdout",
     "output_type": "stream",
     "text": [
      "K 30\n"
     ]
    },
    {
     "name": "stderr",
     "output_type": "stream",
     "text": [
      "100%|██████████| 60/60 [00:00<00:00, 102.79it/s]\n"
     ]
    }
   ],
   "source": [
    "k = 30\n",
    "\n",
    "retrieved_chunkids = []\n",
    "\n",
    "print(\"K {}\".format(k))\n",
    "for query_i in tqdm(range(len(queries))):\n",
    "    d = dense_query_embeddings[query_i]\n",
    "    s_v = sparse_query_embedding_values[query_i]\n",
    "    s_i = sparse_query_embedding_indicies[query_i]\n",
    "    \n",
    "    retrieved_chunkids.append(\n",
    "        retrieve(\n",
    "            'dense',\n",
    "            d=d,\n",
    "            s_v=s_v,\n",
    "            s_i=s_i,\n",
    "            k=k,\n",
    "        )\n",
    "    )"
   ]
  },
  {
   "cell_type": "markdown",
   "id": "38e754d6",
   "metadata": {},
   "source": [
    "## 6-1. File-Level"
   ]
  },
  {
   "cell_type": "code",
   "execution_count": 27,
   "id": "99123f1f",
   "metadata": {},
   "outputs": [],
   "source": [
    "answer_fileids = [\n",
    "    answer_df.iloc[x]['target_file_id']\n",
    "    for x in range(len(queries))\n",
    "]\n",
    "\n",
    "retrieved_fileids = [\n",
    "    [\n",
    "        doc_store.get(x)[0].metadata['source_id']\n",
    "        for x in chunkids\n",
    "    ]\n",
    "    for chunkids in retrieved_chunkids\n",
    "]"
   ]
  },
  {
   "cell_type": "code",
   "execution_count": 28,
   "id": "5f7bfb71",
   "metadata": {},
   "outputs": [
    {
     "name": "stdout",
     "output_type": "stream",
     "text": [
      "mAP@5: 0.7662\n",
      "mAP@10: 0.7230\n",
      "mAP@15: 0.6810\n"
     ]
    }
   ],
   "source": [
    "# mAP\n",
    "for at_k in [5,10,15]:\n",
    "    aps = [\n",
    "        calculate_filelevel_ap(retrieved, answer, at_k=at_k)\n",
    "        for retrieved, answer in zip(retrieved_fileids, answer_fileids, strict=True)\n",
    "    ]\n",
    "    print(\"mAP@{}: {:.4f}\".format(at_k, sum(aps)/len(aps)))"
   ]
  },
  {
   "cell_type": "code",
   "execution_count": 29,
   "id": "f6357fcb",
   "metadata": {},
   "outputs": [
    {
     "name": "stdout",
     "output_type": "stream",
     "text": [
      "mRR@5: 0.8594\n",
      "mRR@10: 0.8594\n",
      "mRR@15: 0.8594\n"
     ]
    }
   ],
   "source": [
    "# mRR\n",
    "at_k = 5\n",
    "for at_k in [5,10,15]:\n",
    "    rrs = [\n",
    "        calculate_filelevel_rr(retrieved, answer, at_k=at_k)\n",
    "        for retrieved, answer in zip(retrieved_fileids, answer_fileids, strict=True)\n",
    "    ]\n",
    "\n",
    "    print(\"mRR@{}: {:.4f}\".format(at_k, sum(rrs)/len(rrs)))"
   ]
  },
  {
   "cell_type": "markdown",
   "id": "589a9804",
   "metadata": {},
   "source": [
    "## 6-2. Page-Level"
   ]
  },
  {
   "cell_type": "code",
   "execution_count": 30,
   "id": "171b0bd0",
   "metadata": {},
   "outputs": [],
   "source": [
    "answers = [\n",
    "    (answer_df.iloc[x]['target_file_id'], int(answer_df.iloc[x]['target_page_no']))\n",
    "    for x in range(len(queries))\n",
    "]\n",
    "\n",
    "retrieved_metadata = [\n",
    "    [\n",
    "        doc_store.get(x)[0].metadata\n",
    "        for x in chunkids\n",
    "    ]\n",
    "    for chunkids in retrieved_chunkids\n",
    "]"
   ]
  },
  {
   "cell_type": "code",
   "execution_count": 31,
   "id": "06be9a71",
   "metadata": {},
   "outputs": [
    {
     "name": "stdout",
     "output_type": "stream",
     "text": [
      "mAP@5: 0.2208\n",
      "mAP@10: 0.1648\n",
      "mAP@15: 0.1349\n"
     ]
    }
   ],
   "source": [
    "# mAP\n",
    "for at_k in [5,10,15]:\n",
    "    aps = [\n",
    "        calculate_pagelevel_ap(retrieved, answer, at_k=at_k)\n",
    "        for retrieved, answer in zip(retrieved_metadata, answers, strict=True)\n",
    "    ]\n",
    "    print(\"mAP@{}: {:.4f}\".format(at_k, sum(aps)/len(aps)))"
   ]
  },
  {
   "cell_type": "code",
   "execution_count": 32,
   "id": "47aed564",
   "metadata": {},
   "outputs": [
    {
     "name": "stdout",
     "output_type": "stream",
     "text": [
      "mRR@5: 0.4428\n",
      "mRR@10: 0.4546\n",
      "mRR@15: 0.4569\n"
     ]
    }
   ],
   "source": [
    "# mRR\n",
    "for at_k in [5,10,15]:\n",
    "    rrs = [\n",
    "        calculate_pagelevel_rr(retrieved, answer, at_k=at_k)\n",
    "        for retrieved, answer in zip(retrieved_metadata, answers, strict=True)\n",
    "    ]\n",
    "    print(\"mRR@{}: {:.4f}\".format(at_k, sum(rrs)/len(rrs)))"
   ]
  },
  {
   "cell_type": "markdown",
   "id": "e8626970",
   "metadata": {},
   "source": [
    "# 7 - Evaluate - Hybrid"
   ]
  },
  {
   "cell_type": "code",
   "execution_count": 33,
   "id": "cab94c2d",
   "metadata": {},
   "outputs": [
    {
     "name": "stdout",
     "output_type": "stream",
     "text": [
      "K 30 (sparse 100 dense 100)\n"
     ]
    },
    {
     "name": "stderr",
     "output_type": "stream",
     "text": [
      "100%|██████████| 60/60 [00:00<00:00, 100.54it/s]\n"
     ]
    }
   ],
   "source": [
    "k = 30\n",
    "sparse_k = 100\n",
    "dense_k = 100\n",
    "\n",
    "retrieved_chunkids = []\n",
    "\n",
    "print(\"K {} (sparse {} dense {})\".format(k, sparse_k, dense_k))\n",
    "for query_i in tqdm(range(len(queries))):\n",
    "    d = dense_query_embeddings[query_i]\n",
    "    s_v = sparse_query_embedding_values[query_i]\n",
    "    s_i = sparse_query_embedding_indicies[query_i]\n",
    "    \n",
    "    retrieved_chunkids.append(\n",
    "        retrieve(\n",
    "            'hybrid',\n",
    "            d=d,\n",
    "            s_v=s_v,\n",
    "            s_i=s_i,\n",
    "            k=k,\n",
    "            sparse_k=sparse_k,\n",
    "            dense_k=dense_k\n",
    "        )\n",
    "    )"
   ]
  },
  {
   "cell_type": "markdown",
   "id": "470df1da",
   "metadata": {},
   "source": [
    "## 7-2. File-Level"
   ]
  },
  {
   "cell_type": "code",
   "execution_count": 34,
   "id": "1b7b4783",
   "metadata": {},
   "outputs": [],
   "source": [
    "answer_fileids = [\n",
    "    answer_df.iloc[x]['target_file_id']\n",
    "    for x in range(len(queries))\n",
    "]\n",
    "\n",
    "retrieved_fileids = [\n",
    "    [\n",
    "        doc_store.get(x)[0].metadata['source_id']\n",
    "        for x in chunkids\n",
    "    ]\n",
    "    for chunkids in retrieved_chunkids\n",
    "]"
   ]
  },
  {
   "cell_type": "code",
   "execution_count": 35,
   "id": "73fb280d",
   "metadata": {},
   "outputs": [
    {
     "name": "stdout",
     "output_type": "stream",
     "text": [
      "mAP@5: 0.6094\n",
      "mAP@10: 0.5752\n",
      "mAP@15: 0.5455\n"
     ]
    }
   ],
   "source": [
    "# mAP\n",
    "for at_k in [5,10,15]:\n",
    "    aps = [\n",
    "        calculate_filelevel_ap(retrieved, answer, at_k=at_k)\n",
    "        for retrieved, answer in zip(retrieved_fileids, answer_fileids, strict=True)\n",
    "    ]\n",
    "    print(\"mAP@{}: {:.4f}\".format(at_k, sum(aps)/len(aps)))"
   ]
  },
  {
   "cell_type": "code",
   "execution_count": 36,
   "id": "975fcfeb",
   "metadata": {},
   "outputs": [
    {
     "name": "stdout",
     "output_type": "stream",
     "text": [
      "mRR@5: 0.7653\n",
      "mRR@10: 0.7697\n",
      "mRR@15: 0.7697\n"
     ]
    }
   ],
   "source": [
    "# mRR\n",
    "at_k = 5\n",
    "for at_k in [5,10,15]:\n",
    "    rrs = [\n",
    "        calculate_filelevel_rr(retrieved, answer, at_k=at_k)\n",
    "        for retrieved, answer in zip(retrieved_fileids, answer_fileids, strict=True)\n",
    "    ]\n",
    "\n",
    "    print(\"mRR@{}: {:.4f}\".format(at_k, sum(rrs)/len(rrs)))"
   ]
  },
  {
   "cell_type": "markdown",
   "id": "68b6c2f7",
   "metadata": {},
   "source": [
    "## 7-2. Page Level"
   ]
  },
  {
   "cell_type": "code",
   "execution_count": 37,
   "id": "af432a93",
   "metadata": {},
   "outputs": [],
   "source": [
    "answers = [\n",
    "    (answer_df.iloc[x]['target_file_id'], int(answer_df.iloc[x]['target_page_no']))\n",
    "    for x in range(len(queries))\n",
    "]\n",
    "\n",
    "retrieved_metadata = [\n",
    "    [\n",
    "        doc_store.get(x)[0].metadata\n",
    "        for x in chunkids\n",
    "    ]\n",
    "    for chunkids in retrieved_chunkids\n",
    "]"
   ]
  },
  {
   "cell_type": "code",
   "execution_count": 38,
   "id": "3f3cce51",
   "metadata": {},
   "outputs": [
    {
     "name": "stdout",
     "output_type": "stream",
     "text": [
      "mAP@5: 0.1604\n",
      "mAP@10: 0.1279\n",
      "mAP@15: 0.1080\n"
     ]
    }
   ],
   "source": [
    "# mAP\n",
    "for at_k in [5,10,15]:\n",
    "    aps = [\n",
    "        calculate_pagelevel_ap(retrieved, answer, at_k=at_k)\n",
    "        for retrieved, answer in zip(retrieved_metadata, answers, strict=True)\n",
    "    ]\n",
    "    print(\"mAP@{}: {:.4f}\".format(at_k, sum(aps)/len(aps)))"
   ]
  },
  {
   "cell_type": "code",
   "execution_count": 39,
   "id": "977aea91",
   "metadata": {},
   "outputs": [
    {
     "name": "stdout",
     "output_type": "stream",
     "text": [
      "mRR@5: 0.3172\n",
      "mRR@10: 0.3320\n",
      "mRR@15: 0.3370\n"
     ]
    }
   ],
   "source": [
    "# mRR\n",
    "for at_k in [5,10,15]:\n",
    "    rrs = [\n",
    "        calculate_pagelevel_rr(retrieved, answer, at_k=at_k)\n",
    "        for retrieved, answer in zip(retrieved_metadata, answers, strict=True)\n",
    "    ]\n",
    "    print(\"mRR@{}: {:.4f}\".format(at_k, sum(rrs)/len(rrs)))"
   ]
  }
 ],
 "metadata": {
  "kernelspec": {
   "display_name": "psiking",
   "language": "python",
   "name": "python3"
  },
  "language_info": {
   "codemirror_mode": {
    "name": "ipython",
    "version": 3
   },
   "file_extension": ".py",
   "mimetype": "text/x-python",
   "name": "python",
   "nbconvert_exporter": "python",
   "pygments_lexer": "ipython3",
   "version": "3.10.14"
  }
 },
 "nbformat": 4,
 "nbformat_minor": 5
}
