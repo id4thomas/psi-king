{
 "cells": [
  {
   "cell_type": "markdown",
   "metadata": {},
   "source": [
    "# allganize-RAG-Evaluation data + multimodal hybrid ingestion\n",
    "## Methodology\n",
    "```\n",
    "1. Load Document Readers\n",
    "    1-1. Load DoclingPDFReader\n",
    "        1-1-1. Initialize Docling Converter\n",
    "        1-1-2. Initialize PSIKing Reader\n",
    "    1-2. Load PDF2ImageReader\n",
    "2. Load PDF File Data\n",
    "3. Ingest Data\n",
    "    3-1. (Reader) PDF File -> PSIKing Document\n",
    "    3-2. (Splitter) Chunk Documents\n",
    "4. Embed\n",
    "5. Insert into DocumentStore, VectorStore\n",
    "    5-1. Insert to DocStore\n",
    "    5-2. Insert to VectorStore\n",
    "6. Test Query\n",
    "```\n",
    "\n",
    "## Settings\n",
    "[Dataset]\n",
    "* real-life Korean finance pdf files from `allganize-RAG-Evaluation-Dataset-KO`\n",
    "    * https://huggingface.co/datasets/allganize/RAG-Evaluation-Dataset-KO\n",
    "    * use 10 'finance' domain files\n",
    "\n",
    "[Embedder]\n",
    "* Dense: `jina-embeddings-v4-vllm-retrieval` [[hf link]](https://huggingface.co/jinaai/jina-embeddings-v4-vllm-retrieval)\n",
    "    * served using vLLM `v0.9.1` docker image\n",
    "* Sparse: Qdrant/BM42 (`fastembed/sparse/all_miniLM_L6_v2_with_attentions` [[hflink]](https://huggingface.co/Qdrant/all_miniLM_L6_v2_with_attentions))"
   ]
  },
  {
   "cell_type": "code",
   "execution_count": 1,
   "metadata": {},
   "outputs": [],
   "source": [
    "import json\n",
    "import os\n",
    "\n",
    "from pathlib import Path\n",
    "import time\n",
    "from typing import Any, Dict, List, Optional\n",
    "\n",
    "import pandas as pd\n",
    "from pydantic import BaseModel\n",
    "from tqdm import tqdm\n",
    "\n",
    "from config import settings\n",
    "# Artifacts should contain model weights downloaded using `docling-tools models download`\n",
    "# Typically set to `~/.cache/docling/models`\n",
    "# os.environ[\"DOCLING_ARTIFACTS_PATH\"] = settings.docling_artifacts_path"
   ]
  },
  {
   "cell_type": "code",
   "execution_count": 2,
   "metadata": {},
   "outputs": [],
   "source": [
    "## Import Core Schemas\n",
    "from psiking.core.base.schema import Document, TextNode, ImageNode, TableNode"
   ]
  },
  {
   "cell_type": "markdown",
   "metadata": {},
   "source": [
    "# 1. Load Chunks from DocumentStore"
   ]
  },
  {
   "cell_type": "markdown",
   "metadata": {},
   "source": [
    "## 1-1. Load DocumentStore"
   ]
  },
  {
   "cell_type": "code",
   "execution_count": 3,
   "metadata": {},
   "outputs": [],
   "source": [
    "from psiking.core.storage.docstore.in_memory import InMemoryDocumentStore\n",
    "\n",
    "doc_store = InMemoryDocumentStore()"
   ]
  },
  {
   "cell_type": "code",
   "execution_count": 4,
   "metadata": {},
   "outputs": [],
   "source": [
    "doc_store.load('./storage/docstore_v2507.json')"
   ]
  },
  {
   "cell_type": "markdown",
   "metadata": {},
   "source": [
    "## 1-2. Load Chunks"
   ]
  },
  {
   "cell_type": "code",
   "execution_count": 5,
   "metadata": {},
   "outputs": [
    {
     "name": "stdout",
     "output_type": "stream",
     "text": [
      "1032\n"
     ]
    }
   ],
   "source": [
    "chunks = list(doc_store._store.values())\n",
    "print(len(chunks))"
   ]
  },
  {
   "cell_type": "code",
   "execution_count": 6,
   "metadata": {},
   "outputs": [
    {
     "data": {
      "text/plain": [
       "{'reader': 'DoclingPDFReader',\n",
       " 'source_id': '7373884a-8255-482d-9e7c-00b919083526',\n",
       " 'domain': 'finance',\n",
       " 'method': 'docling-pdf',\n",
       " 'prov': '[{\"page_no\": 1, \"bbox\": {\"l\": 71.444, \"t\": 702.6370374023437, \"r\": 511.598, \"b\": 645.7080374023437, \"coord_origin\": \"BOTTOMLEFT\"}, \"charspan\": [0, 37]}]'}"
      ]
     },
     "execution_count": 6,
     "metadata": {},
     "output_type": "execute_result"
    }
   ],
   "source": [
    "chunks[0].metadata"
   ]
  },
  {
   "cell_type": "markdown",
   "metadata": {},
   "source": [
    "# 4. Embed"
   ]
  },
  {
   "cell_type": "markdown",
   "metadata": {},
   "source": [
    "## 4-1. Dense Embedding"
   ]
  },
  {
   "cell_type": "markdown",
   "metadata": {},
   "source": [
    "### 4-1-1. Load Embedder"
   ]
  },
  {
   "cell_type": "code",
   "execution_count": 7,
   "metadata": {},
   "outputs": [],
   "source": [
    "import asyncio\n",
    "from tqdm.asyncio import tqdm\n",
    "\n",
    "from psiking.core.embedder.vllm.online_jina_emb_v4 import VLLMOnlineJinaEmbV4Embedder\n",
    "\n",
    "dense_embedder = VLLMOnlineJinaEmbV4Embedder(\n",
    "    base_url=settings.multimodal_embedding_base_url,\n",
    "    model=settings.multimodal_embedding_model\n",
    ")"
   ]
  },
  {
   "cell_type": "markdown",
   "metadata": {},
   "source": [
    "### 4-1-2. Embed Documents"
   ]
  },
  {
   "cell_type": "code",
   "execution_count": 8,
   "metadata": {},
   "outputs": [],
   "source": [
    "from bs4 import BeautifulSoup\n",
    "\n",
    "def prepare_text(doc: Document):\n",
    "    node = doc.nodes[0]\n",
    "    text = ''\n",
    "    \n",
    "    if isinstance(node, TextNode):\n",
    "        text = node.text\n",
    "    elif isinstance(node, ImageNode):\n",
    "        description = node.text\n",
    "        caption = node.caption\n",
    "        text = f\"Caption: {caption}\\nDescription: {description}\"\n",
    "    elif isinstance(node, TableNode):\n",
    "        html = node.text\n",
    "        soup = BeautifulSoup(html, 'html.parser')\n",
    "        table_text = soup.get_text().strip()\n",
    "        caption = node.caption\n",
    "        text = f\"Caption: {caption}\\nTable: {table_text}\"\n",
    "    return text\n",
    "\n",
    "\n",
    "async def dense_embed(semaphore, doc: Document):\n",
    "    text = prepare_text(doc)\n",
    "    messages = [\n",
    "        {\n",
    "            'role': 'user',\n",
    "            'content': [\n",
    "                {'type': 'text', 'text': 'Passage: '+text},\n",
    "            ]\n",
    "        }\n",
    "    ]\n",
    "    async with semaphore:\n",
    "        try:\n",
    "            embedding = await dense_embedder.arun(\n",
    "                input=messages,\n",
    "                input_format='messages',\n",
    "                pool=True,\n",
    "                normalize=True\n",
    "            )\n",
    "        except Exception as e:\n",
    "            print(\"ERR DOC {} {}\".format(doc.id_, str(e)))\n",
    "            raise e\n",
    "        \n",
    "    return embedding"
   ]
  },
  {
   "cell_type": "code",
   "execution_count": 9,
   "metadata": {},
   "outputs": [
    {
     "name": "stderr",
     "output_type": "stream",
     "text": [
      "100%|██████████| 1032/1032 [07:37<00:00,  2.26it/s]\n"
     ]
    }
   ],
   "source": [
    "semaphore = asyncio.Semaphore(12)\n",
    "\n",
    "tasks = []\n",
    "for chunk in chunks:\n",
    "    task = dense_embed(semaphore, chunk)\n",
    "    tasks.append(task)\n",
    "\n",
    "dense_embeddings = await tqdm.gather(*tasks)"
   ]
  },
  {
   "cell_type": "code",
   "execution_count": 10,
   "metadata": {},
   "outputs": [],
   "source": [
    "dense_embeddings = [x.tolist() for x in dense_embeddings]"
   ]
  },
  {
   "cell_type": "code",
   "execution_count": 11,
   "metadata": {},
   "outputs": [
    {
     "name": "stdout",
     "output_type": "stream",
     "text": [
      "1032\n",
      "2048\n"
     ]
    }
   ],
   "source": [
    "# (num_chunks, seq_len, embedding_dim)\n",
    "print(len(dense_embeddings))\n",
    "print(len(dense_embeddings[0]))"
   ]
  },
  {
   "cell_type": "code",
   "execution_count": 12,
   "metadata": {},
   "outputs": [
    {
     "data": {
      "text/plain": [
       "float"
      ]
     },
     "execution_count": 12,
     "metadata": {},
     "output_type": "execute_result"
    }
   ],
   "source": [
    "type(dense_embeddings[0][0])"
   ]
  },
  {
   "cell_type": "markdown",
   "metadata": {},
   "source": [
    "## 4-2. Sparse Embedding"
   ]
  },
  {
   "cell_type": "markdown",
   "metadata": {},
   "source": [
    "### 4-2-1. Load Embedder"
   ]
  },
  {
   "cell_type": "code",
   "execution_count": 13,
   "metadata": {},
   "outputs": [],
   "source": [
    "from fastembed import SparseTextEmbedding\n",
    "\n",
    "sparse_model_dir = os.path.join(\n",
    "    settings.model_weight_dir, \"embedding/fastembed/sparse/all_miniLM_L6_v2_with_attentions\"\n",
    ")\n",
    "os.listdir(sparse_model_dir)\n",
    "\n",
    "sparse_embedding_model = SparseTextEmbedding(\n",
    "    model_name=\"Qdrant/bm42-all-minilm-l6-v2-attentions\",\n",
    "    specific_model_path=sparse_model_dir,\n",
    "    cuda=False,\n",
    "    lazy_load=False\n",
    ")"
   ]
  },
  {
   "cell_type": "code",
   "execution_count": 14,
   "metadata": {},
   "outputs": [],
   "source": [
    "from psiking.core.embedder.fastembed.local_sparse import LocalFastEmbedSparseEmbedder\n",
    "\n",
    "sparse_embedder = LocalFastEmbedSparseEmbedder(\n",
    "    model=sparse_embedding_model\n",
    ")"
   ]
  },
  {
   "cell_type": "markdown",
   "metadata": {},
   "source": [
    "### 4-2-2. Embed Documents"
   ]
  },
  {
   "cell_type": "code",
   "execution_count": 15,
   "metadata": {},
   "outputs": [],
   "source": [
    "sparse_inputs = [\n",
    "    prepare_text(x) for x in chunks\n",
    "]"
   ]
  },
  {
   "cell_type": "code",
   "execution_count": 16,
   "metadata": {},
   "outputs": [],
   "source": [
    "sparse_embedding_values, sparse_embedding_indices = sparse_embedder.run(\n",
    "    sparse_inputs,\n",
    "    batch_size=256\n",
    ")"
   ]
  },
  {
   "cell_type": "markdown",
   "metadata": {},
   "source": [
    "# 5. Insert into DocumentStore, VectorStore"
   ]
  },
  {
   "cell_type": "markdown",
   "metadata": {},
   "source": [
    "## 5-2. Insert to VectorStore"
   ]
  },
  {
   "cell_type": "code",
   "execution_count": 17,
   "metadata": {},
   "outputs": [],
   "source": [
    "from qdrant_client import QdrantClient\n",
    "from psiking.core.storage.vectorstore.qdrant import QdrantSingleHybridVectorStore\n",
    "\n",
    "# initialize client\n",
    "# client = QdrantClient(\":memory:\")\n",
    "client = QdrantClient(host=\"localhost\", port=6333)\n",
    "collection_name = \"allganize-finance-text-hybrid-v2507_2\"\n",
    "\n",
    "vector_store = QdrantSingleHybridVectorStore(\n",
    "    collection_name=collection_name,\n",
    "    client=client\n",
    ")"
   ]
  },
  {
   "cell_type": "code",
   "execution_count": 18,
   "metadata": {},
   "outputs": [],
   "source": [
    "from qdrant_client.http import models\n",
    "\n",
    "dense_embedding_dim = len(dense_embeddings[0])\n",
    "\n",
    "vector_store.create_collection(\n",
    "    on_disk_payload=True,  # store the payload on disk\n",
    "    dense_vector_config = models.VectorParams(\n",
    "        size=dense_embedding_dim,\n",
    "        distance=models.Distance.COSINE,\n",
    "        on_disk=True,\n",
    "        hnsw_config = {\n",
    "            \"m\": 16,\n",
    "            \"ef_construct\": 100,\n",
    "        }\n",
    "    ),\n",
    "    sparse_vector_config = models.SparseVectorParams(\n",
    "        modifier=models.Modifier.IDF, ## uses indices from bm42 embedder\n",
    "    )\n",
    ")"
   ]
  },
  {
   "cell_type": "code",
   "execution_count": 19,
   "metadata": {},
   "outputs": [
    {
     "name": "stdout",
     "output_type": "stream",
     "text": [
      "{\n",
      "    \"status\": \"green\",\n",
      "    \"optimizer_status\": \"ok\",\n",
      "    \"vectors_count\": null,\n",
      "    \"indexed_vectors_count\": 0,\n",
      "    \"points_count\": 0,\n",
      "    \"segments_count\": 2,\n",
      "    \"config\": {\n",
      "        \"params\": {\n",
      "            \"vectors\": {\n",
      "                \"vector_dense\": {\n",
      "                    \"size\": 2048,\n",
      "                    \"distance\": \"Cosine\",\n",
      "                    \"hnsw_config\": {\n",
      "                        \"m\": 16,\n",
      "                        \"ef_construct\": 100,\n",
      "                        \"full_scan_threshold\": null,\n",
      "                        \"max_indexing_threads\": null,\n",
      "                        \"on_disk\": null,\n",
      "                        \"payload_m\": null\n",
      "                    },\n",
      "                    \"quantization_config\": null,\n",
      "                    \"on_disk\": true,\n",
      "                    \"datatype\": null,\n",
      "                    \"multivector_config\": null\n",
      "                }\n",
      "            },\n",
      "            \"shard_number\": 1,\n",
      "            \"sharding_method\": null,\n",
      "            \"replication_factor\": 1,\n",
      "            \"write_consistency_factor\": 1,\n",
      "            \"read_fan_out_factor\": null,\n",
      "            \"on_disk_payload\": true,\n",
      "            \"sparse_vectors\": {\n",
      "                \"vector_sparse\": {\n",
      "                    \"index\": null,\n",
      "                    \"modifier\": \"idf\"\n",
      "                }\n",
      "            }\n",
      "        },\n",
      "        \"hnsw_config\": {\n",
      "            \"m\": 16,\n",
      "            \"ef_construct\": 100,\n",
      "            \"full_scan_threshold\": 10000,\n",
      "            \"max_indexing_threads\": 0,\n",
      "            \"on_disk\": false,\n",
      "            \"payload_m\": null\n",
      "        },\n",
      "        \"optimizer_config\": {\n",
      "            \"deleted_threshold\": 0.2,\n",
      "            \"vacuum_min_vector_number\": 1000,\n",
      "            \"default_segment_number\": 0,\n",
      "            \"max_segment_size\": null,\n",
      "            \"memmap_threshold\": null,\n",
      "            \"indexing_threshold\": 20000,\n",
      "            \"flush_interval_sec\": 5,\n",
      "            \"max_optimization_threads\": null\n",
      "        },\n",
      "        \"wal_config\": {\n",
      "            \"wal_capacity_mb\": 32,\n",
      "            \"wal_segments_ahead\": 0\n",
      "        },\n",
      "        \"quantization_config\": null,\n",
      "        \"strict_mode_config\": {\n",
      "            \"enabled\": false,\n",
      "            \"max_query_limit\": null,\n",
      "            \"max_timeout\": null,\n",
      "            \"unindexed_filtering_retrieve\": null,\n",
      "            \"unindexed_filtering_update\": null,\n",
      "            \"search_max_hnsw_ef\": null,\n",
      "            \"search_allow_exact\": null,\n",
      "            \"search_max_oversampling\": null,\n",
      "            \"upsert_max_batchsize\": null,\n",
      "            \"max_collection_vector_size_bytes\": null,\n",
      "            \"read_rate_limit\": null,\n",
      "            \"write_rate_limit\": null,\n",
      "            \"max_collection_payload_size_bytes\": null,\n",
      "            \"filter_max_conditions\": null,\n",
      "            \"condition_max_size\": null\n",
      "        }\n",
      "    },\n",
      "    \"payload_schema\": {}\n",
      "}\n"
     ]
    }
   ],
   "source": [
    "# check collection\n",
    "collection_info = vector_store._client.get_collection(\n",
    "    collection_name=vector_store.collection_name\n",
    ")\n",
    "print(collection_info.model_dump_json(indent=4))"
   ]
  },
  {
   "cell_type": "code",
   "execution_count": 20,
   "metadata": {},
   "outputs": [],
   "source": [
    "vector_store.add(\n",
    "    documents=chunks,\n",
    "    dense_embeddings=dense_embeddings,\n",
    "    sparse_embedding_values=sparse_embedding_values,\n",
    "    sparse_embedding_indices=sparse_embedding_indices,\n",
    "    metadata_keys=[\"source_id\", \"domain\", 'prov', 'method']\n",
    ")"
   ]
  },
  {
   "cell_type": "code",
   "execution_count": 21,
   "metadata": {},
   "outputs": [
    {
     "data": {
      "text/plain": [
       "'b9ea81f3-b5ff-4b69-9a6b-d2fce3c07575'"
      ]
     },
     "execution_count": 21,
     "metadata": {},
     "output_type": "execute_result"
    }
   ],
   "source": [
    "chunks[0].id_"
   ]
  },
  {
   "cell_type": "code",
   "execution_count": 22,
   "metadata": {},
   "outputs": [],
   "source": [
    "points = vector_store._client.retrieve(\n",
    "    collection_name=vector_store.collection_name,\n",
    "    ids=[chunks[0].id_],\n",
    "    with_vectors=True\n",
    ")"
   ]
  },
  {
   "cell_type": "code",
   "execution_count": 23,
   "metadata": {},
   "outputs": [
    {
     "name": "stdout",
     "output_type": "stream",
     "text": [
      "b9ea81f3-b5ff-4b69-9a6b-d2fce3c07575\n",
      "{'source_id': '7373884a-8255-482d-9e7c-00b919083526', 'domain': 'finance', 'method': 'docling-pdf', 'prov': '[{\"page_no\": 1, \"bbox\": {\"l\": 71.444, \"t\": 702.6370374023437, \"r\": 511.598, \"b\": 645.7080374023437, \"coord_origin\": \"BOTTOMLEFT\"}, \"charspan\": [0, 37]}]'}\n",
      "2\n"
     ]
    }
   ],
   "source": [
    "print(points[0].id)\n",
    "print(points[0].payload)\n",
    "print(len(points[0].vector))"
   ]
  },
  {
   "cell_type": "markdown",
   "metadata": {},
   "source": [
    "# 6. Test Query"
   ]
  },
  {
   "cell_type": "code",
   "execution_count": 24,
   "metadata": {},
   "outputs": [],
   "source": [
    "import numpy as np\n",
    "from psiking.core.storage.vectorstore.schema import (\n",
    "    MetadataFilters,\n",
    "    FilterOperator,\n",
    "    VectorStoreQuery,\n",
    "    VectorStoreQueryMode,\n",
    "    VectorStoreQueryOptions,\n",
    ")   "
   ]
  },
  {
   "cell_type": "code",
   "execution_count": 25,
   "metadata": {},
   "outputs": [],
   "source": [
    "# Use random query embedding\n",
    "query_embedding = np.random.randn(dense_embedding_dim)\n",
    "\n",
    "vsquery=VectorStoreQuery(\n",
    "    dense_embedding=query_embedding,\n",
    "    sparse_embedding_values=[],\n",
    "    sparse_embedding_indicies=[]\n",
    "    \n",
    ")\n",
    "vsoptions=VectorStoreQueryOptions(\n",
    "    mode=VectorStoreQueryMode.HYBRID,\n",
    "    top_k=10,\n",
    "    hybrid_fusion_method='rrf',\n",
    "    sparse_top_k=30,\n",
    "    dense_top_k=30\n",
    ")"
   ]
  },
  {
   "cell_type": "code",
   "execution_count": 26,
   "metadata": {},
   "outputs": [],
   "source": [
    "points = vector_store.query(\n",
    "    query=vsquery,\n",
    "    options=vsoptions\n",
    ")"
   ]
  },
  {
   "cell_type": "code",
   "execution_count": 27,
   "metadata": {},
   "outputs": [
    {
     "data": {
      "text/plain": [
       "[ScoredPoint(id='b4a5fb83-1f43-4c2f-9d46-5884ae60f7ca', version=4, score=0.5, payload={'source_id': '7373884a-8255-482d-9e7c-00b919083526', 'domain': 'finance', 'method': 'docling-pdf', 'prov': '[{\"page_no\": 34, \"bbox\": {\"l\": 308.8247985839844, \"t\": 290.87835693359375, \"r\": 513.301513671875, \"b\": 100.804931640625, \"coord_origin\": \"BOTTOMLEFT\"}, \"charspan\": [0, 0]}]'}, vector=None, shard_key=None, order_value=None),\n",
       " ScoredPoint(id='e927ba18-7a20-421d-a0d4-702c96724aee', version=11, score=0.33333334, payload={'source_id': '980889bb-16cd-447f-b5eb-1384b84903cc', 'domain': 'finance', 'method': 'docling-pdf', 'prov': '[{\"page_no\": 22, \"bbox\": {\"l\": 67.01290130615234, \"t\": 646.594108581543, \"r\": 254.55691528320312, \"b\": 477.3117370605469, \"coord_origin\": \"BOTTOMLEFT\"}, \"charspan\": [0, 0]}]'}, vector=None, shard_key=None, order_value=None),\n",
       " ScoredPoint(id='e6de9842-4b78-452e-ac69-6c5424e5cf56', version=12, score=0.25, payload={'source_id': '980889bb-16cd-447f-b5eb-1384b84903cc', 'domain': 'finance', 'method': 'docling-pdf', 'prov': '[{\"page_no\": 37, \"bbox\": {\"l\": 67.46577453613281, \"t\": 376.3892822265625, \"r\": 253.9848175048828, \"b\": 220.71429443359375, \"coord_origin\": \"BOTTOMLEFT\"}, \"charspan\": [0, 0]}]'}, vector=None, shard_key=None, order_value=None),\n",
       " ScoredPoint(id='0695710b-3785-4bfa-9388-1d99626c886c', version=11, score=0.2, payload={'source_id': '980889bb-16cd-447f-b5eb-1384b84903cc', 'domain': 'finance', 'method': 'docling-pdf', 'prov': '[{\"page_no\": 27, \"bbox\": {\"l\": 67.60292053222656, \"t\": 467.7004699707031, \"r\": 254.5552215576172, \"b\": 297.4455871582031, \"coord_origin\": \"BOTTOMLEFT\"}, \"charspan\": [0, 0]}]'}, vector=None, shard_key=None, order_value=None),\n",
       " ScoredPoint(id='ef8944cb-a95a-4624-b8c8-73a133f24f28', version=11, score=0.16666667, payload={'source_id': '980889bb-16cd-447f-b5eb-1384b84903cc', 'domain': 'finance', 'method': 'docling-pdf', 'prov': '[{\"page_no\": 28, \"bbox\": {\"l\": 67.03196716308594, \"t\": 478.6175842285156, \"r\": 254.63461303710938, \"b\": 299.2311096191406, \"coord_origin\": \"BOTTOMLEFT\"}, \"charspan\": [0, 0]}]'}, vector=None, shard_key=None, order_value=None),\n",
       " ScoredPoint(id='dd4fce85-1821-4697-958b-ddf74e6ce333', version=12, score=0.14285715, payload={'source_id': '980889bb-16cd-447f-b5eb-1384b84903cc', 'domain': 'finance', 'method': 'docling-pdf', 'prov': '[{\"page_no\": 51, \"bbox\": {\"l\": 277.9375, \"t\": 647.5947570800781, \"r\": 464.4177551269531, \"b\": 485.4615020751953, \"coord_origin\": \"BOTTOMLEFT\"}, \"charspan\": [0, 0]}]'}, vector=None, shard_key=None, order_value=None),\n",
       " ScoredPoint(id='d346a852-a546-4f26-ab12-4094e7ddd42e', version=2, score=0.125, payload={'source_id': '7373884a-8255-482d-9e7c-00b919083526', 'domain': 'finance', 'method': 'docling-pdf', 'prov': '[{\"page_no\": 24, \"bbox\": {\"l\": 307.2561340332031, \"t\": 272.9281005859375, \"r\": 515.4824829101562, \"b\": 111.6695556640625, \"coord_origin\": \"BOTTOMLEFT\"}, \"charspan\": [0, 0]}]'}, vector=None, shard_key=None, order_value=None),\n",
       " ScoredPoint(id='9ad4031e-c15d-4a46-99fb-2f5ab7896e4a', version=10, score=0.11111111, payload={'source_id': '980889bb-16cd-447f-b5eb-1384b84903cc', 'domain': 'finance', 'method': 'docling-pdf', 'prov': '[{\"page_no\": 13, \"bbox\": {\"l\": 277.0276184082031, \"t\": 441.86883544921875, \"r\": 463.1080627441406, \"b\": 273.4472961425781, \"coord_origin\": \"BOTTOMLEFT\"}, \"charspan\": [0, 0]}]'}, vector=None, shard_key=None, order_value=None),\n",
       " ScoredPoint(id='1316a2c1-eba2-45d3-a51a-6e217bd5cca0', version=4, score=0.1, payload={'source_id': '7373884a-8255-482d-9e7c-00b919083526', 'domain': 'finance', 'method': 'docling-pdf', 'prov': '[{\"page_no\": 40, \"bbox\": {\"l\": 379.9866027832031, \"t\": 278.62054443359375, \"r\": 515.947998046875, \"b\": 102.5023193359375, \"coord_origin\": \"BOTTOMLEFT\"}, \"charspan\": [0, 0]}]'}, vector=None, shard_key=None, order_value=None),\n",
       " ScoredPoint(id='2f85e1a6-9a24-4172-bfbc-c655cea80695', version=10, score=0.09090909, payload={'source_id': '980889bb-16cd-447f-b5eb-1384b84903cc', 'domain': 'finance', 'method': 'docling-pdf', 'prov': '[{\"page_no\": 15, \"bbox\": {\"l\": 278.1023864746094, \"t\": 245.0035400390625, \"r\": 462.9987487792969, \"b\": 98.7491455078125, \"coord_origin\": \"BOTTOMLEFT\"}, \"charspan\": [0, 0]}]'}, vector=None, shard_key=None, order_value=None)]"
      ]
     },
     "execution_count": 27,
     "metadata": {},
     "output_type": "execute_result"
    }
   ],
   "source": [
    "points"
   ]
  },
  {
   "cell_type": "code",
   "execution_count": 28,
   "metadata": {},
   "outputs": [],
   "source": [
    "# Get Retrieved Result from docstore\n",
    "retrieved_doc_id = points[0].id\n",
    "\n",
    "retrieved_doc = doc_store.get(retrieved_doc_id)[0]"
   ]
  },
  {
   "cell_type": "code",
   "execution_count": 29,
   "metadata": {},
   "outputs": [
    {
     "name": "stdout",
     "output_type": "stream",
     "text": [
      "1\n"
     ]
    }
   ],
   "source": [
    "nodes = retrieved_doc.nodes\n",
    "print(len(nodes))"
   ]
  }
 ],
 "metadata": {
  "kernelspec": {
   "display_name": "psiking",
   "language": "python",
   "name": "python3"
  },
  "language_info": {
   "codemirror_mode": {
    "name": "ipython",
    "version": 3
   },
   "file_extension": ".py",
   "mimetype": "text/x-python",
   "name": "python",
   "nbconvert_exporter": "python",
   "pygments_lexer": "ipython3",
   "version": "3.10.14"
  }
 },
 "nbformat": 4,
 "nbformat_minor": 2
}
