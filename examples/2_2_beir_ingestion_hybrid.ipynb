{
 "cells": [
  {
   "cell_type": "markdown",
   "metadata": {},
   "source": [
    "# BEIR data + hybrid search\n",
    "* dense (bge-m3) + sparse (bm42)\n",
    "\n",
    "## embedding\n",
    "**Sparse**\n",
    "* bm42 with fastembed.SparseTextEmbedding model\n",
    "    * https://huggingface.co/Qdrant/all_miniLM_L6_v2_with_attentions\n",
    "* use IDF (inverse document frequency) modifier"
   ]
  },
  {
   "cell_type": "code",
   "execution_count": 1,
   "metadata": {},
   "outputs": [],
   "source": [
    "import json\n",
    "from pathlib import Path\n",
    "import time\n",
    "from typing import Any, Dict, List, Optional\n",
    "\n",
    "import jsonlines\n",
    "import pandas as pd\n",
    "from tqdm import tqdm\n",
    "\n",
    "from config import settings"
   ]
  },
  {
   "cell_type": "code",
   "execution_count": 2,
   "metadata": {},
   "outputs": [],
   "source": [
    "import sys\n",
    "import os\n",
    "\n",
    "parent_dir = os.path.dirname(os.getcwd())\n",
    "core_src_dir = os.path.join(parent_dir, \"src/psiking\")\n",
    "sys.path.append(core_src_dir)"
   ]
  },
  {
   "cell_type": "code",
   "execution_count": 3,
   "metadata": {},
   "outputs": [],
   "source": [
    "## Import Core Schemas\n",
    "from core.base.schema import Document, TextNode"
   ]
  },
  {
   "cell_type": "markdown",
   "metadata": {},
   "source": [
    "# 1. Read data\n",
    "* read BEIR data & convert to Document\n",
    "    * https://huggingface.co/BeIR\n",
    "* test with `scifact` dataset\n",
    "    * 5K passages\n",
    "    * https://huggingface.co/datasets/BeIR/scifact"
   ]
  },
  {
   "cell_type": "code",
   "execution_count": 4,
   "metadata": {},
   "outputs": [],
   "source": [
    "## Implement Custom Readers\n",
    "from core.reader.base import BaseReader\n",
    "\n",
    "class QuoraDataReader(BaseReader):\n",
    "    def __init__(self):\n",
    "        pass\n",
    "    \n",
    "    def read(self, data: dict, extra_info: Optional[dict] = None,) -> Optional[Document]:\n",
    "        \"\"\"Data format\n",
    "        ['_id', 'title', 'text', 'metadata']\n",
    "        \"\"\"\n",
    "        metadata = extra_info or {}\n",
    "        \n",
    "        text = data.get('text', '')\n",
    "        if not text:\n",
    "            return None\n",
    "        node = TextNode(\n",
    "            text=text,\n",
    "            metadata=metadata\n",
    "        )\n",
    "        return Document(\n",
    "            nodes=[node],\n",
    "            metadata={\n",
    "                \"source_id\": data['_id'],\n",
    "                \"title\": data['title'],\n",
    "                **metadata\n",
    "            }\n",
    "        )\n",
    "\n",
    "    def run(self, file_path: str | Path,extra_info: Optional[dict] = None) -> List[Document]:\n",
    "        metadata = extra_info or {}\n",
    "        documents = []\n",
    "        with jsonlines.open(file_path) as reader:\n",
    "            for data in reader:\n",
    "                document = self.read(data, extra_info={**metadata})\n",
    "                if document:\n",
    "                    documents.append(document)\n",
    "        return documents"
   ]
  },
  {
   "cell_type": "code",
   "execution_count": 5,
   "metadata": {},
   "outputs": [
    {
     "name": "stdout",
     "output_type": "stream",
     "text": [
      "5183\n"
     ]
    }
   ],
   "source": [
    "document_path = os.path.join(settings.data_dir, \"beir/scifact/corpus.jsonl\")\n",
    "\n",
    "reader = QuoraDataReader()\n",
    "documents = reader.run(document_path, extra_info={\"source_file\": \"beir-scifact-corpus\"})\n",
    "print(len(documents))"
   ]
  },
  {
   "cell_type": "code",
   "execution_count": 6,
   "metadata": {},
   "outputs": [
    {
     "data": {
      "text/plain": [
       "[Document(id_='8add4065-38d4-4023-b65d-82c921451926', metadata={'source_id': '4983', 'title': 'Microstructural development of human newborn cerebral white matter assessed in vivo by diffusion tensor magnetic resonance imaging.', 'source_file': 'beir-scifact-corpus'}, nodes=[TextNode(id_='4f84faae-82af-4f9b-a8f8-31d1ea61713f', metadata={'source_file': 'beir-scifact-corpus'}, text_type=<TextType.PLAIN: 'plain'>, label=<TextLabel.PLAIN: 'plain'>, resource=MediaResource(data=None, text='Alterations of the architecture of cerebral white matter in the developing human brain can affect cortical development and result in functional disabilities. A line scan diffusion-weighted magnetic resonance imaging (MRI) sequence with diffusion tensor analysis was applied to measure the apparent diffusion coefficient, to calculate relative anisotropy, and to delineate three-dimensional fiber architecture in cerebral white matter in preterm (n = 17) and full-term infants (n = 7). To assess effects of prematurity on cerebral white matter development, early gestation preterm infants (n = 10) were studied a second time at term. In the central white matter the mean apparent diffusion coefficient at 28 wk was high, 1.8 microm2/ms, and decreased toward term to 1.2 microm2/ms. In the posterior limb of the internal capsule, the mean apparent diffusion coefficients at both times were similar (1.2 versus 1.1 microm2/ms). Relative anisotropy was higher the closer birth was to term with greater absolute values in the internal capsule than in the central white matter. Preterm infants at term showed higher mean diffusion coefficients in the central white matter (1.4 +/- 0.24 versus 1.15 +/- 0.09 microm2/ms, p = 0.016) and lower relative anisotropy in both areas compared with full-term infants (white matter, 10.9 +/- 0.6 versus 22.9 +/- 3.0%, p = 0.001; internal capsule, 24.0 +/- 4.44 versus 33.1 +/- 0.6% p = 0.006). Nonmyelinated fibers in the corpus callosum were visible by diffusion tensor MRI as early as 28 wk; full-term and preterm infants at term showed marked differences in white matter fiber organization. The data indicate that quantitative assessment of water diffusion by diffusion tensor MRI provides insight into microstructural development in cerebral white matter in living infants.', path=None, url=None, mimetype=None))]),\n",
       " Document(id_='528f80ea-e151-441c-b1ab-95511075404b', metadata={'source_id': '5836', 'title': 'Induction of myelodysplasia by myeloid-derived suppressor cells.', 'source_file': 'beir-scifact-corpus'}, nodes=[TextNode(id_='bcd1fee9-0274-438c-9e6b-bcba0ae6f860', metadata={'source_file': 'beir-scifact-corpus'}, text_type=<TextType.PLAIN: 'plain'>, label=<TextLabel.PLAIN: 'plain'>, resource=MediaResource(data=None, text='Myelodysplastic syndromes (MDS) are age-dependent stem cell malignancies that share biological features of activated adaptive immune response and ineffective hematopoiesis. Here we report that myeloid-derived suppressor cells (MDSC), which are classically linked to immunosuppression, inflammation, and cancer, were markedly expanded in the bone marrow of MDS patients and played a pathogenetic role in the development of ineffective hematopoiesis. These clonally distinct MDSC overproduce hematopoietic suppressive cytokines and function as potent apoptotic effectors targeting autologous hematopoietic progenitors. Using multiple transfected cell models, we found that MDSC expansion is driven by the interaction of the proinflammatory molecule S100A9 with CD33. These 2 proteins formed a functional ligand/receptor pair that recruited components to CD33’s immunoreceptor tyrosine-based inhibition motif (ITIM), inducing secretion of the suppressive cytokines IL-10 and TGF-β by immature myeloid cells. S100A9 transgenic mice displayed bone marrow accumulation of MDSC accompanied by development of progressive multilineage cytopenias and cytological dysplasia. Importantly, early forced maturation of MDSC by either all-trans-retinoic acid treatment or active immunoreceptor tyrosine-based activation motif–bearing (ITAM-bearing) adapter protein (DAP12) interruption of CD33 signaling rescued the hematologic phenotype. These findings indicate that primary bone marrow expansion of MDSC driven by the S100A9/CD33 pathway perturbs hematopoiesis and contributes to the development of MDS.', path=None, url=None, mimetype=None))])]"
      ]
     },
     "execution_count": 6,
     "metadata": {},
     "output_type": "execute_result"
    }
   ],
   "source": [
    "documents[:2]"
   ]
  },
  {
   "cell_type": "markdown",
   "metadata": {},
   "source": [
    "# 2. Run Splitter\n",
    "* simple inefficient splitter"
   ]
  },
  {
   "cell_type": "code",
   "execution_count": null,
   "metadata": {},
   "outputs": [
    {
     "name": "stdout",
     "output_type": "stream",
     "text": [
      "5183\n"
     ]
    }
   ],
   "source": [
    "# 3. Run Splitter\n",
    "from core.splitter.text.langchain_text_splitters import LangchainRecursiveCharacterTextSplitter\n",
    "\n",
    "splitter = LangchainRecursiveCharacterTextSplitter(\n",
    "    chunk_size = 1024,\n",
    "    chunk_overlap = 128\n",
    ")\n",
    "\n",
    "chunks = []\n",
    "for document in documents:\n",
    "    document_chunks = []\n",
    "    source_id = document.id_\n",
    "    for i, node in enumerate(document.nodes):\n",
    "        # Run Splitter\n",
    "        if isinstance(node, TextNode):\n",
    "            split_nodes = splitter.run(node)\n",
    "        else:\n",
    "            split_nodes = [node]\n",
    "        \n",
    "        # Create New Document\n",
    "        chunk = Document(\n",
    "            nodes=split_nodes,\n",
    "            metadata={\n",
    "                \"source_id\": source_id,\n",
    "                \"source_file\": document.metadata['source_file'],\n",
    "                \"title\": document.metadata['title'],\n",
    "            }\n",
    "        )\n",
    "        document_chunks.append(chunk)\n",
    "    chunks.extend(document_chunks)\n",
    "print(len(chunks))"
   ]
  },
  {
   "cell_type": "markdown",
   "metadata": {},
   "source": [
    "# 4. Format (Prepare Embedding Input)"
   ]
  },
  {
   "cell_type": "code",
   "execution_count": 8,
   "metadata": {},
   "outputs": [
    {
     "name": "stdout",
     "output_type": "stream",
     "text": [
      "5183\n"
     ]
    }
   ],
   "source": [
    "from core.formatter.document.simple import SimpleTextOnlyFormatter\n",
    "\n",
    "# use default templates\n",
    "formatter = SimpleTextOnlyFormatter()\n",
    "formatted_texts = formatter.run(chunks)\n",
    "\n",
    "def select_embedding_input_idxs(texts: str, min_length: int = 20):\n",
    "    return [i for i, x in enumerate(texts) if len(x.strip())>min_length]\n",
    "\n",
    "embedding_input_idxs = select_embedding_input_idxs(\n",
    "    texts=formatted_texts,\n",
    "    min_length=20\n",
    ")\n",
    "print(len(embedding_input_idxs))"
   ]
  },
  {
   "cell_type": "markdown",
   "metadata": {},
   "source": [
    "# 5. Embedder\n",
    "## 5-1. Dense Embedder"
   ]
  },
  {
   "cell_type": "code",
   "execution_count": 9,
   "metadata": {},
   "outputs": [
    {
     "name": "stdout",
     "output_type": "stream",
     "text": [
      "baai/bge-m3\n"
     ]
    },
    {
     "name": "stderr",
     "output_type": "stream",
     "text": [
      "100%|██████████| 432/432 [00:58<00:00,  7.38it/s]"
     ]
    },
    {
     "name": "stdout",
     "output_type": "stream",
     "text": [
      "5183 1024\n"
     ]
    },
    {
     "name": "stderr",
     "output_type": "stream",
     "text": [
      "\n"
     ]
    }
   ],
   "source": [
    "# Dense\n",
    "from openai import OpenAI\n",
    "from core.embedder.openai.text_embedder import OpenAITextEmbedder\n",
    "\n",
    "print(settings.openai_embedding_model)\n",
    "client = OpenAI(\n",
    "    base_url=settings.openai_embedding_base_url,\n",
    "    api_key=settings.openai_embedding_api_key\n",
    ")\n",
    "\n",
    "dense_embedder = OpenAITextEmbedder(client = client)\n",
    "embedding_inputs = [formatted_texts[x] for x in embedding_input_idxs]\n",
    "dense_embeddings = dense_embedder.run(\n",
    "    texts=embedding_inputs,\n",
    "    model=settings.openai_embedding_model,\n",
    "    batch_size = 12,\n",
    "    disable_tqdm=False\n",
    ")\n",
    "print(len(dense_embeddings), len(dense_embeddings[0]))"
   ]
  },
  {
   "cell_type": "markdown",
   "metadata": {},
   "source": [
    "## 5-2. Sparse Embedder\n",
    "* Embed using BM42 Sparse embedder model\n",
    "    * https://huggingface.co/Qdrant/all_miniLM_L6_v2_with_attentions\n",
    "\n",
    "### Loading model from pre-downloaded directory\n",
    "* Load model using 'specific model path'\n",
    "    * specific_model_path (Optional[str], optional): The specific path to the onnx model dir if it should be imported from somewhere else\n",
    "    * download_model method skips download phase (available > v0.5.1 )\n",
    "        * https://github.com/qdrant/fastembed/blob/a931f143ef3543234bc9d8d0c305496c67199972/fastembed/common/model_management.py#L367\n",
    "    * build from source with commit `a931f143ef3543234bc9d8d0c305496c67199972`\n",
    "* cache_dir: cache_dir (str, optional): The path to the cache directory.\n",
    "    Can be set using the `FASTEMBED_CACHE_PATH` env variable.\n",
    "    Defaults to `fastembed_cache` in the system's temp directory.\n",
    "```\n",
    "cd poetry\n",
    "poetry build\n",
    "pip install --force-reinstall fastembed-0.5.1-py3-none-any.whl\n",
    "```"
   ]
  },
  {
   "cell_type": "code",
   "execution_count": 10,
   "metadata": {},
   "outputs": [
    {
     "name": "stdout",
     "output_type": "stream",
     "text": [
      "/Users/id4thomas/github/psi-king/examples/fastembed\n"
     ]
    },
    {
     "data": {
      "text/plain": [
       "['tokenizer_config.json',\n",
       " 'special_tokens_map.json',\n",
       " 'config.json',\n",
       " 'tokenizer.json',\n",
       " 'README.md',\n",
       " 'vocab.txt',\n",
       " 'model.onnx',\n",
       " '.gitattributes',\n",
       " '.git',\n",
       " 'stopwords.txt']"
      ]
     },
     "execution_count": 10,
     "metadata": {},
     "output_type": "execute_result"
    }
   ],
   "source": [
    "os.environ[\"FASTEMBED_CACHE_PATH\"] = str(os.path.join(os.getcwd(), \"fastembed\"))\n",
    "print(os.environ[\"FASTEMBED_CACHE_PATH\"])\n",
    "sparse_model_dir = os.path.join(settings.model_weight_dir, \"fastembed/sparse/all_miniLM_L6_v2_with_attentions\")\n",
    "os.listdir(sparse_model_dir)"
   ]
  },
  {
   "cell_type": "code",
   "execution_count": 11,
   "metadata": {},
   "outputs": [
    {
     "name": "stdout",
     "output_type": "stream",
     "text": [
      "/Users/id4thomas/models/fastembed/sparse/all_miniLM_L6_v2_with_attentions\n",
      "[SparseEmbedding(values=array([0.30918342]), indices=array([948991206]))]\n"
     ]
    },
    {
     "data": {
      "text/plain": [
       "([0.3091834199811786], [948991206])"
      ]
     },
     "execution_count": 11,
     "metadata": {},
     "output_type": "execute_result"
    }
   ],
   "source": [
    "# Load fastembed model\n",
    "from fastembed import SparseTextEmbedding\n",
    "\n",
    "# test specific_model_path function\n",
    "downloaded_dir = SparseTextEmbedding.download_model(\n",
    "    model={},\n",
    "    cache_dir=os.environ[\"FASTEMBED_CACHE_PATH\"],\n",
    "    specific_model_path=sparse_model_dir,\n",
    ")\n",
    "print(downloaded_dir)\n",
    "\n",
    "sparse_model = SparseTextEmbedding(\n",
    "    model_name=\"Qdrant/bm42-all-minilm-l6-v2-attentions\",\n",
    "    specific_model_path=sparse_model_dir,\n",
    "    cuda=False,\n",
    "    lazy_load=False\n",
    ")\n",
    "\n",
    "embeddings = list(sparse_model.embed([\"hi\"]))\n",
    "print(embeddings)\n",
    "embeddings[0].values.tolist(), embeddings[0].indices.tolist()"
   ]
  },
  {
   "cell_type": "code",
   "execution_count": 45,
   "metadata": {},
   "outputs": [
    {
     "name": "stdout",
     "output_type": "stream",
     "text": [
      "ENCODED:\n",
      "41\n",
      "['[CLS]', 'ᄋ', '##ᅡ', '##ᆫ', '##ᄂ', '##ᅧ', '##ᆼ', '##ᄒ', '##ᅡ', '##ᄉ']\n",
      "RECONSTRUCTED:\n",
      "5\n",
      "('안녕하세요', [1, 2, 3, 4, 5, 6, 7, 8, 9, 10, 11, 12])\n",
      "('제', [13, 14])\n",
      "('이름은', [15, 16, 17, 18, 19, 20, 21, 22])\n",
      "('송영록입니다', [23, 24, 25, 26, 27, 28, 29, 30, 31, 32, 33, 34, 35, 36, 37, 38])\n",
      "('.', [39])\n"
     ]
    }
   ],
   "source": [
    "text = \"안녕하세요 제 이름은 송영록입니다.\"\n",
    "print(\"ENCODED:\")\n",
    "encoded = sparse_model.model.tokenizer.encode(text)  # type: ignore[union-attr]\n",
    "print(len(encoded.ids))\n",
    "print(encoded.tokens[:10]) # BPE segmented tokens\n",
    "document_tokens_with_ids = enumerate(encoded.tokens)\n",
    "\n",
    "print(\"RECONSTRUCTED:\")\n",
    "reconstructed = sparse_model.model._reconstruct_bpe(document_tokens_with_ids)\n",
    "print(len(reconstructed))\n",
    "for reconstructed_word in reconstructed:\n",
    "    print(reconstructed_word)"
   ]
  },
  {
   "cell_type": "code",
   "execution_count": 12,
   "metadata": {},
   "outputs": [],
   "source": [
    "# Load Embedder\n",
    "from core.embedder.fastembed.local_sparse import LocalFastEmbedSparseEmbedder\n",
    "\n",
    "sparse_embedder = LocalFastEmbedSparseEmbedder(\n",
    "    model=sparse_model\n",
    ")\n",
    "\n",
    "sparse_embedding_values, sparse_embedding_indices = sparse_embedder.run(\n",
    "    embedding_inputs, batch_size=256\n",
    ")"
   ]
  },
  {
   "cell_type": "markdown",
   "metadata": {},
   "source": [
    "# 6. Add to VectorStore\n",
    "* qdrant single vector with sparse vectorstore"
   ]
  },
  {
   "cell_type": "code",
   "execution_count": 13,
   "metadata": {},
   "outputs": [],
   "source": [
    "from qdrant_client import QdrantClient\n",
    "from core.storage.vectorstore.qdrant import QdrantSingleHybridVectorStore\n",
    "\n",
    "# initialize client\n",
    "client = QdrantClient(url=settings.qdrant_url)\n",
    "collection_name = \"beir-scifact-hybrid\"\n",
    "\n",
    "vector_store = QdrantSingleHybridVectorStore(\n",
    "    collection_name=collection_name,\n",
    "    client=client\n",
    ")"
   ]
  },
  {
   "cell_type": "code",
   "execution_count": 14,
   "metadata": {},
   "outputs": [],
   "source": [
    "## Create Collection\n",
    "from qdrant_client.http import models\n",
    "\n",
    "# bge-m3 1024 dim\n",
    "dense_embedding_dim=1024\n",
    "dense_vectors_config = models.VectorParams(\n",
    "    size=dense_embedding_dim,\n",
    "    distance=models.Distance.COSINE,\n",
    "    on_disk=True,\n",
    ")\n",
    "\n",
    "# \n",
    "sparse_embedding_dim=10\n",
    "sparse_vectors_config = models.SparseVectorParams(\n",
    "    modifier=models.Modifier.IDF,\n",
    ")\n",
    "\n",
    "# Create VectorStore\n",
    "vector_store.create_collection(\n",
    "    dense_vector_config=dense_vectors_config,\n",
    "    sparse_vector_config=sparse_vectors_config,\n",
    "    on_disk_payload=True,  # store the payload on disk\n",
    ")\n",
    "\n",
    "# Create Index\n",
    "vector_store.create_index(\n",
    "    field_name=\"text\",\n",
    "    field_schema=models.TextIndexParams(\n",
    "        type=\"text\",\n",
    "        tokenizer=models.TokenizerType.MULTILINGUAL,\n",
    "    ),\n",
    ")"
   ]
  },
  {
   "cell_type": "code",
   "execution_count": 15,
   "metadata": {},
   "outputs": [
    {
     "name": "stdout",
     "output_type": "stream",
     "text": [
      "5183 5183 5183 5183 5183\n"
     ]
    }
   ],
   "source": [
    "print(\n",
    "    len(documents),\n",
    "    len(embedding_inputs),\n",
    "    len(dense_embeddings),\n",
    "    len(sparse_embedding_values),\n",
    "    len(sparse_embedding_indices),\n",
    ")"
   ]
  },
  {
   "cell_type": "code",
   "execution_count": 16,
   "metadata": {},
   "outputs": [],
   "source": [
    "vector_store.add(\n",
    "    documents=[chunks[x] for x in embedding_input_idxs],\n",
    "    texts=embedding_inputs,\n",
    "    dense_embeddings=dense_embeddings,\n",
    "    sparse_embedding_values=sparse_embedding_values,\n",
    "    sparse_embedding_indices=sparse_embedding_indices,\n",
    "    metadata_keys=[\"source_file\", \"source_id\", \"title\"]\n",
    ")"
   ]
  },
  {
   "cell_type": "code",
   "execution_count": 17,
   "metadata": {},
   "outputs": [
    {
     "name": "stdout",
     "output_type": "stream",
     "text": [
      "{\n",
      "    \"status\": \"green\",\n",
      "    \"optimizer_status\": \"ok\",\n",
      "    \"vectors_count\": null,\n",
      "    \"indexed_vectors_count\": 5183,\n",
      "    \"points_count\": 5183,\n",
      "    \"segments_count\": 8,\n",
      "    \"config\": {\n",
      "        \"params\": {\n",
      "            \"vectors\": {\n",
      "                \"vector_dense\": {\n",
      "                    \"size\": 1024,\n",
      "                    \"distance\": \"Cosine\",\n",
      "                    \"hnsw_config\": null,\n",
      "                    \"quantization_config\": null,\n",
      "                    \"on_disk\": true,\n",
      "                    \"datatype\": null,\n",
      "                    \"multivector_config\": null\n",
      "                }\n",
      "            },\n",
      "            \"shard_number\": 1,\n",
      "            \"sharding_method\": null,\n",
      "            \"replication_factor\": 1,\n",
      "            \"write_consistency_factor\": 1,\n",
      "            \"read_fan_out_factor\": null,\n",
      "            \"on_disk_payload\": true,\n",
      "            \"sparse_vectors\": {\n",
      "                \"vector_sparse\": {\n",
      "                    \"index\": null,\n",
      "                    \"modifier\": \"idf\"\n",
      "                }\n",
      "            }\n",
      "        },\n",
      "        \"hnsw_config\": {\n",
      "            \"m\": 16,\n",
      "            \"ef_construct\": 100,\n",
      "            \"full_scan_threshold\": 10000,\n",
      "            \"max_indexing_threads\": 0,\n",
      "            \"on_disk\": false,\n",
      "            \"payload_m\": null\n",
      "        },\n",
      "        \"optimizer_config\": {\n",
      "            \"deleted_threshold\": 0.2,\n",
      "            \"vacuum_min_vector_number\": 1000,\n",
      "            \"default_segment_number\": 0,\n",
      "            \"max_segment_size\": null,\n",
      "            \"memmap_threshold\": null,\n",
      "            \"indexing_threshold\": 20000,\n",
      "            \"flush_interval_sec\": 5,\n",
      "            \"max_optimization_threads\": null\n",
      "        },\n",
      "        \"wal_config\": {\n",
      "            \"wal_capacity_mb\": 32,\n",
      "            \"wal_segments_ahead\": 0\n",
      "        },\n",
      "        \"quantization_config\": null,\n",
      "        \"strict_mode_config\": {\n",
      "            \"enabled\": false,\n",
      "            \"max_query_limit\": null,\n",
      "            \"max_timeout\": null,\n",
      "            \"unindexed_filtering_retrieve\": null,\n",
      "            \"unindexed_filtering_update\": null,\n",
      "            \"search_max_hnsw_ef\": null,\n",
      "            \"search_allow_exact\": null,\n",
      "            \"search_max_oversampling\": null,\n",
      "            \"upsert_max_batchsize\": null,\n",
      "            \"max_collection_vector_size_bytes\": null,\n",
      "            \"read_rate_limit\": null,\n",
      "            \"write_rate_limit\": null,\n",
      "            \"max_collection_payload_size_bytes\": null,\n",
      "            \"filter_max_conditions\": null,\n",
      "            \"condition_max_size\": null\n",
      "        }\n",
      "    },\n",
      "    \"payload_schema\": {\n",
      "        \"text\": {\n",
      "            \"data_type\": \"text\",\n",
      "            \"params\": {\n",
      "                \"type\": \"text\",\n",
      "                \"tokenizer\": \"multilingual\",\n",
      "                \"min_token_len\": null,\n",
      "                \"max_token_len\": null,\n",
      "                \"lowercase\": null,\n",
      "                \"on_disk\": null\n",
      "            },\n",
      "            \"points\": 0\n",
      "        }\n",
      "    }\n",
      "}\n"
     ]
    }
   ],
   "source": [
    "# check collection\n",
    "collection_info = vector_store._client.get_collection(\n",
    "    collection_name=vector_store.collection_name\n",
    ")\n",
    "print(collection_info.model_dump_json(indent=4))"
   ]
  },
  {
   "cell_type": "code",
   "execution_count": 18,
   "metadata": {},
   "outputs": [],
   "source": [
    "# check point\n",
    "points = vector_store._client.retrieve(\n",
    "    collection_name=vector_store.collection_name,\n",
    "    ids=[chunks[0].id_],\n",
    "    with_vectors=True\n",
    ")"
   ]
  },
  {
   "cell_type": "code",
   "execution_count": 28,
   "metadata": {},
   "outputs": [
    {
     "data": {
      "text/plain": [
       "Record(id='5cdc8783-3524-4c79-b980-9b0dcd08d10c', payload={'source_id': '8add4065-38d4-4023-b65d-82c921451926'}, vector={'vector_sparse': SparseVector(indices=[64890871, 104660491, 119240421, 150760872, 160759034, 194714415, 242156862, 243669559, 291984105, 301030427, 354307472, 436751995, 440354553, 442064690, 512480045, 555641829, 581432272, 602572328, 611385325, 640186380, 640477688, 659326392, 754797265, 756007634, 794129062, 804460016, 880670268, 915998194, 967714644, 1001081408, 1031134330, 1058501323, 1082468256, 1093482543, 1162692215, 1230423685, 1296924235, 1298296063, 1326575350, 1338150097, 1365144653, 1376624736, 1595981574, 1701701189, 1724426273, 1727802518, 1852771076, 1923685331, 1960942172, 2031875777, 2058513491], values=[0.20482236, 0.11231826, 0.043780316, 0.036478095, 0.083974384, 0.0488945, 0.13082118, 0.044764306, 0.15345916, 0.12254513, 0.060797732, 0.033715118, 0.11159267, 0.04200773, 0.111143656, 0.08230578, 0.15471552, 0.045902673, 0.1920953, 0.15333788, 0.065682255, 0.113764614, 0.049215127, 0.07638241, 0.11128954, 0.041107185, 0.18211024, 0.13688043, 0.040538426, 0.14188501, 0.092748515, 0.04768951, 0.07285292, 0.14590287, 0.116119474, 0.049258135, 0.11274502, 0.05349399, 0.16020858, 0.05811531, 0.050019026, 0.063978836, 0.12289425, 0.07309306, 0.04743563, 0.07368977, 0.07487857, 0.07479659, 0.108737834, 0.043406032, 0.029903393]), 'vector_dense': [0.0013134413, 0.009423566, -0.004381981, -0.020959709, -0.04280504, -0.010562882, -0.06143999, 0.04040648, 0.04911509, 0.045830913, -0.0054751704, -0.01792461, -0.05941044, 0.008325765, -0.009529657, 0.005871855, -0.036771744, -0.05203026, -0.016411673, 0.002638414, 0.014511277, 0.026882302, 0.00773535, -0.0102769, 0.029465366, 0.050406624, -0.03793412, -0.012472503, 0.0864957, 0.053321794, 0.016088791, -0.017315745, 0.031513367, -0.06793455, 0.01647625, -0.025646122, 0.013764034, -0.053838406, -0.038229328, 0.060406767, 0.017767781, -0.01234335, 0.0008504503, 0.01931762, 0.013514953, -0.044133473, -0.0010067025, -0.021974484, -0.0044373325, -0.015083241, -0.036827095, 0.0054244315, -0.046716534, -0.02715906, -0.0185427, -0.006536071, -0.052214768, 0.006157837, -0.045388103, -0.018847132, -0.00044396392, 0.011457728, 0.0061993506, -0.034834445, 0.005419819, 0.027528068, 0.0007230269, -0.011854413, -0.0083396025, -0.05398601, -0.010968791, 0.041956317, 0.015175493, -0.028616644, -0.038893543, 0.024502195, -0.045425, -0.006097873, 0.057343993, -0.006337729, 0.036310483, -0.029151708, -0.037657365, -0.015138593, -0.016946737, 0.046790335, -0.011430052, 0.050111417, 0.033081654, -0.06383855, -0.0329156, 0.004296648, 0.05188266, -0.04199322, 0.0056919632, 0.01481571, 0.009086845, -0.0096680345, 0.052842084, 0.022417294, 0.02512951, 0.018551925, -0.0093451515, -0.013966989, 0.04911509, -0.008537944, 0.061845902, -0.0020122519, -0.0036093688, -0.005848792, 0.006079423, 0.0013226665, -0.02592288, 0.041882515, 0.005147675, 0.0045480356, -0.009981693, -0.034410086, -0.03907805, 0.02178998, 0.021531673, 0.032177582, 0.07121873, -0.04649513, -0.027417365, -0.0045803236, 0.017592503, 0.05642147, 0.008519494, 0.018468898, 0.0008245044, -0.0075323954, -0.03881974, -0.0037339095, 0.030369436, -0.008584071, 0.025683023, 0.044760786, -0.0006434594, -0.06099718, 0.0493734, 0.033063203, 0.005871855, 0.004347387, 0.0100554945, -0.015359998, -0.011716034, 0.03996367, -0.004921657, 0.043506157, -0.026531745, 0.0020814412, 0.005143062, 0.0035978374, 0.032435887, 0.02883805, 0.0065037827, 0.007592359, -0.0329525, 0.016697655, 0.0009963242, -0.026845401, -0.033598267, 0.0141053675, -0.02924396, 0.030517042, 0.046347525, 0.04206702, -0.0040291166, -0.018801006, 0.019981835, 0.019575926, -0.01852425, 0.012878412, 0.014013115, 0.018515024, 0.07487192, -0.016697655, -0.016079566, -0.03747286, 0.0039068824, -0.05730709, -0.022767853, 0.039004248, -0.00040302696, 0.012915313, 0.0057934406, 0.0006348107, 0.0108673135, 0.017620178, 0.013717908, -0.05845102, 0.017952286, -0.027970878, 0.020738304, -0.02631034, -0.044576284, -0.031494915, 0.016116466, -0.01340425, 0.0050600353, -0.00087639625, -0.0063561792, -0.016983638, -0.0227125, 0.027232861, -0.027564969, -0.042030122, 0.0050369725, -0.029594518, 0.011734485, -0.042214625, 0.040185075, 0.032435887, 0.008464143, 0.015553728, -0.011771386, -0.004402738, -0.0003995675, 0.00079163956, -0.02142097, 0.020461546, -0.0006728648, -0.03549866, 0.022823203, 0.014575854, 0.015350773, -0.0066790623, 0.024446843, -0.028911851, -0.05310039, 0.017610952, -0.0022336573, -0.035756968, 0.02350587, 0.037731167, 0.038672138, 0.010304575, -0.0018554232, 0.027177509, 0.014603529, 0.018551925, 0.013625655, -0.0058211163, -0.043838263, -0.005216864, -0.012029692, 0.00935899, -0.01402234, 0.020849006, 0.024317691, 0.011300899, 0.014603529, 0.006130161, -0.011845187, -0.0048939814, -0.00039639635, -0.02345052, 0.0060701976, 0.020978158, 0.05675358, -0.015848935, 0.030867599, 0.003542486, -0.019723529, 0.009649584, 0.009119133, 0.029520717, 0.024575997, 0.002841369, -0.019206917, -0.020277042, -0.02309996, 8.475674e-05, -0.0013330448, 0.03926255, -0.0015060178, 0.004499603, 0.037288357, -0.003203459, -0.0129060885, -0.029170157, -6.781981e-05, 0.022897005, 0.028302986, -0.02636569, -0.023967132, -0.042472932, 0.013524178, -0.009935566, -0.013754809, 0.0009006125, 0.06793455, -0.018127564, -0.06099718, -0.009760287, 0.014225296, -0.14251126, 0.026531745, 0.012703134, -0.0076615484, 0.021531673, 0.009299026, -0.038672138, 0.012297223, -0.02346897, -0.031605616, 0.020682951, -0.06948439, -0.03468684, 0.013284323, -0.027085258, -0.019575926, -0.01979733, -0.024409942, -0.019188466, -0.0127769355, -0.009557332, -0.00805362, 0.015581403, -0.0028206122, -0.033985727, 0.015120142, 0.021015061, 0.034317832, -0.051218443, -0.045203596, -0.013109043, -0.03963156, -0.015138593, 0.015193944, -0.00042551346, 0.015424575, -0.039299455, 0.013007565, -0.03629203, 0.0041997833, 0.013145944, 0.03907805, 0.023155313, -0.032398988, 0.02634724, -0.031291958, 0.07210435, 0.028764248, -0.025203312, -0.00040590984, 0.005004684, 0.018016862, 0.010904214, 0.01571978, -0.022048285, -0.019096214, 0.045019094, 0.025664574, -0.030646194, 0.0046841074, -0.025221763, -0.10435573, 0.012749259, 0.020461546, 0.008454918, -0.014649656, -0.021218015, -0.00011884683, -0.018229043, -0.006965044, 0.03581232, -0.016134916, -0.0017170449, -0.04073859, 0.041255202, -0.0069558187, 0.012297223, 0.010396827, 0.009239062, -0.097492166, -0.025074158, -0.0092898, -0.02601513, 0.0008221981, -0.019040862, -0.047749758, 0.011863638, -0.00937744, 0.062805325, 0.23144242, -0.022933906, -0.0011006845, -0.05848792, 0.027860176, -0.0041744136, 0.049963813, 0.020258592, 0.029539168, -0.0074401433, -0.01873643, 0.011273224, 0.008072071, 0.0010084322, -0.017352646, 0.00016619818, -0.019151565, -0.022860104, 0.08413404, -0.036513437, 0.016983638, -0.027491167, 0.04206702, -0.00110818, -0.03177167, -0.029981978, -0.007924467, 0.05062803, 0.030424789, 0.026993005, -0.023136862, -0.011660683, 0.013616431, 0.01808144, -0.010858089, 0.0044465577, -0.05029592, 0.0029636032, -0.048709184, 0.050554227, 0.0014310628, -0.03754666, -0.01626407, -0.009068395, 0.035185006, -0.035701618, 0.004462702, -0.033930372, -0.0016005763, -0.040701687, -0.036513437, 0.004144432, 0.028339889, 0.02346897, -0.0033256933, -0.00038111708, 0.002954378, -0.008058233, -0.038487636, 0.0031827022, 0.011402377, -0.0066836746, -0.036144428, 0.02675315, -0.021642376, -0.05236237, -0.0016916754, -0.06431826, -0.000697081, 0.018690303, 0.044650085, -0.0053414046, 0.003821549, 0.011014917, 0.050554227, -0.0049908464, -0.005941044, 0.035369508, 0.011845187, -0.04653203, -0.07114492, -0.037731167, -0.026974555, -0.06361715, 0.008625585, 0.030867599, 0.00897153, 0.00935899, 0.0062454767, -0.05405981, -0.05313729, 0.016928285, -0.005493621, 0.0061532245, -0.020313943, 0.0066975127, -0.015230845, -0.015461476, 0.008902341, 0.017491024, -0.03252814, -0.014778809, -0.0072787018, -0.04284194, 0.02020324, -0.0062593143, -0.006213188, 0.038524535, -0.041513506, -0.030203383, -0.055904858, 0.037454408, -0.036568787, -0.019649727, -0.035738517, 0.052214768, -0.051735055, 0.048856787, 0.048413977, -0.027269762, 0.030037329, 0.041255202, -0.011891314, 0.08103437, 0.0329894, 0.048967488, -0.009179098, -0.009751062, 0.014086917, 0.038155526, 0.019096214, -0.024040934, -0.06516698, 0.0059179813, 0.061107885, -0.012472503, 0.024834303, 0.030240284, 0.020443097, 0.017850809, -0.026587095, -0.037177652, 0.049262695, 0.017334197, 0.0097326115, -0.032620393, 0.013367349, -0.020498447, -0.002555387, 0.031790122, -0.084281646, -0.017389547, 0.020424645, -0.028653545, -0.014142268, -0.061403092, -0.045425, -0.017721655, 0.04911509, -0.04324785, 0.017601727, -0.024446843, 0.031181257, -0.0050000716, 0.05811891, 0.03293405, -0.024815852, 0.016771456, 0.013994665, -0.020295493, 0.00093290076, -0.027140608, -0.042472932, 0.021513222, -0.0329525, 0.038044825, -0.046753436, 0.032435887, 0.019040862, -0.022325043, -0.019280719, -0.03293405, 0.009585008, 0.025387816, 0.03046169, 0.017214268, 0.00038659453, -0.017223492, 0.041402806, -0.030277185, 0.002880576, 0.08981678, -0.02631034, -0.0077907015, 0.004870918, -0.008399567, -0.0043796753, 0.02394868, 0.0015890448, -0.014954088, 0.029594518, 0.076237254, -0.0010032431, -0.01937297, 0.017075889, -0.0077445754, -0.019963386, 0.03538796, 0.0267716, 0.013847061, -0.004474234, -0.02428079, -0.07369109, 0.008717837, -0.031568717, 0.0032518914, -0.034465436, -0.024668248, -0.004875531, -0.017297294, -0.03572007, -0.02721441, 0.007739963, -0.07638486, -0.018090663, 0.013450377, -0.030867599, 0.00577499, -0.00021059456, 0.03673484, 0.008201224, -0.013145944, 0.008893115, -0.01651315, -0.015157043, -0.03658724, -0.019225366, 0.010249224, -0.04402277, -0.0080167195, 0.01568288, 0.01668843, -0.025203312, 0.052546877, -0.05520374, 0.0370854, 0.0037592787, 0.012823061, 0.06815595, 0.008362666, -0.014788034, 0.016955962, -0.016033439, -0.01794306, 0.013847061, 0.003512504, 0.034336284, 0.026254987, -0.0038607563, -0.019834232, -0.012555529, 0.024040934, 0.020461546, -0.02182688, -0.10081325, -0.052177865, 0.01670688, 0.01979733, -0.00927135, -0.03405953, -0.021144213, -0.0024446843, -0.030295635, -0.053727705, 0.0017666303, -0.03376432, -0.024631348, 0.031974625, 0.027564969, -0.01216807, 0.01730652, -0.015369223, 0.007546233, 0.04036958, -0.00628699, -0.0076661613, 0.07033311, -0.02837679, -0.010424503, -0.018893259, -0.0015163962, -0.024889654, -0.026937654, 0.025553871, 0.00833499, 0.0577499, -0.040000573, 0.03177167, -0.012675458, 0.03549866, -0.033081654, -0.022638699, -0.033229258, 0.0056965756, 0.041845616, 0.011909764, 0.036125977, -0.03009268, 0.010470629, 0.0042020897, 0.013810161, -0.013007565, -0.027933978, 0.005055423, 0.004787891, 0.0049308822, 0.020092538, -0.054797832, -0.014013115, 0.00037736932, -0.0024608285, 0.015184718, 0.01670688, -0.017038988, -0.04989001, -0.02804468, -0.02429924, -0.025498519, 0.0057565398, -0.022066737, 0.0004171531, 0.008394954, -0.026956104, 0.005871855, -0.00070803595, -0.015184718, -0.03793412, -0.0029566842, 0.033948824, 0.048635382, -0.032767996, -0.014585079, 0.08745512, -0.012140395, -0.023173762, 0.025443168, 0.024317691, 0.02138407, 0.05686428, 0.011144071, -0.018127564, 0.045535706, -0.010978016, -0.013800935, 0.011854413, 0.023432069, -0.01709434, 0.015636755, 0.035295706, -0.057713002, -0.011153296, -0.0012765403, 0.0006993873, 0.023930231, 0.006337729, 0.038930446, 0.0032311347, -0.03915185, 0.006305441, -0.03752821, 0.0074724313, -0.019631276, -0.029133257, 0.01979733, -0.0010124684, 0.031089004, -0.0062224134, -0.029428465, 0.002358198, 0.0083718905, 0.00784144, -0.005899531, 0.014843386, -0.030719995, 0.036033724, -0.032325186, -0.0046218373, -0.006466882, 0.058746226, 0.03088605, 0.0021840718, 0.042030122, -0.03044324, 0.009414341, -0.13550009, 0.018810231, -0.0033556751, -0.011393151, -0.04442868, 0.010156971, 0.014612755, 0.0086624855, -0.044613183, -0.04365376, -0.0017435673, -0.023210663, 0.034668393, -0.029041005, -0.024096284, 0.021771528, 0.041033797, -0.0077215126, 0.012417152, 0.08162478, -0.010027818, -0.0026314952, 0.03405953, 0.016642304, 0.04435488, -0.006314666, -0.066643015, 0.021550123, -0.026236536, 0.013745584, 0.0039622337, 0.0027398914, -0.004861693, 0.0016720719, -0.049151994, 0.031402662, 0.001176216, -0.025277114, 0.0062593143, 0.033875022, 0.006715963, 0.03658724, 0.02178998, -0.0027099096, -0.043912064, 0.00865326, -0.033635166, 0.017002087, 0.005013909, 0.010821188, 0.0052445396, 0.04867228, -0.04498219, -0.044317976, -0.010461404, -0.022158988, -0.031900823, -0.003445621, 0.071513936, -0.021181114, 0.009751062, -0.0035194228, -0.016208718, -0.047085542, -0.033930372, 0.04365376, -0.030406337, 0.028967204, 0.007938305, 0.038229328, -0.041882515, 0.07343278, 0.03210378, -0.0494472, -0.0069465935, 0.044945292, 0.030258734, -0.010747386, 0.02225124, -0.029059455, -0.007749188, -0.009880215, 0.012684683, -0.018690303, 0.02518486, 0.03907805, -0.021107312, -0.005221477, -0.023690375, 0.0052722157, -0.0657943, -0.00012461259, -0.009405116, 0.0010459097, -0.06642161, 0.014778809, -0.03429938, -0.04199322, -0.065351486, -0.01979733, 0.016411673, -0.0077168997, 0.012998341, -0.026439492, -0.03874594, 0.054613326, -0.033137005, -0.005373693, 0.057343993, 0.010461404, -0.00833499, -0.052177865, 0.002758342, -0.014797259, -0.07298997, 0.002841369, -0.0010430269, 0.01836742, -0.034096427, -0.002864432, 0.0205907, -0.030756896, -0.016033439, -0.01979733, -0.00309045, 0.018404322, 0.017767781, 0.0017055132, 0.046790335, -0.03667949, 0.048524678, -0.07158774, -0.0019580538, 0.054355018, 0.01465888, 0.020664502, 0.011448503, 0.041882515, -0.008238125, 0.0044004316, 0.0039576213, 0.021531673, -0.004792504, 0.00309045, -0.07070211, -0.030719995, 0.0071772244, 0.006167062, 0.013192071, 0.012804611, 0.031845473, -0.018127564, -0.03926255, 0.034077976, 0.0012788466, -0.043174047, 0.07631105, 0.07158774, -0.004958558, 0.056126263, 0.013062917, -0.06018536, -0.032177582, -0.022417294, 0.026181186, 0.029022554, 0.030258734, -0.01070126, 0.017214268, 0.032362085, -0.037712716, -0.005055423, -0.0024700537, -0.010636684, -0.045129795, -0.008648647, -0.015249295, 0.039852966, 0.038340032, -0.017407998, 0.03088605, 0.03258349, -0.0050830985, 0.028524393, 0.0411076, 0.08671711, 0.0020595312, 0.01896706, 0.012509404, 0.00447654, 0.008879278, -0.020332394, 0.04402277, -0.029151708, -0.004875531, 0.028100032, -0.015618304, 0.007071134, -0.015931962, 0.06453966, -0.013136719, -0.0205907, -0.02802623, -0.023616573, -0.016171817, -0.005825729, 0.021753078, -0.018810231, -0.020572249, 0.027970878, -0.0130352415, -0.030295635, 0.003037405, 0.039410155, 0.0065960353, 0.011605332, -0.010959566, 0.0048109544, 0.0036508823, -0.018847132, 0.04173491, 0.00081585575, 0.025849078, -0.032749545, -0.040923093, 0.061624497, 0.019539025, 0.008893115, -0.0063884677, -0.010941115, -0.003173477, -0.015276971, -0.017989187, 0.0028667382, 0.02551697, 0.040886194, -0.036845546, -0.0247236, 0.050738733, 0.006489945, 0.03699315, -0.0082104495, 0.006097873, 0.022195889]}, shard_key=None, order_value=None)"
      ]
     },
     "execution_count": 28,
     "metadata": {},
     "output_type": "execute_result"
    }
   ],
   "source": [
    "points[0]"
   ]
  },
  {
   "cell_type": "code",
   "execution_count": 19,
   "metadata": {},
   "outputs": [
    {
     "name": "stdout",
     "output_type": "stream",
     "text": [
      "5cdc8783-3524-4c79-b980-9b0dcd08d10c\n",
      "{'source_id': '8add4065-38d4-4023-b65d-82c921451926'}\n"
     ]
    }
   ],
   "source": [
    "print(points[0].id)\n",
    "print(points[0].payload)"
   ]
  },
  {
   "cell_type": "code",
   "execution_count": 21,
   "metadata": {},
   "outputs": [
    {
     "name": "stdout",
     "output_type": "stream",
     "text": [
      "dict_keys(['vector_sparse', 'vector_dense'])\n"
     ]
    }
   ],
   "source": [
    "print(points[0].vector.keys())"
   ]
  },
  {
   "cell_type": "code",
   "execution_count": 22,
   "metadata": {},
   "outputs": [
    {
     "data": {
      "text/plain": [
       "1024"
      ]
     },
     "execution_count": 22,
     "metadata": {},
     "output_type": "execute_result"
    }
   ],
   "source": [
    "# dense\n",
    "len(points[0].vector['vector_dense'])"
   ]
  },
  {
   "cell_type": "code",
   "execution_count": 27,
   "metadata": {},
   "outputs": [
    {
     "name": "stdout",
     "output_type": "stream",
     "text": [
      "51 [0.20482236, 0.11231826, 0.043780316, 0.036478095, 0.083974384, 0.0488945, 0.13082118, 0.044764306, 0.15345916, 0.12254513]\n",
      "51 [64890871, 104660491, 119240421, 150760872, 160759034, 194714415, 242156862, 243669559, 291984105, 301030427]\n"
     ]
    }
   ],
   "source": [
    "# sparse\n",
    "type(points[0].vector['vector_sparse'])\n",
    "sparse_value = points[0].vector['vector_sparse'].values\n",
    "sparse_index = points[0].vector['vector_sparse'].indices\n",
    "print(len(sparse_value), sparse_value[:10])\n",
    "print(len(sparse_index), sparse_index[:10])"
   ]
  }
 ],
 "metadata": {
  "kernelspec": {
   "display_name": "docling",
   "language": "python",
   "name": "docling"
  },
  "language_info": {
   "codemirror_mode": {
    "name": "ipython",
    "version": 3
   },
   "file_extension": ".py",
   "mimetype": "text/x-python",
   "name": "python",
   "nbconvert_exporter": "python",
   "pygments_lexer": "ipython3",
   "version": "3.10.14"
  }
 },
 "nbformat": 4,
 "nbformat_minor": 2
}
