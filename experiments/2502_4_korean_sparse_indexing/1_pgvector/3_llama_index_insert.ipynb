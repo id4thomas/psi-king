{
 "cells": [
  {
   "cell_type": "code",
   "execution_count": 1,
   "metadata": {},
   "outputs": [],
   "source": [
    "import copy\n",
    "import itertools\n",
    "import os\n",
    "from typing import List\n",
    "from tqdm import tqdm\n",
    "\n",
    "import matplotlib.pyplot as plt\n",
    "import pandas as pd\n",
    "from pydantic import BaseModel, Field\n",
    "from transformers import AutoTokenizer"
   ]
  },
  {
   "cell_type": "code",
   "execution_count": 2,
   "metadata": {},
   "outputs": [
    {
     "name": "stdout",
     "output_type": "stream",
     "text": [
      "psi_king\n"
     ]
    }
   ],
   "source": [
    "from pydantic_settings import BaseSettings, SettingsConfigDict\n",
    "class DBSettings(BaseSettings):\n",
    "    model_config = SettingsConfigDict(\n",
    "        env_file=\".env\", env_file_encoding=\"utf-8\", extra=\"ignore\"\n",
    "    )\n",
    "    postgres_user: str\n",
    "    postgres_password: str\n",
    "    postgres_db: str\n",
    "    postgres_port: str\n",
    "    \n",
    "class Settings(BaseSettings):\n",
    "    model_config = SettingsConfigDict(\n",
    "        env_file=\"../../.env\", env_file_encoding=\"utf-8\", extra=\"ignore\"\n",
    "    )\n",
    "    data_dir: str\n",
    "\n",
    "settings = Settings()\n",
    "db_settings = DBSettings()\n",
    "print(db_settings.postgres_db)"
   ]
  },
  {
   "cell_type": "markdown",
   "metadata": {},
   "source": [
    "# 1. Prepare Data\n",
    "* AutoRAGRetrieval: 금융, 공공, 의료, 법률, 커머스 5개 분야에 대해, pdf를 파싱하여 구성한 한국어 문서 검색 데이터셋 (`yjoonjang/markers_bm`)\n",
    "    * https://huggingface.co/datasets/yjoonjang/markers_bm"
   ]
  },
  {
   "cell_type": "code",
   "execution_count": 3,
   "metadata": {},
   "outputs": [
    {
     "name": "stdout",
     "output_type": "stream",
     "text": [
      "(720, 3) Index(['_id', 'text', 'title'], dtype='object')\n"
     ]
    }
   ],
   "source": [
    "file_path = os.path.join(\n",
    "    settings.data_dir, \"retrieval_dataset/markers_bm/corpus/corpus-00000-of-00001.parquet\"\n",
    ")\n",
    "\n",
    "df = pd.read_parquet(file_path)\n",
    "print(df.shape, df.columns)"
   ]
  },
  {
   "cell_type": "code",
   "execution_count": 4,
   "metadata": {},
   "outputs": [
    {
     "name": "stdout",
     "output_type": "stream",
     "text": [
      "commerce - B2BDigComm.pdf - 1\n",
      "\n",
      "Adobe\n",
      "디지털 커머스 시대,\n",
      "B2B 비즈니스 생존 전략\n",
      "B2B 비즈니스를 e커머스에 통합해야 하는\n",
      "3가지 이유\n"
     ]
    }
   ],
   "source": [
    "print(df.iloc[0]['_id'])\n",
    "print(df.iloc[0]['title'])\n",
    "print(df.iloc[0]['text'])"
   ]
  },
  {
   "cell_type": "code",
   "execution_count": 5,
   "metadata": {},
   "outputs": [
    {
     "data": {
      "text/plain": [
       "Text(0.5, 1.0, 'yjoonjang/markers_bm - text length')"
      ]
     },
     "execution_count": 5,
     "metadata": {},
     "output_type": "execute_result"
    },
    {
     "data": {
      "image/png": "[encoded data removed]",
      "text/plain": [
       "<Figure size 640x480 with 1 Axes>"
      ]
     },
     "metadata": {},
     "output_type": "display_data"
    }
   ],
   "source": [
    "text_lens = [len(df.iloc[i]['text']) for i in range(df.shape[0])]\n",
    "plt.hist(text_lens, bins = 20)\n",
    "plt.title('yjoonjang/markers_bm - text length')"
   ]
  },
  {
   "cell_type": "markdown",
   "metadata": {},
   "source": [
    "# 2. Init DB Collection"
   ]
  },
  {
   "cell_type": "code",
   "execution_count": 6,
   "metadata": {},
   "outputs": [],
   "source": [
    "from llama_index.core import Settings\n",
    "from llama_index.core import SimpleDirectoryReader, StorageContext\n",
    "from llama_index.core import VectorStoreIndex\n",
    "from llama_index.vector_stores.postgres import PGVectorStore\n",
    "\n",
    "import numpy as np\n",
    "import psycopg2\n",
    "from sqlalchemy import make_url"
   ]
  },
  {
   "cell_type": "code",
   "execution_count": 7,
   "metadata": {},
   "outputs": [
    {
     "name": "stdout",
     "output_type": "stream",
     "text": [
      "Embeddings have been explicitly disabled. Using MockEmbedding.\n"
     ]
    }
   ],
   "source": [
    "## Silence errors\n",
    "Settings.embed_model = None"
   ]
  },
  {
   "cell_type": "code",
   "execution_count": 8,
   "metadata": {},
   "outputs": [
    {
     "name": "stdout",
     "output_type": "stream",
     "text": [
      "DB: psi_king\n"
     ]
    }
   ],
   "source": [
    "connection_string = \"postgresql://{}:{}@localhost:{}/{}\".format(\n",
    "    db_settings.postgres_user,\n",
    "    db_settings.postgres_password,\n",
    "    db_settings.postgres_port,\n",
    "    db_settings.postgres_db\n",
    ")\n",
    "\n",
    "db_name = db_settings.postgres_db\n",
    "print(f\"DB: {db_name}\")\n",
    "conn = psycopg2.connect(connection_string)\n",
    "conn.autocommit=True\n",
    "\n",
    "## Initialize vector store instance\n",
    "url = make_url(connection_string)\n",
    "\n",
    "## hnsw indexing config\n",
    "hnsw_config = {\n",
    "    \"hnsw_m\": 16,\n",
    "    \"hnsw_ef_construction\": 64,\n",
    "    \"hnsw_ef_search\": 40,\n",
    "    \"hnsw_dist_method\": \"vector_cosine_ops\",\n",
    "}"
   ]
  },
  {
   "cell_type": "markdown",
   "metadata": {},
   "source": [
    "## 2-1. text_search_config setting\n",
    "* llama_index.vector_stores.postgres.PGVectorStore [link](https://github.com/run-llama/llama_index/blob/34184044a31d0f16bc7855b0ee2ed5ffc14829a8/llama-index-integrations/vector_stores/llama-index-vector-stores-postgres/llama_index/vector_stores/postgres/base.py#L122)\n",
    "    * text_search_config: Text search configuration. Defaults to \"english\".\n",
    "\n",
    "Usage of `text_search_config` param inside `PGVectorStore`\n",
    "* `to_tsvector('korean', content)`\n",
    "* https://taejoone.jeju.onl/posts/2024-01-27-postgres-16-korean/\n",
    "```\n",
    "text_search_tsv = Column(  # type: ignore\n",
    "    TSVector(),\n",
    "    Computed(\n",
    "        \"to_tsvector('%s', text)\" % text_search_config, persisted=True\n",
    "    ),\n",
    ")\n",
    "```"
   ]
  },
  {
   "cell_type": "code",
   "execution_count": 9,
   "metadata": {},
   "outputs": [],
   "source": [
    "# https://github.com/run-llama/llama_index/blob/34184044a31d0f16bc7855b0ee2ed5ffc14829a8/llama-index-integrations/vector_stores/llama-index-vector-stores-postgres/llama_index/vector_stores/postgres/base.py#L122\n",
    "# text_search_config: Text search configuration. Defaults to \"english\".\n",
    "embedding_dim = 64\n",
    "\n",
    "vector_store = PGVectorStore.from_params(\n",
    "    database=db_name,\n",
    "    host=url.host,\n",
    "    password=url.password,\n",
    "    port=url.port,\n",
    "    user=url.username,\n",
    "    table_name=\"markers_bm\",\n",
    "    embed_dim=embedding_dim,\n",
    "    hnsw_kwargs=hnsw_config,\n",
    "    text_search_config=\"korean\",\n",
    "    hybrid_search=True,\n",
    ")\n",
    "\n",
    "## create storage context\n",
    "storage_context = StorageContext.from_defaults(vector_store=vector_store)"
   ]
  },
  {
   "cell_type": "code",
   "execution_count": 10,
   "metadata": {},
   "outputs": [],
   "source": [
    "storage_index = VectorStoreIndex.from_vector_store(vector_store)"
   ]
  },
  {
   "cell_type": "markdown",
   "metadata": {},
   "source": [
    "# 3. insert data"
   ]
  },
  {
   "cell_type": "code",
   "execution_count": 11,
   "metadata": {},
   "outputs": [],
   "source": [
    "import json\n",
    "\n",
    "from llama_index.core import Document\n",
    "from llama_index.core.schema import TextNode\n",
    "from llama_index.core.indices.utils import embed_nodes\n",
    "from llama_index.core.ingestion.pipeline import run_transformations"
   ]
  },
  {
   "cell_type": "code",
   "execution_count": 17,
   "metadata": {},
   "outputs": [
    {
     "name": "stderr",
     "output_type": "stream",
     "text": [
      "100%|██████████| 720/720 [00:00<00:00, 36219.37it/s]\n"
     ]
    }
   ],
   "source": [
    "## row -> TextNode (Document)\n",
    "documents = []\n",
    "\n",
    "for i in tqdm(range(df.shape[0])):\n",
    "    row = df.iloc[i]\n",
    "    embedding = np.random.normal(0, 1, embedding_dim)\n",
    "    document = Document(\n",
    "        text = row[\"text\"],\n",
    "        metadata = {\n",
    "            \"docid\": str(row[\"_id\"]),\n",
    "            \"title\": str(row[\"title\"]),\n",
    "        },\n",
    "        text_template='{content}',\n",
    "        embedding = embedding.tolist()\n",
    "    )\n",
    "    documents.append(document)"
   ]
  },
  {
   "cell_type": "code",
   "execution_count": 18,
   "metadata": {},
   "outputs": [
    {
     "data": {
      "text/plain": [
       "[Document(id_='4d10f265-4aa5-4336-b476-a6c096d82450', embedding=[0.036047022655346844, 2.375358079225267, 0.320951309712542, -1.1186557367998347, -0.97701890875044, -0.4053277355107894, 0.2784389792923222, -0.42430654089852343, 0.14108908848701027, 0.4908356844860926, -1.4540173875056335, 0.48302658773977164, -0.46223459340227685, -1.0911283677242052, 0.23536714571307185, -0.17886571083963265, 1.294911846331463, 0.3553800759647416, -0.6708332228861729, -0.4113197729035693, -0.9737781301210773, -1.8341898621040196, -0.9063949259479329, -0.5704305878872992, 1.2199703150274592, 1.5563939031800356, 0.6002630125556857, -0.5626804081706769, -2.3219485538265383, 1.3917494760633038, 0.44331616469645174, 0.1944480004990625, 0.37928277644921715, 0.09854193316807505, 1.7224682081430789, 1.2886465874405633, -1.5061850518259232, -1.095137508958061, -0.5180322283281623, 0.9808385758353585, 0.8256717918537926, -0.07809388576156995, 1.4893714851644702, -0.6416035185942329, 0.5325179506271938, -0.5328007485616445, -0.7254354961834901, -0.6306478906556062, 0.20417401610423824, 1.401726390862474, 0.5682768287423476, -0.8610690967836172, -0.38444063292163666, 1.5315122682704918, -0.21484757408240493, -0.41230655820226336, -1.714274179710491, 2.198251889904028, -2.0881435052803994, -0.10071409084298369, 0.3294632859975618, 0.27837865238586507, 0.16448864723109802, 0.29868583217851674], metadata={'docid': 'commerce - B2BDigComm.pdf - 1', 'title': ''}, excluded_embed_metadata_keys=[], excluded_llm_metadata_keys=[], relationships={}, metadata_template='{key}: {value}', metadata_separator='\\n', text_resource=MediaResource(embeddings=None, data=None, text='Adobe\\n디지털 커머스 시대,\\nB2B 비즈니스 생존 전략\\nB2B 비즈니스를 e커머스에 통합해야 하는\\n3가지 이유', path=None, url=None, mimetype=None), image_resource=None, audio_resource=None, video_resource=None, text_template='{content}'),\n",
       " Document(id_='625f04fe-ac19-44f1-9edf-17b99465a1d8', embedding=[-0.17050977914347595, -0.5922399486035879, -0.32859347925804244, -0.022534055037527655, 0.8182739989165472, 0.2801406823740969, 2.2073921203145677, -0.8826516703098258, 0.9858173980583261, -1.1289362101350893, -0.20764111566100718, 0.9299248505541384, 0.6053351751182523, -0.25023106430672, 0.6892390819299886, 0.6038833688945687, -0.37212730261116844, 0.41540026503258604, -0.5486514346671469, -1.238246663878105, -0.9723476533340508, 0.40575902662056046, 0.5960964733511394, -1.8153392142433944, 1.4911564285471761, -0.16442711537952134, -0.9274519382138771, -1.1410772587846543, -1.7946222566313421, 0.6966873190204825, -1.3206223656376261, 0.38260646521827074, 0.5429403705841142, -1.313391493202818, 0.09362548715440888, 1.1299967867198464, 0.2357699613259895, -1.0571058526329773, -0.2838604327638226, -0.0037440012255405813, -0.9817998145791473, 0.6943220496898458, -0.6916077067125936, -0.06472708879038919, -0.6116573630194424, -0.07994801209866512, -0.4536137389727195, -0.8867007383923359, 1.1473066427891925, 1.374865356398219, -0.5003927390014963, -0.3196071723701572, -1.6726417527721835, 0.8024070559637952, -0.5513016516600481, 0.21128518964926365, 0.5290652775783857, 1.283308187708199, -0.1378375251812389, 0.16408227526446395, -0.39792572383396085, 0.21976538368432377, -0.40952944115027173, -0.7558716292473271], metadata={'docid': 'commerce - B2BDigComm.pdf - 2', 'title': ''}, excluded_embed_metadata_keys=[], excluded_llm_metadata_keys=[], relationships={}, metadata_template='{key}: {value}', metadata_separator='\\n', text_resource=MediaResource(embeddings=None, data=None, text='목차\\ne커머스의 급성장 3\\nB2B e커머스 장점 1. 미래 전략 4\\nB2B e커머스 장점 2. 비용 절감 8\\nB2B e커머스 장점 3. 매출 증가 13\\n결론 17\\nB2B e커머스의 가치 18\\n출처 19\\n2', path=None, url=None, mimetype=None), image_resource=None, audio_resource=None, video_resource=None, text_template='{content}')]"
      ]
     },
     "execution_count": 18,
     "metadata": {},
     "output_type": "execute_result"
    }
   ],
   "source": [
    "documents[:2]"
   ]
  },
  {
   "cell_type": "code",
   "execution_count": 19,
   "metadata": {},
   "outputs": [
    {
     "data": {
      "application/vnd.jupyter.widget-view+json": {
       "model_id": "798b8f7c63274434aeb0220714f7548e",
       "version_major": 2,
       "version_minor": 0
      },
      "text/plain": [
       "Generating embeddings: 0it [00:00, ?it/s]"
      ]
     },
     "metadata": {},
     "output_type": "display_data"
    }
   ],
   "source": [
    "storage_index.insert_nodes(documents, show_progress=True)"
   ]
  },
  {
   "cell_type": "markdown",
   "metadata": {},
   "source": [
    "# 4. Test Retrieval"
   ]
  },
  {
   "cell_type": "code",
   "execution_count": null,
   "metadata": {},
   "outputs": [],
   "source": [
    "retriever_args = {\n",
    "    \"similarity_top_k\": 30,\n",
    "    # \"vector_store_query_mode\": \"hybrid\"\n",
    "    \"vector_store_query_mode\": \"sparse\" # test with sparse\n",
    "}\n",
    "retriever = storage_index.as_retriever(**retriever_args)"
   ]
  },
  {
   "cell_type": "code",
   "execution_count": 23,
   "metadata": {},
   "outputs": [],
   "source": [
    "query = \"시중은행, 지방은행, 인터넷은행의 인가 요건 및 절차에 차이가 있는데 그 차이점은 무엇인가요?\"\n",
    "nodes = retriever.retrieve(query)"
   ]
  },
  {
   "cell_type": "code",
   "execution_count": 27,
   "metadata": {},
   "outputs": [
    {
     "name": "stdout",
     "output_type": "stream",
     "text": [
      "금융위원회 보도자료 금융감독원\n",
      "2024.1.31.(수) 금융위 호의후\n",
      "보도시점 배포 2024.1.30.(화) 10:00\n",
      "(별도공지)\n",
      "지방은행의 시중은행 전환시\n",
      "인가방식 및절차\n",
      "은행법 제8조 은행업인가 규정에 따른 '인가내용의 변경'을 통해 전환\n",
      "신규인가에 준하여 법령상 모든 세부심사요건 심사\n",
      "예비인가 절차는 생략 가능하되, 신청인이 희망할 경우에는 진행\n",
      "정부는 2023년 7월 5일 은행권 경쟁촉진을 위해 지방은행의 시중은행\n",
      "전환을 추진하겠다고 발표 한 바 있습니다.\n",
      "* 「은행권 경영·영업 관행·제도 개선 방안」\n",
      "현행 은행업 인가체계상 은행업 영위를 위해서는 시중은행·지방은행·인터넷\n",
      "전문은행 모두 은행법 제8조에 따라 금융위원회의 인가를 받아야 합니다.\n",
      "시중은행·지방은행·인터넷전문은행은 인가요건·절차가 대부분 동일하나, 일부\n",
      "인가요건' 및 영업구역·방식에서 차이가 존재합니다.\n",
      "* 최소자본금: (시중) 1,000억원 (지방) 250억원 (인터넷) 250억원\n",
      "비금융주력자 주식보유한도: (시중) 4% (지방) 15% (인터넷엾) 34%\n",
      "<표> 영업구역 및 영업방식에 따른 은행의 종류 구분\n",
      "영업방식 ＼영업구역 전국 일부 제한\n",
      "온 + 오프라인 시중은행 지방은행\n",
      "온라인 인터넷전문은행\n",
      "다만, 현행 은행법령상 지방은행의 시중은행 전환에 관한 명시적인 규정은\n",
      "없으며, 종전에도 은행 종류의 전환 사례는 없었습니다. 지방은행의 정관\n",
      "에서 특정지역으로 제한하고 있는 영업구역을 전국으로 변경시 시중은행\n",
      "으로 전환이 가능하다는 일부의견도 있으나, 은행 종류의 전환은 금융감독\n",
      "정책의 중요사항으로 사전 승인절차 없이 정관 변경만으로 허용하는 것은\n",
      "부적절한 측면이 있습니다.\n",
      "-1-\n"
     ]
    }
   ],
   "source": [
    "print(nodes[0].text)"
   ]
  },
  {
   "cell_type": "code",
   "execution_count": 36,
   "metadata": {},
   "outputs": [
    {
     "name": "stdout",
     "output_type": "stream",
     "text": [
      "<class 'llama_index.core.schema.NodeWithScore'>\n",
      "NODE efa837dc-95ea-4042-b241-34646c060f1b\n",
      "TEXT:\n",
      "'금융위원회 보도자료 금융감독원\\n2024.1.31.(수) 금융위 호의후\\n보도시점 배포 2024.1.30.(화) 10:00\\n(별도공지)\\n지방은행의 시중은행 전환시\\n인가방식 및절차\\n은행'\n",
      "NODE 7db25734-d601-44ab-9179-79fa2af89edc\n",
      "TEXT:\n",
      "'2. 심사 내용\\n가. 쟁점 사항: 모든 세부심사요건 심사 VS 일부요건 심사\\n□ 지방은행의 경우 과거 은행업 인가를 받고 계속 영업중\\nO 지방은행과 시중은행에 요구되는 인가요건은 '\n",
      "NODE 6c734284-b159-4c2b-bfae-783de2b35666\n",
      "TEXT:\n",
      "'참고 1 현행 은행업 인가체계\\n□은행업 영위를 위해서는 「은행법」(제8조)상 금융위 인가 필요\\n* (은행법 §81) 은행업을 경영하려는 자는 금융위원회의 인가를 받아야 한다.\\no '\n",
      "NODE 48c415a5-351c-4edb-a5f2-d704ffeed85c\n",
      "TEXT:\n",
      "'이에 금융위원회(사무처) 및 금융감독원은 현행 은행법령 체계에서 지방\\n은행의 시중은행 전환 방식·절차 등을 명확히 하기 위해 「지방은행의 시중\\n은행 전환시 인가방식 및 절차」 를 '\n",
      "NODE 62951d09-fa05-4537-92d3-d722ce7212cd\n",
      "TEXT:\n",
      "'1. 법 제8조제2항 각 호의 요건을 충족하는지를 확인하기 위하여 다른 기관 등으\\n로부터 필요한 자료를 제공받는 데에 걸리는 기간\\n2. 제5항에 따라 인가신청서 흠결의 보완을 요구'\n"
     ]
    }
   ],
   "source": [
    "print(type(nodes[0]))\n",
    "for node in nodes[:5]:\n",
    "    print(f\"NODE {node.id_}\")\n",
    "    print(f\"TEXT:\\n{repr(node.text[:100])}\")"
   ]
  },
  {
   "cell_type": "markdown",
   "metadata": {},
   "source": [
    "## 4-1. Metadata Filtering"
   ]
  },
  {
   "cell_type": "code",
   "execution_count": 38,
   "metadata": {},
   "outputs": [
    {
     "name": "stdout",
     "output_type": "stream",
     "text": [
      "{'docid': 'finance - 240130(보도자료) 지방은행의 시중은행 전환시 인가방식 및 절차.pdf - 1', 'title': ''}\n"
     ]
    }
   ],
   "source": [
    "print(nodes[0].metadata[''])"
   ]
  },
  {
   "cell_type": "code",
   "execution_count": 66,
   "metadata": {},
   "outputs": [],
   "source": [
    "## Metadata Filtering\n",
    "from llama_index.core.vector_stores.types import (\n",
    "    MetadataFilter,\n",
    "    MetadataFilters,\n",
    ")\n",
    "retriever_args = {\n",
    "    \"similarity_top_k\": 10,\n",
    "    \"vector_store_query_mode\": \"sparse\"\n",
    "}\n",
    "\n",
    "filters = MetadataFilters(\n",
    "    filters = [\n",
    "        MetadataFilter(\n",
    "            key=\"docid\", value=\"law\", operator=\"text_match\"\n",
    "        ),\n",
    "    ],\n",
    "    condition=\"and\",\n",
    ")\n",
    "\n",
    "retriever = storage_index.as_retriever(filters=filters, **retriever_args)"
   ]
  },
  {
   "cell_type": "code",
   "execution_count": 67,
   "metadata": {},
   "outputs": [
    {
     "name": "stdout",
     "output_type": "stream",
     "text": [
      "10\n"
     ]
    }
   ],
   "source": [
    "query = \"시중은행, 지방은행, 인터넷은행의 인가 요건 및 절차에 차이가 있는데 그 차이점은 무엇인가요?\"\n",
    "nodes = retriever.retrieve(query)\n",
    "print(len(nodes))"
   ]
  },
  {
   "cell_type": "code",
   "execution_count": 69,
   "metadata": {},
   "outputs": [
    {
     "name": "stdout",
     "output_type": "stream",
     "text": [
      "NODE 5b5999bb-9621-436d-b880-a5d62094b663\n",
      "docid: law - 행정_조세_가상자산.pdf - 5\n",
      "NODE 6e964bd8-fb50-4fb5-a93b-4f4c5d504468\n",
      "docid: law - 민사_스마트폰.pdf - 18\n",
      "NODE f9446463-73e0-4084-b06e-8e534bc6d16b\n",
      "docid: law - 민사_미성년자인.pdf - 10\n",
      "NODE e9591546-f446-40a8-af57-13cb6dbc9e76\n",
      "docid: law - 민사_분양받은.pdf - 3\n",
      "NODE a57d59b7-026f-4779-83b2-b69f5952e675\n",
      "docid: law - 민사_스마트폰.pdf - 10\n"
     ]
    }
   ],
   "source": [
    "for node in nodes[:5]:\n",
    "    print(f\"NODE {node.id_}\")\n",
    "    print(f\"docid: {node.metadata['docid']}\")"
   ]
  }
 ],
 "metadata": {
  "kernelspec": {
   "display_name": "docling",
   "language": "python",
   "name": "docling"
  },
  "language_info": {
   "codemirror_mode": {
    "name": "ipython",
    "version": 3
   },
   "file_extension": ".py",
   "mimetype": "text/x-python",
   "name": "python",
   "nbconvert_exporter": "python",
   "pygments_lexer": "ipython3",
   "version": "3.10.14"
  }
 },
 "nbformat": 4,
 "nbformat_minor": 2
}
