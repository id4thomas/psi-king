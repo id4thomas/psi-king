{
 "cells": [
  {
   "cell_type": "code",
   "execution_count": 1,
   "metadata": {},
   "outputs": [],
   "source": [
    "import json\n",
    "import multiprocessing\n",
    "import os\n",
    "import random\n",
    "import requests\n",
    "import time\n",
    "from typing import List, Literal\n",
    "\n",
    "from bs4 import BeautifulSoup\n",
    "import httpx\n",
    "import pandas as pd\n",
    "from pydantic import BaseModel, Field\n",
    "from tqdm import tqdm\n",
    "\n",
    "from src.config import settings\n",
    "# from src.http_client import HTTPXClient"
   ]
  },
  {
   "cell_type": "markdown",
   "metadata": {},
   "source": [
    "‘금융위원회 - 정책마당 - 정책일반 - 금융정책’의 PDF 파일들 다운로드\n",
    "- 목록 URL : `https://www.fsc.go.kr/po010101?curPage={pageNum}&srchCtgry=1`\n",
    "- 상세 페이지 URL: `https://www.fsc.go.kr/po010101/{itemNum}?srchCtgry=1&curPage={pageNum}&srchKey=&srchText=&srchBeginDt=&srchEndDt=`\n",
    "    - itemNum은 목록에 보이는 번호가 아닌 구분 값 (ex. “84155”)\n",
    "- 파일 다운로드 URL: `https://www.fsc.go.kr/comm/getFile?srvcId=BBSTY1&upperNo={itemNum}&fileTy=ATTACH&fileNo={fileNo}`"
   ]
  },
  {
   "cell_type": "markdown",
   "metadata": {},
   "source": [
    "# 1. 목차 페이지 파싱"
   ]
  },
  {
   "cell_type": "markdown",
   "metadata": {},
   "source": [
    "## 1-1. 목차 페이지 Get"
   ]
  },
  {
   "cell_type": "code",
   "execution_count": 2,
   "metadata": {},
   "outputs": [],
   "source": [
    "def get_page(page_no: int):\n",
    "    url = f\"https://www.fsc.go.kr/po010101?curPage={page_no}&srchCtgry=1\"\n",
    "    headers = {\"Content-Type\": \"application/json\"}\n",
    "    with httpx.Client() as client:\n",
    "        response = client.get(url, headers=headers)\n",
    "    response.raise_for_status()\n",
    "    return response.text"
   ]
  },
  {
   "cell_type": "code",
   "execution_count": 3,
   "metadata": {},
   "outputs": [],
   "source": [
    "page = get_page(1)"
   ]
  },
  {
   "cell_type": "markdown",
   "metadata": {},
   "source": [
    "## 1-2. 파싱"
   ]
  },
  {
   "cell_type": "code",
   "execution_count": 4,
   "metadata": {},
   "outputs": [],
   "source": [
    "class ItemFile(BaseModel):\n",
    "    no: int\n",
    "    name: str\n",
    "    extension: Literal[\"pdf\", \"hwp\", \"hwpx\", \"doc\", \"docx\"]\n",
    "    \n",
    "class ItemDetail(BaseModel):\n",
    "    page_no: int = Field(-1)\n",
    "    item_no: str = Field(\"\")\n",
    "    item_id: str = Field(\"\")\n",
    "    title: str = Field(\"\")\n",
    "    date: str = Field(\"\")\n",
    "    files: List[ItemFile] = Field(list())"
   ]
  },
  {
   "cell_type": "code",
   "execution_count": 5,
   "metadata": {},
   "outputs": [],
   "source": [
    "def parse_list_page(html_content: str, page_no: int = -1):\n",
    "    soup = BeautifulSoup(html_content, 'html.parser')\n",
    "    items = []\n",
    "    for item in soup.find_all('div', class_='inner'):\n",
    "        # 아이템 번호 찾기\n",
    "        count_div = item.find('div', class_='count')\n",
    "        if count_div:\n",
    "            # 리스트상 번호\n",
    "            item_number = count_div.text.strip()\n",
    "\n",
    "            # 날짜 찾기\n",
    "            date_div = item.find('div', class_='day')\n",
    "            date_value = date_div.text.strip() if date_div else None\n",
    "\n",
    "            # href 찾기\n",
    "            link_div = item.find('div', class_='subject').find('a')\n",
    "            href_value = link_div['href'] if link_div else None\n",
    "            title_value = link_div.text.strip() if link_div else \"No Title\"\n",
    "            \n",
    "            # 고유 번호 추출\n",
    "            unique_id = href_value.split('/')[-1].split('?')[0] if href_value else None\n",
    "            \n",
    "            # 파일 리스트를 저장할 리스트\n",
    "            files = []\n",
    "            # 첨부파일 존재 여부 및 파일명, fileNo 찾기\n",
    "            file_elements = item.find_all('div', class_='file-list')\n",
    "            for file_elem in file_elements:\n",
    "                file_name = file_elem.find('span', class_='name').text.strip()\n",
    "                file_no = file_elem.find('span', class_='ico download').find('a')['href']\n",
    "                file_no = file_no.split('fileNo=')[-1]  # fileNo 추출\n",
    "                \n",
    "                file_extension = file_name.rsplit(\".\", 1)[-1]\n",
    "                if file_extension not in [\"pdf\", \"hwp\", \"hwpx\", \"doc\", \"docx\"]:\n",
    "                    continue\n",
    "                file = ItemFile(\n",
    "                    no=file_no,\n",
    "                    name=file_name,\n",
    "                    extension=file_extension\n",
    "                )\n",
    "                files.append(file)\n",
    "            item_detail = ItemDetail(\n",
    "                page_no=page_no,\n",
    "                item_no=item_number,\n",
    "                item_id=unique_id,\n",
    "                title=title_value,\n",
    "                date=date_value,\n",
    "                files=files\n",
    "            )\n",
    "            items.append(item_detail)\n",
    "    return items"
   ]
  },
  {
   "cell_type": "code",
   "execution_count": 6,
   "metadata": {},
   "outputs": [],
   "source": [
    "page_items = parse_list_page(page, page_no=1)"
   ]
  },
  {
   "cell_type": "code",
   "execution_count": 7,
   "metadata": {},
   "outputs": [
    {
     "data": {
      "text/plain": [
       "[ItemDetail(page_no=1, item_no='2718', item_id='84155', title='[보도참고] 신용보증기금이 P-CBO를 직접 발행하여 기업의 비용부담을 약 50bp 절감합니다 - 「신용보증기금법」 개정안, 국회 본회의 통과', date='2025-03-13', files=[ItemFile(no=1, name='250313(보도참고) 신용보증기금이 P-CBO를 직접 발행하여 기업의 비용부담을 약 50bp 절감합니다.pdf', extension='pdf'), ItemFile(no=2, name='250313(보도참고) 신용보증기금이 P-CBO를 직접 발행하여 기업의 비용부담을 약 50bp 절감합니다.hwp', extension='hwp'), ItemFile(no=3, name='250313(보도참고) 신용보증기금이 P-CBO를 직접 발행하여 기업의 비용부담을 약 50bp 절감합니다.hwpx', extension='hwpx')]),\n",
       " ItemDetail(page_no=1, item_no='2717', item_id='84130', title='[보도자료] 민･관이 함께 건전한 가상자산시장  조성을 위해 노력해나가겠습니다. - 금융위원회, 가상자산 업계·전문가 간담회 개최', date='2025-03-12', files=[ItemFile(no=1, name='250312(보도자료) 민･관이 함께 건전한 가상자산시장을 조성해나가겠습니다. - 금융위원회  가상자산 업계·전문가 간담회 개최 -.pdf', extension='pdf'), ItemFile(no=2, name='250312(보도자료) 민･관이 함께 건전한 가상자산시장을 조성해나가겠습니다. - 금융위원회  가상자산 업계·전문가 간담회 개최 -.hwp', extension='hwp'), ItemFile(no=3, name='250312(보도자료) 민･관이 함께 건전한 가상자산시장을 조성해나가겠습니다. - 금융위원회  가상자산 업계·전문가 간담회 개최 -.hwpx', extension='hwpx'), ItemFile(no=4, name='[붙임] 가상자산 업계 전문가 간담회_김소영 부위원장 모두발언_수정.pdf', extension='pdf'), ItemFile(no=5, name='[붙임] 가상자산 업계 전문가 간담회_김소영 부위원장 모두발언_수정.hwp', extension='hwp'), ItemFile(no=6, name='[붙임] 가상자산 업계 전문가 간담회_김소영 부위원장 모두발언_수정.hwpx', extension='hwpx')]),\n",
       " ItemDetail(page_no=1, item_no='2716', item_id='84129', title='[보도자료] 2025년 2월중 가계대출 동향(잠정)       - ’25.2월중 全 금융권 가계대출은 +4.3조원 증가하여  전월 감소세(△0.9조원)에서 증가세로 전환', date='2025-03-12', files=[ItemFile(no=1, name='250312(보도자료) 2025년 2월중 가계대출 동향(잠정).pdf', extension='pdf'), ItemFile(no=2, name='250312(보도자료) 2025년 2월중 가계대출 동향(잠정).hwp', extension='hwp'), ItemFile(no=3, name='250312(보도자료) 2025년 2월중 가계대출 동향(잠정).hwpx', extension='hwpx')]),\n",
       " ItemDetail(page_no=1, item_no='2715', item_id='84123', title='[보도자료] “나도 모르게 개설되는 계좌”  이제는 사전에 차단할 수 있습니다. - 보이스피싱 피해 방지를 위한 ｢비대면 계좌개설 안심차단｣ 서비스 시행', date='2025-03-12', files=[ItemFile(no=1, name='250311(보도자료) “나도 모르게 개설되는 계좌” 이제는 사전에 차단할 수 있습니다.pdf', extension='pdf'), ItemFile(no=2, name='250311(보도자료) “나도 모르게 개설되는 계좌” 이제는 사전에 차단할 수 있습니다.hwp', extension='hwp'), ItemFile(no=3, name='250311(보도자료) “나도 모르게 개설되는 계좌” 이제는 사전에 차단할 수 있습니다.hwpx', extension='hwpx')]),\n",
       " ItemDetail(page_no=1, item_no='2714', item_id='84109', title='[보도참고] 금융시장 현안 점검·소통회의 개최', date='2025-03-10', files=[ItemFile(no=1, name='250310(보도참고) 금융시장 현안 점검·소통회의 개최.pdf', extension='pdf'), ItemFile(no=2, name='250310(보도참고) 금융시장 현안 점검·소통회의 개최.hwp', extension='hwp'), ItemFile(no=3, name='250310(보도참고) 금융시장 현안 점검·소통회의 개최.hwpx', extension='hwpx')]),\n",
       " ItemDetail(page_no=1, item_no='2713', item_id='84103', title='[보도자료] 신종 자금세탁수법 등에 대한 대응능력을  강화하기 위해 AML 교육 내실화 추진', date='2025-03-07', files=[ItemFile(no=1, name='250307 (보도자료) 2025년도 AML 교육운영방향 발표_FN.pdf', extension='pdf'), ItemFile(no=2, name='250307 (보도자료) 2025년도 AML 교육운영방향 발표_FN.hwp', extension='hwp'), ItemFile(no=3, name='250307 (보도자료) 2025년도 AML 교육운영방향 발표_FN.hwpx', extension='hwpx'), ItemFile(no=4, name='(별첨) 자금세탁방지 관련 2025년도 교육운영방향.pdf', extension='pdf'), ItemFile(no=5, name='(별첨) 자금세탁방지 관련 2025년도 교육운영방향.hwp', extension='hwp'), ItemFile(no=6, name='(별첨) 자금세탁방지 관련 2025년도 교육운영방향.hwpx', extension='hwpx')]),\n",
       " ItemDetail(page_no=1, item_no='2712', item_id='84086', title='[보도자료] 자금세탁방지 취약부문･고위험 기관에 대해 집중적 검사실시 예정', date='2025-03-05', files=[ItemFile(no=4, name='(보도자료) 250305 자금세탁방지 취약부문 · 고위험 기관에 대해 집중적 검사실시 예정.pdf', extension='pdf'), ItemFile(no=5, name='(보도자료) 250305 자금세탁방지 취약부문 · 고위험 기관에 대해 집중적 검사실시 예정.hwp', extension='hwp'), ItemFile(no=6, name='(보도자료) 250305 자금세탁방지 취약부문 · 고위험 기관에 대해 집중적 검사실시 예정.hwpx', extension='hwpx')]),\n",
       " ItemDetail(page_no=1, item_no='2711', item_id='84085', title='[보도자료] 50조원 규모 첨단전략산업기금 신설', date='2025-03-05', files=[ItemFile(no=1, name='250304(보도자료) 50조원 규모 첨단전략산업기금 신설.pdf', extension='pdf'), ItemFile(no=2, name='250304(보도자료) 50조원 규모 첨단전략산업기금 신설.hwp', extension='hwp'), ItemFile(no=3, name='250304(보도자료) 50조원 규모 첨단전략산업기금 신설.hwpx', extension='hwpx'), ItemFile(no=4, name='1-2. (풀안건) 대한민국 산업경쟁력강화를 위한첨단전략산업기금 신설 방안(최종).pdf', extension='pdf'), ItemFile(no=5, name='1-2. (풀안건) 대한민국 산업경쟁력강화를 위한첨단전략산업기금 신설 방안(최종).hwp', extension='hwp'), ItemFile(no=6, name='1-2. (풀안건) 대한민국 산업경쟁력강화를 위한첨단전략산업기금 신설 방안(최종).hwpx', extension='hwpx')]),\n",
       " ItemDetail(page_no=1, item_no='2710', item_id='84068', title='[보도자료] 「미래 변화와 금융의 대응 전략」 기조연설', date='2025-02-27', files=[ItemFile(no=1, name='250227(보도자료) 「미래 변화와 금융의 대응 전략」 기조연설.pdf', extension='pdf'), ItemFile(no=2, name='250227(보도자료) 「미래 변화와 금융의 대응 전략」 기조연설.hwp', extension='hwp'), ItemFile(no=3, name='250227(보도자료) 「미래 변화와 금융의 대응 전략」 기조연설.hwpx', extension='hwpx')]),\n",
       " ItemDetail(page_no=1, item_no='2709', item_id='84064', title='[보도자료] ‘25년도 가계부채 관리방안 발표  - 관계부처 합동 「가계부채 점검회의」 개최', date='2025-02-27', files=[ItemFile(no=1, name='250227(보도자료) ‘25년도 가계부채 관리방안 발표 - 관계부처 합동 「가계부채 점검회의」 개최 -.pdf', extension='pdf'), ItemFile(no=2, name='250227(보도자료) ‘25년도 가계부채 관리방안 발표 - 관계부처 합동 「가계부채 점검회의」 개최 -.hwp', extension='hwp'), ItemFile(no=3, name='250227(보도자료) ‘25년도 가계부채 관리방안 발표 - 관계부처 합동 「가계부채 점검회의」 개최 -.hwpx', extension='hwpx'), ItemFile(no=4, name=\"250227[별첨] '25년도 가계부채 관리방안.pdf\", extension='pdf'), ItemFile(no=5, name=\"250227[별첨] '25년도 가계부채 관리방안.hwp\", extension='hwp'), ItemFile(no=6, name=\"250227[별첨] '25년도 가계부채 관리방안.hwpx\", extension='hwpx')])]"
      ]
     },
     "execution_count": 7,
     "metadata": {},
     "output_type": "execute_result"
    }
   ],
   "source": [
    "page_items"
   ]
  },
  {
   "cell_type": "code",
   "execution_count": 8,
   "metadata": {},
   "outputs": [
    {
     "name": "stderr",
     "output_type": "stream",
     "text": [
      "100%|██████████| 99/99 [03:14<00:00,  1.96s/it]\n"
     ]
    }
   ],
   "source": [
    "items = []\n",
    "failed_idxs = []\n",
    "\n",
    "for page_no in tqdm(range(1, 100)):\n",
    "    try:\n",
    "        page = get_page(page_no)\n",
    "        page_items = parse_list_page(page, page_no=page_no)\n",
    "        items.extend(page_items)\n",
    "    except Exception as e:\n",
    "        print(f\"Page {page_no} Failed - {str(e)}\")\n",
    "        failed_idxs.append(page_no)\n",
    "        \n",
    "    x = random.randint(0, 10)\n",
    "    time.sleep(0.1*x)"
   ]
  },
  {
   "cell_type": "code",
   "execution_count": 9,
   "metadata": {},
   "outputs": [
    {
     "data": {
      "text/plain": [
       "(990, 990)"
      ]
     },
     "execution_count": 9,
     "metadata": {},
     "output_type": "execute_result"
    }
   ],
   "source": [
    "items_with_files = list(filter(lambda x: len(x.files)>0, items))\n",
    "len(items), len(items_with_files)"
   ]
  },
  {
   "cell_type": "code",
   "execution_count": 10,
   "metadata": {},
   "outputs": [
    {
     "data": {
      "text/plain": [
       "(datetime.datetime(2021, 5, 20, 0, 0), datetime.datetime(2025, 3, 13, 0, 0))"
      ]
     },
     "execution_count": 10,
     "metadata": {},
     "output_type": "execute_result"
    }
   ],
   "source": [
    "from datetime import datetime\n",
    "dates = [\n",
    "    datetime.strptime(x.date, \"%Y-%m-%d\")\n",
    "    for x in items\n",
    "]\n",
    "min(dates), max(dates)"
   ]
  },
  {
   "cell_type": "code",
   "execution_count": 11,
   "metadata": {},
   "outputs": [
    {
     "name": "stderr",
     "output_type": "stream",
     "text": [
      "/var/folders/wj/0c7skj2154q4844jqxlw3yxr0000gn/T/ipykernel_31661/3180321472.py:6: PydanticDeprecatedSince20: The `dict` method is deprecated; use `model_dump` instead. Deprecated in Pydantic V2.0 to be removed in V3.0. See Pydantic V2 Migration Guide at https://errors.pydantic.dev/2.10/migration/\n",
      "  [x.dict() for x in items],\n"
     ]
    }
   ],
   "source": [
    "with open(os.path.join(settings.data_dir, \"retrieval_dataset/2503-01-korean-finance/kr-fsc_policy_metadata.json\"), \"w\") as f:\n",
    "    # item_dicts = []\n",
    "    # for item in item_dicts:\n",
    "        \n",
    "    f.write(json.dumps(\n",
    "        [x.dict() for x in items],\n",
    "        indent=4,\n",
    "        ensure_ascii=False\n",
    "    ))"
   ]
  },
  {
   "cell_type": "markdown",
   "metadata": {},
   "source": [
    "# Filter Files"
   ]
  },
  {
   "cell_type": "code",
   "execution_count": 12,
   "metadata": {},
   "outputs": [],
   "source": [
    "class FileDetail(BaseModel):\n",
    "    page_no: int = Field(-1)\n",
    "    item_no: str = Field(\"\")\n",
    "    item_id: str = Field(\"\")\n",
    "    # item_name: str = Field(\"\")\n",
    "    item_date: str = Field(\"\")\n",
    "    item_title: str = Field(\"\")\n",
    "    no: int = Field(...)\n",
    "    name: str = Field(\"\")\n",
    "    extension: Literal[\"pdf\", \"hwp\", \"hwpx\", \"doc\", \"docx\"]"
   ]
  },
  {
   "cell_type": "code",
   "execution_count": 15,
   "metadata": {},
   "outputs": [
    {
     "data": {
      "text/plain": [
       "1332"
      ]
     },
     "execution_count": 15,
     "metadata": {},
     "output_type": "execute_result"
    }
   ],
   "source": [
    "pdf_file_details = []\n",
    "\n",
    "for item in items:\n",
    "    for file in item.files:\n",
    "        if file.extension==\"pdf\":\n",
    "            detail = FileDetail(\n",
    "                page_no=item.page_no,\n",
    "                item_no=item.item_no,\n",
    "                item_id=item.item_id,\n",
    "                item_date=item.date,\n",
    "                item_title=item.title,\n",
    "                no=file.no,\n",
    "                name=file.name,\n",
    "                extension=file.extension\n",
    "            )\n",
    "            pdf_file_details.append(detail)\n",
    "len(pdf_file_details)"
   ]
  },
  {
   "cell_type": "code",
   "execution_count": 16,
   "metadata": {},
   "outputs": [
    {
     "data": {
      "text/plain": [
       "[FileDetail(page_no=1, item_no='2718', item_id='84155', item_date='2025-03-13', item_title='[보도참고] 신용보증기금이 P-CBO를 직접 발행하여 기업의 비용부담을 약 50bp 절감합니다 - 「신용보증기금법」 개정안, 국회 본회의 통과', no=1, name='250313(보도참고) 신용보증기금이 P-CBO를 직접 발행하여 기업의 비용부담을 약 50bp 절감합니다.pdf', extension='pdf'),\n",
       " FileDetail(page_no=1, item_no='2717', item_id='84130', item_date='2025-03-12', item_title='[보도자료] 민･관이 함께 건전한 가상자산시장  조성을 위해 노력해나가겠습니다. - 금융위원회, 가상자산 업계·전문가 간담회 개최', no=1, name='250312(보도자료) 민･관이 함께 건전한 가상자산시장을 조성해나가겠습니다. - 금융위원회  가상자산 업계·전문가 간담회 개최 -.pdf', extension='pdf'),\n",
       " FileDetail(page_no=1, item_no='2717', item_id='84130', item_date='2025-03-12', item_title='[보도자료] 민･관이 함께 건전한 가상자산시장  조성을 위해 노력해나가겠습니다. - 금융위원회, 가상자산 업계·전문가 간담회 개최', no=4, name='[붙임] 가상자산 업계 전문가 간담회_김소영 부위원장 모두발언_수정.pdf', extension='pdf')]"
      ]
     },
     "execution_count": 16,
     "metadata": {},
     "output_type": "execute_result"
    }
   ],
   "source": [
    "pdf_file_details[:3]"
   ]
  },
  {
   "cell_type": "code",
   "execution_count": 17,
   "metadata": {},
   "outputs": [
    {
     "name": "stderr",
     "output_type": "stream",
     "text": [
      "/var/folders/wj/0c7skj2154q4844jqxlw3yxr0000gn/T/ipykernel_31661/342585427.py:6: PydanticDeprecatedSince20: The `dict` method is deprecated; use `model_dump` instead. Deprecated in Pydantic V2.0 to be removed in V3.0. See Pydantic V2 Migration Guide at https://errors.pydantic.dev/2.10/migration/\n",
      "  [x.dict() for x in pdf_file_details],\n"
     ]
    }
   ],
   "source": [
    "with open(os.path.join(settings.data_dir, \"retrieval_dataset/2503-01-korean-finance/kr-fsc_pdf_file_metadata.json\"), \"w\") as f:\n",
    "    # item_dicts = []\n",
    "    # for item in item_dicts:\n",
    "        \n",
    "    f.write(json.dumps(\n",
    "        [x.dict() for x in pdf_file_details],\n",
    "        indent=4,\n",
    "        ensure_ascii=False\n",
    "    ))"
   ]
  },
  {
   "cell_type": "code",
   "execution_count": 18,
   "metadata": {},
   "outputs": [
    {
     "name": "stderr",
     "output_type": "stream",
     "text": [
      "/var/folders/wj/0c7skj2154q4844jqxlw3yxr0000gn/T/ipykernel_31661/2305275716.py:1: PydanticDeprecatedSince20: The `dict` method is deprecated; use `model_dump` instead. Deprecated in Pydantic V2.0 to be removed in V3.0. See Pydantic V2 Migration Guide at https://errors.pydantic.dev/2.10/migration/\n",
      "  df = pd.DataFrame.from_dict([x.dict() for x in pdf_file_details])\n"
     ]
    }
   ],
   "source": [
    "df = pd.DataFrame.from_dict([x.dict() for x in pdf_file_details])"
   ]
  },
  {
   "cell_type": "code",
   "execution_count": 19,
   "metadata": {},
   "outputs": [
    {
     "data": {
      "text/html": [
       "<div>\n",
       "<style scoped>\n",
       "    .dataframe tbody tr th:only-of-type {\n",
       "        vertical-align: middle;\n",
       "    }\n",
       "\n",
       "    .dataframe tbody tr th {\n",
       "        vertical-align: top;\n",
       "    }\n",
       "\n",
       "    .dataframe thead th {\n",
       "        text-align: right;\n",
       "    }\n",
       "</style>\n",
       "<table border=\"1\" class=\"dataframe\">\n",
       "  <thead>\n",
       "    <tr style=\"text-align: right;\">\n",
       "      <th></th>\n",
       "      <th>page_no</th>\n",
       "      <th>item_no</th>\n",
       "      <th>item_id</th>\n",
       "      <th>item_date</th>\n",
       "      <th>item_title</th>\n",
       "      <th>no</th>\n",
       "      <th>name</th>\n",
       "      <th>extension</th>\n",
       "    </tr>\n",
       "  </thead>\n",
       "  <tbody>\n",
       "    <tr>\n",
       "      <th>0</th>\n",
       "      <td>1</td>\n",
       "      <td>2718</td>\n",
       "      <td>84155</td>\n",
       "      <td>2025-03-13</td>\n",
       "      <td>[보도참고] 신용보증기금이 P-CBO를 직접 발행하여 기업의 비용부담을 약 50bp...</td>\n",
       "      <td>1</td>\n",
       "      <td>250313(보도참고) 신용보증기금이 P-CBO를 직접 발행하여 기업의 비용부담을 ...</td>\n",
       "      <td>pdf</td>\n",
       "    </tr>\n",
       "    <tr>\n",
       "      <th>1</th>\n",
       "      <td>1</td>\n",
       "      <td>2717</td>\n",
       "      <td>84130</td>\n",
       "      <td>2025-03-12</td>\n",
       "      <td>[보도자료] 민･관이 함께 건전한 가상자산시장  조성을 위해 노력해나가겠습니다. -...</td>\n",
       "      <td>1</td>\n",
       "      <td>250312(보도자료) 민･관이 함께 건전한 가상자산시장을 조성해나가겠습니다. - ...</td>\n",
       "      <td>pdf</td>\n",
       "    </tr>\n",
       "    <tr>\n",
       "      <th>2</th>\n",
       "      <td>1</td>\n",
       "      <td>2717</td>\n",
       "      <td>84130</td>\n",
       "      <td>2025-03-12</td>\n",
       "      <td>[보도자료] 민･관이 함께 건전한 가상자산시장  조성을 위해 노력해나가겠습니다. -...</td>\n",
       "      <td>4</td>\n",
       "      <td>[붙임] 가상자산 업계 전문가 간담회_김소영 부위원장 모두발언_수정.pdf</td>\n",
       "      <td>pdf</td>\n",
       "    </tr>\n",
       "    <tr>\n",
       "      <th>3</th>\n",
       "      <td>1</td>\n",
       "      <td>2716</td>\n",
       "      <td>84129</td>\n",
       "      <td>2025-03-12</td>\n",
       "      <td>[보도자료] 2025년 2월중 가계대출 동향(잠정)       - ’25.2월중 全...</td>\n",
       "      <td>1</td>\n",
       "      <td>250312(보도자료) 2025년 2월중 가계대출 동향(잠정).pdf</td>\n",
       "      <td>pdf</td>\n",
       "    </tr>\n",
       "    <tr>\n",
       "      <th>4</th>\n",
       "      <td>1</td>\n",
       "      <td>2715</td>\n",
       "      <td>84123</td>\n",
       "      <td>2025-03-12</td>\n",
       "      <td>[보도자료] “나도 모르게 개설되는 계좌”  이제는 사전에 차단할 수 있습니다. -...</td>\n",
       "      <td>1</td>\n",
       "      <td>250311(보도자료) “나도 모르게 개설되는 계좌” 이제는 사전에 차단할 수 있습...</td>\n",
       "      <td>pdf</td>\n",
       "    </tr>\n",
       "  </tbody>\n",
       "</table>\n",
       "</div>"
      ],
      "text/plain": [
       "   page_no item_no item_id   item_date  \\\n",
       "0        1    2718   84155  2025-03-13   \n",
       "1        1    2717   84130  2025-03-12   \n",
       "2        1    2717   84130  2025-03-12   \n",
       "3        1    2716   84129  2025-03-12   \n",
       "4        1    2715   84123  2025-03-12   \n",
       "\n",
       "                                          item_title  no  \\\n",
       "0  [보도참고] 신용보증기금이 P-CBO를 직접 발행하여 기업의 비용부담을 약 50bp...   1   \n",
       "1  [보도자료] 민･관이 함께 건전한 가상자산시장  조성을 위해 노력해나가겠습니다. -...   1   \n",
       "2  [보도자료] 민･관이 함께 건전한 가상자산시장  조성을 위해 노력해나가겠습니다. -...   4   \n",
       "3  [보도자료] 2025년 2월중 가계대출 동향(잠정)       - ’25.2월중 全...   1   \n",
       "4  [보도자료] “나도 모르게 개설되는 계좌”  이제는 사전에 차단할 수 있습니다. -...   1   \n",
       "\n",
       "                                                name extension  \n",
       "0  250313(보도참고) 신용보증기금이 P-CBO를 직접 발행하여 기업의 비용부담을 ...       pdf  \n",
       "1  250312(보도자료) 민･관이 함께 건전한 가상자산시장을 조성해나가겠습니다. - ...       pdf  \n",
       "2          [붙임] 가상자산 업계 전문가 간담회_김소영 부위원장 모두발언_수정.pdf       pdf  \n",
       "3             250312(보도자료) 2025년 2월중 가계대출 동향(잠정).pdf       pdf  \n",
       "4  250311(보도자료) “나도 모르게 개설되는 계좌” 이제는 사전에 차단할 수 있습...       pdf  "
      ]
     },
     "execution_count": 19,
     "metadata": {},
     "output_type": "execute_result"
    }
   ],
   "source": [
    "df.head()"
   ]
  },
  {
   "cell_type": "code",
   "execution_count": null,
   "metadata": {},
   "outputs": [],
   "source": []
  }
 ],
 "metadata": {
  "kernelspec": {
   "display_name": "docling",
   "language": "python",
   "name": "docling"
  },
  "language_info": {
   "codemirror_mode": {
    "name": "ipython",
    "version": 3
   },
   "file_extension": ".py",
   "mimetype": "text/x-python",
   "name": "python",
   "nbconvert_exporter": "python",
   "pygments_lexer": "ipython3",
   "version": "3.10.14"
  }
 },
 "nbformat": 4,
 "nbformat_minor": 2
}
