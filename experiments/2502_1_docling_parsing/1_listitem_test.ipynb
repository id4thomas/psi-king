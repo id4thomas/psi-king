{
 "cells": [
  {
   "cell_type": "markdown",
   "metadata": {},
   "source": [
    "# 1. Listitem test\n",
    "* docling handles lists as `GroupItem` which consists of multiple items\n",
    "* when parsing pdfs with version <=2.18.0 indentations were not properly recognized"
   ]
  },
  {
   "cell_type": "code",
   "execution_count": 2,
   "metadata": {},
   "outputs": [],
   "source": [
    "import json\n",
    "from pathlib import Path\n",
    "import os\n",
    "import time\n",
    "\n",
    "import fitz\n",
    "import pandas as pd\n",
    "from pydantic_settings import BaseSettings, SettingsConfigDict\n",
    "\n",
    "class Settings(BaseSettings):\n",
    "    model_config = SettingsConfigDict(\n",
    "        env_file=\"../.env\", env_file_encoding=\"utf-8\", extra=\"ignore\"\n",
    "    )\n",
    "    data_dir: str\n",
    "    docling_model_weight_dir: str\n",
    "    \n",
    "settings = Settings()\n",
    "os.environ[\"HF_HOME\"] = settings.docling_model_weight_dir"
   ]
  },
  {
   "cell_type": "code",
   "execution_count": 3,
   "metadata": {},
   "outputs": [],
   "source": [
    "# Import docling\n",
    "from docling.datamodel.base_models import InputFormat\n",
    "from docling.document_converter import (\n",
    "    DocumentConverter,\n",
    "    PdfFormatOption,\n",
    "    WordFormatOption,\n",
    ")\n",
    "from docling.pipeline.simple_pipeline import SimplePipeline\n",
    "from docling.pipeline.standard_pdf_pipeline import StandardPdfPipeline\n",
    "from docling.datamodel.pipeline_options import PdfPipelineOptions\n",
    "from docling.backend.docling_parse_v2_backend import DoclingParseV2DocumentBackend\n",
    "from docling.backend.pypdfium2_backend import PyPdfiumDocumentBackend\n",
    "\n",
    "from docling.datamodel.document import ConversionResult\n",
    "\n",
    "IMAGE_RESOLUTION_SCALE = 2.0\n",
    "\n",
    "pdf_format_options = PdfPipelineOptions()\n",
    "pdf_format_options.images_scale = IMAGE_RESOLUTION_SCALE\n",
    "pdf_format_options.generate_page_images = True\n",
    "pdf_format_options.generate_picture_images = True\n",
    "\n",
    "pdf_format_options.do_ocr = False\n",
    "# pdf_format_options.do_table_structure = False\n",
    "pdf_format_options.do_table_structure = True\n",
    "\n",
    "converter = DocumentConverter(\n",
    "    allowed_formats=[\n",
    "            InputFormat.PDF,\n",
    "            # InputFormat.IMAGE,\n",
    "            # InputFormat.DOCX,\n",
    "            # InputFormat.HTML,\n",
    "            # InputFormat.PPTX,\n",
    "    ],\n",
    "    format_options={\n",
    "        InputFormat.PDF: PdfFormatOption(\n",
    "            pipeline_options=pdf_format_options, # pipeline options go here.\n",
    "            # backend=PyPdfiumDocumentBackend # optional: pick an alternative backend\n",
    "            backend=DoclingParseV2DocumentBackend # optional: pick an alternative backend\n",
    "        ),\n",
    "    }\n",
    ")"
   ]
  },
  {
   "cell_type": "code",
   "execution_count": 12,
   "metadata": {},
   "outputs": [],
   "source": [
    "# pdf with indented list created in google docs\n",
    "file_path = \"../samples/list_group_sample_google.pdf\"\n",
    "\n",
    "# pdf with indented list created in ms word\n",
    "# file_path = \"../samples/list_group_sample_msword.pdf\"\n",
    "\n",
    "result = converter.convert(file_path)\n",
    "document = result.document"
   ]
  },
  {
   "cell_type": "code",
   "execution_count": 13,
   "metadata": {},
   "outputs": [
    {
     "name": "stdout",
     "output_type": "stream",
     "text": [
      " 0: unspecified with name=_root_\n",
      "  1: list with name=list\n",
      "   2: list_item\n",
      "   3: list_item\n",
      "   4: list_item\n",
      "   5: list_item\n",
      "   6: list_item\n",
      "   7: list_item\n"
     ]
    }
   ],
   "source": [
    "document.print_element_tree()"
   ]
  },
  {
   "cell_type": "code",
   "execution_count": 14,
   "metadata": {},
   "outputs": [
    {
     "name": "stdout",
     "output_type": "stream",
     "text": [
      "self_ref='#/groups/0' parent=RefItem(cref='#/body') children=[RefItem(cref='#/texts/0'), RefItem(cref='#/texts/1'), RefItem(cref='#/texts/2'), RefItem(cref='#/texts/3'), RefItem(cref='#/texts/4'), RefItem(cref='#/texts/5')] name='list' label=<GroupLabel.LIST: 'list'>\n",
      "list\n",
      "[RefItem(cref='#/texts/0'), RefItem(cref='#/texts/1'), RefItem(cref='#/texts/2'), RefItem(cref='#/texts/3'), RefItem(cref='#/texts/4'), RefItem(cref='#/texts/5')]\n"
     ]
    }
   ],
   "source": [
    "for group in document.groups:\n",
    "    print(group)\n",
    "    print(group.label)\n",
    "    print(group.children)"
   ]
  },
  {
   "cell_type": "code",
   "execution_count": 15,
   "metadata": {},
   "outputs": [
    {
     "name": "stdout",
     "output_type": "stream",
     "text": [
      "● Test1\n",
      "· Test1-1\n",
      "■ Test1-1-1\n",
      "■ Test1-1-2\n",
      "· Test1-2\n",
      "● Test2\n"
     ]
    }
   ],
   "source": [
    "for item in document.texts:\n",
    "    print(item.text)"
   ]
  },
  {
   "cell_type": "code",
   "execution_count": 18,
   "metadata": {},
   "outputs": [
    {
     "name": "stdout",
     "output_type": "stream",
     "text": [
      "- ● Test1\n",
      "- · Test1-1\n",
      "- ■ Test1-1-1\n",
      "- ■ Test1-1-2\n",
      "- · Test1-2\n",
      "- ● Test2\n"
     ]
    }
   ],
   "source": [
    "## doesn't apply indent\n",
    "print(document.export_to_markdown())"
   ]
  }
 ],
 "metadata": {
  "kernelspec": {
   "display_name": "docling",
   "language": "python",
   "name": "docling"
  },
  "language_info": {
   "codemirror_mode": {
    "name": "ipython",
    "version": 3
   },
   "file_extension": ".py",
   "mimetype": "text/x-python",
   "name": "python",
   "nbconvert_exporter": "python",
   "pygments_lexer": "ipython3",
   "version": "3.10.14"
  }
 },
 "nbformat": 4,
 "nbformat_minor": 2
}
