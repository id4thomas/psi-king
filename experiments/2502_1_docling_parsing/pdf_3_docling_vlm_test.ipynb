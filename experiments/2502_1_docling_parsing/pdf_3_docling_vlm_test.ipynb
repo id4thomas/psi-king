{
 "cells": [
  {
   "cell_type": "markdown",
   "metadata": {},
   "source": [
    "# Docling VLM Test\n",
    "* docling v2.25.0 release introduces VLM pipeline\n",
    "    * https://github.com/DS4SD/docling/releases/tag/v2.25.0\n",
    "* example: [[link]](https://github.com/DS4SD/docling/blob/37dd8c1cc7fc05095fe889eec78300647c946a42/docs/examples/minimal_vlm_pipeline.py#L10)\n",
    "* models:\n",
    "    * granite-3.1 [[hf link]](https://huggingface.co/ibm-granite/granite-vision-3.1-2b-preview): only supports MD\n",
    "    * smoldocling [[hf link]](https://huggingface.co/ds4sd/SmolDocling-256M-preview): supports DOCTAGS format (custom docling format)\n",
    "\n",
    "## VlmPipeline\n",
    "* https://github.com/DS4SD/docling/blob/37dd8c1cc7fc05095fe889eec78300647c946a42/docling/pipeline/vlm_pipeline.py#L47\n",
    "\n",
    "\n",
    "## VlmPipelineOptions\n",
    "* https://github.com/DS4SD/docling/blob/37dd8c1cc7fc05095fe889eec78300647c946a42/docling/datamodel/pipeline_options.py#L334\n",
    "\n",
    "```\n",
    "class VlmPipelineOptions(PaginatedPipelineOptions):\n",
    "    artifacts_path: Optional[Union[Path, str]] = None\n",
    "\n",
    "    generate_page_images: bool = True\n",
    "    force_backend_text: bool = (\n",
    "        False  # (To be used with vlms, or other generative models)\n",
    "    )\n",
    "    # If True, text from backend will be used instead of generated text\n",
    "    vlm_options: Union[HuggingFaceVlmOptions] = smoldocling_vlm_conversion_options\n",
    "```\n",
    "\n",
    "## VlmOptions\n",
    "* uses response_format `DOCTAGS`\n",
    "\n",
    "```\n",
    "class HuggingFaceVlmOptions(BaseVlmOptions):\n",
    "    kind: Literal[\"hf_model_options\"] = \"hf_model_options\"\n",
    "\n",
    "    repo_id: str\n",
    "    load_in_8bit: bool = True\n",
    "    llm_int8_threshold: float = 6.0\n",
    "    quantized: bool = False\n",
    "\n",
    "    response_format: ResponseFormat\n",
    "\n",
    "    @property\n",
    "    def repo_cache_folder(self) -> str:\n",
    "        return self.repo_id.replace(\"/\", \"--\")\n",
    "\n",
    "\n",
    "smoldocling_vlm_conversion_options = HuggingFaceVlmOptions(\n",
    "    repo_id=\"ds4sd/SmolDocling-256M-preview\",\n",
    "    prompt=\"Convert this page to docling.\",\n",
    "    response_format=ResponseFormat.DOCTAGS,\n",
    ")\n",
    "\n",
    "granite_vision_vlm_conversion_options = HuggingFaceVlmOptions(\n",
    "    repo_id=\"ibm-granite/granite-vision-3.1-2b-preview\",\n",
    "    # prompt=\"OCR the full page to markdown.\",\n",
    "    prompt=\"OCR this image.\",\n",
    "    response_format=ResponseFormat.MARKDOWN,\n",
    ")\n",
    "\n",
    "```\n",
    "\n",
    "doctags example:\n",
    "* html like format (similar to qwen2-vl html)\n",
    "```\n",
    "<document>\n",
    "<subtitle-level-1><location><page_1><loc_18><loc_85><loc_83><loc_89></location>DocLayNet: A Large Human-Annotated Dataset for Document-Layout Analysis</subtitle-level-1>\n",
    "<paragraph><location><page_1><loc_15><loc_77><loc_32><loc_83></location>Birgit Pfitzmann IBM Research Rueschlikon, Switzerland bpf@zurich.ibm.com</paragraph>...\n",
    "```"
   ]
  },
  {
   "cell_type": "code",
   "execution_count": 1,
   "metadata": {},
   "outputs": [],
   "source": [
    "import os\n",
    "\n",
    "from docling.datamodel.base_models import InputFormat\n",
    "from docling.datamodel.pipeline_options import (\n",
    "    AcceleratorDevice,\n",
    "    VlmPipelineOptions,\n",
    "    HuggingFaceVlmOptions,\n",
    "    ResponseFormat\n",
    ")\n",
    "from docling.document_converter import DocumentConverter, PdfFormatOption\n",
    "from docling.pipeline.vlm_pipeline import VlmPipeline\n",
    "\n",
    "from config import settings\n",
    "\n",
    "os.environ[\"DOCLING_ARTIFACTS_PATH\"] = str(os.path.join(settings.docling_model_weight_dir, \"artifacts\"))"
   ]
  },
  {
   "cell_type": "code",
   "execution_count": null,
   "metadata": {},
   "outputs": [],
   "source": [
    "sources = [\n",
    "    # \"tests/data/2305.03393v1-pg9-img.png\",\n",
    "    \"tests/data/1706.03762v7_pg1_3.pdf\",\n",
    "]\n",
    "\n",
    "## Use experimental VlmPipeline\n",
    "pipeline_options = VlmPipelineOptions()\n",
    "# If force_backend_text = True, text from backend will be used instead of generated text\n",
    "pipeline_options.force_backend_text = False\n",
    "pipeline_options.generate_picture_images = True\n",
    "\n",
    "pipeline_options.accelerator_options.device = AcceleratorDevice.MPS\n",
    "\n",
    "\n",
    "pipeline_options.artifacts_path=os.path.join(settings.docling_model_weight_dir, \"artifacts\")\n",
    "# pipeline_options.artifacts_path=settings.docling_model_weight_dir\n",
    "\n",
    "# Grantie-3.1\n",
    "# model_dir = os.path.join(\n",
    "#     settings.docling_model_weight_dir, \"model/granite-vision-3.1-2b-preview\"\n",
    "# )\n",
    "# vlm_conversion_options = HuggingFaceVlmOptions(\n",
    "#     repo_id = \"granite-vision-3.1-2b-preview\",\n",
    "#     # repo_id=model_dir,\n",
    "#     prompt=\"OCR the full page to markdown.\",\n",
    "#     # prompt=\"OCR this image.\",\n",
    "#     response_format=ResponseFormat.MARKDOWN,\n",
    "#     # response_format=ResponseFormat.DOCTAGS,\n",
    "#     load_in_8bit=False,\n",
    "#     quantized=False\n",
    "# )\n",
    "\n",
    "# smoldocling-preview\n",
    "vlm_conversion_options = HuggingFaceVlmOptions(\n",
    "    repo_id = \"SmolDocling-256M-preview\",\n",
    "    prompt=\"Convert this page to docling.\",\n",
    "    response_format=ResponseFormat.DOCTAGS,\n",
    "    load_in_8bit=False,\n",
    "    quantized=False\n",
    ")\n",
    "\n",
    "## Pick a VLM model. We choose SmolDocling-256M by default\n",
    "pipeline_options.vlm_options = vlm_conversion_options"
   ]
  },
  {
   "cell_type": "code",
   "execution_count": 16,
   "metadata": {},
   "outputs": [],
   "source": [
    "converter = DocumentConverter(\n",
    "    format_options={\n",
    "        InputFormat.PDF: PdfFormatOption(\n",
    "            pipeline_cls=VlmPipeline,\n",
    "            pipeline_options=pipeline_options,\n",
    "        ),\n",
    "        InputFormat.IMAGE: PdfFormatOption(\n",
    "            pipeline_cls=VlmPipeline,\n",
    "            pipeline_options=pipeline_options,\n",
    "        ),\n",
    "    }\n",
    ")"
   ]
  },
  {
   "cell_type": "code",
   "execution_count": 17,
   "metadata": {},
   "outputs": [
    {
     "name": "stderr",
     "output_type": "stream",
     "text": [
      "/opt/miniconda3/envs/docling/lib/python3.10/site-packages/docling/document_converter.py:298: UserWarning: The VlmPipeline is currently experimental and may change in upcoming versions without notice.\n",
      "  self.initialized_pipelines[pipeline_class] = pipeline_class(\n",
      "Truncation was not explicitly activated but `max_length` is provided a specific value, please use `truncation=True` to explicitly truncate examples to max length. Defaulting to 'longest_first' truncation strategy. If you encode pairs of sequences (GLUE-style) with the tokenizer you can select this strategy more precisely by providing a specific strategy to `truncation`.\n",
      "/opt/miniconda3/envs/docling/lib/python3.10/site-packages/transformers/pytorch_utils.py:338: UserWarning: To copy construct from a tensor, it is recommended to use sourceTensor.clone().detach() or sourceTensor.clone().detach().requires_grad_(True), rather than torch.tensor(sourceTensor).\n",
      "  test_elements = torch.tensor(test_elements)\n"
     ]
    }
   ],
   "source": [
    "# source = \"../samples/1706.03762v7_p3.png\"\n",
    "source = \"../samples/2305.03393v1-pg9-img.png\" # used in docling example\n",
    "source = \"../samples/1706.03762v7_pg1_3.pdf\" # 3 pages of attention is all you need\n",
    "\n",
    "res = converter.convert(source)"
   ]
  },
  {
   "cell_type": "code",
   "execution_count": 18,
   "metadata": {},
   "outputs": [
    {
     "name": "stdout",
     "output_type": "stream",
     "text": [
      "3\n",
      "\n",
      "Predicted page in DOCTAGS:\n",
      "Assistant: <doctag><page_header><loc_14><loc_136><loc_30><loc_351>arXiv:1706.03672v2 [cs.CL] 2 Aug 2023</page_header>\n",
      "<section_header_level_1><loc_174><loc_95><loc_326><loc_105>Attention Is All You Need</section_header_level_1>\n",
      "<text><loc_95><loc_47><loc_399><loc_71>Provided proper attribution is provided, Google hereby grants permission to reproduce the tables and figures in this paper solely for use in journalistic or scholarly works.</text>\n",
      "<section_header_level_1><loc_174><loc_95><loc_326><loc_105>Attention Is All You Need</section_header_level_1>\n",
      "<text><loc_95><loc_110><loc_412><loc_116>________________________________________________________________________________________</text>\n",
      "<text><loc_95><loc_148><loc_174><loc_169>Ashish Vaswani* Google Brain avaswani@google.com</text>\n",
      "<text><loc_200><loc_148><loc_242><loc_169>Noam Shazeer* Google Brain noam@google.com</text>\n",
      "<text><loc_256><loc_148><loc_324><loc_169>Niki Parmar* Google Research nikip@google.com</text>\n",
      "<text><loc_341><loc_148><loc_404><loc_169>Jakob Uszkoreit* Google Research usz@google.com</text>\n",
      "<text><loc_95><loc_180><loc_174><loc_201>Lion Jones* Google Research llion@google.com</text>\n",
      "<text><loc_200><loc_180><loc_271><loc_201>Aidan N. Gomez*† University of Toronto aidan@cs.toronto.edu</text>\n",
      "<text><loc_294><loc_180><loc_396><loc_201>Łukasz Kaiser* Google Brain lukaszkaiser@google.com</text>\n",
      "<text><loc_196><loc_211><loc_304><loc_224>Illia Polosukhin* † lillia.polosukhin@gmail.com</text>\n",
      "<section_header_level_1><loc_231><loc_243><loc_268><loc_250>Abstract</section_header_level_1>\n",
      "<text><loc_117><loc_261><loc_383><loc_363>The dominant sequence transduction models are based on complex recurrent or convolutional neural networks that include an encoder and a decoder. The best performing models also connect the encoder and decoder through an attention mechanism. We propose a new simple network architecture, the Transformer, based solely on attention mechanisms, dispensing with recurrence and convolutions entirely. Experiments on two machine translation tasks show these models to be superior in quality while being more parallelizable and requiring significantly less time to train. Our model achieves 28.4 BLEU on the WMT 2014 Englishto-German translation task, improving over the existing best results, including ensembles, by over 2 BLEU. On the WMT 2014 English-to-French translation task, our model establishes a new single-model state-of-the-art BLEU score of 41.8 after training for 3.5 days on eight GPUs, a small fraction of the training costs of the best models from the literature. We show that the Transformer generalizes well to other tasks by applying it successfully to English constituency parsing both with large and limited training data.</text>\n",
      "<footnote><loc_90><loc_379><loc_412><loc_434>$^{*}$Equal contribution. Listing order is random. Jakob proposed replacing RNNs with self-attention and started the effort to evaluate this idea. Ashish, with Illia, designed and implemented the first Transformer models and has been crucially involved in every aspect of this work. Noam proposed scaled dot-product attention, multi-head attention and the parameter-free position representation and became the other person involved in nearly every detail. Niki designed, implemented, tuned and evaluated countless model variants in our original codebase and tensor2tensor. Llion also experimented with novel model variants, was responsible for our initial codebase, and efficient inference and visualizations. Lukasz and Aidan spent countless long days designing various parts of and implementing tensor2tensor, replacing our earlier codebase, greatly improving results and massively accelerating our research.</footnote>\n",
      "<footnote><loc_95><loc_435><loc_221><loc_441>† Work performed while at Google Brain.</footnote>\n",
      "<footnote><loc_95><loc_442><loc_230><loc_448>† Work performed while at Google Research.</footnote>\n",
      "<page_footer><loc_90><loc_463><loc_376><loc_469>31st Conference on Neural Information Processing Systems (NIPS 2017), Long Beach, CA, USA.</page_footer>\n",
      "</doctag><end_of_utterance>\n",
      "\n",
      "Predicted page in DOCTAGS:\n",
      "Assistant: <doctag><section_header_level_1><loc_88><loc_46><loc_156><loc_54>1 Introduction</section_header_level_1>\n",
      "<text><loc_88><loc_63><loc_412><loc_97>Recurrent neural networks, long short-term memory [13] and gated recurrent [7] neural networks in particular, have been firmly established as state of the art approaches in sequence modeling and transduction problems such as language modeling and machine translation [35, 2, 5]. Numerous efforts have since continued to push the boundaries of recurrent language models and encoder-decoder architectures [38, 24, 15].</text>\n",
      "<text><loc_88><loc_100><loc_412><loc_155>Recurrent models typically factor computation along the symbol positions of the input and output sequences. Aligning the positions to steps in computation time, they generate a sequence of hidden states h$_{t}$ as a function of the previous hidden state h$_{t}$$_{-}$$_{1}$ and the input for position t . This inherently sequential nature precludes parallelization within training examples, which becomes critical at longer sequence lengths, as memory constraints limit batching across examples. Recent work has achieved significant improvements in computational efficiency through factorization tricks [21] and conditional computation [32], while also improving model performance in case of the latter. The fundamental constraint of sequential computation, however, remains.</text>\n",
      "<text><loc_88><loc_159><loc_412><loc_186>Attention mechanisms have become an integral part of compelling sequence modeling and transduction models in various tasks, allowing modeling of dependencies without regard to their distance in the input or output sequences [2, 19]. In all but a few cases [27], however, such attention mechanisms are used in conjunction with a recurrent network.</text>\n",
      "<text><loc_88><loc_190><loc_412><loc_217>In this work we propose the Transformer, a model architecture eschewing recurrence and instead relying entirely on an attention mechanism to draw global dependencies between input and output. The Transformer allows for significantly more parallelization and can reach a new state of the art in translation quality after being trained for as little as twelve hours on eight P100 GPUs.</text>\n",
      "<section_header_level_1><loc_88><loc_229><loc_154><loc_237>2 Background</section_header_level_1>\n",
      "<text><loc_88><loc_246><loc_412><loc_308>The goal of reducing sequential computation also forms the foundation of the Extended Neural GPU [16], ByteNet [18] and ConvS2S [9], all of which use convolutional neural networks as basic building block, computing hidden representations in parallel for all input and output positions. In these models, the number of operations required to relate signals from two arbitrary input or output positions grows in the distance between positions, linearly for ConvS2S and logarithmically for ByteNet. This makes it more difficult to learn dependencies between distant positions [12]. In the Transformer this is reduced to a constant number of operations, albeit at the cost of reduced effective resolution due to averaging attention-weighted positions, an effect we counteract with Multi-Head Attention as described in section 3.2.</text>\n",
      "<text><loc_88><loc_312><loc_412><loc_339>Self-attention, sometimes called intra-attention is an attention mechanism relating different positions of a single sequence in order to compute a representation of the sequence. Self-attention has been used successfully in a variety of tasks including reading comprehension, abstractive summarization, textual entailment and learning task-independent sentence representations [4, 27, 28, 22].</text>\n",
      "<text><loc_88><loc_343><loc_412><loc_362>End-to-end memory networks are based on a recurrent attention mechanism instead of sequencealigned recurrence and have been shown to perform well on simple-language question answering and language modeling tasks [34].</text>\n",
      "<text><loc_88><loc_366><loc_412><loc_393>To the best of our knowledge, however, the Transformer is the first transduction model relying entirely on self-attention to compute representations of its input and output without using sequencealigned RNNs or convolution. In the following sections, we will describe the Transformer, motivate self-attention and discuss its advantages over models such as [17, 18] and [9].</text>\n",
      "<section_header_level_1><loc_88><loc_405><loc_185><loc_413>3 Model Architecture</section_header_level_1>\n",
      "<text><loc_88><loc_422><loc_412><loc_457>Most competitive neural sequence transduction models have an encoder-decoder structure [5, 21, 35]. Here, the encoder maps an input sequence of symbol representations ( x$_{1}$, . . . , x$_{n}$ ) to a sequence of continuous representations z = ( z$_{1}$, . . . , z$_{n}$ ). Given z , the decoder then generates an output sequence ( y$_{1}$, . . . , y$_{m}$ ) of symbols one element at a time. At each step the model is auto-regressive [10], consuming the previously generated symbols as additional input when generating the next.</text>\n",
      "<page_footer><loc_247><loc_469><loc_252><loc_475>2</page_footer>\n",
      "</doctag><end_of_utterance>\n",
      "\n",
      "Predicted page in DOCTAGS:\n",
      "Assistant: <doctag><picture><loc_155><loc_45><loc_344><loc_244><flow_chart><caption><loc_172><loc_256><loc_328><loc_262>Figure 1: The Transformer - model architecture.</caption></picture>\n",
      "<text><loc_88><loc_276><loc_412><loc_298>The Transformer follows this overall architecture using stacked self-attention and point-wise, fully connected layers for both the encoder and decoder, shown in the left and right halves of Figure 1, respectively.</text>\n",
      "<section_header_level_1><loc_88><loc_305><loc_205><loc_312>3.1 Encoder and Decoder Stacks</section_header_level_1>\n",
      "<text><loc_88><loc_317><loc_412><loc_366>Encoder: The encoder is composed of a stack of N = 6 identical layers. Each layer has two sub-layers. The first is a multi-head self-attention mechanism, and the second is a simple, positionwise fully connected feed-forward network. We employ a residual connection [11] around each of the two sub-layers, followed by layer normalization [1]. That is, the output of each sub-layer is LayerNorm( x + Sublayer( x )), where Sublayer( x ) is the function implemented by the sub-layer itself. To facilitate these residual connections, all sub-layers in the model, as well as the embedding layers, produce outputs of dimension d$_{model}$ = 512.</text>\n",
      "<text><loc_88><loc_374><loc_412><loc_422>Decoder: The decoder is also composed of a stack of N = 6 identical layers. In addition to the two sub-layers in each encoder layer, the decoder inserts a third sub-layer, which performs multi-head attention over the output of the encoder stack. Similar to the encoder, we employ residual connections around each of the sub-layers, followed by layer normalization. We also modify the self-attention sub-layer in the decoder stack to prevent positions from attending to subsequent positions. This masking, combined with fact that the output embeddings are offset by one position, ensures that the predictions for position i can depend only on the known outputs at positions less than i .</text>\n",
      "<section_header_level_1><loc_88><loc_430><loc_140><loc_436>3.2 Attention</section_header_level_1>\n",
      "<text><loc_88><loc_442><loc_412><loc_456>An attention function can be described as mapping a query and a set of key-value pairs to an output, where the query, keys, values, and output are all vectors. The output is computed as a weighted sum</text>\n",
      "<page_footer><loc_247><loc_469><loc_252><loc_475>3</page_footer>\n",
      "</doctag><end_of_utterance>\n"
     ]
    }
   ],
   "source": [
    "print(len(res.pages))\n",
    "for page in res.pages:\n",
    "    print(\"\")\n",
    "    print(\"Predicted page in DOCTAGS:\")\n",
    "    print(page.predictions.vlm_response.text)"
   ]
  },
  {
   "cell_type": "code",
   "execution_count": 19,
   "metadata": {},
   "outputs": [
    {
     "name": "stdout",
     "output_type": "stream",
     "text": [
      "arXiv:1706.03672v2 [cs.CL] 2 Aug 2023\n",
      "\n",
      "## Attention Is All You Need\n",
      "\n",
      "Provided proper attribution is provided, Google hereby grants permission to reproduce the tables and figures in this paper solely for use in journalistic or scholarly works.\n",
      "\n",
      "## Attention Is All You Need\n",
      "\n",
      "\\_\\_\\_\\_\\_\\_\\_\\_\\_\\_\\_\\_\\_\\_\\_\\_\\_\\_\\_\\_\\_\\_\\_\\_\\_\\_\\_\\_\\_\\_\\_\\_\\_\\_\\_\\_\\_\\_\\_\\_\\_\\_\\_\\_\\_\\_\\_\\_\\_\\_\\_\\_\\_\\_\\_\\_\\_\\_\\_\\_\\_\\_\\_\\_\\_\\_\\_\\_\\_\\_\\_\\_\\_\\_\\_\\_\\_\\_\\_\\_\\_\\_\\_\\_\\_\\_\\_\\_\n",
      "\n",
      "Ashish Vaswani* Google Brain avaswani@google.com\n",
      "\n",
      "Noam Shazeer* Google Brain noam@google.com\n",
      "\n",
      "Niki Parmar* Google Research nikip@google.com\n",
      "\n",
      "Jakob Uszkoreit* Google Research usz@google.com\n",
      "\n",
      "Lion Jones* Google Research llion@google.com\n",
      "\n",
      "Aidan N. Gomez*† University of Toronto aidan@cs.toronto.edu\n",
      "\n",
      "Łukasz Kaiser* Google Brain lukaszkaiser@google.com\n",
      "\n",
      "Illia Polosukhin* † lillia.polosukhin@gmail.com\n",
      "\n",
      "## Abstract\n",
      "\n",
      "The dominant sequence transduction models are based on complex recurrent or convolutional neural networks that include an encoder and a decoder. The best performing models also connect the encoder and decoder through an attention mechanism. We propose a new simple network architecture, the Transformer, based solely on attention mechanisms, dispensing with recurrence and convolutions entirely. Experiments on two machine translation tasks show these models to be superior in quality while being more parallelizable and requiring significantly less time to train. Our model achieves 28.4 BLEU on the WMT 2014 Englishto-German translation task, improving over the existing best results, including ensembles, by over 2 BLEU. On the WMT 2014 English-to-French translation task, our model establishes a new single-model state-of-the-art BLEU score of 41.8 after training for 3.5 days on eight GPUs, a small fraction of the training costs of the best models from the literature. We show that the Transformer generalizes well to other tasks by applying it successfully to English constituency parsing both with large and limited training data.\n",
      "\n",
      "31st Conference on Neural Information Processing Systems (NIPS 2017), Long Beach, CA, USA.\n",
      "\n",
      "## 1 Introduction\n",
      "\n",
      "Recurrent neural networks, long short-term memory [13] and gated recurrent [7] neural networks in particular, have been firmly established as state of the art approaches in sequence modeling and transduction problems such as language modeling and machine translation [35, 2, 5]. Numerous efforts have since continued to push the boundaries of recurrent language models and encoder-decoder architectures [38, 24, 15].\n",
      "\n",
      "Recurrent models typically factor computation along the symbol positions of the input and output sequences. Aligning the positions to steps in computation time, they generate a sequence of hidden states h$_{t}$ as a function of the previous hidden state h$_{t}$$\\_{-}$$_{1}$ and the input for position t . This inherently sequential nature precludes parallelization within training examples, which becomes critical at longer sequence lengths, as memory constraints limit batching across examples. Recent work has achieved significant improvements in computational efficiency through factorization tricks [21] and conditional computation [32], while also improving model performance in case of the latter. The fundamental constraint of sequential computation, however, remains.\n",
      "\n",
      "Attention mechanisms have become an integral part of compelling sequence modeling and transduction models in various tasks, allowing modeling of dependencies without regard to their distance in the input or output sequences [2, 19]. In all but a few cases [27], however, such attention mechanisms are used in conjunction with a recurrent network.\n",
      "\n",
      "In this work we propose the Transformer, a model architecture eschewing recurrence and instead relying entirely on an attention mechanism to draw global dependencies between input and output. The Transformer allows for significantly more parallelization and can reach a new state of the art in translation quality after being trained for as little as twelve hours on eight P100 GPUs.\n",
      "\n",
      "## 2 Background\n",
      "\n",
      "The goal of reducing sequential computation also forms the foundation of the Extended Neural GPU [16], ByteNet [18] and ConvS2S [9], all of which use convolutional neural networks as basic building block, computing hidden representations in parallel for all input and output positions. In these models, the number of operations required to relate signals from two arbitrary input or output positions grows in the distance between positions, linearly for ConvS2S and logarithmically for ByteNet. This makes it more difficult to learn dependencies between distant positions [12]. In the Transformer this is reduced to a constant number of operations, albeit at the cost of reduced effective resolution due to averaging attention-weighted positions, an effect we counteract with Multi-Head Attention as described in section 3.2.\n",
      "\n",
      "Self-attention, sometimes called intra-attention is an attention mechanism relating different positions of a single sequence in order to compute a representation of the sequence. Self-attention has been used successfully in a variety of tasks including reading comprehension, abstractive summarization, textual entailment and learning task-independent sentence representations [4, 27, 28, 22].\n",
      "\n",
      "End-to-end memory networks are based on a recurrent attention mechanism instead of sequencealigned recurrence and have been shown to perform well on simple-language question answering and language modeling tasks [34].\n",
      "\n",
      "To the best of our knowledge, however, the Transformer is the first transduction model relying entirely on self-attention to compute representations of its input and output without using sequencealigned RNNs or convolution. In the following sections, we will describe the Transformer, motivate self-attention and discuss its advantages over models such as [17, 18] and [9].\n",
      "\n",
      "## 3 Model Architecture\n",
      "\n",
      "Most competitive neural sequence transduction models have an encoder-decoder structure [5, 21, 35]. Here, the encoder maps an input sequence of symbol representations ( x$_{1}$, . . . , x$_{n}$ ) to a sequence of continuous representations z = ( z$_{1}$, . . . , z$_{n}$ ). Given z , the decoder then generates an output sequence ( y$_{1}$, . . . , y$_{m}$ ) of symbols one element at a time. At each step the model is auto-regressive [10], consuming the previously generated symbols as additional input when generating the next.\n",
      "\n",
      "2\n",
      "\n",
      "The Transformer follows this overall architecture using stacked self-attention and point-wise, fully connected layers for both the encoder and decoder, shown in the left and right halves of Figure 1, respectively.\n",
      "\n",
      "## 3.1 Encoder and Decoder Stacks\n",
      "\n",
      "Encoder: The encoder is composed of a stack of N = 6 identical layers. Each layer has two sub-layers. The first is a multi-head self-attention mechanism, and the second is a simple, positionwise fully connected feed-forward network. We employ a residual connection [11] around each of the two sub-layers, followed by layer normalization [1]. That is, the output of each sub-layer is LayerNorm( x + Sublayer( x )), where Sublayer( x ) is the function implemented by the sub-layer itself. To facilitate these residual connections, all sub-layers in the model, as well as the embedding layers, produce outputs of dimension d$_{model}$ = 512.\n",
      "\n",
      "Decoder: The decoder is also composed of a stack of N = 6 identical layers. In addition to the two sub-layers in each encoder layer, the decoder inserts a third sub-layer, which performs multi-head attention over the output of the encoder stack. Similar to the encoder, we employ residual connections around each of the sub-layers, followed by layer normalization. We also modify the self-attention sub-layer in the decoder stack to prevent positions from attending to subsequent positions. This masking, combined with fact that the output embeddings are offset by one position, ensures that the predictions for position i can depend only on the known outputs at positions less than i .\n",
      "\n",
      "## 3.2 Attention\n",
      "\n",
      "An attention function can be described as mapping a query and a set of key-value pairs to an output, where the query, keys, values, and output are all vectors. The output is computed as a weighted sum\n",
      "\n",
      "3\n"
     ]
    }
   ],
   "source": [
    "print(res.document.export_to_markdown())"
   ]
  },
  {
   "cell_type": "code",
   "execution_count": 20,
   "metadata": {},
   "outputs": [
    {
     "data": {
      "text/plain": [
       "DoclingDocument(schema_name='DoclingDocument', version='1.1.0', name='Document', origin=None, furniture=GroupItem(self_ref='#/furniture', parent=None, children=[], content_layer=<ContentLayer.FURNITURE: 'furniture'>, name='_root_', label=<GroupLabel.UNSPECIFIED: 'unspecified'>), body=GroupItem(self_ref='#/body', parent=None, children=[RefItem(cref='#/texts/0'), RefItem(cref='#/texts/1'), RefItem(cref='#/texts/2'), RefItem(cref='#/texts/3'), RefItem(cref='#/texts/4'), RefItem(cref='#/texts/5'), RefItem(cref='#/texts/6'), RefItem(cref='#/texts/7'), RefItem(cref='#/texts/8'), RefItem(cref='#/texts/9'), RefItem(cref='#/texts/10'), RefItem(cref='#/texts/11'), RefItem(cref='#/texts/12'), RefItem(cref='#/texts/13'), RefItem(cref='#/texts/14'), RefItem(cref='#/texts/15'), RefItem(cref='#/texts/16'), RefItem(cref='#/texts/17'), RefItem(cref='#/texts/18'), RefItem(cref='#/texts/19'), RefItem(cref='#/texts/20'), RefItem(cref='#/texts/21'), RefItem(cref='#/texts/22'), RefItem(cref='#/texts/23'), RefItem(cref='#/texts/24'), RefItem(cref='#/texts/25'), RefItem(cref='#/texts/26'), RefItem(cref='#/texts/27'), RefItem(cref='#/texts/28'), RefItem(cref='#/texts/29'), RefItem(cref='#/texts/30'), RefItem(cref='#/texts/31'), RefItem(cref='#/texts/32'), RefItem(cref='#/texts/33'), RefItem(cref='#/texts/34'), RefItem(cref='#/texts/35'), RefItem(cref='#/texts/36'), RefItem(cref='#/texts/37'), RefItem(cref='#/texts/38')], content_layer=<ContentLayer.BODY: 'body'>, name='_root_', label=<GroupLabel.UNSPECIFIED: 'unspecified'>), groups=[], texts=[TextItem(self_ref='#/texts/0', parent=RefItem(cref='#/body'), children=[], content_layer=<ContentLayer.BODY: 'body'>, label=<DocItemLabel.PAGE_HEADER: 'page_header'>, prov=[ProvenanceItem(page_no=1, bbox=BoundingBox(l=17.136, t=215.424, r=36.72, b=555.9839999999999, coord_origin=<CoordOrigin.TOPLEFT: 'TOPLEFT'>), charspan=(0, 37))], orig='arXiv:1706.03672v2 [cs.CL] 2 Aug 2023', text='arXiv:1706.03672v2 [cs.CL] 2 Aug 2023'), SectionHeaderItem(self_ref='#/texts/1', parent=RefItem(cref='#/body'), children=[], content_layer=<ContentLayer.BODY: 'body'>, label=<DocItemLabel.SECTION_HEADER: 'section_header'>, prov=[ProvenanceItem(page_no=1, bbox=BoundingBox(l=212.976, t=150.48, r=399.024, b=166.32, coord_origin=<CoordOrigin.TOPLEFT: 'TOPLEFT'>), charspan=(0, 25))], orig='Attention Is All You Need', text='Attention Is All You Need', level=1), TextItem(self_ref='#/texts/2', parent=RefItem(cref='#/body'), children=[], content_layer=<ContentLayer.BODY: 'body'>, label=<DocItemLabel.TEXT: 'text'>, prov=[ProvenanceItem(page_no=1, bbox=BoundingBox(l=116.28, t=74.448, r=488.37600000000003, b=112.46399999999998, coord_origin=<CoordOrigin.TOPLEFT: 'TOPLEFT'>), charspan=(0, 173))], orig='Provided proper attribution is provided, Google hereby grants permission to reproduce the tables and figures in this paper solely for use in journalistic or scholarly works.', text='Provided proper attribution is provided, Google hereby grants permission to reproduce the tables and figures in this paper solely for use in journalistic or scholarly works.'), SectionHeaderItem(self_ref='#/texts/3', parent=RefItem(cref='#/body'), children=[], content_layer=<ContentLayer.BODY: 'body'>, label=<DocItemLabel.SECTION_HEADER: 'section_header'>, prov=[ProvenanceItem(page_no=1, bbox=BoundingBox(l=212.976, t=150.48, r=399.024, b=166.32, coord_origin=<CoordOrigin.TOPLEFT: 'TOPLEFT'>), charspan=(0, 25))], orig='Attention Is All You Need', text='Attention Is All You Need', level=1), TextItem(self_ref='#/texts/4', parent=RefItem(cref='#/body'), children=[], content_layer=<ContentLayer.BODY: 'body'>, label=<DocItemLabel.TEXT: 'text'>, prov=[ProvenanceItem(page_no=1, bbox=BoundingBox(l=116.28, t=174.24, r=504.28799999999995, b=183.744, coord_origin=<CoordOrigin.TOPLEFT: 'TOPLEFT'>), charspan=(0, 88))], orig='________________________________________________________________________________________', text='________________________________________________________________________________________'), TextItem(self_ref='#/texts/5', parent=RefItem(cref='#/body'), children=[], content_layer=<ContentLayer.BODY: 'body'>, label=<DocItemLabel.TEXT: 'text'>, prov=[ProvenanceItem(page_no=1, bbox=BoundingBox(l=116.28, t=234.432, r=212.976, b=267.696, coord_origin=<CoordOrigin.TOPLEFT: 'TOPLEFT'>), charspan=(0, 48))], orig='Ashish Vaswani* Google Brain avaswani@google.com', text='Ashish Vaswani* Google Brain avaswani@google.com'), TextItem(self_ref='#/texts/6', parent=RefItem(cref='#/body'), children=[], content_layer=<ContentLayer.BODY: 'body'>, label=<DocItemLabel.TEXT: 'text'>, prov=[ProvenanceItem(page_no=1, bbox=BoundingBox(l=244.8, t=234.432, r=296.20799999999997, b=267.696, coord_origin=<CoordOrigin.TOPLEFT: 'TOPLEFT'>), charspan=(0, 42))], orig='Noam Shazeer* Google Brain noam@google.com', text='Noam Shazeer* Google Brain noam@google.com'), TextItem(self_ref='#/texts/7', parent=RefItem(cref='#/body'), children=[], content_layer=<ContentLayer.BODY: 'body'>, label=<DocItemLabel.TEXT: 'text'>, prov=[ProvenanceItem(page_no=1, bbox=BoundingBox(l=313.344, t=234.432, r=396.576, b=267.696, coord_origin=<CoordOrigin.TOPLEFT: 'TOPLEFT'>), charspan=(0, 45))], orig='Niki Parmar* Google Research nikip@google.com', text='Niki Parmar* Google Research nikip@google.com'), TextItem(self_ref='#/texts/8', parent=RefItem(cref='#/body'), children=[], content_layer=<ContentLayer.BODY: 'body'>, label=<DocItemLabel.TEXT: 'text'>, prov=[ProvenanceItem(page_no=1, bbox=BoundingBox(l=417.384, t=234.432, r=494.49600000000004, b=267.696, coord_origin=<CoordOrigin.TOPLEFT: 'TOPLEFT'>), charspan=(0, 47))], orig='Jakob Uszkoreit* Google Research usz@google.com', text='Jakob Uszkoreit* Google Research usz@google.com'), TextItem(self_ref='#/texts/9', parent=RefItem(cref='#/body'), children=[], content_layer=<ContentLayer.BODY: 'body'>, label=<DocItemLabel.TEXT: 'text'>, prov=[ProvenanceItem(page_no=1, bbox=BoundingBox(l=116.28, t=285.12, r=212.976, b=318.384, coord_origin=<CoordOrigin.TOPLEFT: 'TOPLEFT'>), charspan=(0, 44))], orig='Lion Jones* Google Research llion@google.com', text='Lion Jones* Google Research llion@google.com'), TextItem(self_ref='#/texts/10', parent=RefItem(cref='#/body'), children=[], content_layer=<ContentLayer.BODY: 'body'>, label=<DocItemLabel.TEXT: 'text'>, prov=[ProvenanceItem(page_no=1, bbox=BoundingBox(l=244.8, t=285.12, r=331.704, b=318.384, coord_origin=<CoordOrigin.TOPLEFT: 'TOPLEFT'>), charspan=(0, 59))], orig='Aidan N. Gomez*† University of Toronto aidan@cs.toronto.edu', text='Aidan N. Gomez*† University of Toronto aidan@cs.toronto.edu'), TextItem(self_ref='#/texts/11', parent=RefItem(cref='#/body'), children=[], content_layer=<ContentLayer.BODY: 'body'>, label=<DocItemLabel.TEXT: 'text'>, prov=[ProvenanceItem(page_no=1, bbox=BoundingBox(l=359.856, t=285.12, r=484.704, b=318.384, coord_origin=<CoordOrigin.TOPLEFT: 'TOPLEFT'>), charspan=(0, 51))], orig='Łukasz Kaiser* Google Brain lukaszkaiser@google.com', text='Łukasz Kaiser* Google Brain lukaszkaiser@google.com'), TextItem(self_ref='#/texts/12', parent=RefItem(cref='#/body'), children=[], content_layer=<ContentLayer.BODY: 'body'>, label=<DocItemLabel.TEXT: 'text'>, prov=[ProvenanceItem(page_no=1, bbox=BoundingBox(l=239.904, t=334.224, r=372.096, b=354.81600000000003, coord_origin=<CoordOrigin.TOPLEFT: 'TOPLEFT'>), charspan=(0, 47))], orig='Illia Polosukhin* † lillia.polosukhin@gmail.com', text='Illia Polosukhin* † lillia.polosukhin@gmail.com'), SectionHeaderItem(self_ref='#/texts/13', parent=RefItem(cref='#/body'), children=[], content_layer=<ContentLayer.BODY: 'body'>, label=<DocItemLabel.SECTION_HEADER: 'section_header'>, prov=[ProvenanceItem(page_no=1, bbox=BoundingBox(l=282.744, t=384.912, r=328.03200000000004, b=396.0, coord_origin=<CoordOrigin.TOPLEFT: 'TOPLEFT'>), charspan=(0, 8))], orig='Abstract', text='Abstract', level=1), TextItem(self_ref='#/texts/14', parent=RefItem(cref='#/body'), children=[], content_layer=<ContentLayer.BODY: 'body'>, label=<DocItemLabel.TEXT: 'text'>, prov=[ProvenanceItem(page_no=1, bbox=BoundingBox(l=143.208, t=413.42400000000004, r=468.79200000000003, b=574.992, coord_origin=<CoordOrigin.TOPLEFT: 'TOPLEFT'>), charspan=(0, 1138))], orig='The dominant sequence transduction models are based on complex recurrent or convolutional neural networks that include an encoder and a decoder. The best performing models also connect the encoder and decoder through an attention mechanism. We propose a new simple network architecture, the Transformer, based solely on attention mechanisms, dispensing with recurrence and convolutions entirely. Experiments on two machine translation tasks show these models to be superior in quality while being more parallelizable and requiring significantly less time to train. Our model achieves 28.4 BLEU on the WMT 2014 Englishto-German translation task, improving over the existing best results, including ensembles, by over 2 BLEU. On the WMT 2014 English-to-French translation task, our model establishes a new single-model state-of-the-art BLEU score of 41.8 after training for 3.5 days on eight GPUs, a small fraction of the training costs of the best models from the literature. We show that the Transformer generalizes well to other tasks by applying it successfully to English constituency parsing both with large and limited training data.', text='The dominant sequence transduction models are based on complex recurrent or convolutional neural networks that include an encoder and a decoder. The best performing models also connect the encoder and decoder through an attention mechanism. We propose a new simple network architecture, the Transformer, based solely on attention mechanisms, dispensing with recurrence and convolutions entirely. Experiments on two machine translation tasks show these models to be superior in quality while being more parallelizable and requiring significantly less time to train. Our model achieves 28.4 BLEU on the WMT 2014 Englishto-German translation task, improving over the existing best results, including ensembles, by over 2 BLEU. On the WMT 2014 English-to-French translation task, our model establishes a new single-model state-of-the-art BLEU score of 41.8 after training for 3.5 days on eight GPUs, a small fraction of the training costs of the best models from the literature. We show that the Transformer generalizes well to other tasks by applying it successfully to English constituency parsing both with large and limited training data.'), TextItem(self_ref='#/texts/15', parent=RefItem(cref='#/body'), children=[], content_layer=<ContentLayer.BODY: 'body'>, label=<DocItemLabel.FOOTNOTE: 'footnote'>, prov=[ProvenanceItem(page_no=1, bbox=BoundingBox(l=110.16, t=600.336, r=504.28799999999995, b=687.456, coord_origin=<CoordOrigin.TOPLEFT: 'TOPLEFT'>), charspan=(0, 910))], orig='$^{*}$Equal contribution. Listing order is random. Jakob proposed replacing RNNs with self-attention and started the effort to evaluate this idea. Ashish, with Illia, designed and implemented the first Transformer models and has been crucially involved in every aspect of this work. Noam proposed scaled dot-product attention, multi-head attention and the parameter-free position representation and became the other person involved in nearly every detail. Niki designed, implemented, tuned and evaluated countless model variants in our original codebase and tensor2tensor. Llion also experimented with novel model variants, was responsible for our initial codebase, and efficient inference and visualizations. Lukasz and Aidan spent countless long days designing various parts of and implementing tensor2tensor, replacing our earlier codebase, greatly improving results and massively accelerating our research.', text='$^{*}$Equal contribution. Listing order is random. Jakob proposed replacing RNNs with self-attention and started the effort to evaluate this idea. Ashish, with Illia, designed and implemented the first Transformer models and has been crucially involved in every aspect of this work. Noam proposed scaled dot-product attention, multi-head attention and the parameter-free position representation and became the other person involved in nearly every detail. Niki designed, implemented, tuned and evaluated countless model variants in our original codebase and tensor2tensor. Llion also experimented with novel model variants, was responsible for our initial codebase, and efficient inference and visualizations. Lukasz and Aidan spent countless long days designing various parts of and implementing tensor2tensor, replacing our earlier codebase, greatly improving results and massively accelerating our research.'), TextItem(self_ref='#/texts/16', parent=RefItem(cref='#/body'), children=[], content_layer=<ContentLayer.BODY: 'body'>, label=<DocItemLabel.FOOTNOTE: 'footnote'>, prov=[ProvenanceItem(page_no=1, bbox=BoundingBox(l=116.28, t=689.04, r=270.504, b=698.544, coord_origin=<CoordOrigin.TOPLEFT: 'TOPLEFT'>), charspan=(0, 39))], orig='† Work performed while at Google Brain.', text='† Work performed while at Google Brain.'), TextItem(self_ref='#/texts/17', parent=RefItem(cref='#/body'), children=[], content_layer=<ContentLayer.BODY: 'body'>, label=<DocItemLabel.FOOTNOTE: 'footnote'>, prov=[ProvenanceItem(page_no=1, bbox=BoundingBox(l=116.28, t=700.128, r=281.52000000000004, b=709.6320000000001, coord_origin=<CoordOrigin.TOPLEFT: 'TOPLEFT'>), charspan=(0, 42))], orig='† Work performed while at Google Research.', text='† Work performed while at Google Research.'), TextItem(self_ref='#/texts/18', parent=RefItem(cref='#/body'), children=[], content_layer=<ContentLayer.BODY: 'body'>, label=<DocItemLabel.PAGE_FOOTER: 'page_footer'>, prov=[ProvenanceItem(page_no=1, bbox=BoundingBox(l=110.16, t=733.392, r=460.224, b=742.896, coord_origin=<CoordOrigin.TOPLEFT: 'TOPLEFT'>), charspan=(0, 90))], orig='31st Conference on Neural Information Processing Systems (NIPS 2017), Long Beach, CA, USA.', text='31st Conference on Neural Information Processing Systems (NIPS 2017), Long Beach, CA, USA.'), SectionHeaderItem(self_ref='#/texts/19', parent=RefItem(cref='#/body'), children=[], content_layer=<ContentLayer.BODY: 'body'>, label=<DocItemLabel.SECTION_HEADER: 'section_header'>, prov=[ProvenanceItem(page_no=2, bbox=BoundingBox(l=107.71199999999999, t=72.864, r=190.944, b=85.536, coord_origin=<CoordOrigin.TOPLEFT: 'TOPLEFT'>), charspan=(0, 14))], orig='1 Introduction', text='1 Introduction', level=1), TextItem(self_ref='#/texts/20', parent=RefItem(cref='#/body'), children=[], content_layer=<ContentLayer.BODY: 'body'>, label=<DocItemLabel.TEXT: 'text'>, prov=[ProvenanceItem(page_no=2, bbox=BoundingBox(l=107.71199999999999, t=99.792, r=504.28799999999995, b=153.648, coord_origin=<CoordOrigin.TOPLEFT: 'TOPLEFT'>), charspan=(0, 416))], orig='Recurrent neural networks, long short-term memory [13] and gated recurrent [7] neural networks in particular, have been firmly established as state of the art approaches in sequence modeling and transduction problems such as language modeling and machine translation [35, 2, 5]. Numerous efforts have since continued to push the boundaries of recurrent language models and encoder-decoder architectures [38, 24, 15].', text='Recurrent neural networks, long short-term memory [13] and gated recurrent [7] neural networks in particular, have been firmly established as state of the art approaches in sequence modeling and transduction problems such as language modeling and machine translation [35, 2, 5]. Numerous efforts have since continued to push the boundaries of recurrent language models and encoder-decoder architectures [38, 24, 15].'), TextItem(self_ref='#/texts/21', parent=RefItem(cref='#/body'), children=[], content_layer=<ContentLayer.BODY: 'body'>, label=<DocItemLabel.TEXT: 'text'>, prov=[ProvenanceItem(page_no=2, bbox=BoundingBox(l=107.71199999999999, t=158.4, r=504.28799999999995, b=245.52, coord_origin=<CoordOrigin.TOPLEFT: 'TOPLEFT'>), charspan=(0, 775))], orig='Recurrent models typically factor computation along the symbol positions of the input and output sequences. Aligning the positions to steps in computation time, they generate a sequence of hidden states h$_{t}$ as a function of the previous hidden state h$_{t}$$_{-}$$_{1}$ and the input for position t . This inherently sequential nature precludes parallelization within training examples, which becomes critical at longer sequence lengths, as memory constraints limit batching across examples. Recent work has achieved significant improvements in computational efficiency through factorization tricks [21] and conditional computation [32], while also improving model performance in case of the latter. The fundamental constraint of sequential computation, however, remains.', text='Recurrent models typically factor computation along the symbol positions of the input and output sequences. Aligning the positions to steps in computation time, they generate a sequence of hidden states h$_{t}$ as a function of the previous hidden state h$_{t}$$_{-}$$_{1}$ and the input for position t . This inherently sequential nature precludes parallelization within training examples, which becomes critical at longer sequence lengths, as memory constraints limit batching across examples. Recent work has achieved significant improvements in computational efficiency through factorization tricks [21] and conditional computation [32], while also improving model performance in case of the latter. The fundamental constraint of sequential computation, however, remains.'), TextItem(self_ref='#/texts/22', parent=RefItem(cref='#/body'), children=[], content_layer=<ContentLayer.BODY: 'body'>, label=<DocItemLabel.TEXT: 'text'>, prov=[ProvenanceItem(page_no=2, bbox=BoundingBox(l=107.71199999999999, t=251.856, r=504.28799999999995, b=294.624, coord_origin=<CoordOrigin.TOPLEFT: 'TOPLEFT'>), charspan=(0, 346))], orig='Attention mechanisms have become an integral part of compelling sequence modeling and transduction models in various tasks, allowing modeling of dependencies without regard to their distance in the input or output sequences [2, 19]. In all but a few cases [27], however, such attention mechanisms are used in conjunction with a recurrent network.', text='Attention mechanisms have become an integral part of compelling sequence modeling and transduction models in various tasks, allowing modeling of dependencies without regard to their distance in the input or output sequences [2, 19]. In all but a few cases [27], however, such attention mechanisms are used in conjunction with a recurrent network.'), TextItem(self_ref='#/texts/23', parent=RefItem(cref='#/body'), children=[], content_layer=<ContentLayer.BODY: 'body'>, label=<DocItemLabel.TEXT: 'text'>, prov=[ProvenanceItem(page_no=2, bbox=BoundingBox(l=107.71199999999999, t=300.96, r=504.28799999999995, b=343.728, coord_origin=<CoordOrigin.TOPLEFT: 'TOPLEFT'>), charspan=(0, 383))], orig='In this work we propose the Transformer, a model architecture eschewing recurrence and instead relying entirely on an attention mechanism to draw global dependencies between input and output. The Transformer allows for significantly more parallelization and can reach a new state of the art in translation quality after being trained for as little as twelve hours on eight P100 GPUs.', text='In this work we propose the Transformer, a model architecture eschewing recurrence and instead relying entirely on an attention mechanism to draw global dependencies between input and output. The Transformer allows for significantly more parallelization and can reach a new state of the art in translation quality after being trained for as little as twelve hours on eight P100 GPUs.'), SectionHeaderItem(self_ref='#/texts/24', parent=RefItem(cref='#/body'), children=[], content_layer=<ContentLayer.BODY: 'body'>, label=<DocItemLabel.SECTION_HEADER: 'section_header'>, prov=[ProvenanceItem(page_no=2, bbox=BoundingBox(l=107.71199999999999, t=362.736, r=188.496, b=375.40799999999996, coord_origin=<CoordOrigin.TOPLEFT: 'TOPLEFT'>), charspan=(0, 12))], orig='2 Background', text='2 Background', level=1), TextItem(self_ref='#/texts/25', parent=RefItem(cref='#/body'), children=[], content_layer=<ContentLayer.BODY: 'body'>, label=<DocItemLabel.TEXT: 'text'>, prov=[ProvenanceItem(page_no=2, bbox=BoundingBox(l=107.71199999999999, t=389.664, r=504.28799999999995, b=487.872, coord_origin=<CoordOrigin.TOPLEFT: 'TOPLEFT'>), charspan=(0, 825))], orig='The goal of reducing sequential computation also forms the foundation of the Extended Neural GPU [16], ByteNet [18] and ConvS2S [9], all of which use convolutional neural networks as basic building block, computing hidden representations in parallel for all input and output positions. In these models, the number of operations required to relate signals from two arbitrary input or output positions grows in the distance between positions, linearly for ConvS2S and logarithmically for ByteNet. This makes it more difficult to learn dependencies between distant positions [12]. In the Transformer this is reduced to a constant number of operations, albeit at the cost of reduced effective resolution due to averaging attention-weighted positions, an effect we counteract with Multi-Head Attention as described in section 3.2.', text='The goal of reducing sequential computation also forms the foundation of the Extended Neural GPU [16], ByteNet [18] and ConvS2S [9], all of which use convolutional neural networks as basic building block, computing hidden representations in parallel for all input and output positions. In these models, the number of operations required to relate signals from two arbitrary input or output positions grows in the distance between positions, linearly for ConvS2S and logarithmically for ByteNet. This makes it more difficult to learn dependencies between distant positions [12]. In the Transformer this is reduced to a constant number of operations, albeit at the cost of reduced effective resolution due to averaging attention-weighted positions, an effect we counteract with Multi-Head Attention as described in section 3.2.'), TextItem(self_ref='#/texts/26', parent=RefItem(cref='#/body'), children=[], content_layer=<ContentLayer.BODY: 'body'>, label=<DocItemLabel.TEXT: 'text'>, prov=[ProvenanceItem(page_no=2, bbox=BoundingBox(l=107.71199999999999, t=494.208, r=504.28799999999995, b=536.976, coord_origin=<CoordOrigin.TOPLEFT: 'TOPLEFT'>), charspan=(0, 393))], orig='Self-attention, sometimes called intra-attention is an attention mechanism relating different positions of a single sequence in order to compute a representation of the sequence. Self-attention has been used successfully in a variety of tasks including reading comprehension, abstractive summarization, textual entailment and learning task-independent sentence representations [4, 27, 28, 22].', text='Self-attention, sometimes called intra-attention is an attention mechanism relating different positions of a single sequence in order to compute a representation of the sequence. Self-attention has been used successfully in a variety of tasks including reading comprehension, abstractive summarization, textual entailment and learning task-independent sentence representations [4, 27, 28, 22].'), TextItem(self_ref='#/texts/27', parent=RefItem(cref='#/body'), children=[], content_layer=<ContentLayer.BODY: 'body'>, label=<DocItemLabel.TEXT: 'text'>, prov=[ProvenanceItem(page_no=2, bbox=BoundingBox(l=107.71199999999999, t=543.312, r=504.28799999999995, b=573.408, coord_origin=<CoordOrigin.TOPLEFT: 'TOPLEFT'>), charspan=(0, 217))], orig='End-to-end memory networks are based on a recurrent attention mechanism instead of sequencealigned recurrence and have been shown to perform well on simple-language question answering and language modeling tasks [34].', text='End-to-end memory networks are based on a recurrent attention mechanism instead of sequencealigned recurrence and have been shown to perform well on simple-language question answering and language modeling tasks [34].'), TextItem(self_ref='#/texts/28', parent=RefItem(cref='#/body'), children=[], content_layer=<ContentLayer.BODY: 'body'>, label=<DocItemLabel.TEXT: 'text'>, prov=[ProvenanceItem(page_no=2, bbox=BoundingBox(l=107.71199999999999, t=579.744, r=504.28799999999995, b=622.5120000000001, coord_origin=<CoordOrigin.TOPLEFT: 'TOPLEFT'>), charspan=(0, 373))], orig='To the best of our knowledge, however, the Transformer is the first transduction model relying entirely on self-attention to compute representations of its input and output without using sequencealigned RNNs or convolution. In the following sections, we will describe the Transformer, motivate self-attention and discuss its advantages over models such as [17, 18] and [9].', text='To the best of our knowledge, however, the Transformer is the first transduction model relying entirely on self-attention to compute representations of its input and output without using sequencealigned RNNs or convolution. In the following sections, we will describe the Transformer, motivate self-attention and discuss its advantages over models such as [17, 18] and [9].'), SectionHeaderItem(self_ref='#/texts/29', parent=RefItem(cref='#/body'), children=[], content_layer=<ContentLayer.BODY: 'body'>, label=<DocItemLabel.SECTION_HEADER: 'section_header'>, prov=[ProvenanceItem(page_no=2, bbox=BoundingBox(l=107.71199999999999, t=641.5200000000001, r=226.44, b=654.192, coord_origin=<CoordOrigin.TOPLEFT: 'TOPLEFT'>), charspan=(0, 20))], orig='3 Model Architecture', text='3 Model Architecture', level=1), TextItem(self_ref='#/texts/30', parent=RefItem(cref='#/body'), children=[], content_layer=<ContentLayer.BODY: 'body'>, label=<DocItemLabel.TEXT: 'text'>, prov=[ProvenanceItem(page_no=2, bbox=BoundingBox(l=107.71199999999999, t=668.448, r=504.28799999999995, b=723.888, coord_origin=<CoordOrigin.TOPLEFT: 'TOPLEFT'>), charspan=(0, 529))], orig='Most competitive neural sequence transduction models have an encoder-decoder structure [5, 21, 35]. Here, the encoder maps an input sequence of symbol representations ( x$_{1}$, . . . , x$_{n}$ ) to a sequence of continuous representations z = ( z$_{1}$, . . . , z$_{n}$ ). Given z , the decoder then generates an output sequence ( y$_{1}$, . . . , y$_{m}$ ) of symbols one element at a time. At each step the model is auto-regressive [10], consuming the previously generated symbols as additional input when generating the next.', text='Most competitive neural sequence transduction models have an encoder-decoder structure [5, 21, 35]. Here, the encoder maps an input sequence of symbol representations ( x$_{1}$, . . . , x$_{n}$ ) to a sequence of continuous representations z = ( z$_{1}$, . . . , z$_{n}$ ). Given z , the decoder then generates an output sequence ( y$_{1}$, . . . , y$_{m}$ ) of symbols one element at a time. At each step the model is auto-regressive [10], consuming the previously generated symbols as additional input when generating the next.'), TextItem(self_ref='#/texts/31', parent=RefItem(cref='#/body'), children=[], content_layer=<ContentLayer.BODY: 'body'>, label=<DocItemLabel.PAGE_FOOTER: 'page_footer'>, prov=[ProvenanceItem(page_no=2, bbox=BoundingBox(l=302.328, t=742.896, r=308.448, b=752.4, coord_origin=<CoordOrigin.TOPLEFT: 'TOPLEFT'>), charspan=(0, 1))], orig='2', text='2'), TextItem(self_ref='#/texts/32', parent=RefItem(cref='#/body'), children=[], content_layer=<ContentLayer.BODY: 'body'>, label=<DocItemLabel.TEXT: 'text'>, prov=[ProvenanceItem(page_no=3, bbox=BoundingBox(l=107.71199999999999, t=437.184, r=504.28799999999995, b=472.032, coord_origin=<CoordOrigin.TOPLEFT: 'TOPLEFT'>), charspan=(0, 213))], orig='The Transformer follows this overall architecture using stacked self-attention and point-wise, fully connected layers for both the encoder and decoder, shown in the left and right halves of Figure 1, respectively.', text='The Transformer follows this overall architecture using stacked self-attention and point-wise, fully connected layers for both the encoder and decoder, shown in the left and right halves of Figure 1, respectively.'), SectionHeaderItem(self_ref='#/texts/33', parent=RefItem(cref='#/body'), children=[], content_layer=<ContentLayer.BODY: 'body'>, label=<DocItemLabel.SECTION_HEADER: 'section_header'>, prov=[ProvenanceItem(page_no=3, bbox=BoundingBox(l=107.71199999999999, t=483.12, r=250.92, b=494.208, coord_origin=<CoordOrigin.TOPLEFT: 'TOPLEFT'>), charspan=(0, 30))], orig='3.1 Encoder and Decoder Stacks', text='3.1 Encoder and Decoder Stacks', level=1), TextItem(self_ref='#/texts/34', parent=RefItem(cref='#/body'), children=[], content_layer=<ContentLayer.BODY: 'body'>, label=<DocItemLabel.TEXT: 'text'>, prov=[ProvenanceItem(page_no=3, bbox=BoundingBox(l=107.71199999999999, t=502.128, r=504.28799999999995, b=579.744, coord_origin=<CoordOrigin.TOPLEFT: 'TOPLEFT'>), charspan=(0, 638))], orig='Encoder: The encoder is composed of a stack of N = 6 identical layers. Each layer has two sub-layers. The first is a multi-head self-attention mechanism, and the second is a simple, positionwise fully connected feed-forward network. We employ a residual connection [11] around each of the two sub-layers, followed by layer normalization [1]. That is, the output of each sub-layer is LayerNorm( x + Sublayer( x )), where Sublayer( x ) is the function implemented by the sub-layer itself. To facilitate these residual connections, all sub-layers in the model, as well as the embedding layers, produce outputs of dimension d$_{model}$ = 512.', text='Encoder: The encoder is composed of a stack of N = 6 identical layers. Each layer has two sub-layers. The first is a multi-head self-attention mechanism, and the second is a simple, positionwise fully connected feed-forward network. We employ a residual connection [11] around each of the two sub-layers, followed by layer normalization [1]. That is, the output of each sub-layer is LayerNorm( x + Sublayer( x )), where Sublayer( x ) is the function implemented by the sub-layer itself. To facilitate these residual connections, all sub-layers in the model, as well as the embedding layers, produce outputs of dimension d$_{model}$ = 512.'), TextItem(self_ref='#/texts/35', parent=RefItem(cref='#/body'), children=[], content_layer=<ContentLayer.BODY: 'body'>, label=<DocItemLabel.TEXT: 'text'>, prov=[ProvenanceItem(page_no=3, bbox=BoundingBox(l=107.71199999999999, t=592.416, r=504.28799999999995, b=668.448, coord_origin=<CoordOrigin.TOPLEFT: 'TOPLEFT'>), charspan=(0, 686))], orig='Decoder: The decoder is also composed of a stack of N = 6 identical layers. In addition to the two sub-layers in each encoder layer, the decoder inserts a third sub-layer, which performs multi-head attention over the output of the encoder stack. Similar to the encoder, we employ residual connections around each of the sub-layers, followed by layer normalization. We also modify the self-attention sub-layer in the decoder stack to prevent positions from attending to subsequent positions. This masking, combined with fact that the output embeddings are offset by one position, ensures that the predictions for position i can depend only on the known outputs at positions less than i .', text='Decoder: The decoder is also composed of a stack of N = 6 identical layers. In addition to the two sub-layers in each encoder layer, the decoder inserts a third sub-layer, which performs multi-head attention over the output of the encoder stack. Similar to the encoder, we employ residual connections around each of the sub-layers, followed by layer normalization. We also modify the self-attention sub-layer in the decoder stack to prevent positions from attending to subsequent positions. This masking, combined with fact that the output embeddings are offset by one position, ensures that the predictions for position i can depend only on the known outputs at positions less than i .'), SectionHeaderItem(self_ref='#/texts/36', parent=RefItem(cref='#/body'), children=[], content_layer=<ContentLayer.BODY: 'body'>, label=<DocItemLabel.SECTION_HEADER: 'section_header'>, prov=[ProvenanceItem(page_no=3, bbox=BoundingBox(l=107.71199999999999, t=681.12, r=171.36, b=690.624, coord_origin=<CoordOrigin.TOPLEFT: 'TOPLEFT'>), charspan=(0, 13))], orig='3.2 Attention', text='3.2 Attention', level=1), TextItem(self_ref='#/texts/37', parent=RefItem(cref='#/body'), children=[], content_layer=<ContentLayer.BODY: 'body'>, label=<DocItemLabel.TEXT: 'text'>, prov=[ProvenanceItem(page_no=3, bbox=BoundingBox(l=107.71199999999999, t=700.128, r=504.28799999999995, b=722.304, coord_origin=<CoordOrigin.TOPLEFT: 'TOPLEFT'>), charspan=(0, 200))], orig='An attention function can be described as mapping a query and a set of key-value pairs to an output, where the query, keys, values, and output are all vectors. The output is computed as a weighted sum', text='An attention function can be described as mapping a query and a set of key-value pairs to an output, where the query, keys, values, and output are all vectors. The output is computed as a weighted sum'), TextItem(self_ref='#/texts/38', parent=RefItem(cref='#/body'), children=[], content_layer=<ContentLayer.BODY: 'body'>, label=<DocItemLabel.PAGE_FOOTER: 'page_footer'>, prov=[ProvenanceItem(page_no=3, bbox=BoundingBox(l=302.328, t=742.896, r=308.448, b=752.4, coord_origin=<CoordOrigin.TOPLEFT: 'TOPLEFT'>), charspan=(0, 1))], orig='3', text='3')], pictures=[], tables=[], key_value_items=[], form_items=[], pages={1: PageItem(size=Size(width=612.0, height=792.0), image=None, page_no=1), 2: PageItem(size=Size(width=612.0, height=792.0), image=None, page_no=2), 3: PageItem(size=Size(width=612.0, height=792.0), image=None, page_no=3)})"
      ]
     },
     "execution_count": 20,
     "metadata": {},
     "output_type": "execute_result"
    }
   ],
   "source": [
    "res.document"
   ]
  },
  {
   "cell_type": "code",
   "execution_count": 21,
   "metadata": {},
   "outputs": [
    {
     "name": "stdout",
     "output_type": "stream",
     "text": [
      "cref='#/texts/0'\n",
      "cref='#/texts/1'\n",
      "cref='#/texts/2'\n",
      "cref='#/texts/3'\n",
      "cref='#/texts/4'\n",
      "cref='#/texts/5'\n",
      "cref='#/texts/6'\n",
      "cref='#/texts/7'\n",
      "cref='#/texts/8'\n",
      "cref='#/texts/9'\n",
      "cref='#/texts/10'\n",
      "cref='#/texts/11'\n",
      "cref='#/texts/12'\n",
      "cref='#/texts/13'\n",
      "cref='#/texts/14'\n",
      "cref='#/texts/15'\n",
      "cref='#/texts/16'\n",
      "cref='#/texts/17'\n",
      "cref='#/texts/18'\n",
      "cref='#/texts/19'\n",
      "cref='#/texts/20'\n",
      "cref='#/texts/21'\n",
      "cref='#/texts/22'\n",
      "cref='#/texts/23'\n",
      "cref='#/texts/24'\n",
      "cref='#/texts/25'\n",
      "cref='#/texts/26'\n",
      "cref='#/texts/27'\n",
      "cref='#/texts/28'\n",
      "cref='#/texts/29'\n",
      "cref='#/texts/30'\n",
      "cref='#/texts/31'\n",
      "cref='#/texts/32'\n",
      "cref='#/texts/33'\n",
      "cref='#/texts/34'\n",
      "cref='#/texts/35'\n",
      "cref='#/texts/36'\n",
      "cref='#/texts/37'\n",
      "cref='#/texts/38'\n"
     ]
    }
   ],
   "source": [
    "for item in res.document.body.children:\n",
    "    print(item)\n",
    "    # print(type(item))\n",
    "    \n",
    "# item = res.document.pictures[0]"
   ]
  },
  {
   "cell_type": "code",
   "execution_count": 22,
   "metadata": {},
   "outputs": [],
   "source": [
    "# image = item.get_image(res.document)\n",
    "# print(image)"
   ]
  },
  {
   "cell_type": "code",
   "execution_count": null,
   "metadata": {},
   "outputs": [],
   "source": [
    "from pathlib import Path\n",
    "from docling_core.types.doc import DocItemLabel, ImageRefMode\n",
    "from docling_core.types.doc.document import DEFAULT_EXPORT_LABELS\n",
    "\n",
    "res.document.save_as_html(\n",
    "    filename=Path(\"./pdf_3_docling_vlm_test_result.html\"),\n",
    "    image_mode=ImageRefMode.REFERENCED,\n",
    "    labels=[*DEFAULT_EXPORT_LABELS, DocItemLabel.FOOTNOTE],\n",
    ")"
   ]
  },
  {
   "cell_type": "code",
   "execution_count": 24,
   "metadata": {},
   "outputs": [
    {
     "data": {
      "text/plain": [
       "{<DocItemLabel.CHECKBOX_SELECTED: 'checkbox_selected'>,\n",
       " <DocItemLabel.CHECKBOX_UNSELECTED: 'checkbox_unselected'>,\n",
       " <DocItemLabel.CODE: 'code'>,\n",
       " <DocItemLabel.DOCUMENT_INDEX: 'document_index'>,\n",
       " <DocItemLabel.FORMULA: 'formula'>,\n",
       " <DocItemLabel.LIST_ITEM: 'list_item'>,\n",
       " <DocItemLabel.PAGE_FOOTER: 'page_footer'>,\n",
       " <DocItemLabel.PAGE_HEADER: 'page_header'>,\n",
       " <DocItemLabel.PARAGRAPH: 'paragraph'>,\n",
       " <DocItemLabel.PICTURE: 'picture'>,\n",
       " <DocItemLabel.REFERENCE: 'reference'>,\n",
       " <DocItemLabel.SECTION_HEADER: 'section_header'>,\n",
       " <DocItemLabel.TABLE: 'table'>,\n",
       " <DocItemLabel.TEXT: 'text'>,\n",
       " <DocItemLabel.TITLE: 'title'>}"
      ]
     },
     "execution_count": 24,
     "metadata": {},
     "output_type": "execute_result"
    }
   ],
   "source": [
    "DEFAULT_EXPORT_LABELS"
   ]
  },
  {
   "cell_type": "code",
   "execution_count": 27,
   "metadata": {},
   "outputs": [
    {
     "name": "stderr",
     "output_type": "stream",
     "text": [
      "/var/folders/wj/0c7skj2154q4844jqxlw3yxr0000gn/T/ipykernel_72979/3043407938.py:1: DeprecationWarning: Importing display from IPython.core.display is deprecated since IPython 7.14, please import from IPython display\n",
      "  from IPython.core.display import display, HTML\n"
     ]
    }
   ],
   "source": [
    "from IPython.core.display import display, HTML\n",
    "html = res.document.export_to_html()\n",
    "# display(HTML(html))"
   ]
  }
 ],
 "metadata": {
  "kernelspec": {
   "display_name": "docling",
   "language": "python",
   "name": "docling"
  },
  "language_info": {
   "codemirror_mode": {
    "name": "ipython",
    "version": 3
   },
   "file_extension": ".py",
   "mimetype": "text/x-python",
   "name": "python",
   "nbconvert_exporter": "python",
   "pygments_lexer": "ipython3",
   "version": "3.10.14"
  }
 },
 "nbformat": 4,
 "nbformat_minor": 2
}
