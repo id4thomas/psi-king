{
 "cells": [
  {
   "cell_type": "code",
   "execution_count": 64,
   "metadata": {},
   "outputs": [],
   "source": [
    "import json\n",
    "import os\n",
    "from pathlib import Path\n",
    "import time\n",
    "from typing import Any, Dict, List, Optional\n",
    "\n",
    "# from IPython.display import Image, display\n",
    "import jsonlines\n",
    "import pandas as pd\n",
    "from pydantic import BaseModel\n",
    "from tqdm import tqdm\n",
    "\n",
    "from config import settings\n",
    "\n",
    "os.environ[\"HF_HOME\"] = settings.docling_model_weight_dir"
   ]
  },
  {
   "cell_type": "code",
   "execution_count": 2,
   "metadata": {},
   "outputs": [],
   "source": [
    "import logging\n",
    "logging.basicConfig()\n",
    "logger = logging.getLogger()\n",
    "logger.setLevel(logging.ERROR)"
   ]
  },
  {
   "cell_type": "code",
   "execution_count": 3,
   "metadata": {},
   "outputs": [],
   "source": [
    "import sys\n",
    "\n",
    "parent_dir = os.path.dirname(os.path.dirname(os.getcwd()))\n",
    "core_src_dir = os.path.join(parent_dir, \"src/psiking\")\n",
    "sys.path.append(core_src_dir)"
   ]
  },
  {
   "cell_type": "code",
   "execution_count": 4,
   "metadata": {},
   "outputs": [],
   "source": [
    "## Import Core Schemas\n",
    "from core.base.schema import Document, TextNode, ImageNode, TableNode"
   ]
  },
  {
   "cell_type": "markdown",
   "metadata": {},
   "source": [
    "# 1. Prepare Docling reader\n",
    "* test image description option\n",
    "    * https://github.com/DS4SD/docling/blob/main/docs/examples/pictures_description_api.py\n",
    "## PictureDescription Options\n",
    "[Reference](https://ds4sd.github.io/docling/reference/pipeline_options/#docling.datamodel.pipeline_options.PictureDescriptionApiOptions)\n",
    "\n",
    "* `PictureDescriptionBaseOptions`[code](https://github.com/DS4SD/docling/blob/e1436a8b0574e6bb2bb89bd65e98221e418d7142/docling/datamodel/pipeline_options.py#L187)\n",
    "* `PictureDescriptionApiOptions` [code](https://github.com/DS4SD/docling/blob/e1436a8b0574e6bb2bb89bd65e98221e418d7142/docling/datamodel/pipeline_options.py#L197)\n",
    "\n",
    "```\n",
    "class PictureDescriptionBaseOptions(BaseModel):\n",
    "    kind: str\n",
    "    batch_size: int = 8\n",
    "    scale: float = 2\n",
    "\n",
    "    bitmap_area_threshold: float = (\n",
    "        0.2  # percentage of the area for a bitmap to processed with the models\n",
    "    )\n",
    "\n",
    "class PictureDescriptionApiOptions(PictureDescriptionBaseOptions):\n",
    "    kind: Literal[\"api\"] = \"api\"\n",
    "\n",
    "    url: AnyUrl = AnyUrl(\"http://localhost:8000/v1/chat/completions\")\n",
    "    headers: Dict[str, str] = {}\n",
    "    params: Dict[str, Any] = {}\n",
    "    timeout: float = 20\n",
    "\n",
    "    prompt: str = \"Describe this image in a few sentences.\"\n",
    "    provenance: str = \"\"\n",
    "```\n",
    "\n",
    "## PictureDescriptionData\n",
    "* `PictureDescriptionData` [code](https://github.com/DS4SD/docling-core/blob/7267c3f5716d3f292592d3b11ddd2b0db4392c20/docling_core/types/doc/document.py#L108)\n",
    "\n",
    "```\n",
    "class PictureDescriptionData(BasePictureData):\n",
    "    \"\"\"PictureDescriptionData.\"\"\"\n",
    "\n",
    "    kind: Literal[\"description\"] = \"description\"\n",
    "    text: str\n",
    "    provenance: str\n",
    "\n",
    "```\n",
    "\n",
    "### annotations\n",
    "example:\n",
    "```\n",
    "item.annotations\n",
    ">>\n",
    "[\n",
    "    PictureDescriptionData(\n",
    "        kind='description',\n",
    "        text='This line graph is called 2021年并更旧的年讀昆一 (2021年攀發明星).',\n",
    "        provenance='not-implemented'\n",
    "    )\n",
    "]\n",
    "```"
   ]
  },
  {
   "cell_type": "code",
   "execution_count": 5,
   "metadata": {},
   "outputs": [],
   "source": [
    "from core.reader.pdf.docling_reader import DoclingPDFReader\n",
    "\n",
    "from docling.datamodel.base_models import InputFormat\n",
    "from docling.document_converter import DocumentConverter, PdfFormatOption\n",
    "from docling.datamodel.pipeline_options import (\n",
    "    AcceleratorOptions,\n",
    "    PdfPipelineOptions,\n",
    "    PictureDescriptionApiOptions,\n",
    "    TableStructureOptions,\n",
    "    TableFormerMode\n",
    ")\n",
    "from docling.backend.pypdfium2_backend import PyPdfiumDocumentBackend\n",
    "from docling.backend.docling_parse_v2_backend import DoclingParseV2DocumentBackend"
   ]
  },
  {
   "cell_type": "code",
   "execution_count": 6,
   "metadata": {},
   "outputs": [],
   "source": [
    "class CustomPictureDescriptionApiOptions(PictureDescriptionApiOptions):\n",
    "    # https://github.com/DS4SD/docling/blob/d8a81c31686449a0bd3a56c0bc8475fead658ba9/docling/datamodel/pipeline_options.py#L212\n",
    "    min_coverage_area_threshold: float = 0.01 # at least 1% of total page size"
   ]
  },
  {
   "cell_type": "code",
   "execution_count": 65,
   "metadata": {},
   "outputs": [
    {
     "name": "stdout",
     "output_type": "stream",
     "text": [
      "VLM MODEL: Qwen2.5-VL-3B-Instruct\n"
     ]
    }
   ],
   "source": [
    "format_options = PdfPipelineOptions()\n",
    "\n",
    "format_options.accelerator_options = AcceleratorOptions(device=\"mps\")\n",
    "\n",
    "format_options.images_scale = 1.0\n",
    "format_options.generate_page_images = True\n",
    "format_options.generate_picture_images = True\n",
    "\n",
    "format_options.do_ocr = False\n",
    "\n",
    "# Image description\n",
    "print(\"VLM MODEL:\", settings.vlm_model)\n",
    "\n",
    "DESCRIPTION_INSTRUCTION = '''주어진 이미지에대해 2가지 정보를 반환합니다.\n",
    "* description: 최대 2문장 정도로 이미지에 대한 간결한 설명\n",
    "* text: 이미지 내에서 인식된 모든 텍스트\n",
    "다음 JSON 형식으로 반환하세요 {\"description\": str, \"text\": str}'''\n",
    "\n",
    "class ImageDescription(BaseModel):\n",
    "    description: str\n",
    "    text: str\n",
    "\n",
    "image_description_options = CustomPictureDescriptionApiOptions(\n",
    "    url=f\"{settings.vlm_base_url}/v1/chat/completions\",\n",
    "    params=dict(\n",
    "        model=settings.vlm_model,\n",
    "        seed=42,\n",
    "        max_completion_tokens=512,\n",
    "        temperature=0.9,\n",
    "        extra_body={\"guided_json\": ImageDescription.model_json_schema()}\n",
    "    ),\n",
    "    # prompt=\"이미지에 대해 최대 2문장 정도로 설명하고 있는 텍스트를 모두 추출하세요. 이미지에 정보가 없다면 설명 텍스트를 작성하지 않습니다. 인식 텍스트와 설명만 반환하세요.\",\n",
    "    prompt=DESCRIPTION_INSTRUCTION,\n",
    "    batch_size=6, # Not implemented inside\n",
    "    scale=0.9,\n",
    "    timeout=90,\n",
    "    min_coverage_area_threshold=0.01,\n",
    "    bitmap_area_threshold=0.1 # 10% of page area\n",
    ")\n",
    "\n",
    "format_options.do_picture_description = True\n",
    "# format_options.do_picture_description = False\n",
    "format_options.enable_remote_services = True\n",
    "format_options.picture_description_options = image_description_options\n",
    "\n",
    "# TableStructure\n",
    "format_options.do_table_structure = True\n",
    "format_options.table_structure_options = TableStructureOptions(mode=TableFormerMode.ACCURATE)"
   ]
  },
  {
   "cell_type": "code",
   "execution_count": 66,
   "metadata": {},
   "outputs": [],
   "source": [
    "from concurrent.futures import ThreadPoolExecutor\n",
    "from typing import Iterable\n",
    "from PIL import Image\n",
    "\n",
    "from docling.pipeline.standard_pdf_pipeline import StandardPdfPipeline\n",
    "from docling.models.picture_description_base_model import PictureDescriptionBaseModel\n",
    "from docling.models.picture_description_api_model import PictureDescriptionApiModel\n",
    "\n",
    "from docling_core.types.doc import PictureItem\n",
    "from docling_core.types.doc import (\n",
    "    DoclingDocument,\n",
    "    NodeItem,\n",
    "    PictureClassificationClass,\n",
    "    PictureItem,\n",
    ")\n",
    "from docling_core.types.doc.document import (  # TODO: move import to docling_core.types.doc\n",
    "    PictureDescriptionData,\n",
    ")\n",
    "from docling.models.base_model import (\n",
    "    BaseItemAndImageEnrichmentModel,\n",
    "    ItemAndImageEnrichmentElement,\n",
    ")\n",
    "\n",
    "class CustomPictureDescriptionApiModel(PictureDescriptionApiModel):\n",
    "    \"\"\"Add page coverage ratio check to prevent VLM (ex. qwen2-vl) errors with very small images\n",
    "    * https://github.com/vllm-project/vllm/issues/13655\n",
    "    * `ValueError: height:19 or width:500 must be larger than factor:28`\n",
    "    \"\"\"\n",
    "    def _batch_annotate_images(self, images: Iterable[Image.Image]) -> Iterable[str]:\n",
    "        def annotate_single(image: Image.Image) -> str:\n",
    "            # Call the existing _annotate_images with a single-image list and retrieve the first result.\n",
    "            return next(self._annotate_images([image]))\n",
    "        \n",
    "        # Use a thread pool with 4 workers to process the images concurrently.\n",
    "        with ThreadPoolExecutor(max_workers=self.options.batch_size) as executor:\n",
    "            results = list(executor.map(annotate_single, images))\n",
    "        return results\n",
    "    \n",
    "    # https://github.com/DS4SD/docling/blob/d8a81c31686449a0bd3a56c0bc8475fead658ba9/docling/models/picture_description_base_model.py#L41\n",
    "    def __call__(\n",
    "        self,\n",
    "        doc: DoclingDocument,\n",
    "        element_batch: Iterable[ItemAndImageEnrichmentElement],\n",
    "    )-> Iterable[NodeItem]:\n",
    "        if not self.enabled:\n",
    "            for element in element_batch:\n",
    "                yield element.item\n",
    "            return\n",
    "\n",
    "        images: List[Image.Image] = []\n",
    "        elements: List[PictureItem] = []\n",
    "        for el in element_batch:\n",
    "            assert isinstance(el.item, PictureItem)\n",
    "            # Check Image page coverage\n",
    "            page_no = el.item.prov[0].page_no\n",
    "            page_width = doc.pages[page_no].size.width\n",
    "            page_height = doc.pages[page_no].size.height\n",
    "            if page_width and page_height:\n",
    "                coverage = (el.image.size[0]*el.image.size[1])/(page_width*page_height)\n",
    "                if coverage<self.options.min_coverage_area_threshold:\n",
    "                    continue\n",
    "            elements.append(el.item)\n",
    "            images.append(el.image)\n",
    "        print(\"NUM IMAGES TO ANNOTATE\", len(images))\n",
    "        # outputs = self._annotate_images(images)\n",
    "        outputs = self._batch_annotate_images(images)\n",
    "\n",
    "        for item, output in zip(elements, outputs):\n",
    "            item.annotations.append(\n",
    "                PictureDescriptionData(text=output, provenance=self.provenance)\n",
    "            )\n",
    "            yield item\n",
    "\n",
    "class CustomPdfPipeline(StandardPdfPipeline):\n",
    "    # https://github.com/DS4SD/docling/blob/d8a81c31686449a0bd3a56c0bc8475fead658ba9/docling/pipeline/standard_pdf_pipeline.py#L53\n",
    "    def get_picture_description_model(\n",
    "        self, artifacts_path: Optional[Path] = None\n",
    "    ):\n",
    "        return CustomPictureDescriptionApiModel(\n",
    "            enabled=self.pipeline_options.do_picture_description,\n",
    "            enable_remote_services=self.pipeline_options.enable_remote_services,\n",
    "            options=self.pipeline_options.picture_description_options,\n",
    "        )"
   ]
  },
  {
   "cell_type": "code",
   "execution_count": 67,
   "metadata": {},
   "outputs": [],
   "source": [
    "# reader = DoclingPDFReader(format_options=format_options)\n",
    "\n",
    "reader = DoclingPDFReader()\n",
    "\n",
    "# Override Converter\n",
    "reader.converter_ = DocumentConverter(\n",
    "    allowed_formats = [\n",
    "        InputFormat.PDF,\n",
    "    ],\n",
    "    format_options = {\n",
    "        InputFormat.PDF: PdfFormatOption(\n",
    "            pipeline_cls=CustomPdfPipeline,\n",
    "            pipeline_options = format_options,\n",
    "            backend = DoclingParseV2DocumentBackend\n",
    "        )\n",
    "    }\n",
    ")\n",
    "reader.converter_.initialize_pipeline(InputFormat.PDF)"
   ]
  },
  {
   "cell_type": "code",
   "execution_count": 68,
   "metadata": {},
   "outputs": [],
   "source": [
    "# reader.converter.initialize_pipeline(InputFormat.PDF)\n",
    "# reader.converter._get_pipeline(InputFormat.PDF).enrichment_pipe"
   ]
  },
  {
   "cell_type": "code",
   "execution_count": 69,
   "metadata": {},
   "outputs": [
    {
     "name": "stdout",
     "output_type": "stream",
     "text": [
      "num files: 10\n"
     ]
    },
    {
     "data": {
      "text/plain": [
       "['★2019 제1회 증시콘서트 자료집_최종★.pdf',\n",
       " '240409(보도자료) 금융위 핀테크 투자 생태계 활성화 나선다.pdf',\n",
       " '2024년 3월_3. 향후 통화신용정책 방향.pdf',\n",
       " '133178946057443204_WP22-05.pdf',\n",
       " '240130(보도자료) 지방은행의 시중은행 전환시 인가방식 및 절차.pdf',\n",
       " '130292099630937500_KIFVIP2013-10.pdf',\n",
       " '2024년 3월_2. 통화신용정책 운영.pdf',\n",
       " '[별첨] 지방은행의 시중은행 전환시 인가방식 및 절차.pdf',\n",
       " '240320(보도자료) 금융권의 상생금융 추진현황.pdf',\n",
       " '한-호주 퇴직연금 포럼_책자(최종).pdf']"
      ]
     },
     "execution_count": 69,
     "metadata": {},
     "output_type": "execute_result"
    }
   ],
   "source": [
    "# PDF File directory\n",
    "pdf_dir = os.path.join(settings.data_dir, \"allganize-RAG-Evaluation-Dataset-KO/finance\")\n",
    "pdf_fnames =[x for x in os.listdir(pdf_dir) if x.endswith(\".pdf\")]\n",
    "print(\"num files:\", len(pdf_fnames))\n",
    "pdf_fnames[:10]"
   ]
  },
  {
   "cell_type": "code",
   "execution_count": 70,
   "metadata": {},
   "outputs": [
    {
     "name": "stderr",
     "output_type": "stream",
     "text": [
      "0it [00:00, ?it/s]"
     ]
    },
    {
     "name": "stdout",
     "output_type": "stream",
     "text": [
      "NUM IMAGES TO ANNOTATE 4\n",
      "NUM IMAGES TO ANNOTATE 11\n",
      "NUM IMAGES TO ANNOTATE 10\n",
      "NUM IMAGES TO ANNOTATE 13\n",
      "NUM IMAGES TO ANNOTATE 16\n",
      "NUM IMAGES TO ANNOTATE 16\n",
      "NUM IMAGES TO ANNOTATE 16\n",
      "NUM IMAGES TO ANNOTATE 16\n",
      "NUM IMAGES TO ANNOTATE 7\n"
     ]
    },
    {
     "name": "stderr",
     "output_type": "stream",
     "text": [
      "1it [01:20, 80.75s/it]\n"
     ]
    }
   ],
   "source": [
    "fnames = ['2024년 3월_3. 향후 통화신용정책 방향.pdf']\n",
    "fnames = ['★2019 제1회 증시콘서트 자료집_최종★.pdf']\n",
    "\n",
    "# Issue with vllm giving image errors\n",
    "## https://github.com/vllm-project/vllm/issues/13655\n",
    "\n",
    "# Convert pages to image\n",
    "documents = []\n",
    "failed_fnames = []\n",
    "for doc_i, fname in tqdm(enumerate(fnames)):\n",
    "    file_path = os.path.join(pdf_dir, fname)\n",
    "    try:\n",
    "        document = reader.run(\n",
    "            file_path,\n",
    "            extra_info = {\n",
    "                \"source_id\": f\"allganize-RAG-Evaluation-Dataset-KO/finance/{doc_i}\", # arbitrary id\n",
    "                \"domain\": \"finance\",\n",
    "                \"source_file\": fname\n",
    "            }\n",
    "        )\n",
    "    except Exception as e:\n",
    "        print(\"[READER] failed {} - {}\".format(fname, str(e)))\n",
    "        failed_fnames.append(fname)\n",
    "        continue\n",
    "    document.nodes = document.nodes\n",
    "    documents.append(document)"
   ]
  },
  {
   "cell_type": "code",
   "execution_count": 71,
   "metadata": {},
   "outputs": [
    {
     "name": "stdout",
     "output_type": "stream",
     "text": [
      "<class 'core.base.schema.TextNode'>\n",
      "<class 'core.base.schema.TextNode'>\n",
      "<class 'core.base.schema.TextNode'>\n"
     ]
    }
   ],
   "source": [
    "for node in document.nodes[:3]:\n",
    "    print(type(node))"
   ]
  },
  {
   "cell_type": "code",
   "execution_count": 72,
   "metadata": {},
   "outputs": [
    {
     "name": "stdout",
     "output_type": "stream",
     "text": [
      "{'source_id': 'allganize-RAG-Evaluation-Dataset-KO/finance/0', 'domain': 'finance', 'source_file': '★2019 제1회 증시콘서트 자료집_최종★.pdf'}\n",
      "557\n",
      "Num TextNodes: 441\n",
      "Num ImageNodes: 105\n",
      "Num TableNodes: 11\n"
     ]
    }
   ],
   "source": [
    "print(document.metadata)\n",
    "print(len(document.nodes))\n",
    "\n",
    "print(\"Num TextNodes:\",len(list(filter(lambda x: isinstance(x, TextNode), document.nodes))))\n",
    "print(\"Num ImageNodes:\",len(list(filter(lambda x: isinstance(x, ImageNode), document.nodes))))\n",
    "print(\"Num TableNodes:\",len(list(filter(lambda x: isinstance(x, TableNode), document.nodes))))"
   ]
  },
  {
   "cell_type": "code",
   "execution_count": 73,
   "metadata": {},
   "outputs": [
    {
     "name": "stdout",
     "output_type": "stream",
     "text": [
      "105\n"
     ]
    }
   ],
   "source": [
    "image_nodes = []\n",
    "for node in document.nodes:\n",
    "    if isinstance(node, ImageNode):\n",
    "        # break\n",
    "        # print(node.image.size)\n",
    "        image_nodes.append(node)\n",
    "print(len(image_nodes))"
   ]
  },
  {
   "cell_type": "code",
   "execution_count": 74,
   "metadata": {},
   "outputs": [
    {
     "name": "stdout",
     "output_type": "stream",
     "text": [
      "SIZE: (184, 74)\n",
      "TEXT: ```json\n",
      "{\n",
      "  \"description\": \"이은 이미지는 대한민국의 금융투자협회 로고로, 오른쪽에는 영어로 KFA에 해당하는 대문자로 쓰여 있습니다.\",\n",
      "  \"text\": \"금융투자협회 Korea Financial Investment Association\"\n",
      "}\n",
      "```\n",
      "CAPTION: \n",
      "------------------------------\n",
      "SIZE: (481, 340)\n",
      "TEXT: ```json\n",
      "{\n",
      "  \"description\": \"이미지는 삼성증권 리서치센터에서 작성한 2019년 하반기 주식시장 전망 책let의 전면을 보여주고 있습니다.\",\n",
      "  \"text\": \"2019년 하반기\\n주식시장 전망\\n△ 삼성증권 리서치센터\\n신뢰에 가치로 답하다\\n삼성증권\\nSAMSUNG\"\n",
      "}\n",
      "```\n",
      "CAPTION: \n",
      "------------------------------\n",
      "SIZE: (206, 142)\n",
      "TEXT: ```json\n",
      "{\n",
      "  \"description\": \"이 스크린샷에서는 주식 시장에서 일일 비중과 단기 주식 시장에서 일일 비중의 변화를 나타내고 있습니다. 이 그래프는 나라별로 일일 비중을 나타내고 있습니다.\",\n",
      "  \"text\": \"Theme 별 성과\\n5G\\n6.2\\n4.3\\n3.8\\n2.2\\n-7.9\\n-9.8\\n소매/유통\\n대북경협\\n건설/소재\\n2차전진/ESS\\n약약/바이오\\n(-%)\\n리츠(REITs) 모바일광고 페이먼트 차이나플레이\"\n",
      "}\n",
      "```\n",
      "CAPTION: \n",
      "------------------------------\n",
      "SIZE: (199, 124)\n",
      "TEXT: ```json\n",
      "{\n",
      "  \"description\": \"이图为全球信贷/国际收益率的图表。图表显示了从2018年到2019年间收益率的变化趋势。\",\n",
      "  \"text\": \"글로벌 크레딧/국채 상대강도\\n2018.1.18\\n1.18\\n1.17\\n1.16\\n1.15\\n1.14\\n1.13\\n2019\\n크레딧 강세\\n국채 강세\"\n",
      "}\n",
      "```\n",
      "CAPTION: \n",
      "------------------------------\n",
      "SIZE: (236, 42)\n",
      "TEXT: ```json\n",
      "{\n",
      "  \"description\": \"이미지는 리세션 판단과 관련된 주제를 다루고 있고, 단락은 'over - capacity', 'over - credit', 'over - valuation'을 가리킨다. 리세션 판단은 'stable' 상태로 진단된다.\",\n",
      "  \"text\": \"리세션 판단 근거\\nover - capacity\\nover - credit\\nover - valuation\\n\\n'stable' 상태\"\n",
      "}\n",
      "```\n",
      "CAPTION: \n",
      "------------------------------\n",
      "SIZE: (237, 42)\n",
      "TEXT: ```json\n",
      "{\n",
      "  \"description\": \"이 스탠스는 Fed의 최근 경제 전략에 대해 설명하고 있으며, 지금은 대출규제를 완화할 대신 금융시장 위축 방지를 목표로 하고 있다. 또한 중앙은행은 균등 Inflation Targeting 시스템을 활용해 소프트莱인딩 경제 출발을 도출하기로 결정했다.\",\n",
      "  \"text\": \"Fed의 적극적인 스탠스\\nInsurance cut → 금융시장 위축 방어\\nAverage Inflation Targeting → Soft landing 유도\"\n",
      "}\n",
      "```\n",
      "CAPTION: \n",
      "------------------------------\n",
      "SIZE: (177, 151)\n",
      "TEXT: ```json\n",
      "{\n",
      "  \"description\": \"이 스크린샷에서는 2017년부터 2020년까지의 Tax cut 효과의 변화에 대한 그래프를 보여줍니다.\",\n",
      "  \"text\": \"2.9%\\n2.4%\\n2.1%\\nTax cut 효과 소멸\\nTax cut 효과\\n2.2%\\n2.2%\\n2.2%\\n2017년\\n2018년\\n2019년\\n2020년\"\n",
      "}\n",
      "```\n",
      "CAPTION: \n",
      "------------------------------\n",
      "SIZE: (137, 135)\n",
      "TEXT: ```json\n",
      "{\n",
      "  \"description\": \"이 그래프는 1960년부터 2010년까지 GDP 대비 민간부문 저축에 대한 기간별 추이를 나타내고 있습니다.\",\n",
      "  \"text\": \"(GDP 대비, %) 민간부문 저축 투자 갭\\n6\\n6\\n6\\n1960 1970 1980 1990 2000 2010\"\n",
      "}\n",
      "```\n",
      "CAPTION: \n",
      "------------------------------\n",
      "SIZE: (137, 138)\n",
      "TEXT: ```json\n",
      "{\n",
      "  \"description\": \"이 그래프는 1952년부터 2017년까지 기업 부채 대 총자산에 대한 기간별 추이를 나타내고 있습니다.\",\n",
      "  \"text\": \"기업 부채/총자산\\n(%)\\n1952 1965 1978 1991 2004 2017\\n15 17 19 21 23 25\"\n",
      "}\n",
      "```\n",
      "CAPTION: \n",
      "------------------------------\n",
      "SIZE: (134, 130)\n",
      "TEXT: ```json\n",
      "{\n",
      "  \"description\": \"이图为美国股市指数S&P 500的12个月预测市盈率变化。图示期间从1990年至2018年，显示了市盈率的变化趋势。\",\n",
      "  \"text\": \"S&P 500 12개월 예상 PER\\n1990\\n11\\n13\\n1995\\n14.5\\n17\\n2000\\n20\\n2005\\n22.5\\n2010\\n18.5\\n2015\\n16\\n2018\\n15\"\n",
      "}\n",
      "```\n",
      "CAPTION: \n",
      "------------------------------\n"
     ]
    }
   ],
   "source": [
    "for node in image_nodes[:10]:\n",
    "    print(\"SIZE:\", node.image.size)\n",
    "    print(\"TEXT:\", node.text)\n",
    "    print(\"CAPTION:\", node.caption)\n",
    "    print('-'*30)"
   ]
  },
  {
   "cell_type": "code",
   "execution_count": 78,
   "metadata": {},
   "outputs": [
    {
     "name": "stdout",
     "output_type": "stream",
     "text": [
      "TEXT: ```json\n",
      "{\n",
      "  \"description\": \"이图为美国股市指数S&P 500的12个月预测市盈率变化。图示期间从1990年至2018年，显示了市盈率的变化趋势。\",\n",
      "  \"text\": \"S&P 500 12개월 예상 PER\\n1990\\n11\\n13\\n1995\\n14.5\\n17\\n2000\\n20\\n2005\\n22.5\\n2010\\n18.5\\n2015\\n16\\n2018\\n15\"\n",
      "}\n",
      "```\n",
      "CAPTION: \n"
     ]
    },
    {
     "data": {
      "image/jpeg": "[encoded data removed]",
      "image/png": "[encoded data removed]",
      "text/plain": [
       "<PIL.PngImagePlugin.PngImageFile image mode=RGB size=134x130>"
      ]
     },
     "execution_count": 78,
     "metadata": {},
     "output_type": "execute_result"
    }
   ],
   "source": [
    "node = image_nodes[9]\n",
    "print(\"TEXT:\", node.text)\n",
    "print(\"CAPTION:\", node.caption)\n",
    "node.image"
   ]
  },
  {
   "cell_type": "code",
   "execution_count": 79,
   "metadata": {},
   "outputs": [
    {
     "name": "stdout",
     "output_type": "stream",
     "text": [
      "(452, 188)\n",
      "(460, 201)\n",
      "(207, 74)\n",
      "(206, 131)\n",
      "(206, 132)\n",
      "(206, 129)\n",
      "(439, 166)\n",
      "(439, 117)\n",
      "(206, 117)\n",
      "(206, 151)\n",
      "(423, 165)\n",
      "TEXT: <table><tbody><tr><th>구분</th><th colspan=\"2\">시  간</th><th>내  용</th></tr><tr><td>1부</td><td>14:30~14:40</td><td>10&#x27;</td><td>•  인사말 (권용원 금융투자협회 회장)</td></tr><tr><td>14:40~15:40</td><td></td><td>60&#x27;</td><td>•  리서치센터장 (4인) 의 하반기 전망</td></tr><tr><td>-</td><td>15:40~15:45</td><td>5&#x27;</td><td>•  Break</td></tr><tr><td>2부</td><td>15:45~16:35</td><td>50&#x27;</td><td>•  종합토론 (센터장 4인, 운용사 2인, 연구원 1인)</td></tr></tbody></table>\n",
      "CAPTION: \n",
      "TEXT: <table><tbody><tr><th>구분</th><th colspan=\"2\">시  간</th><th>내  용</th></tr><tr><td>1부</td><td>14:30~14:40</td><td>10&#x27;</td><td>•  인사말 (권용원 금융투자협회 회장)</td></tr><tr><td>14:40~15:40</td><td></td><td>60&#x27;</td><td>•  리서치센터장 (4인) 의 하반기 전망</td></tr><tr><td>-</td><td>15:40~15:45</td><td>5&#x27;</td><td>•  Break</td></tr><tr><td>2부</td><td>15:45~16:35</td><td>50&#x27;</td><td>•  종합토론 (센터장 4인, 운용사 2인, 연구원 1인)</td></tr></tbody></table>\n"
     ]
    },
    {
     "data": {
      "image/jpeg": "[encoded data removed]",
      "image/png": "[encoded data removed]",
      "text/plain": [
       "<PIL.PngImagePlugin.PngImageFile image mode=RGB size=452x188>"
      ]
     },
     "execution_count": 79,
     "metadata": {},
     "output_type": "execute_result"
    }
   ],
   "source": [
    "table_nodes = []\n",
    "for node in document.nodes:\n",
    "    if isinstance(node, TableNode):\n",
    "        print(node.image.size)\n",
    "        table_nodes.append(node)\n",
    "        # break\n",
    "node = table_nodes[0]\n",
    "print(\"TEXT:\", node.text)\n",
    "print(\"CAPTION:\", node.caption)\n",
    "print(\"TEXT:\", node.text)\n",
    "node.image"
   ]
  }
 ],
 "metadata": {
  "kernelspec": {
   "display_name": "docling",
   "language": "python",
   "name": "docling"
  },
  "language_info": {
   "codemirror_mode": {
    "name": "ipython",
    "version": 3
   },
   "file_extension": ".py",
   "mimetype": "text/x-python",
   "name": "python",
   "nbconvert_exporter": "python",
   "pygments_lexer": "ipython3",
   "version": "3.10.14"
  }
 },
 "nbformat": 4,
 "nbformat_minor": 2
}
