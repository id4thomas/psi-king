{
 "cells": [
  {
   "cell_type": "markdown",
   "id": "a20a2d87",
   "metadata": {},
   "source": [
    "# 3_1 index text\n",
    "* index `jinaai/JinaVDR`-`github-readme-retrieval-multilingual` dataset\n",
    "* only index 'text' as 'text'"
   ]
  },
  {
   "cell_type": "code",
   "execution_count": 1,
   "id": "9982ad5b",
   "metadata": {},
   "outputs": [
    {
     "name": "stdout",
     "output_type": "stream",
     "text": [
      "/Users/id4thomas/github/psi-king\n",
      "/Users/id4thomas/github/psi-king/src/psiking-core\n"
     ]
    }
   ],
   "source": [
    "import os\n",
    "import sys\n",
    "parent_dir = os.path.dirname(os.path.dirname(os.getcwd()))\n",
    "print(parent_dir)\n",
    "core_src_dir = os.path.join(parent_dir, \"src/psiking-core\")\n",
    "print(core_src_dir)\n",
    "sys.path.append(core_src_dir)\n",
    "\n",
    "from datasets import load_dataset, load_from_disk\n",
    "\n",
    "from config import settings"
   ]
  },
  {
   "cell_type": "markdown",
   "id": "19d9a91e",
   "metadata": {},
   "source": [
    "# 1. Load Dataset\n",
    "* `ko` split of `github-readme-retrieval-multilingual` "
   ]
  },
  {
   "cell_type": "code",
   "execution_count": 2,
   "id": "b0c9450a",
   "metadata": {},
   "outputs": [],
   "source": [
    "ds = load_from_disk(\n",
    "    os.path.join(\n",
    "        settings.data_dir,\n",
    "        'github-readme-retrieval-multilingual/data/ko'\n",
    "    )\n",
    ")"
   ]
  },
  {
   "cell_type": "code",
   "execution_count": 3,
   "id": "74ed54fd",
   "metadata": {},
   "outputs": [],
   "source": [
    "id_column = list(range(len(ds['test'])))\n",
    "ds['test']=ds['test'].add_column(\n",
    "    name='id',\n",
    "    column=id_column\n",
    ")"
   ]
  },
  {
   "cell_type": "code",
   "execution_count": 4,
   "id": "53014779",
   "metadata": {},
   "outputs": [
    {
     "data": {
      "text/plain": [
       "{'query': '페이퍼 머니를 사용하는 주식 거래 앱입니다.',\n",
       " 'image': <PIL.PngImagePlugin.PngImageFile image mode=RGB size=618x1080>,\n",
       " 'image_filename': 'images/1249_screenshot.png',\n",
       " 'license_type': 'APACHE_2',\n",
       " 'license_text': '                                 Apache License\\n                           Version 2.0, January 2004\\n                        http://www.apache.org/licenses/\\n\\n   TERMS AND CONDITIONS FOR USE, REPRODUCTION, AND DISTRIBUTION\\n\\n   1. Definitions.\\n\\n      \"License\" shall mean the terms and conditions for use, reproduction,\\n      and distribution as defined by Sections 1 through 9 of this document.\\n\\n      \"Licensor\" shall mean the copyright owner or entity authorized by\\n      the copyright owner that is granting the License.\\n\\n      \"Legal Entity\" shall mean the union of the acting entity and all\\n      other entities that control, are controlled by, or are under common\\n      control with that entity. For the purposes of this definition,\\n      \"control\" means (i) the power, direct or indirect, to cause the\\n      direction or management of such entity, whether by contract or\\n      otherwise, or (ii) ownership of fifty percent (50%) or more of the\\n      outstanding shares, or (iii) beneficial ownership of such entity.\\n\\n      \"You\" (or \"Your\") shall mean an individual or Legal Entity\\n      exercising permissions granted by this License.\\n\\n      \"Source\" form shall mean the preferred form for making modifications,\\n      including but not limited to software source code, documentation\\n      source, and configuration files.\\n\\n      \"Object\" form shall mean any form resulting from mechanical\\n      transformation or translation of a Source form, including but\\n      not limited to compiled object code, generated documentation,\\n      and conversions to other media types.\\n\\n      \"Work\" shall mean the work of authorship, whether in Source or\\n      Object form, made available under the License, as indicated by a\\n      copyright notice that is included in or attached to the work\\n      (an example is provided in the Appendix below).\\n\\n      \"Derivative Works\" shall mean any work, whether in Source or Object\\n      form, that is based on (or derived from) the Work and for which the\\n      editorial revisions, annotations, elaborations, or other modifications\\n      represent, as a whole, an original work of authorship. For the purposes\\n      of this License, Derivative Works shall not include works that remain\\n      separable from, or merely link (or bind by name) to the interfaces of,\\n      the Work and Derivative Works thereof.\\n\\n      \"Contribution\" shall mean any work of authorship, including\\n      the original version of the Work and any modifications or additions\\n      to that Work or Derivative Works thereof, that is intentionally\\n      submitted to Licensor for inclusion in the Work by the copyright owner\\n      or by an individual or Legal Entity authorized to submit on behalf of\\n      the copyright owner. For the purposes of this definition, \"submitted\"\\n      means any form of electronic, verbal, or written communication sent\\n      to the Licensor or its representatives, including but not limited to\\n      communication on electronic mailing lists, source code control systems,\\n      and issue tracking systems that are managed by, or on behalf of, the\\n      Licensor for the purpose of discussing and improving the Work, but\\n      excluding communication that is conspicuously marked or otherwise\\n      designated in writing by the copyright owner as \"Not a Contribution.\"\\n\\n      \"Contributor\" shall mean Licensor and any individual or Legal Entity\\n      on behalf of whom a Contribution has been received by Licensor and\\n      subsequently incorporated within the Work.\\n\\n   2. Grant of Copyright License. Subject to the terms and conditions of\\n      this License, each Contributor hereby grants to You a perpetual,\\n      worldwide, non-exclusive, no-charge, royalty-free, irrevocable\\n      copyright license to reproduce, prepare Derivative Works of,\\n      publicly display, publicly perform, sublicense, and distribute the\\n      Work and such Derivative Works in Source or Object form.\\n\\n   3. Grant of Patent License. Subject to the terms and conditions of\\n      this License, each Contributor hereby grants to You a perpetual,\\n      worldwide, non-exclusive, no-charge, royalty-free, irrevocable\\n      (except as stated in this section) patent license to make, have made,\\n      use, offer to sell, sell, import, and otherwise transfer the Work,\\n      where such license applies only to those patent claims licensable\\n      by such Contributor that are necessarily infringed by their\\n      Contribution(s) alone or by combination of their Contribution(s)\\n      with the Work to which such Contribution(s) was submitted. If You\\n      institute patent litigation against any entity (including a\\n      cross-claim or counterclaim in a lawsuit) alleging that the Work\\n      or a Contribution incorporated within the Work constitutes direct\\n      or contributory patent infringement, then any patent licenses\\n      granted to You under this License for that Work shall terminate\\n      as of the date such litigation is filed.\\n\\n   4. Redistribution. You may reproduce and distribute copies of the\\n      Work or Derivative Works thereof in any medium, with or without\\n      modifications, and in Source or Object form, provided that You\\n      meet the following conditions:\\n\\n      (a) You must give any other recipients of the Work or\\n          Derivative Works a copy of this License; and\\n\\n      (b) You must cause any modified files to carry prominent notices\\n          stating that You changed the files; and\\n\\n      (c) You must retain, in the Source form of any Derivative Works\\n          that You distribute, all copyright, patent, trademark, and\\n          attribution notices from the Source form of the Work,\\n          excluding those notices that do not pertain to any part of\\n          the Derivative Works; and\\n\\n      (d) If the Work includes a \"NOTICE\" text file as part of its\\n          distribution, then any Derivative Works that You distribute must\\n          include a readable copy of the attribution notices contained\\n          within such NOTICE file, excluding those notices that do not\\n          pertain to any part of the Derivative Works, in at least one\\n          of the following places: within a NOTICE text file distributed\\n          as part of the Derivative Works; within the Source form or\\n          documentation, if provided along with the Derivative Works; or,\\n          within a display generated by the Derivative Works, if and\\n          wherever such third-party notices normally appear. The contents\\n          of the NOTICE file are for informational purposes only and\\n          do not modify the License. You may add Your own attribution\\n          notices within Derivative Works that You distribute, alongside\\n          or as an addendum to the NOTICE text from the Work, provided\\n          that such additional attribution notices cannot be construed\\n          as modifying the License.\\n\\n      You may add Your own copyright statement to Your modifications and\\n      may provide additional or different license terms and conditions\\n      for use, reproduction, or distribution of Your modifications, or\\n      for any such Derivative Works as a whole, provided Your use,\\n      reproduction, and distribution of the Work otherwise complies with\\n      the conditions stated in this License.\\n\\n   5. Submission of Contributions. Unless You explicitly state otherwise,\\n      any Contribution intentionally submitted for inclusion in the Work\\n      by You to the Licensor shall be under the terms and conditions of\\n      this License, without any additional terms or conditions.\\n      Notwithstanding the above, nothing herein shall supersede or modify\\n      the terms of any separate license agreement you may have executed\\n      with Licensor regarding such Contributions.\\n\\n   6. Trademarks. This License does not grant permission to use the trade\\n      names, trademarks, service marks, or product names of the Licensor,\\n      except as required for reasonable and customary use in describing the\\n      origin of the Work and reproducing the content of the NOTICE file.\\n\\n   7. Disclaimer of Warranty. Unless required by applicable law or\\n      agreed to in writing, Licensor provides the Work (and each\\n      Contributor provides its Contributions) on an \"AS IS\" BASIS,\\n      WITHOUT WARRANTIES OR CONDITIONS OF ANY KIND, either express or\\n      implied, including, without limitation, any warranties or conditions\\n      of TITLE, NON-INFRINGEMENT, MERCHANTABILITY, or FITNESS FOR A\\n      PARTICULAR PURPOSE. You are solely responsible for determining the\\n      appropriateness of using or redistributing the Work and assume any\\n      risks associated with Your exercise of permissions under this License.\\n\\n   8. Limitation of Liability. In no event and under no legal theory,\\n      whether in tort (including negligence), contract, or otherwise,\\n      unless required by applicable law (such as deliberate and grossly\\n      negligent acts) or agreed to in writing, shall any Contributor be\\n      liable to You for damages, including any direct, indirect, special,\\n      incidental, or consequential damages of any character arising as a\\n      result of this License or out of the use or inability to use the\\n      Work (including but not limited to damages for loss of goodwill,\\n      work stoppage, computer failure or malfunction, or any and all\\n      other commercial damages or losses), even if such Contributor\\n      has been advised of the possibility of such damages.\\n\\n   9. Accepting Warranty or Additional Liability. While redistributing\\n      the Work or Derivative Works thereof, You may choose to offer,\\n      and charge a fee for, acceptance of support, warranty, indemnity,\\n      or other liability obligations and/or rights consistent with this\\n      License. However, in accepting such obligations, You may act only\\n      on Your own behalf and on Your sole responsibility, not on behalf\\n      of any other Contributor, and only if You agree to indemnify,\\n      defend, and hold each Contributor harmless for any liability\\n      incurred by, or claims asserted against, such Contributor by reason\\n      of your accepting any such warranty or additional liability.\\n\\n   END OF TERMS AND CONDITIONS\\n\\n   APPENDIX: How to apply the Apache License to your work.\\n\\n      To apply the Apache License to your work, attach the following\\n      boilerplate notice, with the fields enclosed by brackets \"[]\"\\n      replaced with your own identifying information. (Don\\'t include\\n      the brackets!)  The text should be enclosed in the appropriate\\n      comment syntax for the file format. We also recommend that a\\n      file or class name and description of purpose be included on the\\n      same \"printed page\" as the copyright notice for easier\\n      identification within third-party archives.\\n\\n   Copyright [yyyy] [name of copyright owner]\\n\\n   Licensed under the Apache License, Version 2.0 (the \"License\");\\n   you may not use this file except in compliance with the License.\\n   You may obtain a copy of the License at\\n\\n       http://www.apache.org/licenses/LICENSE-2.0\\n\\n   Unless required by applicable law or agreed to in writing, software\\n   distributed under the License is distributed on an \"AS IS\" BASIS,\\n   WITHOUT WARRANTIES OR CONDITIONS OF ANY KIND, either express or implied.\\n   See the License for the specific language governing permissions and\\n   limitations under the License.\\n',\n",
       " 'text_description': '저희 저장소에 것올 환영합니다! -+아<`5 콤우어 -(회신도 모든 사람에게 종이 거래들 제공합니다. 역기에서 확인해 보세요 설정 방법 다음 명령은 따르세요 군라이언트 서버 모든움 선치합니다 , 7짚물5여다 *시터 대도 @은 사용래야  합나다 . 1-다미 창내:민내 [매웬(5659 ( 4가  식행 급인지 막인하고  환경 변수 0\\'-불5거 연걸 문자업음 지정말니다 다리-5 ~어신--? = 마-5데권5.5디 [   \"초-:큰 7 ; 5하츠쥐끊어>펼디 (05[: 5432예 \\'1,미산6 .10도  이용하여 무료 계정운 만듬니다 . 그런 다움 4\"1 키끝 주가합니다 . *0기하 [ 드껴 )터 우: _\" _ \" 예:\\' 하37# 브나_ 니느: _\" 가만 모드어서 굳라이언트와 서버든 모두 시작립니다 자세한 내용은 구드 디널로리 0고디름미|드 ]50\"음 침조하심시오 냉모 15의78퉁 36995 이용하여 프러트언드든   막인하세요 |   먹연드는 포트 8080(기본각)어서 호스템씩니다 . 3석` 1밥 형침대  965 배포 및 이라-+칭5 브랜치 상태 이라플5 이에서 디_~슬 수행합니다. 모든 브랜치에 대한 모든 푸시에 대해 {,라감$ 빌드가 트리거립니다. 아래 림크 에서 +라거5 사이트문 참조하십시오 \\'하하(라하에 병합하는 것은 검토 승인 및 검사 통과 후에만 가능합니다. 메봄도+서5 에 병합되고 테스트 및 빌드가 성공 적으로 완료되면 가,라거5 디가 @곁-(- 퍽석하\"-(하*에 대한 배포루 시작합니다 . 하채:다: 에서 빌드 및 배포루 건너뛰어 서논 안 쉽니다. \\'고-+.5 브랜치논 프로덕선에 배포된 내용올 직점 반영합니다. 프로적트물 간소화하고 단순화하기 위해 태그 및 길 리스 시스템올 사용하지 않습니다 유용한 림크 선버단위 텍스트 선비 문합 텍스트 위키 데이지 칸반 보드 디기장 (리감-) 라이브 프로덕선 사이트 라이브스미 문서 라이브 통합 테스트 절용 범위 보고서 라이브 단위 테스트 적용 범위 보고서 저장소 규칙 마크다운 파일은 참조하여 이 저장소에서 진행 상황은 문서화하고 위크프로든 관리하는 방법은 확인하십시오. 오신 \\'--',\n",
       " 'id': 0}"
      ]
     },
     "execution_count": 4,
     "metadata": {},
     "output_type": "execute_result"
    }
   ],
   "source": [
    "ds['test'][0]"
   ]
  },
  {
   "cell_type": "markdown",
   "id": "b6033551",
   "metadata": {},
   "source": [
    "# 2. Prepare PSIKing Documents\n",
    "* dataset text -> PSIKing Document"
   ]
  },
  {
   "cell_type": "code",
   "execution_count": 5,
   "id": "0fc83cc2",
   "metadata": {},
   "outputs": [],
   "source": [
    "from psiking.core.base.schema import TextNode, Document"
   ]
  },
  {
   "cell_type": "code",
   "execution_count": 6,
   "id": "a057645b",
   "metadata": {},
   "outputs": [],
   "source": [
    "def prepare_documents(x):\n",
    "    node = TextNode(\n",
    "        text=x['text_description'],\n",
    "        metadata={\n",
    "            'docid': x['id']\n",
    "        }\n",
    "    )\n",
    "    document = Document(\n",
    "        nodes=[node],\n",
    "        metadata={\n",
    "            'docid': x['id']\n",
    "        }\n",
    "    )\n",
    "    return {'doc': document.to_dict()}"
   ]
  },
  {
   "cell_type": "code",
   "execution_count": 7,
   "id": "d80572e6",
   "metadata": {},
   "outputs": [],
   "source": [
    "collection = ds.map(\n",
    "    function=prepare_documents,\n",
    "    batched=False\n",
    ")"
   ]
  },
  {
   "cell_type": "code",
   "execution_count": 8,
   "id": "ec61a487",
   "metadata": {},
   "outputs": [
    {
     "data": {
      "text/plain": [
       "{'query': 'Bulma를 기반으로 하는 Vue.js용 경량 UI 구성 요소',\n",
       " 'image': <PIL.PngImagePlugin.PngImageFile image mode=RGB size=540x1080>,\n",
       " 'image_filename': 'images/774_screenshot.png',\n",
       " 'license_type': 'MIT',\n",
       " 'license_text': 'MIT License\\n\\nCopyright (c) 2017-2019 Rafael Beraldo\\n\\nPermission is hereby granted, free of charge, to any person obtaining a copy\\nof this software and associated documentation files (the \"Software\"), to deal\\nin the Software without restriction, including without limitation the rights\\nto use, copy, modify, merge, publish, distribute, sublicense, and/or sell\\ncopies of the Software, and to permit persons to whom the Software is\\nfurnished to do so, subject to the following conditions:\\n\\nThe above copyright notice and this permission notice shall be included in all\\ncopies or substantial portions of the Software.\\n\\nTHE SOFTWARE IS PROVIDED \"AS IS\", WITHOUT WARRANTY OF ANY KIND, EXPRESS OR\\nIMPLIED, INCLUDING BUT NOT LIMITED TO THE WARRANTIES OF MERCHANTABILITY,\\nFITNESS FOR A PARTICULAR PURPOSE AND NONINFRINGEMENT. IN NO EVENT SHALL THE\\nAUTHORS OR COPYRIGHT HOLDERS BE LIABLE FOR ANY CLAIM, DAMAGES OR OTHER\\nLIABILITY, WHETHER IN AN ACTION OF CONTRACT, TORT OR OTHERWISE, ARISING FROM,\\nOUT OF OR IN CONNECTION WITH THE SOFTWARE OR THE USE OR OTHER DEALINGS IN THE\\nSOFTWARE.\\n',\n",
       " 'text_description': '필4어뚜칭 <기,하+ 64서+샌 추4. 6늘1 리 809.29 09.29 닫우 청-) 신 [고타+필는 우김] 프레임위크와 디자인은 기반으로 노라5용 경량의 반응형 신 구성 요소 라이브러리입니 벼.0 지원문 위해 개반 중인 공식 니]] 청]구  _]\\'+ 포크 확인하십시오 특징 현재 [+어히 테마번수문 쉽제 유지 4볶익회[|] 다도/지 작-교미도와 도-미스신오도이로 모두 지원 ~ 듯흥^교든 제외하고 내부 종속성이 없는 떠우 가버운 무게 약 883 굽미+(2명 ([신새 포함) 의미있는 코드 근력 [흥^히 디자인과 일부 더요프입생미 [라도/]_스 준수 과도한 아니데이선 없이 사용성과 성능에 중점 설명서 설명서는 (0-5 디락토리어 있으며 데모로도 사용되니다. 온리인 설명서문 참조하심시오 빠른 시작 기요 ]도 버전 2.6+가 필요합니다 (쳐 3은 여기에서 지원팀) 1 미오어올 통한 설치 173홀]니 너우닫+거 2 3초@,싹 가져오기 및 사용 번들 한섯섯 1*권옛 벼\\'리;거 없다터 4  쪽어 [ 진더%스어오[음; .6 33 \" 신-질잦신 한   또는 개벌 구성 요소 1*옛 갈어 [ 권디이미 1 대과! 1데권밥[ \\'벼\\'훨\\'어:하앞!{\"05 거`쳐 , 망잊(`:과미} 날! 미\\' \\';',\n",
       " 'id': 6,\n",
       " 'doc': {'class_name': 'Document',\n",
       "  'id_': '8a2da85d-5148-4616-8515-c0f0deca68c9',\n",
       "  'metadata': {'docid': 6},\n",
       "  'nodes': [{'class_name': 'TextNode',\n",
       "    'id_': '3358bbe6-3339-4934-a2a6-0c585b64228f',\n",
       "    'label': 'plain',\n",
       "    'metadata': {'docid': 6},\n",
       "    'resource': {'mimetype': None,\n",
       "     'path': None,\n",
       "     'text': '필4어뚜칭 <기,하+ 64서+샌 추4. 6늘1 리 809.29 09.29 닫우 청-) 신 [고타+필는 우김] 프레임위크와 디자인은 기반으로 노라5용 경량의 반응형 신 구성 요소 라이브러리입니 벼.0 지원문 위해 개반 중인 공식 니]] 청]구  _]\\'+ 포크 확인하십시오 특징 현재 [+어히 테마번수문 쉽제 유지 4볶익회[|] 다도/지 작-교미도와 도-미스신오도이로 모두 지원 ~ 듯흥^교든 제외하고 내부 종속성이 없는 떠우 가버운 무게 약 883 굽미+(2명 ([신새 포함) 의미있는 코드 근력 [흥^히 디자인과 일부 더요프입생미 [라도/]_스 준수 과도한 아니데이선 없이 사용성과 성능에 중점 설명서 설명서는 (0-5 디락토리어 있으며 데모로도 사용되니다. 온리인 설명서문 참조하심시오 빠른 시작 기요 ]도 버전 2.6+가 필요합니다 (쳐 3은 여기에서 지원팀) 1 미오어올 통한 설치 173홀]니 너우닫+거 2 3초@,싹 가져오기 및 사용 번들 한섯섯 1*권옛 벼\\'리;거 없다터 4  쪽어 [ 진더%스어오[음; .6 33 \" 신-질잦신 한   또는 개벌 구성 요소 1*옛 갈어 [ 권디이미 1 대과! 1데권밥[ \\'벼\\'훨\\'어:하앞!{\"05 거`쳐 , 망잊(`:과미} 날! 미\\' \\';',\n",
       "     'url': None},\n",
       "    'text_type': 'plain'}]}}"
      ]
     },
     "execution_count": 8,
     "metadata": {},
     "output_type": "execute_result"
    }
   ],
   "source": [
    "collection['test'][6]"
   ]
  },
  {
   "cell_type": "markdown",
   "id": "a6e29b2a",
   "metadata": {},
   "source": [
    "# 3. Chunk, Embed"
   ]
  },
  {
   "cell_type": "markdown",
   "id": "b47da04c",
   "metadata": {},
   "source": [
    "## 3-1. Chunk Texts"
   ]
  },
  {
   "cell_type": "code",
   "execution_count": 9,
   "id": "81212808",
   "metadata": {},
   "outputs": [],
   "source": [
    "from psiking.core.splitter.text.langchain_text_splitters import LangchainRecursiveCharacterTextSplitter\n",
    "\n",
    "splitter = LangchainRecursiveCharacterTextSplitter(\n",
    "    chunk_size = 1024,\n",
    "    chunk_overlap = 128\n",
    ")"
   ]
  },
  {
   "cell_type": "code",
   "execution_count": 10,
   "id": "031501b5",
   "metadata": {},
   "outputs": [
    {
     "name": "stdout",
     "output_type": "stream",
     "text": [
      "1435\n"
     ]
    }
   ],
   "source": [
    "chunks = []\n",
    "for sample in collection['test']:\n",
    "    document = Document.from_dict(sample['doc'])\n",
    "    \n",
    "    document_chunks = []\n",
    "    source_id = document.id_\n",
    "    for i, node in enumerate(document.nodes):\n",
    "        # Run Splitter\n",
    "        if isinstance(node, TextNode):\n",
    "            try:\n",
    "                split_nodes = splitter.run(node)\n",
    "            except Exception as e:\n",
    "                print(i, node)\n",
    "                print(str(e))\n",
    "                raise e\n",
    "        else:\n",
    "            split_nodes = [node]\n",
    "        \n",
    "        # Create New Document\n",
    "        # print(len(document.nodes[0].text), \"SPLIT:\", len(split_nodes))\n",
    "        for split_node in split_nodes:\n",
    "            # Each Document contains single node\n",
    "            chunk = Document(\n",
    "                nodes=[split_node],\n",
    "                metadata={\n",
    "                    \"source_id\": source_id,\n",
    "                    \"docid\": document.metadata['docid'],\n",
    "                }\n",
    "            )\n",
    "            document_chunks.append(chunk)\n",
    "    chunks.extend(document_chunks)\n",
    "print(len(chunks))"
   ]
  },
  {
   "cell_type": "code",
   "execution_count": null,
   "id": "b4e60aae",
   "metadata": {},
   "outputs": [],
   "source": [
    "# # Save Chunks (for testing)\n",
    "# import json\n",
    "# with open('cache/text/chunks.json', 'w') as f:\n",
    "#     f.write(\n",
    "#         json.dumps(\n",
    "#             {\n",
    "#               'chunks': [\n",
    "#                   x.to_dict() for x in chunks\n",
    "#               ]  \n",
    "#             },\n",
    "#             indent=4,\n",
    "#             ensure_ascii=False\n",
    "#         )\n",
    "#     )"
   ]
  },
  {
   "cell_type": "markdown",
   "id": "85164202",
   "metadata": {},
   "source": [
    "## 3-2. Embed with jina-emb-v4"
   ]
  },
  {
   "cell_type": "code",
   "execution_count": 11,
   "id": "2b31cd1d",
   "metadata": {},
   "outputs": [],
   "source": [
    "import asyncio\n",
    "from tqdm.asyncio import tqdm\n",
    "\n",
    "from psiking.core.embedder.vllm.online_jina_emb_v4 import VLLMOnlineJinaEmbV4Embedder"
   ]
  },
  {
   "cell_type": "code",
   "execution_count": 12,
   "id": "9dfc8641",
   "metadata": {},
   "outputs": [],
   "source": [
    "VLLM_ENDPOINT=\"http://localhost:8080\"\n",
    "MODEL=\"jina-embeddings-v4-vllm-retrieval\"\n",
    "embedder = VLLMOnlineJinaEmbV4Embedder(\n",
    "    base_url=VLLM_ENDPOINT,\n",
    "    model=MODEL\n",
    ")"
   ]
  },
  {
   "cell_type": "code",
   "execution_count": 13,
   "id": "d646c459",
   "metadata": {},
   "outputs": [],
   "source": [
    "async def embed(semaphore, doc: Document):\n",
    "    text = doc.nodes[0].text\n",
    "    async with semaphore:\n",
    "        embedding = await embedder.arun(\n",
    "            input=text,\n",
    "            input_format='text',\n",
    "            mode='passage',\n",
    "            pool=True,\n",
    "            normalize=True\n",
    "        )\n",
    "    return embedding"
   ]
  },
  {
   "cell_type": "code",
   "execution_count": 14,
   "id": "ffaa9adc",
   "metadata": {},
   "outputs": [
    {
     "name": "stderr",
     "output_type": "stream",
     "text": [
      "100%|██████████| 1435/1435 [45:28<00:00,  1.90s/it] \n"
     ]
    }
   ],
   "source": [
    "semaphore = asyncio.Semaphore(32)\n",
    "\n",
    "tasks = []\n",
    "for chunk in chunks:\n",
    "    task = embed(semaphore, chunk)\n",
    "    tasks.append(task)\n",
    "\n",
    "embeddings = await tqdm.gather(*tasks)"
   ]
  },
  {
   "cell_type": "code",
   "execution_count": 15,
   "id": "b40cebf2",
   "metadata": {},
   "outputs": [
    {
     "name": "stdout",
     "output_type": "stream",
     "text": [
      "1435\n",
      "2048\n"
     ]
    }
   ],
   "source": [
    "print(len(embeddings))\n",
    "print(len(embeddings[0]))"
   ]
  },
  {
   "cell_type": "code",
   "execution_count": 22,
   "id": "8fd96efc",
   "metadata": {},
   "outputs": [
    {
     "data": {
      "text/plain": [
       "float"
      ]
     },
     "execution_count": 22,
     "metadata": {},
     "output_type": "execute_result"
    }
   ],
   "source": [
    "type(embeddings[0].tolist()[0])"
   ]
  },
  {
   "cell_type": "markdown",
   "id": "a0baa89c",
   "metadata": {},
   "source": [
    "# 4. Insert into VectorStore"
   ]
  },
  {
   "cell_type": "code",
   "execution_count": 17,
   "id": "99b4d480",
   "metadata": {},
   "outputs": [],
   "source": [
    "from qdrant_client import QdrantClient\n",
    "from psiking.core.storage.vectorstore.qdrant import QdrantSingleVectorStore\n",
    "\n",
    "# initialize client\n",
    "client = QdrantClient(host=\"localhost\", port=6333)\n",
    "collection_name = \"jinavdr-github-text\"\n",
    "\n",
    "vector_store = QdrantSingleVectorStore(\n",
    "    collection_name=collection_name,\n",
    "    client=client\n",
    ")"
   ]
  },
  {
   "cell_type": "code",
   "execution_count": 18,
   "id": "47f1ec7f",
   "metadata": {},
   "outputs": [],
   "source": [
    "from qdrant_client.http import models\n",
    "\n",
    "embedding_dim = 2048\n",
    "\n",
    "vector_store.create_collection(\n",
    "    on_disk_payload=True,  # store the payload on disk\n",
    "    vectors_config = models.VectorParams(\n",
    "        size=embedding_dim,\n",
    "        distance=models.Distance.COSINE,\n",
    "        on_disk=True,\n",
    "    )\n",
    ")"
   ]
  },
  {
   "cell_type": "code",
   "execution_count": 23,
   "id": "05aa1e09",
   "metadata": {},
   "outputs": [],
   "source": [
    "# np array -> List[float]\n",
    "embeddings_float = [\n",
    "    x.tolist() for x in embeddings\n",
    "]"
   ]
  },
  {
   "cell_type": "code",
   "execution_count": 24,
   "id": "a22e8798",
   "metadata": {},
   "outputs": [],
   "source": [
    "vector_store.add(\n",
    "    documents=chunks,\n",
    "    embeddings=embeddings_float,\n",
    "    metadata_keys=[\"source_file\", \"docid\"]\n",
    ")"
   ]
  },
  {
   "cell_type": "code",
   "execution_count": 25,
   "id": "049f7167",
   "metadata": {},
   "outputs": [
    {
     "data": {
      "text/plain": [
       "'d252b0ed-6859-4bc5-8191-f3b4b45c0ab5'"
      ]
     },
     "execution_count": 25,
     "metadata": {},
     "output_type": "execute_result"
    }
   ],
   "source": [
    "chunks[0].id_"
   ]
  },
  {
   "cell_type": "code",
   "execution_count": 26,
   "id": "c3018046",
   "metadata": {},
   "outputs": [],
   "source": [
    "points = vector_store._client.retrieve(\n",
    "    collection_name=vector_store.collection_name,\n",
    "    ids=[chunks[0].id_],\n",
    "    with_vectors=True\n",
    ")"
   ]
  },
  {
   "cell_type": "code",
   "execution_count": 27,
   "id": "78771202",
   "metadata": {},
   "outputs": [
    {
     "name": "stdout",
     "output_type": "stream",
     "text": [
      "d252b0ed-6859-4bc5-8191-f3b4b45c0ab5\n",
      "{'docid': 0}\n",
      "2048\n"
     ]
    }
   ],
   "source": [
    "print(points[0].id)\n",
    "print(points[0].payload)\n",
    "print(len(points[0].vector))"
   ]
  },
  {
   "cell_type": "code",
   "execution_count": 28,
   "id": "31a5f897",
   "metadata": {},
   "outputs": [
    {
     "data": {
      "text/plain": [
       "Record(id='d252b0ed-6859-4bc5-8191-f3b4b45c0ab5', payload={'docid': 0}, vector=[-0.0033416748, -0.025276402, 0.008666208, -0.018202744, 0.0043505304, 0.0005320401, 0.013703917, 0.0293541, -0.0068651093, 0.00443986, -0.011787904, 0.011765875, -0.010888652, 0.020539265, -0.033876643, -0.020044846, 0.020923723, -0.019098673, 0.055290785, -0.042829305, -0.031764764, 0.0067238132, 0.030262232, -0.0044128764, 0.0027097939, -0.02296366, -0.03833499, -0.011496338, 0.04241281, -0.020197786, 0.016363505, 0.020589076, 0.010935601, 0.007995582, -0.069539666, -0.009606065, -0.023414377, -0.009976561, -0.011715713, 0.0017687511, -0.0011005063, -0.01297089, -0.033130236, -0.05971473, -0.018460084, -0.0873191, -0.011168176, -0.014299016, 0.015436397, -0.020319104, 0.01678558, -0.0013228914, -0.045614373, -0.024760526, -0.0061385767, 0.02664643, 0.021925893, -0.0063431985, -0.0063191988, 0.0032560632, 0.0018315763, -0.026790673, 0.024502903, 0.013323255, 0.035172343, -0.03181186, -0.032946408, 0.022067072, -0.007678664, -0.04728254, -0.028382396, -0.02506004, 0.009413013, -0.006921278, 0.02264205, 0.00023025004, -0.0049995263, -0.008679045, 0.016686153, -0.0066375425, -0.008535146, -0.026913742, 0.027142948, 0.017444206, 0.0038669393, -0.0055540893, 0.019180309, 0.024796115, 0.02289391, -0.021247145, -0.026460385, -0.071840994, 0.008834805, -0.00050907244, 0.009468978, -0.023020772, 0.006634872, 0.04905035, -0.0029996005, -0.032685, -0.020254148, 0.022014769, 0.0316632, 0.07756509, 0.02118243, 0.014445002, 0.013505671, 0.011496209, 0.024896145, -0.00036921978, 0.04466199, 0.006213033, 0.009805909, 0.04378245, -0.008895646, -0.000583458, 0.0083577605, -0.019279148, 0.008968556, -0.0007478782, -0.03345556, 0.036731463, 0.028213078, 0.017684625, 0.0016786542, 0.033026565, 0.003984863, -0.02349369, -0.018167516, -0.023852784, -0.0026012128, -0.0039913245, 0.022807434, -0.0020327729, -0.006531716, 0.02043135, -0.019704612, 0.00857667, -0.0041680336, -0.0026908976, 0.025304267, 0.00947483, -0.008992197, -0.049336404, -0.024660908, -0.0023097158, 0.0018055842, -0.0040191566, -0.015867077, -0.023219893, 0.021006864, -0.012023618, -0.019494627, -0.016857369, -0.009808543, -0.004714849, 0.018352322, -0.010411619, -0.012601261, -0.02027225, 0.0044966214, -0.004793036, 0.013780797, -0.025627393, -0.005490081, 0.009591235, -0.018231267, -0.01718361, 0.0146726165, -0.056465395, -0.013129263, -0.02032209, -0.0017839709, -0.013811509, -0.022351664, -0.011667024, 0.014568007, -0.005394044, 0.029808389, 0.005819986, -0.0064479336, 0.012839882, 0.019507196, 0.0034621092, 0.0036805084, 0.020356806, -0.0111324545, -0.026527591, 0.00036292386, 0.009011175, -0.042192124, -0.049443677, 0.0027460277, -0.011330614, -0.006382234, -0.0003627479, 0.010908662, 0.015223273, 0.029596312, -0.014847182, 0.012696039, -0.016480274, 0.04048936, 0.0046003694, 0.03204386, 0.0044995067, 0.02179453, -0.035582367, -0.008717311, -0.010559574, -0.017635634, -0.0023191336, 0.0012416925, 0.02993793, -0.0155414445, 0.01404171, -0.009570877, 0.01482903, -0.006243201, 0.011219233, -0.011113603, 0.022323119, 0.0121855745, 0.021292008, 0.00063323264, 0.009434851, 0.0010980482, -0.023649061, 0.002608933, -0.015324088, -0.0061434144, 0.016423907, 2.85587e-05, 0.0126452735, 0.0025620249, 0.014874725, 0.022353701, 0.008369192, -0.0038283311, 0.032640286, 0.022436462, -0.029313607, 0.001264633, -0.018509496, 0.012457352, 0.007790905, 0.051433273, 0.013482226, -0.0026111617, -0.044868484, 0.022429392, 0.027811646, -0.028007017, -0.003181633, 0.014504674, -0.032992896, -0.0061215577, 0.01073219, 0.011543939, 0.010047228, 0.023132257, -7.200079e-05, -0.022930237, 0.008865814, -0.029111667, -0.032199383, -0.008104225, 0.010806537, 0.0008522968, -0.0069976742, -0.01628904, -0.038435567, 0.012137433, -0.017901879, -0.0039119865, 0.00873694, 0.0072433148, 0.009365731, 0.017893976, -0.012486137, 0.013568938, -0.012734993, -0.0062851137, -0.012279088, -0.0065157185, 0.012266018, 0.0016076323, 0.008274343, 0.0065614167, 0.05634957, 0.017286252, -0.010074146, 0.018828254, -0.040628314, 0.0027070153, -0.02486807, -0.07907143, -0.022025926, -0.022240832, -0.0035006949, 0.003438106, -0.017900689, 0.03731893, 0.0044572707, 0.008177733, 0.025181018, -0.018275205, -0.06191862, -0.0392099, 0.017290203, -0.006743398, -0.019991657, -0.007631906, -0.005699809, -0.013452543, 0.01682523, 0.050477162, -0.0127306655, -0.031835128, 0.009047923, -0.018620208, -0.008570839, 0.0006522571, 0.01984863, -0.063919656, -0.0087680295, -0.0019456468, -0.015787309, 0.031468336, 0.013513052, -0.027169906, 0.003855055, -0.0112603335, -0.015872989, 0.015245196, 0.00046027175, 0.007187244, -0.019111495, 0.027180485, 0.003356691, -0.0072020716, 0.0148007255, 0.04918953, -0.007423326, -0.0109567745, 0.012466022, -0.0372222, -0.028891511, 0.009601763, -0.003368463, 0.0046661305, 0.0141858915, 0.0021451986, 0.05247808, -0.011664906, 0.0018096446, 0.021243695, -0.006193916, 0.010449622, -0.0071278377, -0.020508654, 0.0084659355, 0.02128209, 0.008356914, 0.0034361817, 0.035576217, 0.018359432, -0.020388415, -0.011605305, -0.0033572365, 0.04058928, -0.044325314, 0.012053467, 0.009973112, -0.0068050944, -8.771523e-05, -0.022358054, -0.009328534, -0.010155286, 0.0098073725, 0.023689138, 0.006533079, 0.0061138016, 0.00058190065, 0.0046872552, -0.009671711, 0.02281388, -0.002932893, -0.033287287, 0.03808704, 0.019312229, 0.024112064, 0.003727445, 0.009100346, -0.008243417, -0.0018389605, 0.003936021, -0.028501108, -0.012910485, -0.00087272946, 0.017436786, 0.0053697457, 0.1548284, 0.046510506, -0.01359708, -0.021170175, 0.03520247, -0.013799388, 0.020890236, 0.0029327474, 0.010825955, 0.023127798, -0.0104784565, 0.0029247229, -0.005951158, -0.006189407, 0.0023304746, -0.0109644355, -0.024704348, 0.006349363, -0.019870318, -0.02516784, -0.004855773, -0.027156081, -0.011504411, 0.00955924, 0.023036499, 0.011530168, -0.019608751, -0.018911785, 0.009017293, -0.002139955, 0.0075568734, 0.0033482222, -0.0033394792, -0.0034424171, -0.006790477, 0.014260914, 0.023465233, -0.021197554, -0.0019762483, -0.0059690983, 0.0023553595, 0.009749965, 0.024411494, 0.0013799078, -0.029484473, 0.011780528, 0.037236523, -0.014538139, -0.008053263, 0.014929731, 0.019647885, -0.025535565, 0.0068249037, 0.024713933, -0.00092400616, -0.004058837, -0.09853153, -0.017546663, 0.0131059885, 0.022357324, -0.022842126, 0.014380778, -0.0073273294, -0.018678151, 0.0006257758, -0.010620713, -0.018837702, -0.024412688, 0.0015683013, 0.006464849, -0.02955072, 0.0096554635, -0.01081879, 0.017849946, -0.005039986, -0.010955759, 0.026170468, -0.009582169, -0.03468355, -0.019695522, 0.00808112, -0.026633572, 0.0019797997, 0.02001967, -0.03536653, -0.010931711, 0.056523167, -0.0028765546, -0.036745053, -0.014382846, 0.0047982214, -0.03204388, -0.010933724, -0.03618203, 0.022197815, 0.023893468, -0.0017239009, 0.0027082674, 0.01753024, -0.008330418, -0.01912224, 0.005146117, -0.033575464, 0.0030261064, 0.010464796, 0.0140343355, 0.0031876145, 0.002579965, -0.029437536, 0.006737455, -0.06305852, -0.02994452, 0.033008, 0.005933491, -0.03867431, 0.011408977, -0.008929722, 0.016352925, -0.019435016, -0.0024297365, -0.021727016, -0.027226862, -0.005115639, -0.018889278, 0.028803777, 0.0026508123, -0.011233288, 0.0050638122, 0.002666324, -0.0012995312, -0.05672665, 0.011301339, -0.00059127354, -0.01906084, 0.00895414, -0.0011124053, -0.019564398, 0.013765622, -0.039701898, 0.029514072, -0.0068759895, 0.023903279, 0.004716207, -0.011095733, -0.016630441, -0.008196288, -0.014394232, 0.03373027, 0.026094278, 0.0070840395, 0.047265906, -0.0021584348, 0.029381549, -0.010525315, -0.03756095, 0.024064511, 0.027894579, 0.09035693, 0.011702924, 0.01818318, 0.008369482, 0.010343575, 0.03696711, -0.0068018804, 0.008280275, 0.0026777773, 0.0044378545, 0.012974602, 0.0058242055, -0.025792545, -0.01249271, 0.0054572565, -0.01180892, 0.044094242, 0.019309673, -0.029045975, 0.011461959, -0.022131559, 0.007760036, 0.00056161935, -0.0049524107, -0.06428046, -0.007473148, -0.009903983, 0.004195513, -0.012029933, -0.031733226, 0.015952978, -0.043243315, -0.0060960175, 0.009082264, -0.06137621, 0.03300308, 0.010522448, -0.032394905, 0.02593077, 0.052163772, 0.007556068, -0.020517934, -0.00046570261, -0.011356496, 0.0029598433, 0.021729823, -0.02145391, 0.0009790424, -0.015412846, 0.023712762, -0.00078428764, 0.017994171, 0.004327367, -0.01809244, 0.023253262, 0.022284493, 0.010660473, -0.00982383, 0.035876527, 0.013664902, -0.02320313, -0.0003788187, -0.019194432, 0.022799388, 0.013457781, 0.030854873, 0.024730425, 0.006264222, 0.0053362856, 0.014670093, -0.01248481, 0.029286757, 0.032882407, 0.011506991, 0.012604715, -0.029435322, -0.0023629663, 0.010745369, 0.006382863, -0.004614475, 0.035004247, 0.018818649, -0.012517107, -0.030462656, -0.0059896605, 0.033541992, -0.018363846, -0.026686477, -0.011339241, -0.007838504, 0.026919032, 0.008216269, 0.009133435, 0.017505722, -0.03190695, 0.00038121155, -0.013924441, -0.031795453, 0.0049982267, 0.024243383, 0.017683858, 0.023011848, -0.027781848, 0.023714596, -0.02165025, -0.006543358, -0.026547315, -0.0043747057, 0.0073930426, -0.046435237, -0.016024694, 0.01615883, -0.018321924, 0.018034905, -0.008200073, 0.018477324, 0.0063995593, -0.0025897908, -0.016154889, -0.011210125, -0.008891181, 0.02089428, -0.012660459, 0.018685792, -0.010917455, -0.0053435815, 0.006989805, -0.022008503, 0.026431251, -0.017394936, -0.010329264, -0.020438137, 0.041603252, 0.0034405473, -0.0754187, -0.02610988, -0.0051844185, 0.004208197, 0.0012330402, 0.0052688997, -0.013040556, 0.0024434822, -0.013085043, -0.033201557, 0.012946916, -0.01966597, -0.033222925, -0.01028473, 0.035637945, -0.007385524, -0.005105916, 0.009717442, -0.000289505, 0.021073563, 0.03795784, -0.014944375, 0.0058301534, -2.513084e-05, -0.014488648, 0.013818256, -0.023963438, 0.018250607, -0.0012166529, 0.010127063, 0.025778603, 0.003576464, 0.000705412, -0.0029926274, -0.014461095, 0.006426374, 0.020717172, 0.023339849, 0.048617635, 0.01812777, -0.0063354913, 0.021041604, -0.0039575845, 0.0049777003, 0.013079084, 0.022825563, -0.021132555, 0.0019064976, 0.00792316, -0.0031595442, 0.014322045, -0.015857166, -0.016447496, -0.0005111011, -0.0043766643, 0.035201397, -0.025714573, -0.00037817538, -0.019754484, 0.009172445, -0.013418556, 0.002496734, 0.013010638, -0.005290345, -0.037171356, 0.007439445, 0.037375677, 0.02006873, 0.04741902, -0.009974687, 0.020517515, 0.0024419953, 0.012116026, 0.02428012, -0.0015106556, -0.009766942, 0.013721839, -0.02135002, -0.016649548, -0.018222969, -0.007843806, -0.025742592, -0.014815715, -0.030481989, 0.00065742666, 0.00011499122, -0.0118293185, -0.012434044, -0.03614624, -0.01367347, -0.0024420659, 0.010778508, -0.011898701, -0.0065897712, -0.01284109, 0.025334727, 0.0020642483, -0.016547944, -0.013128918, 0.0046432703, -0.03830052, -0.012595659, -0.008470727, -0.00092177733, 0.003162397, -0.011904095, -0.0058634477, 0.0032315112, 0.028209735, -0.021532677, 0.008596441, -0.0011287486, -0.003075097, 0.011369838, -0.010216484, 0.04578405, 0.017510569, -0.07722392, 0.035573956, 0.019083267, 0.01535421, 0.0075128423, 0.013338976, -0.03455697, -0.013599402, -0.015572595, -0.01716663, -0.00944344, 0.003247615, -0.030323572, -0.004389091, 0.023679243, -0.009222764, 0.006188889, -0.00031738085, 0.01099228, 0.014331835, 0.00600888, -0.00057634775, 0.016963467, -0.025269289, -0.017132258, -0.005643695, 0.022385476, -0.01047056, -0.02249572, 0.01738263, 0.0068889456, -0.021548575, 0.008800576, -0.017035034, 0.013941587, -0.0012349761, 0.003333186, 5.3243384e-05, -0.02363532, -0.022055391, -0.024140634, 0.001981153, 0.0037528074, -0.03844382, -0.0038578412, -0.017802836, 0.0050627333, 0.016068013, -0.019492583, -0.01807434, -0.01714011, -0.002344226, 0.0025769284, -0.035037298, -0.056094833, 0.0084188385, -0.031831995, -0.02899431, 0.017819926, -0.017329529, 0.03856808, -0.0044463547, -0.0011912769, -0.030612936, 0.01900657, -0.006853058, 0.030404912, 0.035267986, 0.00989212, 0.01488787, 0.0036250222, -0.018581454, 0.012844554, 0.034764025, 0.007240218, -0.008308434, 0.012186355, -0.017362969, -0.010560298, 0.011099021, 0.019081322, 0.0279987, 0.038719278, 0.014690303, -0.008084178, -0.00714457, 0.029928662, -0.018055484, -0.051483754, 0.016965704, -0.004998389, -0.015241764, 0.007057673, -0.02009322, 0.006621756, 0.012724264, -0.01071628, -0.017797533, -0.038414434, 0.032052334, -0.026012385, 0.0063294736, -0.026727388, -0.0003070716, -0.016325796, 0.0112499595, -0.013127486, -0.015071878, 0.011527535, 0.005654566, 0.030442227, -0.016675401, -0.0021210837, -0.0036838353, 0.0029528986, -0.0052713337, -0.00047392244, -0.006033104, 0.007356833, -0.031314224, -0.018987138, 0.006864549, -0.013922839, 0.010460953, 0.016762216, 0.004069182, 0.055543657, -0.009900317, -0.03842559, -0.036977943, 0.0045528268, -0.010568749, -0.013123712, 0.016033372, 0.0104808295, 0.011044832, 0.0022610866, 0.0072406842, 0.020682255, 0.008477344, 0.030497482, -0.021637438, 0.00266662, 0.0021625713, 0.013148264, 0.03874459, 0.0014564749, -2.3996075e-05, -0.0051443847, 0.007996812, 0.008548317, 0.009316032, -0.0025853969, 0.0084572425, -0.013993661, -0.008131987, -0.007242535, 0.003415822, 0.025520459, 0.018904284, 0.018840626, 0.0021853875, 0.029748423, 0.00041188637, 0.007916721, 0.0055363704, -0.015693283, 0.0043676677, 0.026227603, -0.02574764, -0.0063327723, -0.013007816, 0.010312142, 0.032590996, 0.021690326, 0.06372524, 0.009768828, 0.012637328, 0.001357805, 0.0076646917, -0.019775182, -0.003188545, -0.03225641, -0.01583729, -0.015437143, 0.007977396, 0.012798541, 0.015378691, 0.02661005, -0.015594932, -0.013463772, 0.017234562, -0.019706164, 0.0022363549, 0.009150313, 0.023347884, -0.02480244, 0.027687214, -0.018788876, -0.008600247, -0.02962464, -0.01375769, 0.018744975, -0.0003662559, 0.0009132105, -0.000944038, -0.027144935, -0.023449456, 0.034841035, 0.0067967735, 0.01322591, -0.013041338, 0.013690278, -0.010000279, 0.009496572, -0.009865583, 0.019935884, 0.021928975, -0.004963622, -0.03628442, -0.023457013, -0.022110978, 0.0056065028, -0.01811254, -0.018404616, 0.024760205, 0.0007912996, -0.029765114, 0.061928052, -0.020491041, 0.003654303, -0.016838787, 0.00990525, 0.02270884, -0.015997417, -0.030116513, -0.041019734, -0.003409533, 0.009790792, -0.009802815, 0.02314146, -0.0029094024, 0.035075597, -0.0027785378, -0.011633976, -0.03726628, -0.025909614, -0.009846083, -0.0053447336, 0.012584417, -0.03069912, -0.010651217, -0.01481033, 0.0049177813, 0.0007633845, -0.0023461885, -0.0015207926, 0.015902357, -0.0213361, -0.0069668395, -0.027821433, 0.00690781, -0.0035891624, -0.015487237, -0.0012349559, 0.047905494, -0.015742876, 0.027451193, -0.00414161, -0.030569447, 0.021736128, -0.0134507045, 0.02380389, -0.0016575409, 0.012069183, -0.0028995771, -0.0117936, -0.01650796, -0.031979818, 0.012641277, -0.038137488, -0.036795825, -0.04510054, -0.032575727, -0.004277962, -0.0027287856, -0.0194795, -0.0005293126, -0.023790563, -0.00017109771, 0.029617941, 0.019487511, 0.019516777, 0.0044730986, -0.009449109, 0.017779231, -0.0031571186, 0.03451076, 0.0024223616, 0.024961174, -0.023249028, -0.009868517, 0.01569962, 0.019892117, 0.0057602255, 0.016294463, 0.0044653607, 0.007178692, 0.01676713, -0.00975693, -0.021978226, -0.08027687, 0.030236077, -0.015690122, -0.019107167, 0.019858854, 0.023725154, 0.007734502, 0.026204761, 0.02987095, -0.0003149516, -0.023812458, -0.02580031, -0.01913995, 0.026515827, -0.035561766, -0.030248754, -0.023358664, 0.027349979, 0.018302135, 0.024872346, 0.0039003987, 0.0089671705, 0.03417915, 0.027397843, 0.027053744, 0.0024585535, -0.012542796, 0.01207332, 0.035037357, -0.011063222, 0.03463474, 0.012514621, 0.008052257, -0.018962797, -0.025333107, -0.001621195, -0.026337285, 0.036889102, -0.008123522, 0.005326779, 0.011572442, 0.006789707, -0.0069225198, -0.015486536, 0.0010168413, -0.022071129, 0.025437808, 0.029218683, -0.021753132, -0.011319258, -0.006782452, -0.042426713, 0.032961614, -0.0025923075, 0.023547802, 0.011579612, 0.006365336, 0.035327584, 0.00668139, 0.022252422, 0.023184644, -0.018155824, -0.0056614033, 0.04128895, 0.04510729, 0.027899573, 0.0047387, 7.961006e-05, 0.0074234437, -0.016605778, 0.00982992, 0.027492074, 0.033161145, -0.00566464, 0.029773805, 0.024525532, 0.023006778, 0.034895636, -0.0042020683, -0.009372977, 0.0048532244, -0.0077525624, 0.0208608, 0.0027650774, 0.029712476, 0.0045909965, 0.005562296, 0.018997945, -0.008927771, -0.044213098, 0.030802215, 0.026836872, 0.047075607, 0.0069497954, -0.0029118464, 0.024664182, -0.0059128734, 0.0028652728, -0.0058348374, 0.0046839085, -0.027798975, -0.030387126, 0.02282849, -0.0067250165, 0.007513067, 0.016927354, 0.0046824175, 0.011762562, -0.0021356416, -0.0052251406, -0.0022614498, 0.038505673, -0.0141558, 0.03671965, -0.014820448, -0.006247223, -0.0014343229, -0.008460703, 0.0023896757, -0.022376398, 0.04025454, -0.004954141, -0.01533023, 0.012215244, 0.000738548, 0.0058736694, -0.021825556, 0.0118435705, -0.003492431, 0.029258693, 0.05408997, 0.018115876, 0.01027861, -0.03635964, -0.01807777, 0.0284477, 0.015915887, -0.012519945, -0.042993218, -0.017628776, 0.012095936, -0.005104366, -0.024762433, -0.020044485, -0.011646255, -0.010166078, 0.009685813, 0.017484978, -0.030491726, 0.008539287, 0.0154072065, -0.047217954, 0.019116456, 0.029017048, -0.003774351, -0.02216265, -0.013890884, 0.012786732, 0.0034101552, -0.021456124, -0.029697273, -0.0055502336, 0.022706632, -0.018160466, 0.017360196, -0.042157285, 0.0029026526, 0.0394878, -0.024806576, 0.031449497, -0.011547318, 0.04285647, -0.001079824, -0.0063918796, -0.0005924497, 0.0092118075, 0.016682342, -0.00065979466, 0.02863248, -0.029375741, 0.016106555, 0.03994385, 0.0066181426, -0.017694214, -0.019178294, 0.029014112, 0.024212085, 0.02227769, 0.010288015, 0.002799359, -0.012965927, -0.012183016, 0.0028599312, 0.024396485, 0.02899033, 0.010366095, 0.011070668, -0.010608862, 0.0065615866, 0.008647606, -0.0044851964, 0.030423312, -0.01022162, -0.03489857, 0.016242357, -0.025118424, 0.0050505335, -0.022075826, 0.018018518, -0.016611876, -0.014590896, -0.0048136692, 0.038721085, 0.0070608584, 0.004831975, -0.016828382, -0.013874214, -0.020901892, 0.011574844, 0.0016015888, -0.014412462, 0.012602543, -0.0055691274, -0.010551475, 0.008439349, -0.009128884, -0.01792191, 0.010052783, -0.010595772, 0.008043566, -0.041844446, -0.00285913, -0.02923244, 0.033292416, -0.005543617, 0.039601292, 0.0122090485, 0.0037378557, -0.008120306, 0.007962665, -0.012523598, -0.0032374372, 0.020222042, 0.014795371, 0.0018371892, -0.034113973, 0.018748168, 0.012439985, 0.014182495, -0.023658112, 0.059629355, 0.0050491695, 0.0067392974, 0.0007153154, -0.028957112, -0.0015059338, -0.03803921, 0.010443693, 0.002340763, -0.048839062, 0.0012911181, 0.0047843126, 0.00288905, 0.0027481122, 0.0028632125, 0.058514107, 0.003580139, 0.03128473, -0.0059469366, -0.0035327568, 0.030741638, 0.016960105, 0.017939227, 0.004251883, -0.0031206405, 0.044018693, -0.020386407, 0.009065423, -0.010093391, -0.006950147, 0.018567683, -0.0019592464, 0.0014644491, 0.0054248963, -0.0007820655, 0.02422664, -0.03591966, 0.0055366554, -0.01916742, 0.0036156639, -0.01472264, -0.008098469, 0.020303184, -0.015263632, 0.0010477562, 0.0076425727, -0.032166045, -0.018066559, 0.0029639576, -0.008056372, -0.0240902, 0.0145923775, -0.016634515, -0.025403481, -0.0025586588, -0.0034018331, -0.005248851, 0.020439273, -0.009717292, -0.007292637, -0.010891247, -0.039059196, 0.0077443556, -0.017874224, 0.0024848192, 0.00088814273, -0.0071327835, -0.0050242147, -0.012582062, -0.0048900847, 0.016996881, 0.01808562, -0.02754152, -0.019704456, -0.019987145, 0.0020875437, 0.003829774, -0.010515841, -0.019061266, -0.030611265, 0.0030157887, -0.023294333, -0.03159035, 0.024060227, 0.00879541, 0.014603158, -0.032125767, -0.003154709, -0.018472917, -0.008893614, 0.01139381, 0.027318424, -0.009124228, 0.053617362, -0.0030015546, 0.017800568, -0.021260684, -0.029750377, 0.022443872, -0.02775994, -0.037168045, -0.0033404406, 0.0020815048, 0.02147986, 0.016806874, 0.009826407, -0.03253658, -0.009004747, 0.008312974, -0.006377987, 0.0013662665, -0.024486711, -0.0057764975, 0.003156568, 0.027952498, 0.009059896, -0.0048740567, 0.00354917, -0.0106642395, 0.005294097, 0.0050034877, 0.0009218915, 0.021157747, 0.01378708, 0.017940007, 0.014593056, 0.0072781625, -0.0488328, 0.03300028, 0.028419275, -0.0012998412, 0.003777838, -0.040541597, 0.00527728, 0.00046273766, -0.022841439, 0.021863416, -0.0031577516, 0.0452882, 0.010447584, -0.002689498, 0.020677872, -0.021587834, -0.00084051193, -0.024006426, -0.008199812, -0.012728912, -0.011780894, 0.023090133, -0.0011374487, -0.02675097, -0.07178846, -0.01853104, -0.017264444, 0.02277233, 0.014515082, -0.05647365, -0.019484997, -0.011454396, -0.039215032, -0.009279364, 0.015008156, -0.01463992, 0.013650852, -0.02701623, -0.0027455199, -0.03029082, -0.014447103, 0.010350393, 0.009150009, 0.010343545, -0.008614646, 0.01294417, 0.00043589025, -0.024561083, 0.001189487, -0.030518277, -0.025472803, 0.015032267, -0.019841455, -0.007518216, -0.017275674, -0.0037623164, 0.012348741, 0.022350887, -0.040440302, 0.0037855143, 0.00034304243, 0.0050088405, 0.0019515374, 0.0043608723, 0.012749898, 0.022845838, 0.025041042, 0.025261087, -0.024499033, -0.014392154, 0.01654075, 0.0008395683, -0.009317711, -0.012363367, 0.04294868, -0.0016496826, 0.017494023, 0.03243205, 0.031055469, -0.021311669, -0.021276034, 0.002759235, -0.019793525, 0.0008622663, 0.009586488, 0.023429122, 0.0059567895, -0.010137, 0.0054496014, -0.01841467, 0.0018205686, 0.015313109, -0.01665016, -0.04410897, -0.007815255, 0.028091712, 0.0145082725, -0.010562818, -0.015770521, -0.02452937, -0.019712515, -0.01973727, 0.073108375, -0.06377446, -0.020375349, -0.0034347402, 0.009224816, -0.021186775, -0.05744322, 0.009232966, -0.021095257, -0.011713979, 0.011988033, -0.03977778, 0.0062629525, 0.011703376, -0.011653332, 0.015156919, -0.00372287, -0.0012087651, 0.029121647, -0.0115181, -0.0070384583, -0.020957628, 0.032021277, -0.021145549, -0.03683848, -0.013206195, -0.061525773, -0.017655259, -0.012758859, -0.025101317, -0.004083745, 0.08245884, 0.009814527, -0.00025459408, -0.03112651, -0.02172359, -0.007703401, -0.018674655, 0.028807811, 0.012147687, -0.0006777184, 0.003619716, -0.009536498, -0.039096877, 0.023855127, -0.004641374, 0.026510015, -0.019716673, 0.026690526, 0.0010787551, 0.02781381, -0.013159776, -0.0130091235, -0.018934404, 0.010243148, -0.031202937, -0.041364927, -0.02976624, 0.011411633, 0.002419361, -0.010862887, 0.05659408, -0.0014798158, -0.027240302, 0.0067816623, 0.00092971016, -0.061178155, -0.0024310728, -0.0019190685, 0.030507077, 0.012095121, 0.0063700643, 0.0061708624, -0.0052412846, -0.042882167, -0.03706746, 0.017200513, -0.0021210276, 0.0066334615, 0.0073053655, 0.067330085, 0.020293381, -0.00386463, 0.00055244257, -0.01649631, -0.009090519, -0.012465047, -0.024533859, 0.0077766394, 0.0076073464, -0.003010538, -0.016203081, 0.0026460995, 0.031603742, 0.0030865506, 0.022125132, -0.011248699, -0.009079979, 0.014893259, -0.004518693, -0.011661972, 0.016630923, 0.029902332, 0.0082231695, 0.004446323, 0.006939529, 0.004739478, -0.037312906, -0.0017891633, 0.01379576, 0.011287068, 0.005946909, 0.031544477, -0.005656873, 0.016036298, 0.010180523, 0.0464828, -0.019253846, -0.02009276, -0.006519546, 0.003312737, 0.009309059, 0.0061969873, -0.011342023, -0.016451648, -0.0060436134, 0.017785586, -0.031412937, -0.008192633, -0.017884234, 0.011585812, -0.014088272, 0.0022339618, -0.010079064, 0.052828033, 0.008329261, 0.0267076, -0.016789354, 0.0043083522, 0.00047959786, 0.022617271, 0.030966794, 0.008113696, 0.0390716, -0.01532829, -0.00535579, 0.058746323, -0.022657992, -0.023367971, 0.0046884078, -0.01698706, 0.0037015656, 0.0035937473, -0.025019644, -0.0010674357, -0.016492538, 0.053655718, 0.03262556, 0.017052196, -0.0061534946, 0.007095268, 0.008294196, -0.03132041, 0.0033328526, -0.012713177, 0.046842523, 0.008261481, 0.016192753, 0.0073580407, 0.0013652821, -0.017610298, 0.009041949, 0.00014292024, 0.017447554, -0.006408345, 0.0016289204, -0.018720713, -0.017281275, 0.014876609, 0.023032662, 0.0023795278, -0.0373885, 0.013653317, 0.050984643, -0.04165065, -0.040186867, -0.012502779, 0.005635195, -0.025811465, 0.0044093304, -0.020867102, 0.018848304, -0.0071406798, -0.016407713, -0.023030322, -0.037173178, -0.005855954, 0.040555254, -0.058178425, -0.00647252, -0.0035340884, -0.023131737, -0.013786683, -0.00023925066, 0.0054894937, 0.00043914953, -0.0066845757, 0.030467069, -0.009393841, 0.020908067, -0.016529476, -0.024741033, 0.006950273, 0.014140904, 0.004405567, -0.034046296, -0.008545921, -0.003913169, -0.015155888, -0.039775573, -0.0022489156, -0.018519493, -0.0003391404, 0.024023924, -0.002215126, 0.0020766642, 0.016158001, -0.007679937, 0.014086599, 0.0050852248, -0.010306109, 0.08511711, 0.008868288, -0.004529697, 0.026057404, 0.00037623208, -0.02122047, -0.03831299, -0.0063269427, -0.042202283, 0.0062581305, -0.0074970685, -0.017911071, 0.00890663, -0.0013425485, 0.024162801, 0.0030090613, -0.0064332974, 0.0017962854, -0.0060942015, -0.0038714565, -0.007926336, -0.013641705, -0.02265766, 0.018380968, -5.3733525e-05, 0.003230037, 0.0051969383, -0.005899422, -0.027772201, 0.03332989, -0.042063814, -0.0010930619, -0.012449352, -0.00079309003, 0.05246263, -0.0018527647, -0.008456012, 0.008809494, -0.022360936, -0.040594537, 0.0047692447, -0.004991898, 0.018851096, 0.042687137, -0.039381556, -0.012269324, -0.020526966, 0.023183359, 0.01347946, -0.046977513, 0.04290619, -0.011624697, -0.023334855, -0.003743989, -0.014904264, -0.01708653, -0.0048190816, 0.025314316, -0.015510153, -0.07200761, -0.0069975546, 0.0050926767, -0.010038237, 0.012280733, 0.0028766796, 0.007329779, -0.002569065, -0.013329697, -0.07537367, 4.8012047e-05, 0.010384546, -0.010544641, -0.006662967, 0.052537315, 0.011612961, 0.009034137, -0.0248929, 0.030324781, -0.003594517, -0.0035786545, -0.014197618, -0.010572372, -0.014765721, 0.0079912245, -0.006696459, -0.010506894, -0.050075293, -0.03332279, 0.019789761, 0.03229353, -0.023780517, 0.009201947, 0.0047493735, -0.017331643, 0.019311432, -0.034653723, -0.013938278, -0.005582739, -0.009045994, -0.00918244, 0.027715415, -0.023698976, 0.00021196918, -0.0143933315, -0.022966065, -0.032305606, -0.013382125, 0.031938285, 0.006346938, 0.0116748735, 0.013413746, 0.0009092906, -0.01605389, 0.006759941, 0.009645412, -0.0015890172, 0.011599417, -0.0031286024, -0.044884805, -0.01542287, 0.03746119, 0.03845585, 0.020114517, 0.02750323, -0.004379884, -0.013262965, -0.020354193, -0.023207085, -0.00847633, 0.007836702, 0.0062861936, -0.015225309, 0.035806835, 0.00905407, 0.008304934, 0.011045509, -0.0036977974, 0.0044643045, -0.017651027, -0.021505212, 0.022181947, 0.037775323, 0.024087653, 0.02073405, 0.017166864, -0.008948393, -0.027538411, 0.02589748, 0.0027413755, 0.040828835, -0.004739386, 0.008198839, 0.00073318626, 0.030330522, 0.0031779606, -0.017129354, 0.013090739, -0.03448578, -0.01658604, 0.034547854, 0.009917258, 0.02917535, 0.007109243, -0.024794912, 0.007706567, 0.03080473, -0.027738405, -0.015815469, 0.05203403, -0.0037563317, -0.010199843, -0.014394052, 0.018577974, 0.027214743, 0.02177709, -0.005326054, -0.0071820985, -0.0167706, 0.058027204, 0.025220199, 0.03970906, -0.013532821, 0.008324934, -0.007433821, -0.03321003, 0.020472359, 0.01838837, -0.14125557, -0.02862146, -0.03129742, -0.009624244, 0.009683645, -0.044531643, 0.008935542, -0.0030537266, -0.0023464786, 0.008074014, -0.00729555, 0.0062271007, -0.016034266, 0.039330605, -0.037067447, 0.022951882, -0.015463126, 0.0035015175, -0.007833788, -0.025992183, -0.021755943, 0.003469612, -0.014418924, -0.0034983517, -0.0034449406, -0.017584128, -0.007394849, -0.013345433, -0.0008827497, 0.0069201062], shard_key=None, order_value=None)"
      ]
     },
     "execution_count": 28,
     "metadata": {},
     "output_type": "execute_result"
    }
   ],
   "source": [
    "points[0]"
   ]
  },
  {
   "cell_type": "code",
   "execution_count": null,
   "id": "1a140176",
   "metadata": {},
   "outputs": [],
   "source": []
  }
 ],
 "metadata": {
  "kernelspec": {
   "display_name": "psiking",
   "language": "python",
   "name": "python3"
  },
  "language_info": {
   "codemirror_mode": {
    "name": "ipython",
    "version": 3
   },
   "file_extension": ".py",
   "mimetype": "text/x-python",
   "name": "python",
   "nbconvert_exporter": "python",
   "pygments_lexer": "ipython3",
   "version": "3.10.14"
  }
 },
 "nbformat": 4,
 "nbformat_minor": 5
}
