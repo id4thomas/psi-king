{
 "cells": [
  {
   "cell_type": "markdown",
   "id": "2768f774",
   "metadata": {},
   "source": [
    "# 4_1 evaluate text query\n",
    "* evaluate with queries in text format\n",
    "* calculate mAP, mRR"
   ]
  },
  {
   "cell_type": "code",
   "execution_count": 5,
   "id": "a3a1b414",
   "metadata": {},
   "outputs": [
    {
     "name": "stdout",
     "output_type": "stream",
     "text": [
      "/Users/id4thomas/github/psi-king\n",
      "/Users/id4thomas/github/psi-king/src/psiking-core\n"
     ]
    }
   ],
   "source": [
    "import os\n",
    "import sys\n",
    "parent_dir = os.path.dirname(os.path.dirname(os.getcwd()))\n",
    "print(parent_dir)\n",
    "core_src_dir = os.path.join(parent_dir, \"src/psiking-core\")\n",
    "print(core_src_dir)\n",
    "sys.path.append(core_src_dir)\n",
    "\n",
    "from config import settings"
   ]
  },
  {
   "cell_type": "markdown",
   "id": "98d73fee",
   "metadata": {},
   "source": [
    "# 1. Load Data"
   ]
  },
  {
   "cell_type": "markdown",
   "id": "80544e95",
   "metadata": {},
   "source": [
    "## 1-1. Load Dataset"
   ]
  },
  {
   "cell_type": "code",
   "execution_count": 6,
   "id": "142f5e92",
   "metadata": {},
   "outputs": [],
   "source": [
    "from datasets import load_dataset, load_from_disk\n",
    "\n",
    "ds = load_from_disk(\n",
    "    os.path.join(\n",
    "        settings.data_dir,\n",
    "        'github-readme-retrieval-multilingual/data/ko'\n",
    "    )\n",
    ")"
   ]
  },
  {
   "cell_type": "code",
   "execution_count": 7,
   "id": "d82a62ac",
   "metadata": {},
   "outputs": [],
   "source": [
    "id_column = list(range(len(ds['test'])))\n",
    "ds['test']=ds['test'].add_column(\n",
    "    name='id',\n",
    "    column=id_column\n",
    ")"
   ]
  },
  {
   "cell_type": "code",
   "execution_count": 9,
   "id": "47e16a3f",
   "metadata": {},
   "outputs": [
    {
     "name": "stdout",
     "output_type": "stream",
     "text": [
      "1000\n"
     ]
    },
    {
     "data": {
      "text/plain": [
       "['페이퍼 머니를 사용하는 주식 거래 앱입니다.',\n",
       " '내장된 글꼴과 하위 수준의 선 및 선반 반복기를 갖춘 Hershey 글꼴 라이브러리',\n",
       " '🖍 Text Marker(하이라이터)는 Sublime Text에서 단어를 강조 표시합니다.']"
      ]
     },
     "execution_count": 9,
     "metadata": {},
     "output_type": "execute_result"
    }
   ],
   "source": [
    "queries = ds['test']['query']\n",
    "print(len(queries))\n",
    "queries[:3]"
   ]
  },
  {
   "cell_type": "markdown",
   "id": "a0bb02ae",
   "metadata": {},
   "source": [
    "## 1-2. Calculate Query Embeddings"
   ]
  },
  {
   "cell_type": "code",
   "execution_count": 3,
   "id": "b311e99c",
   "metadata": {},
   "outputs": [],
   "source": [
    "import asyncio\n",
    "from tqdm.asyncio import tqdm\n",
    "\n",
    "from psiking.core.embedder.vllm.online_jina_emb_v4 import VLLMOnlineJinaEmbV4Embedder\n",
    "\n",
    "VLLM_ENDPOINT=\"http://localhost:8080\"\n",
    "MODEL=\"jina-embeddings-v4-vllm-retrieval\"\n",
    "embedder = VLLMOnlineJinaEmbV4Embedder(\n",
    "    base_url=VLLM_ENDPOINT,\n",
    "    model=MODEL\n",
    ")"
   ]
  },
  {
   "cell_type": "code",
   "execution_count": 10,
   "id": "1255be34",
   "metadata": {},
   "outputs": [],
   "source": [
    "async def embed(semaphore, text: str):\n",
    "    async with semaphore:\n",
    "        embedding = await embedder.arun(\n",
    "            input=text,\n",
    "            input_format='text',\n",
    "            mode='query',\n",
    "            pool=True,\n",
    "            normalize=True\n",
    "        )\n",
    "    return embedding"
   ]
  },
  {
   "cell_type": "code",
   "execution_count": 24,
   "id": "5943b4e5",
   "metadata": {},
   "outputs": [
    {
     "name": "stderr",
     "output_type": "stream",
     "text": [
      " 18%|█▊        | 175/1000 [25:06<1:58:23,  8.61s/it]\n",
      "100%|██████████| 1000/1000 [01:06<00:00, 14.97it/s]\n"
     ]
    }
   ],
   "source": [
    "semaphore = asyncio.Semaphore(32)\n",
    "\n",
    "tasks = []\n",
    "for query in queries:\n",
    "    task = embed(semaphore, query)\n",
    "    tasks.append(task)\n",
    "\n",
    "query_embeddings = await tqdm.gather(*tasks)"
   ]
  },
  {
   "cell_type": "markdown",
   "id": "db25b6c8",
   "metadata": {},
   "source": [
    "# Load VectorStores"
   ]
  },
  {
   "cell_type": "code",
   "execution_count": 77,
   "id": "89895026",
   "metadata": {},
   "outputs": [],
   "source": [
    "from qdrant_client import QdrantClient\n",
    "from psiking.core.storage.vectorstore.qdrant import QdrantSingleVectorStore\n",
    "\n",
    "# initialize client\n",
    "client = QdrantClient(host=\"localhost\", port=6333)\n",
    "collection_name = \"jinavdr-github-text\"\n",
    "collection_name = \"jinavdr-github-text-messages\"\n",
    "collection_name = \"jinavdr-github-multimodal-messages\"\n",
    "\n",
    "vector_store = QdrantSingleVectorStore(\n",
    "    collection_name=collection_name,\n",
    "    client=client\n",
    ")"
   ]
  },
  {
   "cell_type": "code",
   "execution_count": 78,
   "id": "f6259d2c",
   "metadata": {},
   "outputs": [
    {
     "name": "stdout",
     "output_type": "stream",
     "text": [
      "(2048,)\n"
     ]
    }
   ],
   "source": [
    "import numpy as np\n",
    "query_embedding = np.random.randn(2048)\n",
    "print(query_embedding.shape)"
   ]
  },
  {
   "cell_type": "code",
   "execution_count": 79,
   "id": "072ede58",
   "metadata": {},
   "outputs": [
    {
     "name": "stderr",
     "output_type": "stream",
     "text": [
      "/var/folders/wj/0c7skj2154q4844jqxlw3yxr0000gn/T/ipykernel_22114/342196767.py:5: DeprecationWarning: `search_batch` method is deprecated and will be removed in the future. Use `query_batch_points` instead.\n",
      "  response = vector_store._client.search_batch(\n"
     ]
    }
   ],
   "source": [
    "from qdrant_client.http.models import SearchRequest\n",
    "\n",
    "query_embedding = query_embeddings[0]\n",
    "similarity_top_k = 10\n",
    "response = vector_store._client.search_batch(\n",
    "    collection_name=collection_name,\n",
    "    requests = [\n",
    "        SearchRequest(\n",
    "            vector=query_embedding,\n",
    "            limit=similarity_top_k,\n",
    "            with_payload=True\n",
    "        )\n",
    "    ]\n",
    ")"
   ]
  },
  {
   "cell_type": "code",
   "execution_count": 80,
   "id": "65d4b51e",
   "metadata": {},
   "outputs": [
    {
     "data": {
      "text/plain": [
       "[[ScoredPoint(id='9257681f-037e-4af2-b1cb-a3c57796e237', version=0, score=0.6773325, payload={'docid': 0}, vector=None, shard_key=None, order_value=None),\n",
       "  ScoredPoint(id='5dd6e597-c99d-4867-8bb6-fb59027f96ad', version=0, score=0.6773325, payload={'docid': 0}, vector=None, shard_key=None, order_value=None),\n",
       "  ScoredPoint(id='3337df3a-1beb-467e-9298-b3fd6ccadc82', version=1, score=0.6398333, payload={'docid': 63}, vector=None, shard_key=None, order_value=None),\n",
       "  ScoredPoint(id='d289037b-f54d-4171-b37a-4434e2161308', version=1, score=0.6398333, payload={'docid': 63}, vector=None, shard_key=None, order_value=None),\n",
       "  ScoredPoint(id='7ef9e592-371c-4169-bb1e-ee0bcd2c7cd1', version=20, score=0.6379668, payload={'docid': 934}, vector=None, shard_key=None, order_value=None),\n",
       "  ScoredPoint(id='8ce40ee0-56e5-4a07-aca5-117f72921a0f', version=1, score=0.61766183, payload={'docid': 58}, vector=None, shard_key=None, order_value=None),\n",
       "  ScoredPoint(id='ca3d8128-4686-479b-b655-b11827a6eb2e', version=1, score=0.6175611, payload={'docid': 58}, vector=None, shard_key=None, order_value=None),\n",
       "  ScoredPoint(id='6b3ebce4-18b5-4e25-95a5-173d60f8d8a6', version=12, score=0.6174562, payload={'docid': 565}, vector=None, shard_key=None, order_value=None),\n",
       "  ScoredPoint(id='dce4e72a-ac95-4c5f-b653-4cc392173060', version=12, score=0.6148672, payload={'docid': 565}, vector=None, shard_key=None, order_value=None),\n",
       "  ScoredPoint(id='f4e376fe-3adc-4664-b222-7b5fe0413cf3', version=14, score=0.6127111, payload={'docid': 656}, vector=None, shard_key=None, order_value=None)]]"
      ]
     },
     "execution_count": 80,
     "metadata": {},
     "output_type": "execute_result"
    }
   ],
   "source": [
    "response"
   ]
  },
  {
   "cell_type": "code",
   "execution_count": 81,
   "id": "83de1a1f",
   "metadata": {},
   "outputs": [],
   "source": [
    "def retrieve(query_embedding, k=10):\n",
    "    response = vector_store._client.search_batch(\n",
    "        collection_name=collection_name,\n",
    "        requests = [\n",
    "            SearchRequest(\n",
    "                vector=query_embedding,\n",
    "                limit=k,\n",
    "                with_payload=True\n",
    "            )\n",
    "        ]\n",
    "    )\n",
    "    return [x.payload['docid'] for x in response[0]]"
   ]
  },
  {
   "cell_type": "code",
   "execution_count": 82,
   "id": "17774eaa",
   "metadata": {},
   "outputs": [
    {
     "name": "stderr",
     "output_type": "stream",
     "text": [
      "/var/folders/wj/0c7skj2154q4844jqxlw3yxr0000gn/T/ipykernel_22114/2723994490.py:2: DeprecationWarning: `search_batch` method is deprecated and will be removed in the future. Use `query_batch_points` instead.\n",
      "  response = vector_store._client.search_batch(\n"
     ]
    }
   ],
   "source": [
    "retrieved_docids = []\n",
    "for query_embedding in query_embeddings:\n",
    "    retrieved_docids.append(retrieve(query_embedding))"
   ]
  },
  {
   "cell_type": "markdown",
   "id": "db94d06b",
   "metadata": {},
   "source": [
    "# Evaluate\n",
    "\n",
    "mAP:\n",
    "```\n",
    "jinavdr-github-text mAP: 0.123\n",
    "jinavdr-github-text-messages mAP: 0.134\n",
    "jinavdr-github-multimodal-messages mAP: 0.327\n",
    "```\n",
    "\n",
    "mRR:\n",
    "```\n",
    "jinavdr-github-text mRR: 0.377\n",
    "jinavdr-github-text-messages mRR: 0.415\n",
    "jinavdr-github-multimodal-messages mRR: 0.854\n",
    "```"
   ]
  },
  {
   "cell_type": "code",
   "execution_count": 83,
   "id": "349ae83f",
   "metadata": {},
   "outputs": [],
   "source": [
    "def calculate_ap(docids, answer_id):\n",
    "    ap = 0.0\n",
    "    n_relevant = 0\n",
    "    for i in range(len(docids)):\n",
    "        if docids[i]==answer_id:\n",
    "            n_relevant+=1\n",
    "        ap += n_relevant/(i+1)\n",
    "    \n",
    "    ap/=len(docids)\n",
    "    return ap"
   ]
  },
  {
   "cell_type": "code",
   "execution_count": 84,
   "id": "d1547445",
   "metadata": {},
   "outputs": [
    {
     "name": "stdout",
     "output_type": "stream",
     "text": [
      "jinavdr-github-multimodal-messages mAP: 0.327\n"
     ]
    }
   ],
   "source": [
    "aps = [calculate_ap(x, i) for i, x in enumerate(retrieved_docids)]\n",
    "map = sum(aps)/len(aps)\n",
    "print(\"{} mAP: {:.3f}\".format(collection_name, map))"
   ]
  },
  {
   "cell_type": "code",
   "execution_count": 85,
   "id": "fb7f522a",
   "metadata": {},
   "outputs": [],
   "source": [
    "def calculate_rr(docids, answer_id):\n",
    "    rr = 0.0\n",
    "    for i, docid in enumerate(docids):\n",
    "        if docid==answer_id:\n",
    "            rr = 1/(i+1)\n",
    "            break\n",
    "    return rr"
   ]
  },
  {
   "cell_type": "code",
   "execution_count": 86,
   "id": "f2f0635b",
   "metadata": {},
   "outputs": [
    {
     "name": "stdout",
     "output_type": "stream",
     "text": [
      "jinavdr-github-multimodal-messages mRR: 0.854\n"
     ]
    }
   ],
   "source": [
    "rrs = [calculate_rr(x, i) for i, x in enumerate(retrieved_docids)]\n",
    "mrr = sum(rrs)/len(rrs)\n",
    "print(\"{} mRR: {:.3f}\".format(collection_name, mrr))"
   ]
  },
  {
   "cell_type": "code",
   "execution_count": null,
   "id": "ff3e6b04",
   "metadata": {},
   "outputs": [],
   "source": []
  }
 ],
 "metadata": {
  "kernelspec": {
   "display_name": "docling",
   "language": "python",
   "name": "docling"
  },
  "language_info": {
   "codemirror_mode": {
    "name": "ipython",
    "version": 3
   },
   "file_extension": ".py",
   "mimetype": "text/x-python",
   "name": "python",
   "nbconvert_exporter": "python",
   "pygments_lexer": "ipython3",
   "version": "3.10.14"
  }
 },
 "nbformat": 4,
 "nbformat_minor": 5
}
