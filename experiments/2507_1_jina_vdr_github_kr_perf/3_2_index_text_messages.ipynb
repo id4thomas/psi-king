{
 "cells": [
  {
   "cell_type": "markdown",
   "id": "a20a2d87",
   "metadata": {},
   "source": [
    "# 3_2 index text (messages)\n",
    "* index `jinaai/JinaVDR`-`github-readme-retrieval-multilingual` dataset\n",
    "* only index 'text' in 'messages' format"
   ]
  },
  {
   "cell_type": "code",
   "execution_count": 1,
   "id": "9982ad5b",
   "metadata": {},
   "outputs": [
    {
     "name": "stdout",
     "output_type": "stream",
     "text": [
      "/Users/id4thomas/github/psi-king\n",
      "/Users/id4thomas/github/psi-king/src/psiking-core\n"
     ]
    }
   ],
   "source": [
    "import os\n",
    "import sys\n",
    "parent_dir = os.path.dirname(os.path.dirname(os.getcwd()))\n",
    "print(parent_dir)\n",
    "core_src_dir = os.path.join(parent_dir, \"src/psiking-core\")\n",
    "print(core_src_dir)\n",
    "sys.path.append(core_src_dir)\n",
    "\n",
    "from datasets import load_dataset, load_from_disk\n",
    "\n",
    "from config import settings"
   ]
  },
  {
   "cell_type": "markdown",
   "id": "19d9a91e",
   "metadata": {},
   "source": [
    "# 1. Load Dataset\n",
    "* `ko` split of `github-readme-retrieval-multilingual` "
   ]
  },
  {
   "cell_type": "code",
   "execution_count": 2,
   "id": "b0c9450a",
   "metadata": {},
   "outputs": [],
   "source": [
    "ds = load_from_disk(\n",
    "    os.path.join(\n",
    "        settings.data_dir,\n",
    "        'github-readme-retrieval-multilingual/data/ko'\n",
    "    )\n",
    ")"
   ]
  },
  {
   "cell_type": "code",
   "execution_count": 3,
   "id": "74ed54fd",
   "metadata": {},
   "outputs": [],
   "source": [
    "id_column = list(range(len(ds['test'])))\n",
    "ds['test']=ds['test'].add_column(\n",
    "    name='id',\n",
    "    column=id_column\n",
    ")"
   ]
  },
  {
   "cell_type": "code",
   "execution_count": 4,
   "id": "53014779",
   "metadata": {},
   "outputs": [
    {
     "data": {
      "text/plain": [
       "{'query': '페이퍼 머니를 사용하는 주식 거래 앱입니다.',\n",
       " 'image': <PIL.PngImagePlugin.PngImageFile image mode=RGB size=618x1080>,\n",
       " 'image_filename': 'images/1249_screenshot.png',\n",
       " 'license_type': 'APACHE_2',\n",
       " 'license_text': '                                 Apache License\\n                           Version 2.0, January 2004\\n                        http://www.apache.org/licenses/\\n\\n   TERMS AND CONDITIONS FOR USE, REPRODUCTION, AND DISTRIBUTION\\n\\n   1. Definitions.\\n\\n      \"License\" shall mean the terms and conditions for use, reproduction,\\n      and distribution as defined by Sections 1 through 9 of this document.\\n\\n      \"Licensor\" shall mean the copyright owner or entity authorized by\\n      the copyright owner that is granting the License.\\n\\n      \"Legal Entity\" shall mean the union of the acting entity and all\\n      other entities that control, are controlled by, or are under common\\n      control with that entity. For the purposes of this definition,\\n      \"control\" means (i) the power, direct or indirect, to cause the\\n      direction or management of such entity, whether by contract or\\n      otherwise, or (ii) ownership of fifty percent (50%) or more of the\\n      outstanding shares, or (iii) beneficial ownership of such entity.\\n\\n      \"You\" (or \"Your\") shall mean an individual or Legal Entity\\n      exercising permissions granted by this License.\\n\\n      \"Source\" form shall mean the preferred form for making modifications,\\n      including but not limited to software source code, documentation\\n      source, and configuration files.\\n\\n      \"Object\" form shall mean any form resulting from mechanical\\n      transformation or translation of a Source form, including but\\n      not limited to compiled object code, generated documentation,\\n      and conversions to other media types.\\n\\n      \"Work\" shall mean the work of authorship, whether in Source or\\n      Object form, made available under the License, as indicated by a\\n      copyright notice that is included in or attached to the work\\n      (an example is provided in the Appendix below).\\n\\n      \"Derivative Works\" shall mean any work, whether in Source or Object\\n      form, that is based on (or derived from) the Work and for which the\\n      editorial revisions, annotations, elaborations, or other modifications\\n      represent, as a whole, an original work of authorship. For the purposes\\n      of this License, Derivative Works shall not include works that remain\\n      separable from, or merely link (or bind by name) to the interfaces of,\\n      the Work and Derivative Works thereof.\\n\\n      \"Contribution\" shall mean any work of authorship, including\\n      the original version of the Work and any modifications or additions\\n      to that Work or Derivative Works thereof, that is intentionally\\n      submitted to Licensor for inclusion in the Work by the copyright owner\\n      or by an individual or Legal Entity authorized to submit on behalf of\\n      the copyright owner. For the purposes of this definition, \"submitted\"\\n      means any form of electronic, verbal, or written communication sent\\n      to the Licensor or its representatives, including but not limited to\\n      communication on electronic mailing lists, source code control systems,\\n      and issue tracking systems that are managed by, or on behalf of, the\\n      Licensor for the purpose of discussing and improving the Work, but\\n      excluding communication that is conspicuously marked or otherwise\\n      designated in writing by the copyright owner as \"Not a Contribution.\"\\n\\n      \"Contributor\" shall mean Licensor and any individual or Legal Entity\\n      on behalf of whom a Contribution has been received by Licensor and\\n      subsequently incorporated within the Work.\\n\\n   2. Grant of Copyright License. Subject to the terms and conditions of\\n      this License, each Contributor hereby grants to You a perpetual,\\n      worldwide, non-exclusive, no-charge, royalty-free, irrevocable\\n      copyright license to reproduce, prepare Derivative Works of,\\n      publicly display, publicly perform, sublicense, and distribute the\\n      Work and such Derivative Works in Source or Object form.\\n\\n   3. Grant of Patent License. Subject to the terms and conditions of\\n      this License, each Contributor hereby grants to You a perpetual,\\n      worldwide, non-exclusive, no-charge, royalty-free, irrevocable\\n      (except as stated in this section) patent license to make, have made,\\n      use, offer to sell, sell, import, and otherwise transfer the Work,\\n      where such license applies only to those patent claims licensable\\n      by such Contributor that are necessarily infringed by their\\n      Contribution(s) alone or by combination of their Contribution(s)\\n      with the Work to which such Contribution(s) was submitted. If You\\n      institute patent litigation against any entity (including a\\n      cross-claim or counterclaim in a lawsuit) alleging that the Work\\n      or a Contribution incorporated within the Work constitutes direct\\n      or contributory patent infringement, then any patent licenses\\n      granted to You under this License for that Work shall terminate\\n      as of the date such litigation is filed.\\n\\n   4. Redistribution. You may reproduce and distribute copies of the\\n      Work or Derivative Works thereof in any medium, with or without\\n      modifications, and in Source or Object form, provided that You\\n      meet the following conditions:\\n\\n      (a) You must give any other recipients of the Work or\\n          Derivative Works a copy of this License; and\\n\\n      (b) You must cause any modified files to carry prominent notices\\n          stating that You changed the files; and\\n\\n      (c) You must retain, in the Source form of any Derivative Works\\n          that You distribute, all copyright, patent, trademark, and\\n          attribution notices from the Source form of the Work,\\n          excluding those notices that do not pertain to any part of\\n          the Derivative Works; and\\n\\n      (d) If the Work includes a \"NOTICE\" text file as part of its\\n          distribution, then any Derivative Works that You distribute must\\n          include a readable copy of the attribution notices contained\\n          within such NOTICE file, excluding those notices that do not\\n          pertain to any part of the Derivative Works, in at least one\\n          of the following places: within a NOTICE text file distributed\\n          as part of the Derivative Works; within the Source form or\\n          documentation, if provided along with the Derivative Works; or,\\n          within a display generated by the Derivative Works, if and\\n          wherever such third-party notices normally appear. The contents\\n          of the NOTICE file are for informational purposes only and\\n          do not modify the License. You may add Your own attribution\\n          notices within Derivative Works that You distribute, alongside\\n          or as an addendum to the NOTICE text from the Work, provided\\n          that such additional attribution notices cannot be construed\\n          as modifying the License.\\n\\n      You may add Your own copyright statement to Your modifications and\\n      may provide additional or different license terms and conditions\\n      for use, reproduction, or distribution of Your modifications, or\\n      for any such Derivative Works as a whole, provided Your use,\\n      reproduction, and distribution of the Work otherwise complies with\\n      the conditions stated in this License.\\n\\n   5. Submission of Contributions. Unless You explicitly state otherwise,\\n      any Contribution intentionally submitted for inclusion in the Work\\n      by You to the Licensor shall be under the terms and conditions of\\n      this License, without any additional terms or conditions.\\n      Notwithstanding the above, nothing herein shall supersede or modify\\n      the terms of any separate license agreement you may have executed\\n      with Licensor regarding such Contributions.\\n\\n   6. Trademarks. This License does not grant permission to use the trade\\n      names, trademarks, service marks, or product names of the Licensor,\\n      except as required for reasonable and customary use in describing the\\n      origin of the Work and reproducing the content of the NOTICE file.\\n\\n   7. Disclaimer of Warranty. Unless required by applicable law or\\n      agreed to in writing, Licensor provides the Work (and each\\n      Contributor provides its Contributions) on an \"AS IS\" BASIS,\\n      WITHOUT WARRANTIES OR CONDITIONS OF ANY KIND, either express or\\n      implied, including, without limitation, any warranties or conditions\\n      of TITLE, NON-INFRINGEMENT, MERCHANTABILITY, or FITNESS FOR A\\n      PARTICULAR PURPOSE. You are solely responsible for determining the\\n      appropriateness of using or redistributing the Work and assume any\\n      risks associated with Your exercise of permissions under this License.\\n\\n   8. Limitation of Liability. In no event and under no legal theory,\\n      whether in tort (including negligence), contract, or otherwise,\\n      unless required by applicable law (such as deliberate and grossly\\n      negligent acts) or agreed to in writing, shall any Contributor be\\n      liable to You for damages, including any direct, indirect, special,\\n      incidental, or consequential damages of any character arising as a\\n      result of this License or out of the use or inability to use the\\n      Work (including but not limited to damages for loss of goodwill,\\n      work stoppage, computer failure or malfunction, or any and all\\n      other commercial damages or losses), even if such Contributor\\n      has been advised of the possibility of such damages.\\n\\n   9. Accepting Warranty or Additional Liability. While redistributing\\n      the Work or Derivative Works thereof, You may choose to offer,\\n      and charge a fee for, acceptance of support, warranty, indemnity,\\n      or other liability obligations and/or rights consistent with this\\n      License. However, in accepting such obligations, You may act only\\n      on Your own behalf and on Your sole responsibility, not on behalf\\n      of any other Contributor, and only if You agree to indemnify,\\n      defend, and hold each Contributor harmless for any liability\\n      incurred by, or claims asserted against, such Contributor by reason\\n      of your accepting any such warranty or additional liability.\\n\\n   END OF TERMS AND CONDITIONS\\n\\n   APPENDIX: How to apply the Apache License to your work.\\n\\n      To apply the Apache License to your work, attach the following\\n      boilerplate notice, with the fields enclosed by brackets \"[]\"\\n      replaced with your own identifying information. (Don\\'t include\\n      the brackets!)  The text should be enclosed in the appropriate\\n      comment syntax for the file format. We also recommend that a\\n      file or class name and description of purpose be included on the\\n      same \"printed page\" as the copyright notice for easier\\n      identification within third-party archives.\\n\\n   Copyright [yyyy] [name of copyright owner]\\n\\n   Licensed under the Apache License, Version 2.0 (the \"License\");\\n   you may not use this file except in compliance with the License.\\n   You may obtain a copy of the License at\\n\\n       http://www.apache.org/licenses/LICENSE-2.0\\n\\n   Unless required by applicable law or agreed to in writing, software\\n   distributed under the License is distributed on an \"AS IS\" BASIS,\\n   WITHOUT WARRANTIES OR CONDITIONS OF ANY KIND, either express or implied.\\n   See the License for the specific language governing permissions and\\n   limitations under the License.\\n',\n",
       " 'text_description': '저희 저장소에 것올 환영합니다! -+아<`5 콤우어 -(회신도 모든 사람에게 종이 거래들 제공합니다. 역기에서 확인해 보세요 설정 방법 다음 명령은 따르세요 군라이언트 서버 모든움 선치합니다 , 7짚물5여다 *시터 대도 @은 사용래야  합나다 . 1-다미 창내:민내 [매웬(5659 ( 4가  식행 급인지 막인하고  환경 변수 0\\'-불5거 연걸 문자업음 지정말니다 다리-5 ~어신--? = 마-5데권5.5디 [   \"초-:큰 7 ; 5하츠쥐끊어>펼디 (05[: 5432예 \\'1,미산6 .10도  이용하여 무료 계정운 만듬니다 . 그런 다움 4\"1 키끝 주가합니다 . *0기하 [ 드껴 )터 우: _\" _ \" 예:\\' 하37# 브나_ 니느: _\" 가만 모드어서 굳라이언트와 서버든 모두 시작립니다 자세한 내용은 구드 디널로리 0고디름미|드 ]50\"음 침조하심시오 냉모 15의78퉁 36995 이용하여 프러트언드든   막인하세요 |   먹연드는 포트 8080(기본각)어서 호스템씩니다 . 3석` 1밥 형침대  965 배포 및 이라-+칭5 브랜치 상태 이라플5 이에서 디_~슬 수행합니다. 모든 브랜치에 대한 모든 푸시에 대해 {,라감$ 빌드가 트리거립니다. 아래 림크 에서 +라거5 사이트문 참조하십시오 \\'하하(라하에 병합하는 것은 검토 승인 및 검사 통과 후에만 가능합니다. 메봄도+서5 에 병합되고 테스트 및 빌드가 성공 적으로 완료되면 가,라거5 디가 @곁-(- 퍽석하\"-(하*에 대한 배포루 시작합니다 . 하채:다: 에서 빌드 및 배포루 건너뛰어 서논 안 쉽니다. \\'고-+.5 브랜치논 프로덕선에 배포된 내용올 직점 반영합니다. 프로적트물 간소화하고 단순화하기 위해 태그 및 길 리스 시스템올 사용하지 않습니다 유용한 림크 선버단위 텍스트 선비 문합 텍스트 위키 데이지 칸반 보드 디기장 (리감-) 라이브 프로덕선 사이트 라이브스미 문서 라이브 통합 테스트 절용 범위 보고서 라이브 단위 테스트 적용 범위 보고서 저장소 규칙 마크다운 파일은 참조하여 이 저장소에서 진행 상황은 문서화하고 위크프로든 관리하는 방법은 확인하십시오. 오신 \\'--',\n",
       " 'id': 0}"
      ]
     },
     "execution_count": 4,
     "metadata": {},
     "output_type": "execute_result"
    }
   ],
   "source": [
    "ds['test'][0]"
   ]
  },
  {
   "cell_type": "markdown",
   "id": "b6033551",
   "metadata": {},
   "source": [
    "# 2. Prepare PSIKing Documents\n",
    "* dataset text -> PSIKing Document"
   ]
  },
  {
   "cell_type": "code",
   "execution_count": 5,
   "id": "0fc83cc2",
   "metadata": {},
   "outputs": [],
   "source": [
    "from psiking.core.base.schema import TextNode, Document"
   ]
  },
  {
   "cell_type": "code",
   "execution_count": 6,
   "id": "a057645b",
   "metadata": {},
   "outputs": [],
   "source": [
    "def prepare_documents(x):\n",
    "    node = TextNode(\n",
    "        text=x['text_description'],\n",
    "        metadata={\n",
    "            'docid': x['id']\n",
    "        }\n",
    "    )\n",
    "    document = Document(\n",
    "        nodes=[node],\n",
    "        metadata={\n",
    "            'docid': x['id']\n",
    "        }\n",
    "    )\n",
    "    return {'doc': document.to_dict()}"
   ]
  },
  {
   "cell_type": "code",
   "execution_count": 7,
   "id": "d80572e6",
   "metadata": {},
   "outputs": [],
   "source": [
    "collection = ds.map(\n",
    "    function=prepare_documents,\n",
    "    batched=False\n",
    ")"
   ]
  },
  {
   "cell_type": "code",
   "execution_count": 8,
   "id": "ec61a487",
   "metadata": {},
   "outputs": [
    {
     "data": {
      "text/plain": [
       "{'query': 'Bulma를 기반으로 하는 Vue.js용 경량 UI 구성 요소',\n",
       " 'image': <PIL.PngImagePlugin.PngImageFile image mode=RGB size=540x1080>,\n",
       " 'image_filename': 'images/774_screenshot.png',\n",
       " 'license_type': 'MIT',\n",
       " 'license_text': 'MIT License\\n\\nCopyright (c) 2017-2019 Rafael Beraldo\\n\\nPermission is hereby granted, free of charge, to any person obtaining a copy\\nof this software and associated documentation files (the \"Software\"), to deal\\nin the Software without restriction, including without limitation the rights\\nto use, copy, modify, merge, publish, distribute, sublicense, and/or sell\\ncopies of the Software, and to permit persons to whom the Software is\\nfurnished to do so, subject to the following conditions:\\n\\nThe above copyright notice and this permission notice shall be included in all\\ncopies or substantial portions of the Software.\\n\\nTHE SOFTWARE IS PROVIDED \"AS IS\", WITHOUT WARRANTY OF ANY KIND, EXPRESS OR\\nIMPLIED, INCLUDING BUT NOT LIMITED TO THE WARRANTIES OF MERCHANTABILITY,\\nFITNESS FOR A PARTICULAR PURPOSE AND NONINFRINGEMENT. IN NO EVENT SHALL THE\\nAUTHORS OR COPYRIGHT HOLDERS BE LIABLE FOR ANY CLAIM, DAMAGES OR OTHER\\nLIABILITY, WHETHER IN AN ACTION OF CONTRACT, TORT OR OTHERWISE, ARISING FROM,\\nOUT OF OR IN CONNECTION WITH THE SOFTWARE OR THE USE OR OTHER DEALINGS IN THE\\nSOFTWARE.\\n',\n",
       " 'text_description': '필4어뚜칭 <기,하+ 64서+샌 추4. 6늘1 리 809.29 09.29 닫우 청-) 신 [고타+필는 우김] 프레임위크와 디자인은 기반으로 노라5용 경량의 반응형 신 구성 요소 라이브러리입니 벼.0 지원문 위해 개반 중인 공식 니]] 청]구  _]\\'+ 포크 확인하십시오 특징 현재 [+어히 테마번수문 쉽제 유지 4볶익회[|] 다도/지 작-교미도와 도-미스신오도이로 모두 지원 ~ 듯흥^교든 제외하고 내부 종속성이 없는 떠우 가버운 무게 약 883 굽미+(2명 ([신새 포함) 의미있는 코드 근력 [흥^히 디자인과 일부 더요프입생미 [라도/]_스 준수 과도한 아니데이선 없이 사용성과 성능에 중점 설명서 설명서는 (0-5 디락토리어 있으며 데모로도 사용되니다. 온리인 설명서문 참조하심시오 빠른 시작 기요 ]도 버전 2.6+가 필요합니다 (쳐 3은 여기에서 지원팀) 1 미오어올 통한 설치 173홀]니 너우닫+거 2 3초@,싹 가져오기 및 사용 번들 한섯섯 1*권옛 벼\\'리;거 없다터 4  쪽어 [ 진더%스어오[음; .6 33 \" 신-질잦신 한   또는 개벌 구성 요소 1*옛 갈어 [ 권디이미 1 대과! 1데권밥[ \\'벼\\'훨\\'어:하앞!{\"05 거`쳐 , 망잊(`:과미} 날! 미\\' \\';',\n",
       " 'id': 6,\n",
       " 'doc': {'class_name': 'Document',\n",
       "  'id_': '8a2da85d-5148-4616-8515-c0f0deca68c9',\n",
       "  'metadata': {'docid': 6},\n",
       "  'nodes': [{'class_name': 'TextNode',\n",
       "    'id_': '3358bbe6-3339-4934-a2a6-0c585b64228f',\n",
       "    'label': 'plain',\n",
       "    'metadata': {'docid': 6},\n",
       "    'resource': {'mimetype': None,\n",
       "     'path': None,\n",
       "     'text': '필4어뚜칭 <기,하+ 64서+샌 추4. 6늘1 리 809.29 09.29 닫우 청-) 신 [고타+필는 우김] 프레임위크와 디자인은 기반으로 노라5용 경량의 반응형 신 구성 요소 라이브러리입니 벼.0 지원문 위해 개반 중인 공식 니]] 청]구  _]\\'+ 포크 확인하십시오 특징 현재 [+어히 테마번수문 쉽제 유지 4볶익회[|] 다도/지 작-교미도와 도-미스신오도이로 모두 지원 ~ 듯흥^교든 제외하고 내부 종속성이 없는 떠우 가버운 무게 약 883 굽미+(2명 ([신새 포함) 의미있는 코드 근력 [흥^히 디자인과 일부 더요프입생미 [라도/]_스 준수 과도한 아니데이선 없이 사용성과 성능에 중점 설명서 설명서는 (0-5 디락토리어 있으며 데모로도 사용되니다. 온리인 설명서문 참조하심시오 빠른 시작 기요 ]도 버전 2.6+가 필요합니다 (쳐 3은 여기에서 지원팀) 1 미오어올 통한 설치 173홀]니 너우닫+거 2 3초@,싹 가져오기 및 사용 번들 한섯섯 1*권옛 벼\\'리;거 없다터 4  쪽어 [ 진더%스어오[음; .6 33 \" 신-질잦신 한   또는 개벌 구성 요소 1*옛 갈어 [ 권디이미 1 대과! 1데권밥[ \\'벼\\'훨\\'어:하앞!{\"05 거`쳐 , 망잊(`:과미} 날! 미\\' \\';',\n",
       "     'url': None},\n",
       "    'text_type': 'plain'}]}}"
      ]
     },
     "execution_count": 8,
     "metadata": {},
     "output_type": "execute_result"
    }
   ],
   "source": [
    "collection['test'][6]"
   ]
  },
  {
   "cell_type": "markdown",
   "id": "a6e29b2a",
   "metadata": {},
   "source": [
    "# 3. Chunk, Embed"
   ]
  },
  {
   "cell_type": "markdown",
   "id": "b47da04c",
   "metadata": {},
   "source": [
    "## 3-1. Chunk Texts"
   ]
  },
  {
   "cell_type": "code",
   "execution_count": 9,
   "id": "81212808",
   "metadata": {},
   "outputs": [],
   "source": [
    "from psiking.core.splitter.text.langchain_text_splitters import LangchainRecursiveCharacterTextSplitter\n",
    "\n",
    "splitter = LangchainRecursiveCharacterTextSplitter(\n",
    "    chunk_size = 1024,\n",
    "    chunk_overlap = 128\n",
    ")"
   ]
  },
  {
   "cell_type": "code",
   "execution_count": 10,
   "id": "031501b5",
   "metadata": {},
   "outputs": [
    {
     "name": "stdout",
     "output_type": "stream",
     "text": [
      "1435\n"
     ]
    }
   ],
   "source": [
    "chunks = []\n",
    "for sample in collection['test']:\n",
    "    document = Document.from_dict(sample['doc'])\n",
    "    \n",
    "    document_chunks = []\n",
    "    source_id = document.id_\n",
    "    for i, node in enumerate(document.nodes):\n",
    "        # Run Splitter\n",
    "        if isinstance(node, TextNode):\n",
    "            try:\n",
    "                split_nodes = splitter.run(node)\n",
    "            except Exception as e:\n",
    "                print(i, node)\n",
    "                print(str(e))\n",
    "                raise e\n",
    "        else:\n",
    "            split_nodes = [node]\n",
    "        \n",
    "        # Create New Document\n",
    "        # print(len(document.nodes[0].text), \"SPLIT:\", len(split_nodes))\n",
    "        for split_node in split_nodes:\n",
    "            # Each Document contains single node\n",
    "            chunk = Document(\n",
    "                nodes=[split_node],\n",
    "                metadata={\n",
    "                    \"source_id\": source_id,\n",
    "                    \"docid\": document.metadata['docid'],\n",
    "                }\n",
    "            )\n",
    "            document_chunks.append(chunk)\n",
    "    chunks.extend(document_chunks)\n",
    "print(len(chunks))"
   ]
  },
  {
   "cell_type": "code",
   "execution_count": 26,
   "id": "b4e60aae",
   "metadata": {},
   "outputs": [],
   "source": [
    "# Save Chunks (for testing)\n",
    "import json\n",
    "with open('cache/text_messages/chunks.json', 'w') as f:\n",
    "    f.write(\n",
    "        json.dumps(\n",
    "            {\n",
    "              'chunks': [\n",
    "                  x.to_dict() for x in chunks\n",
    "              ]  \n",
    "            },\n",
    "            indent=4,\n",
    "            ensure_ascii=False\n",
    "        )\n",
    "    )"
   ]
  },
  {
   "cell_type": "markdown",
   "id": "85164202",
   "metadata": {},
   "source": [
    "## 3-2. Embed with jina-emb-v4"
   ]
  },
  {
   "cell_type": "code",
   "execution_count": 12,
   "id": "2b31cd1d",
   "metadata": {},
   "outputs": [],
   "source": [
    "import asyncio\n",
    "from tqdm.asyncio import tqdm\n",
    "\n",
    "from psiking.core.embedder.vllm.online_jina_emb_v4 import VLLMOnlineJinaEmbV4Embedder"
   ]
  },
  {
   "cell_type": "code",
   "execution_count": 13,
   "id": "9dfc8641",
   "metadata": {},
   "outputs": [],
   "source": [
    "VLLM_ENDPOINT=\"http://localhost:8080\"\n",
    "MODEL=\"jina-embeddings-v4-vllm-retrieval\"\n",
    "embedder = VLLMOnlineJinaEmbV4Embedder(\n",
    "    base_url=VLLM_ENDPOINT,\n",
    "    model=MODEL\n",
    ")"
   ]
  },
  {
   "cell_type": "code",
   "execution_count": 14,
   "id": "d646c459",
   "metadata": {},
   "outputs": [],
   "source": [
    "async def embed(semaphore, doc: Document):\n",
    "    text = doc.nodes[0].text\n",
    "    messages = [\n",
    "        {'role': 'user', 'content': text}\n",
    "    ]\n",
    "    async with semaphore:\n",
    "        embedding = await embedder.arun(\n",
    "            input=messages,\n",
    "            input_format='messages',\n",
    "            pool=True,\n",
    "            normalize=True\n",
    "        )\n",
    "    return embedding"
   ]
  },
  {
   "cell_type": "code",
   "execution_count": 15,
   "id": "ffaa9adc",
   "metadata": {},
   "outputs": [
    {
     "name": "stderr",
     "output_type": "stream",
     "text": [
      "100%|██████████| 1435/1435 [1:52:07<00:00,  4.69s/it]  \n"
     ]
    }
   ],
   "source": [
    "semaphore = asyncio.Semaphore(32)\n",
    "\n",
    "tasks = []\n",
    "for chunk in chunks:\n",
    "    task = embed(semaphore, chunk)\n",
    "    tasks.append(task)\n",
    "\n",
    "embeddings = await tqdm.gather(*tasks)"
   ]
  },
  {
   "cell_type": "code",
   "execution_count": 16,
   "id": "b40cebf2",
   "metadata": {},
   "outputs": [
    {
     "name": "stdout",
     "output_type": "stream",
     "text": [
      "1435\n",
      "2048\n"
     ]
    }
   ],
   "source": [
    "print(len(embeddings))\n",
    "print(len(embeddings[0]))"
   ]
  },
  {
   "cell_type": "code",
   "execution_count": 17,
   "id": "8fd96efc",
   "metadata": {},
   "outputs": [
    {
     "data": {
      "text/plain": [
       "float"
      ]
     },
     "execution_count": 17,
     "metadata": {},
     "output_type": "execute_result"
    }
   ],
   "source": [
    "type(embeddings[0].tolist()[0])"
   ]
  },
  {
   "cell_type": "markdown",
   "id": "a0baa89c",
   "metadata": {},
   "source": [
    "# 4. Insert into VectorStore"
   ]
  },
  {
   "cell_type": "code",
   "execution_count": 18,
   "id": "99b4d480",
   "metadata": {},
   "outputs": [],
   "source": [
    "from qdrant_client import QdrantClient\n",
    "from psiking.core.storage.vectorstore.qdrant import QdrantSingleVectorStore\n",
    "\n",
    "# initialize client\n",
    "client = QdrantClient(host=\"localhost\", port=6333)\n",
    "collection_name = \"jinavdr-github-text-messages\"\n",
    "\n",
    "vector_store = QdrantSingleVectorStore(\n",
    "    collection_name=collection_name,\n",
    "    client=client\n",
    ")"
   ]
  },
  {
   "cell_type": "code",
   "execution_count": 19,
   "id": "47f1ec7f",
   "metadata": {},
   "outputs": [],
   "source": [
    "from qdrant_client.http import models\n",
    "\n",
    "embedding_dim = 2048\n",
    "\n",
    "vector_store.create_collection(\n",
    "    on_disk_payload=True,  # store the payload on disk\n",
    "    vectors_config = models.VectorParams(\n",
    "        size=embedding_dim,\n",
    "        distance=models.Distance.COSINE,\n",
    "        on_disk=True,\n",
    "    )\n",
    ")"
   ]
  },
  {
   "cell_type": "code",
   "execution_count": 20,
   "id": "05aa1e09",
   "metadata": {},
   "outputs": [],
   "source": [
    "# np array -> List[float]\n",
    "embeddings_float = [\n",
    "    x.tolist() for x in embeddings\n",
    "]"
   ]
  },
  {
   "cell_type": "code",
   "execution_count": 21,
   "id": "a22e8798",
   "metadata": {},
   "outputs": [],
   "source": [
    "vector_store.add(\n",
    "    documents=chunks,\n",
    "    embeddings=embeddings_float,\n",
    "    metadata_keys=[\"source_file\", \"docid\"]\n",
    ")"
   ]
  },
  {
   "cell_type": "code",
   "execution_count": 22,
   "id": "049f7167",
   "metadata": {},
   "outputs": [
    {
     "data": {
      "text/plain": [
       "'a181f2b9-49ca-4e60-9d04-0165d6d44755'"
      ]
     },
     "execution_count": 22,
     "metadata": {},
     "output_type": "execute_result"
    }
   ],
   "source": [
    "chunks[0].id_"
   ]
  },
  {
   "cell_type": "code",
   "execution_count": 23,
   "id": "c3018046",
   "metadata": {},
   "outputs": [],
   "source": [
    "points = vector_store._client.retrieve(\n",
    "    collection_name=vector_store.collection_name,\n",
    "    ids=[chunks[0].id_],\n",
    "    with_vectors=True\n",
    ")"
   ]
  },
  {
   "cell_type": "code",
   "execution_count": 24,
   "id": "78771202",
   "metadata": {},
   "outputs": [
    {
     "name": "stdout",
     "output_type": "stream",
     "text": [
      "a181f2b9-49ca-4e60-9d04-0165d6d44755\n",
      "{'docid': 0}\n",
      "2048\n"
     ]
    }
   ],
   "source": [
    "print(points[0].id)\n",
    "print(points[0].payload)\n",
    "print(len(points[0].vector))"
   ]
  },
  {
   "cell_type": "code",
   "execution_count": 25,
   "id": "31a5f897",
   "metadata": {},
   "outputs": [
    {
     "data": {
      "text/plain": [
       "Record(id='a181f2b9-49ca-4e60-9d04-0165d6d44755', payload={'docid': 0}, vector=[-0.015094001, -0.019790087, -0.0030749126, -0.021820737, 0.0034364625, -0.0022062545, 0.025856335, 0.031427637, -0.0049702073, -0.0061005964, -0.015703578, 0.01009177, -0.01278171, 0.01913805, -0.032352127, -0.025651608, 0.01780954, -0.018801076, 0.055043537, -0.02959405, -0.038807396, 0.009012873, 0.041322988, -0.0030946515, 0.00393653, -0.024757117, -0.045410987, -0.008298751, 0.033571877, -0.014848868, 0.014466347, 0.024501072, 0.010748489, 0.0124892695, -0.0714017, -0.008384778, -0.026107293, -0.004878163, -0.0039856643, -0.00475566, -0.0024958306, -0.007319636, -0.036342904, -0.052934628, -0.013474823, -0.093797, -0.005896045, -0.011144181, 0.0151680205, -0.018928787, 0.018489074, -0.0014877085, -0.057965178, -0.028002363, -0.011120492, 0.022317015, 0.02291552, -0.0053579556, -0.014189871, 0.0040804925, 0.0026239015, -0.025605505, 0.034305587, 0.018617958, 0.025937406, -0.022483382, -0.036429934, 0.024809137, -0.0054794094, -0.042745262, -0.02611921, -0.03298645, 0.02416779, -0.019348163, 0.019932693, 0.0039429446, -0.0100731095, -0.011673593, 0.02584329, -0.006510832, -0.012861074, -0.028727885, 0.027400197, 0.007977896, 0.005635588, -0.0029975928, 0.020843443, 0.020617714, 0.025346102, -0.02985344, -0.023238564, -0.0620248, -0.00062841893, 0.009563156, 0.01162184, -0.02277116, 0.0042883335, 0.04733433, 0.00086819724, -0.018263325, -0.02677664, 0.01140578, 0.033291873, 0.06990059, 0.024661368, 0.014667776, 0.014856977, 0.013403713, 0.030567357, 0.00017574066, 0.045120373, 0.009546402, 0.0125570055, 0.037857164, -0.008187348, 8.15986e-06, 0.0076609966, -0.020636162, 0.005630031, -0.0060296413, -0.024997137, 0.035264857, 0.03325015, 0.011533627, -0.0067228894, 0.03324233, 0.003857515, -0.014806816, -0.018870544, -0.017678114, -0.0021590563, -0.0016067919, 0.027179431, -0.004957479, 0.0008800687, 0.017574074, -0.025200201, 0.010447895, -0.0028149497, 0.0032028884, 0.025793761, 0.012538432, 0.005110054, -0.032109033, -0.01663027, 0.0042635496, 0.0053618867, 0.0029126923, -0.013876146, -0.026178189, 0.021514187, -0.017626703, -0.029121015, -0.008625178, 0.0019706653, -0.0011736379, 0.021519715, -0.005124763, -0.005304119, -0.019112634, 0.0014222957, -0.0085956305, 0.0037913383, -0.017095827, -0.010468673, 0.0077417255, -0.007529445, -0.00325899, 0.0037883, -0.05050571, -0.008368049, -0.010239307, 0.0014196738, -0.018055232, -0.02829275, -0.007464911, 0.020684222, -0.010004431, 0.027817264, 0.013353729, -0.00860838, 0.012284538, 0.02526798, 0.0031355615, 0.0073248637, 0.019909196, -0.01129736, -0.02313417, 0.0012057562, 0.009906231, -0.039612576, -0.049245693, 0.0018884648, -0.027661279, -0.004389907, 0.015744692, 0.0028898832, 0.007995546, 0.035029452, -0.015835514, 0.0076619377, -0.01410535, 0.03160392, 0.003442711, 0.029203352, 0.008610885, 0.013964237, -0.031468526, -0.011460359, -0.005773499, -0.03265522, -0.0020394665, 0.0041516684, 0.031093912, -0.012513187, 0.016712543, -0.008508628, 0.029706124, -0.004291185, 0.023961462, -0.009576295, 0.019234795, 0.006719378, 0.019045943, -0.0012892234, 0.007428203, 0.0077393604, -0.02515596, 0.009077743, -0.012912677, -0.0041705766, 0.018584637, 0.0044264733, 0.009013891, 0.0024315843, 0.016094198, 0.016699791, -0.0011646183, -0.0019371468, 0.03169717, 0.019743362, -0.019705037, 0.0016246102, -0.014777893, 0.010025813, 0.0051471405, 0.0580555, 0.013281172, -0.0025509181, -0.05200289, 0.019011237, 0.021106452, -0.016997963, 0.0039183972, 0.018881202, -0.031930838, -0.008588471, 0.0047165784, 0.014048422, 0.014411906, 0.01797399, 0.016390719, -0.012004367, 0.003924311, -0.0314099, -0.040111188, -0.0014222586, 0.010435892, 0.0006757374, -0.013230697, -0.01535213, -0.046709713, 0.017497893, -0.024031108, -0.0074428483, 0.00034556442, 0.0062766476, 0.016889935, 0.018449634, -0.011941679, 0.013090764, -0.012678396, -0.0052084997, -0.011215759, -0.003924172, 0.0062309834, 0.0036038477, 0.006895549, 0.0033387835, 0.04734432, 0.026028877, -0.006292861, 0.019343043, -0.035936866, 0.00634815, -0.01709234, -0.0666821, -0.015961826, -0.0253703, -0.000876838, 0.002597559, -0.021873372, 0.03620363, 0.006255418, 0.008936184, 0.03632941, -0.0075881737, -0.06704924, -0.0326865, 0.022159772, 0.0045295423, -0.022086222, -0.0019210237, -0.015220394, -0.010915722, 0.021701822, 0.052337304, -0.0063470243, -0.018464986, 0.0013965837, -0.022762606, -0.0041508377, 0.010244328, 0.018846128, -0.0625189, -0.01097938, -0.0025825147, -0.02432637, 0.03728041, 0.0053748065, -0.027440492, -0.004500299, -0.0054626777, -0.016655779, 0.011706727, -0.0021576853, 0.0054516476, -0.016548652, 0.034756087, 0.0031073692, -0.00909083, 0.016644046, 0.05119836, -0.0026904938, -0.0020481574, 0.015267456, -0.037209097, -0.04350982, -0.0004895302, 0.0033238, 0.0031125431, 0.022420462, -0.011749093, 0.05042931, -0.013291887, 0.006841861, 0.021621047, -0.006542357, 0.0010995952, -0.016214164, -0.015475519, 0.004535267, 0.031763207, 0.0149597945, 0.0040410594, 0.033233095, 0.025893578, -0.021154866, -0.0076553808, -0.0001400028, 0.03350642, -0.040918738, 0.0052325525, 0.012122123, -0.00013858647, 0.004247842, -0.024018176, 0.0003382547, -0.001089444, 0.01934111, 0.023867233, 0.016952924, 0.0050179358, 0.002358792, 0.011764984, -0.013457268, 0.014964217, -0.004883573, -0.030637925, 0.04662645, 0.014743507, 0.03441051, -0.0077624186, 0.00804688, 0.0017128069, -0.006432869, 0.008572909, -0.027781785, -0.0075108283, -0.0017471788, 0.020027764, -0.018627057, 0.11457442, 0.051847793, -0.009160991, -0.017056929, 0.025785979, -0.010881623, 0.031520866, -0.009084396, 0.0072061396, 0.026954314, -0.009376405, 0.0037858956, -0.0003758098, -0.0021242357, 0.009347716, -0.009103264, -0.02078485, 0.021631492, -0.020715164, -0.030974038, -0.002526348, -0.015638115, -0.01675977, 0.0197396, 0.027599256, 0.013645899, -0.01471652, -0.027177848, 0.025350632, -0.0016418274, 0.010149134, -0.00743338, -0.0027727813, 0.00014637336, -0.008027511, 0.013250472, 0.014249113, -0.025173202, -0.0034026597, 0.00682346, 0.010923114, 0.008386915, 0.017912278, 0.00081686914, -0.038114853, 0.0034866217, 0.03267497, -0.025889028, -0.009532982, 0.020440493, 0.023215499, -0.028183518, -0.035072137, 0.031722207, -0.0004081627, 0.010606539, -0.07980931, -0.021226192, 0.018841365, 0.027945867, -0.021112321, 0.011943162, -0.01109594, -0.027201636, 0.002241528, -0.00028795106, -0.020289814, -0.026592359, -0.0071084285, 0.010130484, -0.029652447, 0.008664735, -0.01760483, 0.013652838, 0.0033361386, -0.010892607, 0.028957551, -0.006631954, -0.03420213, -0.008102064, 0.009721787, -0.028966436, 0.003075505, 0.02387366, -0.03517347, -0.0071085724, 0.05228884, -0.0055947755, -0.038490646, -0.013450719, -0.0008683256, -0.028949156, -0.009362363, -0.035737418, 0.022116108, 0.02385319, 0.0021133693, -0.0015636622, 0.009624608, -0.0022388382, -0.013040633, 0.0045379484, -0.040928323, 0.0112458775, 0.004671902, 0.013439539, 0.0032188913, 0.0029348298, -0.02992208, 0.009477345, -0.05690794, -0.025417732, 0.0038944331, 0.003916684, -0.038012058, -0.0032490022, -0.0020973796, 0.017787162, -0.0035819218, -0.0015488741, -0.024653343, -0.030594237, -0.008517904, -0.012376954, 0.03799858, -0.0009837332, -0.016888121, 0.0068117683, 0.0021674058, 0.0047142394, -0.05876369, 0.0071404004, 0.014160646, -0.019543169, 0.010840547, 0.0027736567, -0.017724995, 0.015073356, -0.04993611, 0.017757785, -0.019565728, 0.027593873, 0.0037400331, 0.013039303, -0.027912585, -0.014437876, -0.016766643, 0.03201996, 0.02851487, 0.008073335, 0.046423692, -0.0016859147, 0.027283655, -0.00950796, -0.043852154, 0.029886547, 0.017068058, 0.07030015, 0.0002821909, 0.022043457, 0.008441642, 0.012491684, 0.038822304, -0.00012192866, 0.003613834, 0.009010617, -0.008215919, 0.012124651, 0.009522462, -0.011452301, -0.027599692, 0.0030949563, -0.013852566, 0.043835796, 0.011540888, -0.03182543, 0.013775684, -0.022949196, 0.007887274, -0.0033109088, 0.0051289503, -0.06905206, -0.0050065015, -0.01566943, 0.007909167, -0.0004446528, -0.040088158, 0.0063517326, -0.04115806, -0.008979758, 0.010634046, -0.049512967, 0.02735441, 0.0070749824, -0.023800934, 0.03411586, 0.055893064, 0.011024973, -0.021180524, -0.003916621, -0.009672355, 0.0009509201, 0.028488524, -0.032104354, 0.0011427595, -0.01744862, 0.02088702, -0.0028025834, 0.017846098, 0.0056750323, -0.008651011, 0.023816958, 0.030640809, 0.016199773, -0.003819685, 0.043352246, 0.011698878, -0.018835701, 0.0034061535, -0.031112079, -0.0076690535, 0.016372198, 0.030064575, 0.02850968, 0.00021526525, 0.011617611, 0.0074122627, -0.016482906, 0.023003597, 0.032054495, 0.00882923, 0.011956457, -0.0031521064, 0.0009481812, 0.022080781, -0.011134593, -0.012544424, 0.03696143, 0.024042217, -0.0054381136, -0.022527236, -0.009559922, 0.037815053, -0.017854905, -0.02380516, -0.027107328, -0.004778539, 0.022096464, 0.0055608205, 0.006542751, 0.012439089, -0.02972862, 0.00015338941, -0.016166119, -0.036200035, 0.00294783, 0.035353255, 0.010203127, 0.024377415, -0.025378272, 0.014846151, -0.014243769, 0.003991958, -0.037528135, -0.0037967553, -0.0034238491, -0.04421413, -0.022389818, 0.027328333, -0.02198307, 0.025524896, 0.0009118395, 0.009651721, 0.018150259, -0.005583113, -0.0195821, -0.010661066, -0.014385596, 0.019986749, -0.017414058, 0.017393509, -0.012721829, -0.019317707, 0.0018185567, -0.027485734, 0.024367567, -0.015922599, -0.0025090708, -0.025884658, 0.03974474, 0.005938501, -0.09233618, -0.024910964, -0.008708765, -0.005170455, -0.0050203674, -0.0006073775, -0.016232844, 0.0025198916, -0.005791676, -0.035120495, 0.009924744, -0.024299629, -0.038764972, -0.0081937, 0.03312471, 0.00088012085, -0.0059511443, 0.013636138, 0.0022457296, 0.029206937, 0.03309, -0.016064545, 0.015275974, -0.004340462, -0.014621756, 0.009269408, -0.028010136, 0.009872128, -0.0016364187, 0.017267194, 0.032388702, 0.0017557096, -0.0022540428, 0.0021186133, -0.0030400795, 0.011293111, 0.021985449, 0.020813191, 0.038824335, 0.014754106, -0.01611505, 0.016981648, 0.006248996, 0.008852468, 0.015621664, 0.012712248, -0.021457948, -0.002015304, 0.010976403, -0.0031049266, 0.019475536, -0.010896387, -0.009991251, 0.00496504, -0.012727399, 0.03871494, -0.019563582, -0.011146631, -0.020748716, 0.0019987712, -0.0024817213, 0.0020173592, 0.012790443, -0.005872065, -0.026976682, 0.007965132, 0.033445746, 0.016316263, 0.04263645, -0.0033121037, 0.016350515, 0.00016393012, 0.011969013, 0.025527569, 0.002497341, -0.0056833434, 0.011313115, -0.017952655, -0.0234302, -0.020222155, -0.0069727986, -0.026685167, -0.005018322, -0.028881775, 0.009688936, -0.0052262945, -0.014691308, -0.0151228085, -0.035670303, -0.010965689, -0.0038803928, 0.008095905, -0.016970033, -0.009261936, -0.030239696, 0.02863508, 0.002996157, -0.014619865, -0.013054143, 0.017721374, -0.04141012, -0.014852543, -0.0008624896, -0.0026307828, -0.0009767272, -0.009623631, -0.006793617, 0.0037237843, 0.020652972, -0.021256462, 0.008843539, 0.0012973897, -0.0035049187, 0.014724705, -0.02156604, 0.050332963, 0.022630418, -0.050531246, 0.03843535, -0.011819956, 0.017620075, 0.011672701, 0.015609222, -0.03444412, -0.015891965, -0.013625174, -0.020722337, -0.013669323, 0.009009412, -0.037710875, 0.0006953432, 0.02529739, -0.017034303, 0.012717671, -0.008365317, 0.01923508, 0.0025814539, 0.007783694, -0.0018077326, 0.0133096175, -0.015719358, -0.013810489, -0.0034968674, 0.020823225, -0.016924432, -0.023649327, 0.020926211, 0.011516545, -0.025004638, 0.009844254, -0.022639262, 0.011895978, -0.009556857, 0.014628033, -0.009699077, -0.023819933, -0.019260535, -0.035288155, -0.0009756971, 0.0054870914, -0.036682677, -0.0016633511, -0.014009123, 0.009780428, 0.012839392, -0.016035523, -0.009465325, -0.00502679, -0.0075598154, 0.0044642976, -0.034875713, -0.04614841, 0.010814091, -0.033998236, -0.033639234, 0.017969588, -0.019691259, 0.030707775, 0.0025951236, -0.0072073657, -0.03673274, 0.025470389, -0.015292217, 0.030148814, 0.025914026, 0.016654462, 0.010589359, -0.007974076, -0.014698871, 0.015041968, 0.035851743, 0.009550499, 0.0037000177, 0.009735275, -0.019302709, -0.008597043, 0.015617974, 0.023156866, 0.035264947, 0.037637062, 0.018692441, -0.0109472275, -0.0071907192, 0.02039056, -0.025310304, -0.048021715, 0.0058712843, -0.016901517, -0.023978764, 0.011592069, -0.021755992, 0.007834615, 0.010152446, -0.01477147, -0.0178529, -0.02831256, 0.03423397, -0.024013462, 0.010702691, -0.030862398, -0.016022157, -0.015774904, 0.008372741, -0.015180084, -0.021854948, 0.021936366, 0.012518488, 0.028333867, -0.018066637, -0.00032467645, -0.018533928, 0.0030306429, 0.00036786008, 0.0018283522, -0.0015114612, 0.004364653, -0.033260018, -0.023132963, 0.007875409, -0.018741881, 0.01020193, 0.017709866, -0.0074168965, 0.060612157, -0.019163718, -0.02669821, -0.037452247, 0.008816528, -0.013713754, -0.006185134, 0.01533503, 0.009719655, -0.002459295, 0.009485291, 0.011200714, 0.027983816, 0.0051684645, 0.023616757, -0.014440271, 0.008586719, 0.0041702692, 0.017963454, 0.019914674, 0.004554063, 0.0033056717, -0.00070282316, 0.0051343003, 0.0068977564, 0.0070400718, -0.0022993528, 0.010141977, -0.00996434, -0.022074947, -0.007741351, 0.007045852, 0.027400507, 0.023395216, 0.020556087, 0.012857335, 0.046973884, 0.0069468794, 0.013674943, -0.0008334355, -0.017957624, 0.0067354194, 0.035167314, -0.02897995, -0.017644381, -0.016924458, 0.01190666, 0.021739403, 0.018780677, 0.035247706, 0.01411603, 0.015889993, 0.005479789, 0.014237598, -0.02253843, -0.008341264, -0.0383273, -0.009324159, -0.010116883, 0.0023393447, 0.010779137, 0.009758799, 0.02072558, -0.0025869508, -0.012308613, 0.013774029, -0.01773855, 0.0028531982, 0.011979395, 0.032872166, -0.022223862, 0.032562036, -0.017363185, -0.0073027355, -0.013008777, -0.0036634617, 0.013019638, -0.006884778, 0.011633767, 0.010144237, -0.024784481, -0.01537574, 0.03854966, 0.0069209016, 0.016255708, -0.00457838, 0.011878534, -0.007844898, 0.004665509, -0.011533463, 0.02318235, 0.016872624, -0.007859437, -0.03639161, -0.016822936, -0.024571829, -0.00077442214, -0.024794219, -0.009465331, 0.031530235, 0.002775751, -0.029152626, 0.058745228, -0.012697241, 0.018445997, -0.018881977, 0.017344367, 0.01828943, -0.014012055, -0.041204914, -0.032860067, -0.0029312342, 0.018099254, -0.012202168, 0.018602464, -0.0033717484, 0.03414017, -0.0028656728, -0.01278361, -0.041225385, -0.019190745, -0.012918336, 0.0077302326, 0.01718735, -0.026766736, -0.010207444, -0.021450292, 0.0036698258, -0.005885438, -0.004888408, 0.0014636554, 0.007913663, -0.021992218, -0.010716046, -0.028332127, 0.0045263213, -0.006836739, -0.012287013, 0.0058898334, 0.03796025, -0.021897398, 0.028188393, -0.011139992, -0.024729444, 0.019571824, -0.01264264, 0.015598887, -0.0015773614, 0.0111702075, -1.0294928e-05, -0.009346129, -0.022450097, -0.029662635, 0.013809128, -0.033209693, -0.052447174, -0.049963046, -0.024027357, -0.003209804, 0.0053758267, -0.0152487755, 0.0042520133, -0.02622336, -0.0051433532, 0.026583614, 0.017333522, 0.023716765, -0.0031572008, -0.016578237, 0.023058847, 0.0010115538, 0.040726483, 0.010345511, 0.03061859, -0.024014806, -0.0032174475, 0.037015818, 0.02030408, 0.0074227443, 0.013795484, -0.0068253763, 0.002601909, 0.02118828, -0.004537636, -0.021423252, -0.05551304, 0.009786675, -0.011446034, -0.018341813, 0.006472327, 0.016952366, 0.0050364938, 0.0318344, 0.032681115, -0.008508308, -0.020690985, -0.02134257, -0.017109357, 0.026813138, -0.030610507, -0.028037006, -0.019020528, 0.029953396, 0.01659682, 0.020674162, -0.01337781, 0.013495045, 0.02895101, 0.030048564, 0.02387372, -0.0003616409, -0.019554926, 0.014071751, 0.026919626, -0.0033744825, 0.037933122, 0.004154386, 0.0064975913, -0.01211008, -0.024636, 0.008436, -0.022009078, 0.03801359, -0.009019077, 0.0024290022, 0.009126948, 0.0026264489, 0.0012146421, -0.011632058, 0.0037132318, -0.016326737, 0.020044895, 0.027688127, -0.015722714, -1.0694411e-05, -0.004494568, -0.039586157, 0.035636827, 0.0066839615, 0.030103689, 0.010853894, -0.001150501, 0.029004652, 0.008971154, 0.022164624, 0.032399345, -0.023386799, 0.002099973, 0.038942583, 0.04258458, 0.020145958, 0.00479961, 0.0052192844, -0.0016395556, -0.020667005, 0.010596876, 0.031644717, 0.025117178, -0.028303284, 0.020870626, 0.035580643, 0.022686219, 0.03180209, -0.008254521, -0.010622548, 0.015130487, -0.0067129238, 0.020281259, 0.0085999295, 0.02166381, 0.011232147, 0.02263764, 0.010289701, -0.014274523, -0.03585797, 0.035834547, 0.009019764, 0.045873042, 0.008413378, -0.004918511, 0.028254487, 0.002872159, -0.010154895, -0.025714612, 0.013158768, -0.033068303, -0.035327792, 0.026772577, -0.019416742, 0.0002590102, 0.017050333, 0.007882738, 0.016528621, 0.004956909, 0.02488376, -0.002762597, 0.041469708, -0.008941368, 0.045128535, -0.010798516, -0.0024923615, 0.0039225495, -0.01105943, -0.0060881577, -0.025641156, 0.04156643, -0.0018218912, -0.013432031, 0.0098322565, 0.0012223903, -0.0037738993, -0.02843596, 0.020396763, 0.0047248667, 0.036194067, 0.05080293, 0.012160199, 0.0026284975, -0.030625816, -0.014906515, 0.028639687, 0.01343959, -0.013029997, -0.023525357, -0.014375035, 0.023191378, -0.010771871, -0.017380973, -0.016849704, -0.008358165, -0.000945023, 0.008748038, 0.013188184, -0.030252032, 0.0047230334, 0.010163906, -0.05226087, 0.0109531, 0.031157471, -0.011881282, -0.023658458, -0.018572431, 0.0114270765, 0.005325439, -0.018918447, -0.02071993, -0.008520311, 0.030434534, -0.012177468, 0.012902248, -0.034564424, 0.012602172, 0.036773704, -0.032909017, 0.025889337, -0.010286248, 0.05240155, 0.0011203346, -0.008692474, -0.0030209161, 0.013299369, 0.014909637, -0.0017786219, 0.033215616, -0.028729552, 0.00618674, 0.03975265, 0.005240607, -0.016357709, -0.009810131, 0.040599115, 0.030351274, 0.029658677, 0.0105555, 0.0025333778, -0.008104291, -0.016357027, -0.0015878531, 0.02324069, 0.017204423, -0.00019322302, 0.011958642, -0.012432506, 0.014779987, 0.011608957, -0.0007884045, 0.02681469, -0.0061149853, -0.024126735, 0.022515895, -0.022991031, 0.008243008, -0.025042772, 0.020958817, -0.02340378, -0.02146332, -0.004059086, 0.037727274, 0.0045069144, 0.000748007, -0.02557836, -0.01394949, -0.012772515, 0.010033315, 0.0036344607, -0.018734155, -0.0019623216, -0.010530828, -0.0045515043, 0.0065874187, -0.008930381, -0.02434907, 0.016377455, -0.003644721, 0.014901536, -0.043514527, -0.008377979, -0.028755309, 0.034457114, -0.0056810835, 0.04749586, 0.017572396, -0.002843399, 0.0057237158, 0.0072724484, -0.011656696, -0.0071364352, 0.019382482, 0.0222857, 0.00087578763, -0.041938145, 0.022496378, 0.014876355, 0.020772055, -0.016353894, 0.052959207, 0.005281582, 0.0058440864, 0.00064585154, -0.025148014, -0.011082566, -0.031545274, 0.016940005, 0.00047959102, -0.051883515, -0.0015961948, -0.009471999, -0.005092101, -0.002543218, 0.00719809, 0.063014, 0.00849347, 0.033167403, -0.0030516442, 0.011365569, 0.028012665, 0.020368338, 0.016428677, 0.0115988655, 0.005263176, 0.061098862, -0.0017861805, -0.0014189971, -0.021778567, -0.0057794033, 0.011084907, -0.001767569, 0.0008091431, 0.009176491, 0.0075795664, 0.02206714, -0.03685452, 0.009008704, -0.021155816, -0.0046430035, -0.006213879, -0.00897098, 0.015358293, -0.008319795, -0.0025132499, 0.012412688, -0.020813132, -0.017821895, 0.006511187, -0.013512637, -0.021884773, 0.006382993, -0.0031627228, -0.027919052, -0.001201274, -0.0035834806, 0.0009979212, 0.022500977, -0.007892218, -0.011689143, -0.034153122, -0.029813172, 0.012013197, -0.0124997, 0.0021310952, 0.0009409077, -0.009869803, -0.007952651, -0.008080114, 0.0018565805, 0.018293105, 0.019273866, -0.025107479, -0.018856317, -0.013650406, -0.0027755643, 0.009107068, -0.0024882485, -0.01798269, -0.026321985, 0.006299605, -0.01581873, -0.036078334, 0.02263925, 0.008414198, 0.014050925, -0.0252465, 0.0052428916, -0.030783549, -0.001195685, 0.008663337, 0.028806644, -0.016578913, 0.05457077, -0.004123468, 0.015910087, -0.018851185, -0.023726733, 0.023326505, -0.028856233, -0.040727954, -0.0010835741, 0.010186451, 0.01962104, 0.01672579, 0.005802985, -0.01426485, -0.0060350173, 0.010466484, -0.013073725, 0.0028124696, -0.036980294, 0.0027428006, 0.007625405, 0.028208692, 0.0019818125, -0.0048236744, 0.0009216312, -0.003914474, -0.0029205817, 0.008480603, 0.0028284576, 0.009217135, 0.017045695, -0.002787584, 0.012108968, 0.015421653, -0.039253708, 0.031228865, 0.036833722, -0.003935441, 0.0027309118, -0.028825376, 0.008522124, -0.00052290066, -0.02331417, 0.035747956, 0.004275506, 0.047841262, 0.004001372, 0.009062441, 0.027480897, -0.02202134, 0.004842812, -0.0147971595, -0.0053997287, -0.018246848, -0.016182605, 0.02243949, -0.003473698, -0.019021858, -0.053597238, -0.019081965, -0.022018751, 0.019551337, 0.0020545202, -0.044385985, -0.017623516, -0.017419254, -0.03269271, 0.004759345, 0.016376387, -0.015667839, 0.024148019, -0.018266845, -0.00277009, -0.028735131, -0.0147228995, 0.0070535014, 0.01585461, 0.023143908, -0.00799893, -0.0053008236, 0.0063656652, -0.015234335, 0.014543308, -0.037425295, -0.030553319, 0.01913597, -0.030146934, -0.010766502, -0.024341712, -0.008944864, 0.013787599, 0.023497531, -0.06793162, -0.0023612315, 0.0055560237, 0.0060445685, -0.0018055324, 0.0050318935, 0.0038392544, 0.032811116, 0.027530983, 0.028818931, -0.02885087, -0.018378975, 0.008330713, 0.0065347175, -0.008454533, -0.01581356, 0.042712685, 0.002600037, 0.017006624, 0.028560093, 0.03834035, -0.014620267, -0.016387952, 0.0042686895, -0.027497754, -0.01188935, 0.009176543, 0.036903694, 0.013752196, -0.007889406, 0.0018645246, -0.019363107, 0.0063371924, 0.018608151, -0.01389174, -0.041130442, -0.007840629, 0.031808265, 0.01911235, -0.014899293, -0.018781392, -0.021218596, -0.01618514, -0.016692184, 0.06075318, -0.061539568, -0.00590317, 0.00030650117, 0.01581527, -0.017282823, -0.054323994, 0.0040536225, -0.027300214, -0.014546036, 0.011481182, -0.034538068, 0.0007101594, 0.0149333915, -0.010288533, 0.011188545, -0.005805376, 0.0011923328, 0.025084568, -0.0055070985, -0.004107208, -0.023629503, 0.031986635, -0.018254293, -0.03496108, -0.012164069, -0.03435793, -0.017337317, -0.0121869, -0.02818639, 0.0014584877, 0.08160924, 0.006129589, 0.00216363, -0.031896967, -0.018220354, -0.0068233707, -0.033219784, 0.04775087, 0.01031293, -0.0056320694, -0.003294429, -0.0046482887, -0.041230444, 0.030201098, 0.005006026, 0.022226403, -0.019551663, 0.01913006, -0.0016904535, 0.034762546, -0.011050757, -0.010047112, -0.019566312, 0.012353479, -0.035951994, -0.04558239, -0.033322502, 0.0034664401, 0.012706573, -0.010876061, 0.05871496, 0.0010381447, -0.023501437, 0.007567509, -0.004870904, -0.059463285, -0.0016164647, 0.00028140587, 0.03674156, 0.0056283185, 0.00716363, 0.00034208002, -0.004750495, -0.05180885, -0.04284658, 0.02080203, -0.00077579496, 0.0014738471, 0.008853579, 0.07270426, 0.015252034, -0.009275792, -0.005801729, -0.0073753577, -0.012631306, -0.011505942, -0.020831754, 0.009909891, 2.2040364e-05, 0.00018398982, -0.024633352, 0.013045612, 0.032527693, 0.012293362, 0.02395775, -0.01394777, -0.02061521, 0.017068746, -0.013872027, -0.009600854, 0.026233407, 0.031654585, 0.01136777, -0.010745261, 0.01146619, 0.012091862, -0.040899757, -0.006831395, 0.015750518, 0.009431575, 0.0051841936, 0.032551832, -0.0020868035, 0.015590782, 0.007310382, 0.0487943, -0.023796355, -0.02534282, -0.0046174005, 0.00836498, 0.0100598335, 0.00387176, -0.019515783, -0.009722986, -0.0017648034, 0.024301313, -0.020705596, -0.0056547746, -0.011078445, 0.011424096, -0.016819973, 0.0037486586, -0.005748564, 0.053221658, 0.011613516, 0.009478338, -0.015111718, 0.006113226, -0.0015083338, 0.022863328, 0.036685903, 0.005368996, 0.021444986, -0.02637355, -0.008898625, 0.05241479, -0.03076201, -0.024560437, 0.0030163643, -0.023831569, 0.01065504, 0.0058160694, -0.0332448, -0.0028738498, -0.01021516, 0.057362303, 0.03444094, 0.010936312, 0.002227256, -0.0032983187, 0.0082238065, -0.03210124, 0.0021481293, -0.017378323, 0.05676081, 0.0040717344, 0.019285187, 0.014051773, 0.007572417, -0.011446877, 0.010386217, 0.0012949017, 0.021557434, -1.5626321e-05, 0.004009289, -0.016855173, -0.019201415, 0.0063681626, 0.03123743, 0.00720929, -0.037164964, 0.006300524, 0.044784144, -0.01817669, -0.038650963, -0.015915824, 0.01937348, -0.021534704, 0.0030162174, -0.02080488, 0.016901972, -0.0077194544, -0.012608337, -0.020607434, -0.036935028, -0.005809125, 0.0416852, -0.06437087, 0.0059873755, -0.011560154, -0.035604525, -0.011974748, -0.0010811558, 0.005084911, -0.0027760614, -0.003580806, 0.026673894, -0.012613435, 0.016674777, -0.018970346, -0.037057158, 0.012999771, 0.013974939, 0.008694639, -0.028540175, -0.016921984, -6.2521096e-05, -0.017785659, -0.03465902, 0.0079786675, -0.021131156, 0.00096411444, 0.028129024, -0.008423769, 0.0047515715, 0.019800717, -0.008099036, 0.021643514, 0.0031965824, -0.01199789, 0.07856554, 0.011383518, -0.00018887871, 0.024373967, 0.00027816955, -0.02084463, -0.05290904, -0.007941083, -0.03815666, -0.0043476378, -0.015356092, -0.022660166, 0.0042339, 0.0033900049, 0.024851799, -0.00075175136, -0.006015351, 0.0036931778, -0.0035087331, -0.00029256253, -0.014748289, -0.016048096, -0.014429546, 0.033041265, -0.004962304, 0.007347419, 0.0056037772, -5.245777e-05, -0.02094512, 0.034972817, -0.047715306, -0.00975719, -0.009093708, 8.663235e-05, 0.047096767, -0.016172472, -0.019043619, 0.010043971, -0.02007462, -0.04765811, 0.004005456, -0.011270836, 0.0096955625, 0.037410535, -0.024288194, -0.009404946, -0.016982276, 0.030187417, 0.01068751, -0.045137346, 0.03728855, -0.008523109, -0.021669889, 0.005244282, -0.0111460425, -0.008935234, -0.0034778237, 0.027962612, -0.024706557, -0.08932516, -0.0010024583, 0.0067967274, -0.021818874, 0.013810902, 0.0011643497, 0.0035950707, -0.0002750476, -0.007754429, -0.02240304, -0.009535659, 0.010245202, -0.015210697, -0.015316495, 0.071769126, 0.019923722, 0.010131205, -0.02950106, 0.027738113, -0.00073106965, -0.0035648553, -0.011608197, 0.002935124, -0.007999063, 0.00043504618, -0.006557245, -0.009678455, -0.05764711, -0.030676814, 0.006061499, 0.022420824, -0.01653327, 0.012603343, 0.004320541, -0.024363855, 0.008571307, -0.032152478, -0.015751865, -0.0013395164, -0.0029868574, -0.0014803286, 0.016967444, -0.025155775, 0.0009352624, -0.03389124, -0.019940095, -0.03716686, -0.00240226, 0.03186765, -0.0071179383, 0.009397586, 0.008989421, 0.003077652, -0.015246976, 0.0025820541, 0.005745304, 0.00562743, 0.01949234, -0.01185431, -0.041707583, -0.0017775603, 0.029645715, 0.044982627, 0.019812355, 0.020168493, -0.0018398637, -0.013352304, -0.027415806, -0.026322117, -0.009595342, 0.009650437, 0.00022430174, -0.011966831, 0.042294268, 0.021076495, 0.010687529, 0.012192842, -0.005895617, 0.0020948553, -0.020151692, -0.02337046, 0.02131496, 0.033928268, 0.021284627, 0.03331098, 0.01512304, -0.0155526595, -0.023691902, 0.019884385, -0.015928835, 0.03784101, 0.0063622384, 0.007881725, -0.0008170128, 0.032470867, 0.007849178, -0.018804388, 0.011572927, -0.041736763, -0.019137166, 0.028306289, 0.007256172, 0.03131251, -0.00061040174, -0.018002354, 0.010735243, 0.030845996, -0.03225556, -0.007802213, 0.050671786, -0.010942674, -0.0073829456, -0.016070535, 0.014159816, 0.024665931, 0.020904863, -0.00882048, 0.004920502, -0.01049139, 0.02941165, 0.029937083, 0.044342022, -0.015191957, 0.012196244, -0.009494406, -0.022909407, 0.026082994, 0.018213015, -0.13191327, -0.02818857, -0.039276298, -0.010116652, 0.011634706, -0.04434706, 0.0055382876, -0.01279918, -0.0027412805, 0.00730923, -0.0044231154, 0.0077966903, -0.015636126, 0.04227858, -0.033305846, 0.028335452, -0.014160095, 0.0123987775, 0.0033955118, -0.024685811, -0.021395938, 0.0020725166, -0.001670891, -0.0092527885, -0.0076630674, -0.016798338, -0.004817252, -0.016406601, 0.0076521663, 0.012447895], shard_key=None, order_value=None)"
      ]
     },
     "execution_count": 25,
     "metadata": {},
     "output_type": "execute_result"
    }
   ],
   "source": [
    "points[0]"
   ]
  },
  {
   "cell_type": "code",
   "execution_count": null,
   "id": "1a140176",
   "metadata": {},
   "outputs": [],
   "source": []
  }
 ],
 "metadata": {
  "kernelspec": {
   "display_name": "psiking",
   "language": "python",
   "name": "python3"
  },
  "language_info": {
   "codemirror_mode": {
    "name": "ipython",
    "version": 3
   },
   "file_extension": ".py",
   "mimetype": "text/x-python",
   "name": "python",
   "nbconvert_exporter": "python",
   "pygments_lexer": "ipython3",
   "version": "3.10.14"
  }
 },
 "nbformat": 4,
 "nbformat_minor": 5
}
