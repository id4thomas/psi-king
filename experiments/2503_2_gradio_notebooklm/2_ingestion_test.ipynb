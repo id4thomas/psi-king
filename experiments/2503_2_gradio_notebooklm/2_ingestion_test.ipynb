{
 "cells": [
  {
   "cell_type": "code",
   "execution_count": 1,
   "metadata": {},
   "outputs": [
    {
     "name": "stderr",
     "output_type": "stream",
     "text": [
      "/opt/miniconda3/envs/psiking/lib/python3.10/site-packages/timm/models/layers/__init__.py:48: FutureWarning: Importing from timm.models.layers is deprecated, please import via timm.layers\n",
      "  warnings.warn(f\"Importing from {__name__} is deprecated, please import via timm.layers\", FutureWarning)\n"
     ]
    }
   ],
   "source": [
    "import json\n",
    "import os\n",
    "\n",
    "from pydantic import BaseModel, Field\n",
    "from config import experiment_settings as settings\n",
    "\n",
    "from src.document_ingestion import DocumentIngestionPipeline\n",
    "from src.embedder import EmbedderModule\n",
    "from src.models import PipelineSettings, InputFile\n",
    "\n",
    "# os.environ[\"HF_HOME\"] = settings.docling_model_weight_dir\n",
    "# os.environ[\"DOCLING_ARTIFACTS_PATH\"] = settings.docling_model_weight_dir\n",
    "os.environ[\"DOCLING_ARTIFACTS_PATH\"] = os.path.join(\n",
    "    settings.docling_model_weight_dir, \"docling-models\"\n",
    ")\n",
    "# os.environ[\"DOCLING_ARTIFACTS_PATH\"] = str(os.path.join(settings.docling_model_weight_dir, \"artifacts\"))\n",
    "# os.environ[\"DOCLING_ARTIFACTS_PATH\"] = \"/Users/id4thomas/models/document_parsing/docling/hub/models--ds4sd--docling-models/snapshots/36bebf56681740529abd09f5473a93a69373fbf0\""
   ]
  },
  {
   "cell_type": "code",
   "execution_count": 2,
   "metadata": {},
   "outputs": [
    {
     "data": {
      "text/plain": [
       "['83566_1.pdf',\n",
       " '82566_1.pdf',\n",
       " '79122_2.pdf',\n",
       " '79535_4.pdf',\n",
       " '81364_1.pdf',\n",
       " '80078_4.pdf',\n",
       " '81307_2.pdf',\n",
       " '82814_1.pdf',\n",
       " '82390_7.pdf',\n",
       " '82787_1.pdf']"
      ]
     },
     "execution_count": 2,
     "metadata": {},
     "output_type": "execute_result"
    }
   ],
   "source": [
    "file_dir = os.path.join(\n",
    "    settings.data_dir, \"retrieval_dataset/2503-01-korean-finance/kr-fsc_policy\"\n",
    ")\n",
    "\n",
    "fnames = [x for x in os.listdir(file_dir) if \"pdf\" in x][:10]\n",
    "fnames"
   ]
  },
  {
   "cell_type": "code",
   "execution_count": 3,
   "metadata": {},
   "outputs": [],
   "source": [
    "metadata_file_path =  os.path.join(\n",
    "    settings.data_dir, \"retrieval_dataset/2503-01-korean-finance/kr-fsc_pdf_file_metadata.json\"\n",
    ")\n",
    "with open(metadata_file_path, \"r\") as f:\n",
    "    metadata_file_contents = json.load(f)"
   ]
  },
  {
   "cell_type": "code",
   "execution_count": 4,
   "metadata": {},
   "outputs": [
    {
     "data": {
      "text/plain": [
       "{'page_no': 1,\n",
       " 'item_no': '2718',\n",
       " 'item_id': '84155',\n",
       " 'item_date': '2025-03-13',\n",
       " 'item_title': '[보도참고] 신용보증기금이 P-CBO를 직접 발행하여 기업의 비용부담을 약 50bp 절감합니다 - 「신용보증기금법」 개정안, 국회 본회의 통과',\n",
       " 'no': 1,\n",
       " 'name': '250313(보도참고) 신용보증기금이 P-CBO를 직접 발행하여 기업의 비용부담을 약 50bp 절감합니다.pdf',\n",
       " 'extension': 'pdf'}"
      ]
     },
     "execution_count": 4,
     "metadata": {},
     "output_type": "execute_result"
    }
   ],
   "source": [
    "metadata_file_contents[0]"
   ]
  },
  {
   "cell_type": "code",
   "execution_count": 5,
   "metadata": {},
   "outputs": [],
   "source": [
    "metadata_dicts = {\n",
    "    \"{}_{}.pdf\".format(x[\"item_id\"], x[\"no\"]): {\n",
    "        \"title\": x[\"item_title\"]\n",
    "    }\n",
    "    for x in metadata_file_contents\n",
    "}"
   ]
  },
  {
   "cell_type": "code",
   "execution_count": 6,
   "metadata": {},
   "outputs": [
    {
     "data": {
      "text/plain": [
       "{'title': '[보도참고] 신용보증기금이 P-CBO를 직접 발행하여 기업의 비용부담을 약 50bp 절감합니다 - 「신용보증기금법」 개정안, 국회 본회의 통과'}"
      ]
     },
     "execution_count": 6,
     "metadata": {},
     "output_type": "execute_result"
    }
   ],
   "source": [
    "metadata_dicts[\"84155_1.pdf\"]"
   ]
  },
  {
   "cell_type": "code",
   "execution_count": 7,
   "metadata": {},
   "outputs": [],
   "source": [
    "## Prepare Input Files\n",
    "input_files = []\n",
    "for fname in fnames[:2]:\n",
    "    file_path = str(os.path.join(file_dir, fname))\n",
    "    \n",
    "    input_file = InputFile(\n",
    "        file_path=file_path,\n",
    "        metadata=metadata_dicts[fname]\n",
    "    )\n",
    "    input_files.append(input_file)"
   ]
  },
  {
   "cell_type": "code",
   "execution_count": 8,
   "metadata": {},
   "outputs": [
    {
     "data": {
      "text/plain": [
       "InputFile(uid='2c516000-d3ae-486a-a305-71e47aad46c3', file_path='/Users/id4thomas/datasets/retrieval_dataset/2503-01-korean-finance/kr-fsc_policy/83566_1.pdf', metadata={'title': '[보도참고] 김병환 금융위원장, 외국계 금융회사 간담회 주재'})"
      ]
     },
     "execution_count": 8,
     "metadata": {},
     "output_type": "execute_result"
    }
   ],
   "source": [
    "input_files[0]"
   ]
  },
  {
   "cell_type": "markdown",
   "metadata": {},
   "source": [
    "# 1. IngestionPipeline"
   ]
  },
  {
   "cell_type": "markdown",
   "metadata": {},
   "source": [
    "## 1-1. Initialize"
   ]
  },
  {
   "cell_type": "code",
   "execution_count": 9,
   "metadata": {},
   "outputs": [],
   "source": [
    "pipeline_settings = PipelineSettings(\n",
    "    vlm_base_url = settings.vlm_base_url,\n",
    "    vlm_api_key=settings.vlm_api_key,\n",
    "    vlm_model = settings.vlm_model,\n",
    "    poppler_path=\"/opt/homebrew/Cellar/poppler/25.01.0/bin\",\n",
    "    text_chunk_size=1024,\n",
    "    text_chunk_overlap=128\n",
    ")"
   ]
  },
  {
   "cell_type": "code",
   "execution_count": 10,
   "metadata": {},
   "outputs": [],
   "source": [
    "pipeline = DocumentIngestionPipeline(pipeline_settings)"
   ]
  },
  {
   "cell_type": "markdown",
   "metadata": {},
   "source": [
    "## 1-2. Run"
   ]
  },
  {
   "cell_type": "code",
   "execution_count": 11,
   "metadata": {},
   "outputs": [
    {
     "name": "stderr",
     "output_type": "stream",
     "text": [
      "0it [00:00, ?it/s]"
     ]
    },
    {
     "name": "stdout",
     "output_type": "stream",
     "text": [
      "NUM IMAGES TO ANNOTATE 2\n"
     ]
    },
    {
     "name": "stderr",
     "output_type": "stream",
     "text": [
      "1it [00:04,  4.27s/it]"
     ]
    },
    {
     "name": "stdout",
     "output_type": "stream",
     "text": [
      "NUM IMAGES TO ANNOTATE 5\n"
     ]
    },
    {
     "name": "stderr",
     "output_type": "stream",
     "text": [
      "2it [00:15,  7.72s/it]\n"
     ]
    }
   ],
   "source": [
    "documents = pipeline.run(input_files)"
   ]
  },
  {
   "cell_type": "code",
   "execution_count": 12,
   "metadata": {},
   "outputs": [
    {
     "data": {
      "text/plain": [
       "16"
      ]
     },
     "execution_count": 12,
     "metadata": {},
     "output_type": "execute_result"
    }
   ],
   "source": [
    "len(documents)"
   ]
  },
  {
   "cell_type": "code",
   "execution_count": 13,
   "metadata": {},
   "outputs": [
    {
     "data": {
      "text/plain": [
       "[Document(id_='9c483e3a-cb5d-44f5-a7e2-6ab8fe428b79', metadata={'title': '[보도참고] 김병환 금융위원장, 외국계 금융회사 간담회 주재', 'source_id': '2c516000-d3ae-486a-a305-71e47aad46c3', 'source_file': '83566_1.pdf'}, nodes=[TextNode(id_='bf93a09c-507a-48be-b793-8381dae1c449', metadata={'page_no': 1}, text_type=<TextType.PLAIN: 'plain'>, label=<TextLabel.PLAIN: 'plain'>, resource=MediaResource(data=None, text=\"보도참고자료\\n광부\\n보도시점\\n배포 시\\n배포 2024.12.10.(화) 15:30\\n김병환 금융위원장, 외국계 금융회사 간담회 주재\\n'24.12.10(화)  금융위원회는  김병환  금융위원장 주재로 외국계 금융회사 대표들이 참여하는 간담회를 개최하고, 한국의 정치경제 상황에 대한 해외 ․ 시각을 점검하는 한편, 한국 정부가 금융시장 안정을 유지할 수 있는 충분한 역량과 의지를 가지고 있음을 설명하였다.\\n- ◇ 일시/장소 : '24.12.10(화) 15:00, 금융위원회 대회의실\\n- ◇ 참석기관: S&P, 무디스, Citi은행, HSBC은행, 도이치방크, JP모건체이스, 뱅크오브아메리카 소시에테제네랄,  미쓰이스미토모  은행,  CCB,  골드만삭스,  맥쿼리,  모건스탠리, JP모건 증권, BNP파리바, 나틱시스증권, SC증권, ING증권, IMC증권, HSBC증권\\n이  날  회의에서 김병환 금융위원장은 정치적 불확실성이 커진 상황이나, 경제  문제만큼은  경제부총리  등  경제팀을  중심으로  일관되고  안정적으로 관리해 나가고 있다고 강조하였다. 김 위원장은 시장 안정을 위한 정부의 준비태세는 확고히 유지되고 있으며, 부동산 PF 연착륙, 기업 밸류업, 자본 시장  선진화  등  주요  정책  과제들도  계획된  일정대로  차질  없이  추진해 나갈 것이라고 언급하면서, 앞으로 외국계금융회사와의 더욱 긴밀한 소통을 통해 한국의 상황과 정부의 계획에 대한 충분한 설명이 이루어질 수 있도록 하겠다고 밝혔다.\\n이  날  회의에서  외국계  금융회사  참석자들은  이번  사태가  한국  경제의 근간을 훼손하거나 지속적인 악영향을 미칠 것으로 생각하지 않으며, 정치적 불확실성이 조속히 해소된다면 시장도 빠르게 안정을 찾을 수 있을 것이라고 전망하였다. 다만 주식시장 등의 단기 변동성을 완화하기 위해 연기금 등 기관투자자들의 보다 적극적인 역할이 필요하다는 의견도 제시되었다.\", path=None, url=None, mimetype=None))]),\n",
       " Document(id_='d8ca3b97-e93d-4567-a8bf-ca40dd62691b', metadata={'title': '[보도참고] 김병환 금융위원장, 외국계 금융회사 간담회 주재', 'source_id': '2c516000-d3ae-486a-a305-71e47aad46c3', 'source_file': '83566_1.pdf'}, nodes=[TableNode(id_='9279a511-afc3-4162-82ce-81c7ae74422c', metadata={'page_no': 1}, image_loaded=True, table_type=<TableType.HTML: 'html'>, image_resource=MediaResource(data=b'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', text=None, path=None, url=None, mimetype='image/png'), text_resource=MediaResource(data=None, text='<table><tbody><tr><td rowspan=\"2\">담당 부서</td><td>금융정책국</td><td>책임자</td><td>과  장</td><td>김성준(02-2100-2850)</td></tr><tr><td>금융시장분석과</td><td>담당자</td><td>사무관</td><td>김재민(02-2100-2854)</td></tr></tbody></table>', path=None, url=None, mimetype=None), caption_resource=MediaResource(data=None, text=None, path=None, url=None, mimetype=None))])]"
      ]
     },
     "execution_count": 13,
     "metadata": {},
     "output_type": "execute_result"
    }
   ],
   "source": [
    "documents[:2]"
   ]
  },
  {
   "cell_type": "code",
   "execution_count": 14,
   "metadata": {},
   "outputs": [
    {
     "data": {
      "text/plain": [
       "{'title': '[보도참고] 김병환 금융위원장, 외국계 금융회사 간담회 주재',\n",
       " 'source_id': '2c516000-d3ae-486a-a305-71e47aad46c3',\n",
       " 'source_file': '83566_1.pdf'}"
      ]
     },
     "execution_count": 14,
     "metadata": {},
     "output_type": "execute_result"
    }
   ],
   "source": [
    "documents[0].metadata"
   ]
  },
  {
   "cell_type": "code",
   "execution_count": 15,
   "metadata": {},
   "outputs": [
    {
     "name": "stdout",
     "output_type": "stream",
     "text": [
      "보도참고자료\n",
      "광부\n",
      "보도시점\n",
      "배포 시\n",
      "배포 2024.12.10.(화) 15:30\n",
      "김병환 금융위원장, 외국계 금융회사 간담회 주재\n",
      "'24.12.10(화)  금융위원회는  김병환  금융위원장 주재로 외국계 금융회사 대표들이 참여하는 간담회를 개최하고, 한국의 정치경제 상황에 대한 해외 ․ 시각을 점검하는 한편, 한국 정부가 금융시장 안정을 유지할 수 있는 충분한 역량과 의지를 가지고 있음을 설명하였다.\n",
      "- ◇ 일시/장소 : '24.12.10(화) 15:00, 금융위원회 대회의실\n",
      "- ◇ 참석기관: S&P, 무디스, Citi은행, HSBC은행, 도이치방크, JP모건체이스, 뱅크오브아메리카 소시에테제네랄,  미쓰이스미토모  은행,  CCB,  골드만삭스,  맥쿼리,  모건스탠리, JP모건 증권, BNP파리바, 나틱시스증권, SC증권, ING증권, IMC증권, HSBC증권\n",
      "이  날  회의에서 김병환 금융위원장은 정치적 불확실성이 커진 상황이나, 경제  문제만큼은  경제부총리  등  경제팀을  중심으로  일관되고  안정적으로 관리해 나가고 있다고 강조하였다. 김 위원장은 시장 안정을 위한 정부의 준비태세는 확고히 유지되고 있으며, 부동산 PF 연착륙, 기업 밸류업, 자본 시장  선진화  등  주요  정책  과제들도  계획된  일정대로  차질  없이  추진해 나갈 것이라고 언급하면서, 앞으로 외국계금융회사와의 더욱 긴밀한 소통을 통해 한국의 상황과 정부의 계획에 대한 충분한 설명이 이루어질 수 있도록 하겠다고 밝혔다.\n",
      "이  날  회의에서  외국계  금융회사  참석자들은  이번  사태가  한국  경제의 근간을 훼손하거나 지속적인 악영향을 미칠 것으로 생각하지 않으며, 정치적 불확실성이 조속히 해소된다면 시장도 빠르게 안정을 찾을 수 있을 것이라고 전망하였다. 다만 주식시장 등의 단기 변동성을 완화하기 위해 연기금 등 기관투자자들의 보다 적극적인 역할이 필요하다는 의견도 제시되었다.\n"
     ]
    }
   ],
   "source": [
    "print(documents[0].nodes[0].text)"
   ]
  },
  {
   "cell_type": "code",
   "execution_count": 16,
   "metadata": {},
   "outputs": [],
   "source": [
    "# print(documents[3].nodes[0].text)"
   ]
  },
  {
   "cell_type": "code",
   "execution_count": 17,
   "metadata": {},
   "outputs": [
    {
     "data": {
      "text/plain": [
       "[TextNode(id_='0256b83d-579c-40d1-9eb0-ab967f413e18', metadata={'page_no': 1}, text_type=<TextType.PLAIN: 'plain'>, label=<TextLabel.PLAIN: 'plain'>, resource=MediaResource(data=None, text=\"< 5.14일 발표한 부동산PF 연착륙 대책 中 대주단 협약 개정 관련 내용 >\\n- □  사업장의 만기연장이자유예 조건 ‧ 을 강화 하는  방향으로 협약을 개정 하여 무분별한 만기연장이자유예 ‧ 제한\\n- ⅰ) 2회 이상 만기 연장 시 외부전문기관의 PF 사업성평가 를 의무화 하고, 만기연장 동의 기준 조정 (2/3  이상 → 3/4 이상)\\n- ⅱ)  협약을 통한 이자유예  기존 연체이자 는 의 상환 * 을 전제 로 추진하도록 의무화하고, 연체이자를 고려한 건전성분류 적용\\n- *  ①기존  연체이자의 전액 상환을 전제로 이자유예가 원칙이나, ②연체이자 일정부분 상환 시 잔여연체해소계획을 고려하여 유예 가능\\n- ⅲ)  대주단의 만기연장이자유예 내용 ‧ 을 사무국에 의무적으로 통보 하도록 하여 PF사업장 재구조화정리 상황 상시 모니터링 ‧\\n<PF 상설협의회 구성 등>\\n▸ (구    성)  협회 중앙회  : ‧ 전국은행연합회,  농협중앙회,  수협중앙회,  산림조합중앙회, 신협중앙회, 새마을금고중앙회, 금융투자협회, 생명보험협회, 손해보험협회, 여신금융협회, 저축은행중앙회의 대표자 관계기관 : 신용보증기금, 기술보증기금, 한국주택금융공사, 한국무역보험공사, 주택도시보증공사, 한국자산관리공사, 연합자산관리주식회사의 대표자 ▸ (업  무) 협약의 제개정 ‧ 등에 관한 사항을 심의의결 ‧\\n1 PF  대주단 협약 운영 상황\\n'23.4.24일  全  금융권 ｢ PF  대주단  협약 이  개정·시행된  이후  채권금융 ｣ 기관들은 협약상 제도 및 절차 등에 따라 PF 사업장의 원활한 정상화와 재구조화를 추진해 왔습니다. 이와 함께 저축은행, 여전, 상호금융(신협농협 ‧ ‧ 수협산림조합),  새마을금고에서는  개별  업권별  PF  대주단  협약 을  통해 ‧ ｢ ｣ PF 사업장을 지원해 왔습니다.\\n* 全  금융권 PF 대주단 협약 : 복수 금융업권이 참여하는 사업장에 적용 개별 업권 PF 대주단 협약 : 단일 업권이 참여하는 사업장에 적용 가능\", path=None, url=None, mimetype=None))]"
      ]
     },
     "execution_count": 17,
     "metadata": {},
     "output_type": "execute_result"
    }
   ],
   "source": [
    "documents[6].nodes"
   ]
  },
  {
   "cell_type": "code",
   "execution_count": 18,
   "metadata": {},
   "outputs": [
    {
     "name": "stdout",
     "output_type": "stream",
     "text": [
      "TextNode: 7\n",
      "ImageNode: 5\n",
      "TableNode: 4\n"
     ]
    }
   ],
   "source": [
    "from psiking.core.base.schema import TextNode, ImageNode, TableNode\n",
    "def count_node(documents, node_cls = TextNode):\n",
    "    counts = [\n",
    "        len(list(filter(lambda x: isinstance(x, node_cls), x.nodes)))\n",
    "        for x in documents\n",
    "    ]\n",
    "    return sum(counts)\n",
    "\n",
    "print(\"TextNode: {}\".format(count_node(documents, node_cls=TextNode)))\n",
    "print(\"ImageNode: {}\".format(count_node(documents, node_cls=ImageNode)))\n",
    "print(\"TableNode: {}\".format(count_node(documents, node_cls=TableNode)))"
   ]
  },
  {
   "cell_type": "markdown",
   "metadata": {},
   "source": [
    "## 1-3. Save to DocumentStore"
   ]
  },
  {
   "cell_type": "code",
   "execution_count": 19,
   "metadata": {},
   "outputs": [],
   "source": [
    "from psiking.core.storage.docstore import InMemoryDocumentStore\n",
    "\n",
    "docstore = InMemoryDocumentStore()"
   ]
  },
  {
   "cell_type": "code",
   "execution_count": 20,
   "metadata": {},
   "outputs": [
    {
     "name": "stdout",
     "output_type": "stream",
     "text": [
      "16\n"
     ]
    }
   ],
   "source": [
    "docstore.add(documents)\n",
    "print(docstore.count())"
   ]
  },
  {
   "cell_type": "markdown",
   "metadata": {},
   "source": [
    "# 2. Embedding Pipeline"
   ]
  },
  {
   "cell_type": "code",
   "execution_count": 21,
   "metadata": {},
   "outputs": [],
   "source": [
    "class EmbeddingSettings(BaseModel):\n",
    "    # PictureDescription\n",
    "    embedding_model_path: str = Field(\"\")\n",
    "    \n",
    "    dense_batch_size: int = Field(4)\n",
    "    sparse_batch_size: int = Field(256)"
   ]
  },
  {
   "cell_type": "code",
   "execution_count": 22,
   "metadata": {},
   "outputs": [],
   "source": [
    "embedding_settings = EmbeddingSettings(\n",
    "    embedding_model_path=str(os.path.join(settings.model_weight_dir, \"embedding\")),\n",
    "    dense_batch_size=4,\n",
    "    sparse_batch_size=256\n",
    ")\n"
   ]
  },
  {
   "cell_type": "code",
   "execution_count": 23,
   "metadata": {},
   "outputs": [
    {
     "name": "stdout",
     "output_type": "stream",
     "text": [
      "Loaded Dense Embedder\n",
      "Loaded Sparse Embedder\n"
     ]
    }
   ],
   "source": [
    "embedder = EmbedderModule(embedding_settings)"
   ]
  },
  {
   "cell_type": "code",
   "execution_count": 24,
   "metadata": {},
   "outputs": [
    {
     "name": "stderr",
     "output_type": "stream",
     "text": [
      "100%|██████████| 3/3 [00:03<00:00,  1.30s/it]\n",
      "100%|██████████| 2/2 [00:03<00:00,  1.72s/it]\n"
     ]
    }
   ],
   "source": [
    "embeddings = embedder.run(documents)"
   ]
  },
  {
   "cell_type": "markdown",
   "metadata": {},
   "source": [
    "# 3. VectorStore"
   ]
  },
  {
   "cell_type": "code",
   "execution_count": 25,
   "metadata": {},
   "outputs": [],
   "source": [
    "from qdrant_client import QdrantClient\n",
    "from psiking.core.storage.vectorstore.qdrant import QdrantSingleHybridVectorStore\n",
    "\n",
    "\n",
    "# initialize client\n",
    "client = QdrantClient(\":memory:\")\n",
    "collection_name = \"kr-fsc_policy\"\n",
    "\n",
    "vector_store = QdrantSingleHybridVectorStore(\n",
    "    collection_name=collection_name,\n",
    "    client=client\n",
    ")"
   ]
  },
  {
   "cell_type": "code",
   "execution_count": 26,
   "metadata": {},
   "outputs": [],
   "source": [
    "## Create Collection\n",
    "from qdrant_client.http import models\n",
    "\n",
    "# bge-m3 1024 dim\n",
    "dense_embedding_dim=1024\n",
    "dense_vectors_config = models.VectorParams(\n",
    "    size=dense_embedding_dim,\n",
    "    distance=models.Distance.COSINE,\n",
    "    on_disk=True,\n",
    "    hnsw_config = {\n",
    "        \"m\": 16,\n",
    "        \"ef_construct\": 100,\n",
    "    }\n",
    ")\n",
    "\n",
    "# Sparse BM42 Embedding\n",
    "sparse_vectors_config = models.SparseVectorParams(\n",
    "    modifier=models.Modifier.IDF, ## uses indices from bm42 embedder\n",
    ")\n",
    "\n",
    "# Create VectorStore\n",
    "vector_store.create_collection(\n",
    "    dense_vector_config=dense_vectors_config,\n",
    "    sparse_vector_config=sparse_vectors_config,\n",
    "    on_disk_payload=True,\n",
    ")"
   ]
  },
  {
   "cell_type": "code",
   "execution_count": 27,
   "metadata": {},
   "outputs": [],
   "source": [
    "vector_store.add(\n",
    "    documents=documents,\n",
    "    texts=embeddings.texts,\n",
    "    dense_embeddings=embeddings.dense.values,\n",
    "    sparse_embedding_values=embeddings.sparse.values,\n",
    "    sparse_embedding_indices=embeddings.sparse.indices,\n",
    "    metadata_keys=[\"source_file\", \"title\"]\n",
    ")"
   ]
  },
  {
   "cell_type": "markdown",
   "metadata": {},
   "source": [
    "# Retrieval Test"
   ]
  },
  {
   "cell_type": "code",
   "execution_count": 28,
   "metadata": {},
   "outputs": [],
   "source": [
    "from psiking.core.base.schema import TextNode, ImageNode, TableNode, Document\n",
    "\n",
    "query=\"정치적 불확실성이 한국 경제에 미치는 영향\"\n",
    "query_document = Document(\n",
    "    nodes=[TextNode(text=query)]\n",
    ")"
   ]
  },
  {
   "cell_type": "code",
   "execution_count": 29,
   "metadata": {},
   "outputs": [
    {
     "name": "stderr",
     "output_type": "stream",
     "text": [
      "100%|██████████| 1/1 [00:00<00:00,  5.04it/s]\n"
     ]
    }
   ],
   "source": [
    "query_embedding_output = embedder.run([query_document])"
   ]
  },
  {
   "cell_type": "code",
   "execution_count": 30,
   "metadata": {},
   "outputs": [
    {
     "name": "stdout",
     "output_type": "stream",
     "text": [
      "10\n"
     ]
    }
   ],
   "source": [
    "# Hybrid Query\n",
    "results = vector_store.query(\n",
    "    mode=\"hybrid\",\n",
    "    dense_embedding=query_embedding_output.dense.values[0],\n",
    "    sparse_embedding_values=query_embedding_output.sparse.values[0],\n",
    "    sparse_embedding_indices=query_embedding_output.sparse.indices[0],\n",
    "    limit=10\n",
    ")\n",
    "print(len(results.points))"
   ]
  },
  {
   "cell_type": "code",
   "execution_count": 31,
   "metadata": {},
   "outputs": [
    {
     "name": "stdout",
     "output_type": "stream",
     "text": [
      "9c483e3a-cb5d-44f5-a7e2-6ab8fe428b79 - score 1.000\n",
      "{'title': '[보도참고] 김병환 금융위원장, 외국계 금융회사 간담회 주재', 'source_id': '2c516000-d3ae-486a-a305-71e47aad46c3', 'source_file': '83566_1.pdf'}\n",
      "<class 'psiking.core.base.schema.TextNode'>\n",
      "\"보도참고자료\\n광부\\n보도시점\\n배포 시\\n배포 2024.12.10.(화) 15:30\\n김병환 금융위원장, 외국계 금융회사 간담회 주재\\n'24.12.10(화)  금융위원회는  김병환  금융\"\n",
      "------------------------------\n",
      "62824d61-999e-4045-81ac-bec31363434f - score 0.333\n",
      "{'title': '[보도자료] PF 연착륙을 위한 全 금융권 ｢대주단 협약｣ 개정', 'source_id': '3995c297-bb75-4314-91f1-af77b8faf811', 'source_file': '82566_1.pdf'}\n",
      "<class 'psiking.core.base.schema.TextNode'>\n",
      "'- *  PF대주단협의회의  원활한  운영을  위해  전국은행연합회에 설치되었으며 자료 수집, 기록 및 문서관리 등 협약 운영에 필요한 지원업무를 수행\\n3 기대효과 및 향후 계획\\n'\n",
      "------------------------------\n",
      "4ce78572-9fb8-4509-93ea-5fd3ca55dbf9 - score 0.250\n",
      "{'title': '[보도자료] PF 연착륙을 위한 全 금융권 ｢대주단 협약｣ 개정', 'source_id': '3995c297-bb75-4314-91f1-af77b8faf811', 'source_file': '82566_1.pdf'}\n",
      "<class 'psiking.core.base.schema.TextNode'>\n",
      "'2 주요 개정 내용\\n사업성이  극히  낮은  사업장에  대해서도  반복적으로  만기연장하거나  연체 이자를 상환유예 하는 등 무분별한 만기연장·이자유예를 제한하기 위해 사업장의 만'\n",
      "------------------------------\n",
      "4a000c5d-df15-4844-ba80-7b3ac0594f29 - score 0.200\n",
      "{'title': '[보도자료] PF 연착륙을 위한 全 금융권 ｢대주단 협약｣ 개정', 'source_id': '3995c297-bb75-4314-91f1-af77b8faf811', 'source_file': '82566_1.pdf'}\n",
      "<class 'psiking.core.base.schema.TextNode'>\n",
      "\"보도시점 2024. 6. 28.(금) 조간 배포 2024. 6. 27.(목) 09:00\\nPF  연착륙을 위한 全 금융권 ｢대주단 협약｣ 개정\\n- ◈ '24.6.27일(목) 협회·중\"\n",
      "------------------------------\n",
      "caf17029-0c36-4bbb-8382-ae742bd50d15 - score 0.167\n",
      "{'title': '[보도자료] PF 연착륙을 위한 全 금융권 ｢대주단 협약｣ 개정', 'source_id': '3995c297-bb75-4314-91f1-af77b8faf811', 'source_file': '82566_1.pdf'}\n",
      "<class 'psiking.core.base.schema.TextNode'>\n",
      "'< 5.14일 발표한 부동산PF 연착륙 대책 中 대주단 협약 개정 관련 내용 >\\n- □  사업장의 만기연장이자유예 조건 ‧ 을 강화 하는  방향으로 협약을 개정 하여 무분별한 만기'\n",
      "------------------------------\n"
     ]
    }
   ],
   "source": [
    "for point in results.points[:5]:\n",
    "    point_id = point.id\n",
    "    point_chunk = docstore.get([point_id])[0]\n",
    "    print(\"{} - score {:.3f}\".format(point_id, point.score))\n",
    "    print(point_chunk.metadata)\n",
    "    print(type(point_chunk.nodes[0]))\n",
    "    print(repr(point_chunk.nodes[0].text[:100]))\n",
    "    print('-'*30)"
   ]
  }
 ],
 "metadata": {
  "kernelspec": {
   "display_name": "psiking",
   "language": "python",
   "name": "python3"
  },
  "language_info": {
   "codemirror_mode": {
    "name": "ipython",
    "version": 3
   },
   "file_extension": ".py",
   "mimetype": "text/x-python",
   "name": "python",
   "nbconvert_exporter": "python",
   "pygments_lexer": "ipython3",
   "version": "3.10.14"
  }
 },
 "nbformat": 4,
 "nbformat_minor": 2
}
